{
 "cells": [
  {
   "cell_type": "markdown",
   "metadata": {},
   "source": [
    "# Model Initiation"
   ]
  },
  {
   "cell_type": "code",
   "execution_count": 30,
   "metadata": {},
   "outputs": [],
   "source": [
    "#Libary\n",
    "import pandas as pd"
   ]
  },
  {
   "cell_type": "code",
   "execution_count": 25,
   "metadata": {},
   "outputs": [],
   "source": [
    "import ixmp\n",
    "\n",
    "mp = ixmp.Platform()"
   ]
  },
  {
   "cell_type": "code",
   "execution_count": 26,
   "metadata": {},
   "outputs": [],
   "source": [
    "import message_ix\n",
    "\n",
    "scenario = message_ix.Scenario(\n",
    "    mp, model='Indonesia Prototype', scenario='baseline', version='new'\n",
    ")"
   ]
  },
  {
   "cell_type": "markdown",
   "metadata": {},
   "source": [
    "# Model Structure"
   ]
  },
  {
   "cell_type": "markdown",
   "metadata": {},
   "source": [
    "<img src='Coal Messageix Structure.drawio.png' width='1000'>"
   ]
  },
  {
   "cell_type": "code",
   "execution_count": 27,
   "metadata": {},
   "outputs": [],
   "source": [
    "horizon = list(range(2005,2051,1))\n",
    "scenario.add_horizon(year=horizon, firstmodelyear=2023)\n"
   ]
  },
  {
   "cell_type": "code",
   "execution_count": 28,
   "metadata": {},
   "outputs": [],
   "source": [
    "country='Indonesia'\n",
    "scenario.add_spatial_sets({'country':country})"
   ]
  },
  {
   "cell_type": "code",
   "execution_count": 29,
   "metadata": {},
   "outputs": [],
   "source": [
    "scenario.add_set('commodity',['coal','electricity'])\n",
    "scenario.add_set('level',['primary','secondary','final'])\n",
    "scenario.add_set('technology',['coal_bal','coal_ppl','coal_t_d','grid'])\n",
    "scenario.add_set('mode','standard')"
   ]
  },
  {
   "cell_type": "markdown",
   "metadata": {},
   "source": [
    "## Demand Parameter"
   ]
  },
  {
   "cell_type": "code",
   "execution_count": null,
   "metadata": {},
   "outputs": [],
   "source": [
    "\n",
    "coal_d = [\n",
    "    57.18083, 60.03523, 63.04894, 66.23524, 69.58086, 73.11234, 76.81642, 79.94961, \n",
    "    83.16247, 86.46825, 89.86697, 93.34535, 96.92994, 100.60747, 104.37792, 108.22804, \n",
    "    112.18436, 116.23362, 120.36253, 124.58438, 128.88589, 133.26705, 137.72788, 142.2418, \n",
    "    146.80884, 151.4157, 156.08894, 160.80201\n",
    "]#converted to GWa\n",
    "\n",
    "electricity_d = [\n",
    "    21.00799087, 21.65068493, 22.32191781, 23.03310502, 23.10844749, 23.16552511, \n",
    "    23.34589041, 23.46232877, 23.7956621, 24.1826484, 24.54680365, 24.89155251, \n",
    "    25.28652968, 25.64611872, 26.15068493, 26.65410959, 27.21461187, 27.71803653, \n",
    "    28.32762557, 28.94406393, 29.51712329, 30.16324201, 30.80022831, 31.4303653, \n",
    "    32.12442922, 32.77739726, 33.42694064, 34.06849315\n",
    "]#converted to GWa\n",
    "\n",
    "model_horizon = list(range(2023,2051,1))\n",
    "\n",
    "coal_demand = pd.DataFrame(\n",
    "    {\n",
    "        'node':country,\n",
    "        'commodity':'coal',\n",
    "        'level':'final',\n",
    "        'year': model_horizon,\n",
    "        'time':'year',\n",
    "        'value':coal_d,\n",
    "        'unit':'GWa'\n",
    "    }\n",
    ")\n",
    "coal_demand['value'] = coal_demand['value'].round(decimals=2)\n",
    "\n",
    "electricity_demand = pd.DataFrame(\n",
    "    {\n",
    "        'node':country,\n",
    "        'commodity':'electricity',\n",
    "        'level':'final',\n",
    "        'year': model_horizon,\n",
    "        'time':'year',\n",
    "        'value':electricity_d,\n",
    "        'unit':'GWa'\n",
    "    }\n",
    ")\n",
    "\n",
    "electricity_demand['value'] = electricity_demand['value'].round(decimals=2)\n",
    "\n"
   ]
  },
  {
   "cell_type": "code",
   "execution_count": 38,
   "metadata": {},
   "outputs": [],
   "source": [
    "scenario.add_par('demand',coal_demand)\n",
    "scenario.add_par('demand',electricity_demand)"
   ]
  },
  {
   "cell_type": "markdown",
   "metadata": {},
   "source": [
    "## Engineering Parameters"
   ]
  },
  {
   "cell_type": "code",
   "execution_count": 40,
   "metadata": {},
   "outputs": [],
   "source": [
    "year_df = scenario.vintage_and_active_years()\n",
    "vintage_years,act_years = year_df[\"year_vtg\"],year_df[\"year_act\"]"
   ]
  },
  {
   "cell_type": "code",
   "execution_count": null,
   "metadata": {},
   "outputs": [],
   "source": [
    "#Coal Input\n",
    "base_coal_input = {\n",
    "    \"node_loc\":country,\n",
    "    \"year_vtg\":vintage_years,\n",
    "    \"year_act\":act_years,\n",
    "    \"mode\":\"standard\",\n",
    "    \"node_origin\":country,\n",
    "    \"commodity\":\"coal\",\n",
    "    \"time\":\"year\",\n",
    "    \"time_origin\":\"year\"\n",
    "}"
   ]
  },
  {
   "cell_type": "code",
   "execution_count": null,
   "metadata": {},
   "outputs": [],
   "source": [
    "#Electricity Input\n",
    "base_electr_input = {\n",
    "    \"node_loc\":country,\n",
    "    \"year_vtg\":vintage_years,\n",
    "    \"year_act\":act_years,\n",
    "    \"mode\":\"standard\",\n",
    "    \"node_origin\":country,\n",
    "    \"commodity\":\"coal\",\n",
    "    \"time\":\"year\",\n",
    "    \"time_origin\":\"year\"\n",
    "}"
   ]
  },
  {
   "cell_type": "code",
   "execution_count": 41,
   "metadata": {},
   "outputs": [],
   "source": [
    "mp.close_db()"
   ]
  },
  {
   "cell_type": "code",
   "execution_count": null,
   "metadata": {},
   "outputs": [],
   "source": []
  }
 ],
 "metadata": {
  "kernelspec": {
   "display_name": "message_env",
   "language": "python",
   "name": "python3"
  },
  "language_info": {
   "codemirror_mode": {
    "name": "ipython",
    "version": 3
   },
   "file_extension": ".py",
   "mimetype": "text/x-python",
   "name": "python",
   "nbconvert_exporter": "python",
   "pygments_lexer": "ipython3",
   "version": "3.12.2"
  }
 },
 "nbformat": 4,
 "nbformat_minor": 2
}
