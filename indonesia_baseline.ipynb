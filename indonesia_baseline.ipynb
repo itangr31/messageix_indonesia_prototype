{
 "cells": [
  {
   "cell_type": "markdown",
   "metadata": {},
   "source": [
    "# Model Initiation"
   ]
  },
  {
   "cell_type": "code",
   "execution_count": 1,
   "metadata": {},
   "outputs": [],
   "source": [
    "#Libary\n",
    "import pandas as pd"
   ]
  },
  {
   "cell_type": "code",
   "execution_count": 2,
   "metadata": {},
   "outputs": [
    {
     "name": "stdout",
     "output_type": "stream",
     "text": [
      "2025-02-17 14:11:27,166  INFO at.ac.iiasa.ixmp.Platform:165 - Welcome to the IX modeling platform!\n",
      "2025-02-17 14:11:27,167  INFO at.ac.iiasa.ixmp.Platform:166 -  connected to database 'jdbc:hsqldb:file:/Users/ilhamrizaldi/.local/share/ixmp/localdb/default' (user: ixmp)...\n"
     ]
    }
   ],
   "source": [
    "import ixmp\n",
    "\n",
    "mp = ixmp.Platform()"
   ]
  },
  {
   "cell_type": "code",
   "execution_count": 3,
   "metadata": {},
   "outputs": [],
   "source": [
    "import message_ix\n",
    "\n",
    "scenario = message_ix.Scenario(\n",
    "    mp, model='Indonesia Prototype', scenario='baseline', version='new'\n",
    ")"
   ]
  },
  {
   "cell_type": "markdown",
   "metadata": {},
   "source": [
    "# Model Structure"
   ]
  },
  {
   "cell_type": "markdown",
   "metadata": {},
   "source": [
    "<img src='Coal Messageix Structure.drawio.png' width='1000'>"
   ]
  },
  {
   "cell_type": "code",
   "execution_count": 4,
   "metadata": {},
   "outputs": [],
   "source": [
    "horizon = list(range(2005,2051,1))\n",
    "scenario.add_horizon(year=horizon, firstmodelyear=2023)\n"
   ]
  },
  {
   "cell_type": "code",
   "execution_count": 5,
   "metadata": {},
   "outputs": [],
   "source": [
    "country='Indonesia'\n",
    "scenario.add_spatial_sets({'country':country})"
   ]
  },
  {
   "cell_type": "code",
   "execution_count": 6,
   "metadata": {},
   "outputs": [],
   "source": [
    "scenario.add_set('commodity',['coal','electricity'])\n",
    "scenario.add_set('level',['primary','secondary','final'])\n",
    "scenario.add_set('technology',['coal_bal','coal_ppl','coal_t_d','electricity_grid'])\n",
    "scenario.add_set('mode','standard')"
   ]
  },
  {
   "cell_type": "markdown",
   "metadata": {},
   "source": [
    "## Demand Parameter"
   ]
  },
  {
   "cell_type": "code",
   "execution_count": 7,
   "metadata": {},
   "outputs": [],
   "source": [
    "coal_d = [\n",
    "    57.18083, 60.03523, 63.04894, 66.23524, 69.58086, 73.11234, 76.81642, 79.94961, \n",
    "    83.16247, 86.46825, 89.86697, 93.34535, 96.92994, 100.60747, 104.37792, 108.22804, \n",
    "    112.18436, 116.23362, 120.36253, 124.58438, 128.88589, 133.26705, 137.72788, 142.2418, \n",
    "    146.80884, 151.4157, 156.08894, 160.80201\n",
    "]#converted to GWa\n",
    "\n",
    "electricity_d = [\n",
    "    21.00799087, 21.65068493, 22.32191781, 23.03310502, 23.10844749, 23.16552511, \n",
    "    23.34589041, 23.46232877, 23.7956621, 24.1826484, 24.54680365, 24.89155251, \n",
    "    25.28652968, 25.64611872, 26.15068493, 26.65410959, 27.21461187, 27.71803653, \n",
    "    28.32762557, 28.94406393, 29.51712329, 30.16324201, 30.80022831, 31.4303653, \n",
    "    32.12442922, 32.77739726, 33.42694064, 34.06849315\n",
    "]#converted to GWa\n",
    "\n",
    "model_horizon = list(range(2023,2051,1))\n",
    "\n",
    "coal_demand = pd.DataFrame(\n",
    "    {\n",
    "        'node':country,\n",
    "        'commodity':'coal',\n",
    "        'level':'final',\n",
    "        'year': model_horizon,\n",
    "        'time':'year',\n",
    "        'value':coal_d,\n",
    "        'unit':'GWa'\n",
    "    }\n",
    ")\n",
    "coal_demand['value'] = coal_demand['value'].round(decimals=2)\n",
    "\n",
    "electricity_demand = pd.DataFrame(\n",
    "    {\n",
    "        'node':country,\n",
    "        'commodity':'electricity',\n",
    "        'level':'final',\n",
    "        'year': model_horizon,\n",
    "        'time':'year',\n",
    "        'value':electricity_d,\n",
    "        'unit':'GWa'\n",
    "    }\n",
    ")\n",
    "\n",
    "electricity_demand['value'] = electricity_demand['value'].round(decimals=2)\n",
    "\n"
   ]
  },
  {
   "cell_type": "code",
   "execution_count": 8,
   "metadata": {},
   "outputs": [],
   "source": [
    "scenario.add_par('demand',coal_demand)\n",
    "scenario.add_par('demand',electricity_demand)"
   ]
  },
  {
   "cell_type": "markdown",
   "metadata": {},
   "source": [
    "## Engineering Parameters"
   ]
  },
  {
   "cell_type": "code",
   "execution_count": 9,
   "metadata": {},
   "outputs": [],
   "source": [
    "year_df = scenario.vintage_and_active_years()\n",
    "vintage_years,act_years = year_df[\"year_vtg\"],year_df[\"year_act\"]"
   ]
  },
  {
   "cell_type": "code",
   "execution_count": 10,
   "metadata": {},
   "outputs": [],
   "source": [
    "#Coal Input\n",
    "\n",
    "base_coal_input = {\n",
    "    \"node_loc\":country,\n",
    "    \"year_vtg\":vintage_years,\n",
    "    \"year_act\":act_years,\n",
    "    \"mode\":\"standard\",\n",
    "    \"node_origin\":country,\n",
    "    \"commodity\":\"coal\",\n",
    "    \"time\":\"year\",\n",
    "    \"time_origin\":\"year\"\n",
    "}\n",
    "\n",
    "coal_bal = pd.DataFrame(\n",
    "    dict(\n",
    "        technology='coal_bal',\n",
    "        level='primary',\n",
    "        value = 1,\n",
    "        unit=\"-\",\n",
    "        **base_coal_input,\n",
    "    )\n",
    ")\n",
    "\n",
    "coal_t_d =pd.DataFrame(\n",
    "    dict(\n",
    "        technology='coal_t_d',\n",
    "        level='secondary',\n",
    "        value=1,\n",
    "        unit=\"-\",\n",
    "        **base_coal_input,\n",
    "    )\n",
    ")\n",
    "\n",
    "coal_ppl = pd.DataFrame(\n",
    "    dict(\n",
    "        technology='coal_ppl',\n",
    "        level='primary',\n",
    "        value=1,\n",
    "        unit='-',\n",
    "        **base_coal_input,\n",
    "    )\n",
    ")\n",
    "\n",
    "scenario.add_par(\"input\",coal_bal)\n",
    "scenario.add_par(\"input\",coal_t_d)\n",
    "scenario.add_par(\"input\",coal_ppl)\n",
    "\n"
   ]
  },
  {
   "cell_type": "code",
   "execution_count": 11,
   "metadata": {},
   "outputs": [],
   "source": [
    "from message_ix import make_df\n",
    "\n",
    "#Electricity Input\n",
    "base_electr_input = {\n",
    "    \"node_loc\":country,\n",
    "    \"year_vtg\":vintage_years,\n",
    "    \"year_act\":act_years,\n",
    "    \"mode\":\"standard\",\n",
    "    \"node_origin\":country,\n",
    "    \"commodity\":\"electricity\",\n",
    "    \"time\":\"year\",\n",
    "    \"time_origin\":\"year\"\n",
    "}\n",
    "\n",
    "electr_grid = make_df(\n",
    "    base_electr_input,\n",
    "    technology='electricity_grid',\n",
    "    level='secondary',\n",
    "    value=1,\n",
    "    unit='-',\n",
    ")\n",
    "\n",
    "scenario.add_par(\"input\",electr_grid)\n",
    "\n"
   ]
  },
  {
   "cell_type": "code",
   "execution_count": null,
   "metadata": {},
   "outputs": [],
   "source": [
    "coal_bal_eff = 0.9\n",
    "coal_ppl_eff = 0.3\n",
    "electr_grid_eff = 0.9\n",
    "coal_t_d_eff = 0.9\n",
    "\n",
    "#Output\n",
    "base_output = {\n",
    "'node_loc':country,\n",
    "'year_vtg':vintage_years,\n",
    "'year_act':act_years,\n",
    "'mode':'standard',\n",
    "'node_dest':country,\n",
    "'time':'year',\n",
    "'time_dest':'year',   \n",
    "}\n",
    "\n",
    "#coal_bal\n",
    "coal_bal = make_df(\n",
    "    base_output,\n",
    "    technology ='coal_bal',\n",
    "    commodity ='coal',\n",
    "    level = 'secondary',\n",
    "    value = 0.9, #Assumption to be changed (10% losses)\n",
    "    unit = '-'\n",
    "    \n",
    ")\n",
    "\n",
    "#coal_ppl\n",
    "coal_ppl = make_df(\n",
    "    base_output,\n",
    "    technology ='coal_ppl',\n",
    "    commodity ='electricity',\n",
    "    level = 'secondary',\n",
    "    value = 0.3, #Assumption to be changed\n",
    "    unit = '-'\n",
    "    \n",
    ")\n",
    "\n",
    "#coal_t_d\n",
    "coal_t_d = make_df(\n",
    "    base_output,\n",
    "    technology = 'coal_t_d',\n",
    "    commodity = 'coal',\n",
    "    level='final',\n",
    "    value=0.9, #Assumption to be changed\n",
    "    unit = '-'\n",
    ")\n",
    "\n",
    "#electricity grid\n",
    "electr_grid = make_df(\n",
    "    base_output,\n",
    "    technology ='electricity_grid',\n",
    "    commodity ='electricity',\n",
    "    level = 'final',\n",
    "    value = 0.9, #Assumption to be changed\n",
    "    unit = '-'\n",
    ")\n",
    "\n",
    "scenario.add_par(\"output\",coal_bal)\n",
    "scenario.add_par(\"output\",coal_ppl)\n",
    "scenario.add_par(\"output\",coal_t_d)\n",
    "scenario.add_par(\"output\",electr_grid)\n",
    "\n"
   ]
  },
  {
   "cell_type": "code",
   "execution_count": 13,
   "metadata": {},
   "outputs": [],
   "source": [
    "#Technical Lifetime (data from tutorial)\n",
    "\n",
    "technical_lifetime = make_df(\"technical_lifetime\",\n",
    "    node_loc = country,\n",
    "    year_vtg = vintage_years,\n",
    "    unit = 'y',\n",
    "    technology = 'coal_ppl',\n",
    "    value = 40,\n",
    ")\n",
    "\n",
    "scenario.add_par('technical_lifetime',technical_lifetime)"
   ]
  },
  {
   "cell_type": "code",
   "execution_count": null,
   "metadata": {},
   "outputs": [],
   "source": [
    "#Capacity Factor (data from tutorial)\n",
    "coal_ppl_cf = 0.85\n",
    "\n",
    "capacity_factor = make_df(\n",
    "   'capacity_factor',\n",
    "    node_loc = country,\n",
    "    year_vtg = vintage_years,\n",
    "    year_act = act_years,\n",
    "    time = 'year',\n",
    "    unit = '-',\n",
    "    technology = 'coal_ppl',\n",
    "    value = 0.85\n",
    ")\n",
    "\n",
    "scenario.add_par('capacity_factor',capacity_factor)"
   ]
  },
  {
   "cell_type": "markdown",
   "metadata": {},
   "source": [
    "## Technoeconomic Parameters"
   ]
  },
  {
   "cell_type": "code",
   "execution_count": 15,
   "metadata": {},
   "outputs": [],
   "source": [
    "#inv_cost (data from tutorial)\n",
    "\n",
    "inv_cost = make_df(\n",
    "    \"inv_cost\",\n",
    "    node_loc = country,\n",
    "    year_vtg = vintage_years,\n",
    "    unit = 'USD/kW',\n",
    "    technology = 'coal_ppl',\n",
    "    value=1500,\n",
    ")\n",
    "\n",
    "mp.add_unit('USD/kW')\n",
    "\n",
    "scenario.add_par('inv_cost',inv_cost)"
   ]
  },
  {
   "cell_type": "code",
   "execution_count": 16,
   "metadata": {},
   "outputs": [],
   "source": [
    "#fix_cost (data from tutorial)\n",
    "\n",
    "fix_cost = make_df(\n",
    "    \"fix_cost\",\n",
    "    node_loc = country,\n",
    "    year_vtg = vintage_years,\n",
    "    year_act = act_years,\n",
    "    unit = 'USD/kWa',\n",
    "    technology = 'coal_ppl',\n",
    "    value=40,\n",
    ")\n",
    "\n",
    "mp.add_unit('USD/kWa')\n",
    "\n",
    "scenario.add_par('fix_cost',fix_cost)"
   ]
  },
  {
   "cell_type": "code",
   "execution_count": 17,
   "metadata": {},
   "outputs": [],
   "source": [
    "#var_cost (data from tutorial)\n",
    "\n",
    "var_cost = make_df(\n",
    "    \"var_cost\",\n",
    "    node_loc = country,\n",
    "    year_vtg = vintage_years,\n",
    "    year_act = act_years,\n",
    "    unit = 'USD/kWa',\n",
    "    mode='standard',\n",
    "    time='year',\n",
    "    technology = 'coal_ppl',\n",
    "    value=213.744\n",
    ")\n",
    "\n",
    "scenario.add_par('var_cost',var_cost)"
   ]
  },
  {
   "cell_type": "code",
   "execution_count": 20,
   "metadata": {},
   "outputs": [
    {
     "data": {
      "text/plain": [
       "[2010, 2020, 2030, 2040]"
      ]
     },
     "execution_count": 20,
     "metadata": {},
     "output_type": "execute_result"
    }
   ],
   "source": [
    "horizon = list(range(2010, 2041, 10))\n",
    "horizon"
   ]
  },
  {
   "cell_type": "code",
   "execution_count": 21,
   "metadata": {},
   "outputs": [
    {
     "data": {
      "text/plain": [
       "[2020, 2030, 2040]"
      ]
     },
     "execution_count": 21,
     "metadata": {},
     "output_type": "execute_result"
    }
   ],
   "source": [
    "horizon[1:]"
   ]
  },
  {
   "cell_type": "code",
   "execution_count": 27,
   "metadata": {},
   "outputs": [],
   "source": [
    "mp.close_db()"
   ]
  },
  {
   "cell_type": "code",
   "execution_count": 34,
   "metadata": {},
   "outputs": [
    {
     "data": {
      "application/vnd.microsoft.datawrangler.viewer.v0+json": {
       "columns": [
        {
         "name": "index",
         "rawType": "int64",
         "type": "integer"
        },
        {
         "name": "node_loc",
         "rawType": "object",
         "type": "string"
        },
        {
         "name": "year_act",
         "rawType": "int64",
         "type": "integer"
        },
        {
         "name": "mode",
         "rawType": "object",
         "type": "string"
        },
        {
         "name": "time",
         "rawType": "object",
         "type": "string"
        },
        {
         "name": "unit",
         "rawType": "object",
         "type": "string"
        },
        {
         "name": "coal_ppl",
         "rawType": "int64",
         "type": "integer"
        },
        {
         "name": "gas_ppl",
         "rawType": "int64",
         "type": "integer"
        },
        {
         "name": "oil_ppl",
         "rawType": "int64",
         "type": "integer"
        },
        {
         "name": "hydro_ppl",
         "rawType": "int64",
         "type": "integer"
        },
        {
         "name": "bio_ppl",
         "rawType": "int64",
         "type": "integer"
        },
        {
         "name": "wind_ppl",
         "rawType": "int64",
         "type": "integer"
        },
        {
         "name": "solar_pv_ppl",
         "rawType": "int64",
         "type": "integer"
        },
        {
         "name": "import",
         "rawType": "int64",
         "type": "integer"
        },
        {
         "name": "cfl",
         "rawType": "int64",
         "type": "integer"
        }
       ],
       "conversionMethod": "pd.DataFrame",
       "ref": "7701191f-bee1-461c-8426-d99b60a4f620",
       "rows": [
        [
         "0",
         "Indonesia",
         "2010",
         "standard",
         "year",
         "GWa",
         "7184",
         "14346",
         "1275",
         "38406",
         "4554",
         "2064",
         "89",
         "2340",
         "0"
        ],
        [
         "1",
         "Indonesia",
         "2011",
         "standard",
         "year",
         "GWa",
         "1",
         "1",
         "1",
         "1",
         "1",
         "1",
         "1",
         "1",
         "1"
        ]
       ],
       "shape": {
        "columns": 14,
        "rows": 2
       }
      },
      "text/html": [
       "<div>\n",
       "<style scoped>\n",
       "    .dataframe tbody tr th:only-of-type {\n",
       "        vertical-align: middle;\n",
       "    }\n",
       "\n",
       "    .dataframe tbody tr th {\n",
       "        vertical-align: top;\n",
       "    }\n",
       "\n",
       "    .dataframe thead th {\n",
       "        text-align: right;\n",
       "    }\n",
       "</style>\n",
       "<table border=\"1\" class=\"dataframe\">\n",
       "  <thead>\n",
       "    <tr style=\"text-align: right;\">\n",
       "      <th></th>\n",
       "      <th>node_loc</th>\n",
       "      <th>year_act</th>\n",
       "      <th>mode</th>\n",
       "      <th>time</th>\n",
       "      <th>unit</th>\n",
       "      <th>coal_ppl</th>\n",
       "      <th>gas_ppl</th>\n",
       "      <th>oil_ppl</th>\n",
       "      <th>hydro_ppl</th>\n",
       "      <th>bio_ppl</th>\n",
       "      <th>wind_ppl</th>\n",
       "      <th>solar_pv_ppl</th>\n",
       "      <th>import</th>\n",
       "      <th>cfl</th>\n",
       "    </tr>\n",
       "  </thead>\n",
       "  <tbody>\n",
       "    <tr>\n",
       "      <th>0</th>\n",
       "      <td>Indonesia</td>\n",
       "      <td>2010</td>\n",
       "      <td>standard</td>\n",
       "      <td>year</td>\n",
       "      <td>GWa</td>\n",
       "      <td>7184</td>\n",
       "      <td>14346</td>\n",
       "      <td>1275</td>\n",
       "      <td>38406</td>\n",
       "      <td>4554</td>\n",
       "      <td>2064</td>\n",
       "      <td>89</td>\n",
       "      <td>2340</td>\n",
       "      <td>0</td>\n",
       "    </tr>\n",
       "    <tr>\n",
       "      <th>1</th>\n",
       "      <td>Indonesia</td>\n",
       "      <td>2011</td>\n",
       "      <td>standard</td>\n",
       "      <td>year</td>\n",
       "      <td>GWa</td>\n",
       "      <td>1</td>\n",
       "      <td>1</td>\n",
       "      <td>1</td>\n",
       "      <td>1</td>\n",
       "      <td>1</td>\n",
       "      <td>1</td>\n",
       "      <td>1</td>\n",
       "      <td>1</td>\n",
       "      <td>1</td>\n",
       "    </tr>\n",
       "  </tbody>\n",
       "</table>\n",
       "</div>"
      ],
      "text/plain": [
       "    node_loc  year_act      mode  time unit  coal_ppl  gas_ppl  oil_ppl  \\\n",
       "0  Indonesia      2010  standard  year  GWa      7184    14346     1275   \n",
       "1  Indonesia      2011  standard  year  GWa         1        1        1   \n",
       "\n",
       "   hydro_ppl  bio_ppl  wind_ppl  solar_pv_ppl  import  cfl  \n",
       "0      38406     4554      2064            89    2340    0  \n",
       "1          1        1         1             1       1    1  "
      ]
     },
     "execution_count": 34,
     "metadata": {},
     "output_type": "execute_result"
    }
   ],
   "source": [
    "base_activity = {\n",
    "    \"node_loc\": country,\n",
    "    \"year_act\": [2010,2011],\n",
    "    \"mode\": \"standard\",\n",
    "    \"time\": \"year\",\n",
    "    \"unit\": \"GWa\",\n",
    "}\n",
    "\n",
    "# in GWh - from IEA Electricity Output\n",
    "activity = {\n",
    "    \"coal_ppl\": [7184,1],\n",
    "    \"gas_ppl\": [14346,1],\n",
    "    \"oil_ppl\": [1275,1],\n",
    "    \"hydro_ppl\": [38406,1],\n",
    "    \"bio_ppl\": [4554,1],\n",
    "    \"wind_ppl\": [2064,1],\n",
    "    \"solar_pv_ppl\": [89,1],\n",
    "    \"import\": [2340,1],\n",
    "    \"cfl\": [0,1],\n",
    "}\n",
    "\n",
    "# MODEL CALIBRATION: by inserting an upper and lower bound to the same quantity we are\n",
    "# ensuring that the model is calibrated at that value that year, so we are at the right\n",
    "# starting point.\n",
    "\n",
    "tes = pd.DataFrame(dict(**base_activity,**activity))\n",
    "tes"
   ]
  },
  {
   "cell_type": "code",
   "execution_count": 35,
   "metadata": {},
   "outputs": [
    {
     "data": {
      "text/plain": [
       "['node_loc', 'technology', 'year_act', 'mode', 'time']"
      ]
     },
     "execution_count": 35,
     "metadata": {},
     "output_type": "execute_result"
    }
   ],
   "source": [
    "scenario.idx_names('bound_activity_up')"
   ]
  },
  {
   "cell_type": "code",
   "execution_count": 36,
   "metadata": {},
   "outputs": [
    {
     "data": {
      "text/plain": [
       "['node_loc', 'technology', 'year_act', 'mode', 'time']"
      ]
     },
     "execution_count": 36,
     "metadata": {},
     "output_type": "execute_result"
    }
   ],
   "source": [
    "scenario.idx_names('bound_activity_lo')"
   ]
  },
  {
   "cell_type": "code",
   "execution_count": 37,
   "metadata": {},
   "outputs": [
    {
     "data": {
      "text/plain": [
       "['node_loc', 'technology', 'year_act', 'mode', 'time']"
      ]
     },
     "execution_count": 37,
     "metadata": {},
     "output_type": "execute_result"
    }
   ],
   "source": [
    "scenario.idx_names('historical_activity')"
   ]
  },
  {
   "cell_type": "code",
   "execution_count": 38,
   "metadata": {},
   "outputs": [
    {
     "data": {
      "text/plain": [
       "['node_loc', 'technology', 'year_vtg']"
      ]
     },
     "execution_count": 38,
     "metadata": {},
     "output_type": "execute_result"
    }
   ],
   "source": [
    "scenario.idx_names('historical_new_capacity')"
   ]
  },
  {
   "cell_type": "code",
   "execution_count": 39,
   "metadata": {},
   "outputs": [],
   "source": [
    "mp.close_db()"
   ]
  },
  {
   "cell_type": "code",
   "execution_count": null,
   "metadata": {},
   "outputs": [],
   "source": []
  }
 ],
 "metadata": {
  "kernelspec": {
   "display_name": "message_env",
   "language": "python",
   "name": "python3"
  },
  "language_info": {
   "codemirror_mode": {
    "name": "ipython",
    "version": 3
   },
   "file_extension": ".py",
   "mimetype": "text/x-python",
   "name": "python",
   "nbconvert_exporter": "python",
   "pygments_lexer": "ipython3",
   "version": "3.12.2"
  }
 },
 "nbformat": 4,
 "nbformat_minor": 2
}
