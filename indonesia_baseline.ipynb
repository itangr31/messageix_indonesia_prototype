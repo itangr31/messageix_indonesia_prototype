{
 "cells": [
  {
   "cell_type": "markdown",
   "metadata": {},
   "source": [
    "# Model Initiation"
   ]
  },
  {
   "cell_type": "code",
   "execution_count": 814,
   "metadata": {},
   "outputs": [],
   "source": [
    "#Libary\n",
    "import pandas as pd\n",
    "import os\n",
    "import numpy as np\n",
    "\n",
    "import warnings\n",
    "warnings.filterwarnings('ignore')"
   ]
  },
  {
   "cell_type": "code",
   "execution_count": 815,
   "metadata": {},
   "outputs": [],
   "source": [
    "import ixmp\n",
    "\n",
    "mp = ixmp.Platform()"
   ]
  },
  {
   "cell_type": "code",
   "execution_count": 816,
   "metadata": {},
   "outputs": [],
   "source": [
    "#convert mtoe to GWa\n",
    "conv_mtoe_gwa = 11.63*1000/8760\n",
    "conv_twh_gwa = 1000/8760"
   ]
  },
  {
   "cell_type": "code",
   "execution_count": 817,
   "metadata": {},
   "outputs": [],
   "source": [
    "import message_ix\n",
    "\n",
    "scenario = message_ix.Scenario(\n",
    "    mp, model='Indonesia Prototype', scenario='baseline', version='new'\n",
    ")"
   ]
  },
  {
   "cell_type": "markdown",
   "metadata": {},
   "source": [
    "# Functions"
   ]
  },
  {
   "cell_type": "code",
   "execution_count": 818,
   "metadata": {},
   "outputs": [],
   "source": [
    "import math\n",
    "\n",
    "def get_act_vtg_years(y_df, horizon, lifetimes, technology, period_step=5):\n",
    "    \"\"\"\n",
    "    Get active years and vintage years according to technology lifetime,\n",
    "    adjusted for data with step intervals (e.g., 5-year periods)\n",
    "    \"\"\"\n",
    "    lifetime_periods = int(lifetimes[technology] // period_step)  # How many 5-year steps fit in the lifetime\n",
    "\n",
    "    for year in horizon:\n",
    "        count = y_df[y_df['year_vtg'] == year]['year_vtg'].value_counts()\n",
    "        if year in count and count[year] > lifetime_periods:\n",
    "            df = y_df[y_df['year_vtg'] == year]\n",
    "            excess = count[year] - lifetime_periods\n",
    "            index_to_remove = df.index[-excess:]  # remove the last rows beyond lifetime\n",
    "            y_df = y_df.drop(index=index_to_remove)\n",
    "\n",
    "    return y_df['year_vtg'], y_df['year_act']\n"
   ]
  },
  {
   "cell_type": "code",
   "execution_count": 819,
   "metadata": {},
   "outputs": [],
   "source": [
    "def fix_negative_values(df, fuel_col='fuel', year_col='Year', value_col='value'):\n",
    "    \"\"\"\n",
    "    Fix negative values by transferring values within the same fuel type.\n",
    "    Priority: Add to next year if exists, otherwise pull from previous years.\n",
    "    \n",
    "    Parameters:\n",
    "    - df: pandas DataFrame\n",
    "    - fuel_col: column name for fuel types\n",
    "    - year_col: column name for years\n",
    "    - value_col: column name for values to adjust\n",
    "\n",
    "    Returns:\n",
    "    - Adjusted DataFrame\n",
    "    \"\"\"\n",
    "    # Sort first to ensure correct order\n",
    "    df = df.sort_values(by=[fuel_col, year_col]).reset_index(drop=True)\n",
    "    \n",
    "    # Iterate through DataFrame\n",
    "    i = 0\n",
    "    while i < len(df):\n",
    "        if df.loc[i, value_col] < 0:\n",
    "            current_fuel = df.loc[i, fuel_col]\n",
    "            \n",
    "            # Try to find next year with same fuel\n",
    "            next_indices = df.index[(df.index > i) & (df[fuel_col] == current_fuel)]\n",
    "            \n",
    "            if len(next_indices) > 0:\n",
    "                next_i = next_indices[0]\n",
    "                df.loc[next_i, value_col] += df.loc[i, value_col]\n",
    "                df.loc[i, value_col] = 0\n",
    "            else:\n",
    "                # No next year: pull from previous years\n",
    "                prev_indices = df.index[(df.index < i) & (df[fuel_col] == current_fuel)].tolist()\n",
    "                prev_indices = prev_indices[::-1]  # Closest previous first\n",
    "\n",
    "                for prev_i in prev_indices:\n",
    "                    df.loc[i, value_col] += df.loc[prev_i, value_col]\n",
    "                    df.loc[prev_i, value_col] = 0\n",
    "                    if df.loc[i, value_col] >= 0:\n",
    "                        break\n",
    "        i += 1\n",
    "    \n",
    "    return df\n"
   ]
  },
  {
   "cell_type": "code",
   "execution_count": 820,
   "metadata": {},
   "outputs": [],
   "source": [
    "def fill_missing_values(main_df, reference_df, fuel_col='fuel', year_col='Year', value_col='value', year=2005,year_step=1):\n",
    "    \"\"\"\n",
    "    Fill missing or zero values in main_df using reference_df.\n",
    "\n",
    "    Parameters:\n",
    "    - main_df: DataFrame that needs filling\n",
    "    - reference_df: DataFrame providing reference values\n",
    "    - fuel_col: column name for fuel types\n",
    "    - year_col: column name for years\n",
    "    - value_col: column name for values to adjust\n",
    "\n",
    "    Returns:\n",
    "    - Filled DataFrame\n",
    "    \"\"\"\n",
    "    df = main_df.copy()\n",
    "    \n",
    "    for idx, row in df.iterrows():\n",
    "        # If value is NaN or zero\n",
    "        if pd.isna(row[value_col]):\n",
    "            ref_value = reference_df.loc[\n",
    "                (reference_df[fuel_col] == row[fuel_col]) & (reference_df[year_col] == year),\n",
    "                value_col\n",
    "            ]\n",
    "            if not ref_value.empty:\n",
    "                df.at[idx, value_col] = ref_value.values[0]/year_step\n",
    "    \n",
    "    return df"
   ]
  },
  {
   "cell_type": "markdown",
   "metadata": {},
   "source": [
    "# Model Structure"
   ]
  },
  {
   "cell_type": "markdown",
   "metadata": {},
   "source": [
    "<img src='Messageix Indonesia Structure.drawio.png' width='1000'>"
   ]
  },
  {
   "cell_type": "code",
   "execution_count": 821,
   "metadata": {},
   "outputs": [],
   "source": [
    "#Horizon\n",
    "\n",
    "historical_horizon = list(range(2005,2021,5))\n",
    "model_horizon = list(range(2025,2071,5))\n",
    "\n",
    "horizon = historical_horizon+model_horizon\n",
    "\n",
    "scenario.add_horizon(year=historical_horizon+model_horizon,firstmodelyear=2025)"
   ]
  },
  {
   "cell_type": "code",
   "execution_count": 822,
   "metadata": {},
   "outputs": [],
   "source": [
    "#Node Location\n",
    "\n",
    "country='IDN'\n",
    "scenario.add_spatial_sets({'country':country})"
   ]
  },
  {
   "cell_type": "code",
   "execution_count": 823,
   "metadata": {},
   "outputs": [],
   "source": [
    "#Commodities\n",
    "\n",
    "demand_com = [\n",
    "    'industry_el',\n",
    "    'transport_el',\n",
    "    'commercial_el',\n",
    "    'residential_el'\n",
    "]\n",
    "\n",
    "commodities = [\n",
    "    'coal',\n",
    "    'electricity',\n",
    "    'gas',\n",
    "    'oil',\n",
    "    'biomass'\n",
    "]\n",
    "\n",
    "all_com = demand_com + commodities"
   ]
  },
  {
   "cell_type": "code",
   "execution_count": 824,
   "metadata": {},
   "outputs": [],
   "source": [
    "#technology\n",
    "\n",
    "ppl_tec = [\n",
    "    'coal_ppl',\n",
    "    'gas_ppl',\n",
    "    'oil_ppl',\n",
    "    'hydro_ppl',\n",
    "    'solar_ppl',\n",
    "    'onshorewind_ppl',\n",
    "    'offshorewind_ppl',\n",
    "    'geo_ppl',\n",
    "    'bio_ppl',\n",
    "    'nuclear_ppl'\n",
    "]\n",
    "\n",
    "t_d_tec = [\n",
    "    'electricity_grid'\n",
    "           ]\n",
    "\n",
    "demand_tec = [\n",
    "    'industry_el_tec',\n",
    "    'transport_el_tec',\n",
    "    'commercial_el_tec',\n",
    "    'residential_el_tec'\n",
    "]\n",
    "\n",
    "all_tec =  ppl_tec + t_d_tec + demand_tec"
   ]
  },
  {
   "cell_type": "code",
   "execution_count": 825,
   "metadata": {},
   "outputs": [],
   "source": [
    "scenario.add_set('commodity',all_com)\n",
    "scenario.add_set('level',['primary','secondary','final','useful'])\n",
    "scenario.add_set('technology',all_tec)\n",
    "scenario.add_set('mode','standard')\n",
    "scenario.add_set('level_resource','primary')\n",
    "scenario.add_set('grade',['a_coal','a_gas','a_oil','a_biomass'])"
   ]
  },
  {
   "cell_type": "code",
   "execution_count": 826,
   "metadata": {},
   "outputs": [],
   "source": [
    "#Add sets for renewables\n",
    "scenario.add_set('level',['renewable'])\n",
    "scenario.add_set('commodity',['solar_energy','wind_onshore','wind_offshore'])\n",
    "scenario.add_set('level_renewable',['renewable'])"
   ]
  },
  {
   "cell_type": "code",
   "execution_count": 827,
   "metadata": {},
   "outputs": [],
   "source": [
    "#Define new technology category for renewables\n",
    "scenario.add_set('type_tec',['renewable'])\n",
    "df = pd.DataFrame({'type_tec':['renewable','renewable','renewable'],'technology':['solar_ppl','onshorewind_ppl','offshorewind_ppl']})\n",
    "scenario.add_set('cat_tec',df)"
   ]
  },
  {
   "cell_type": "markdown",
   "metadata": {},
   "source": [
    "## Demand Parameter"
   ]
  },
  {
   "cell_type": "code",
   "execution_count": 828,
   "metadata": {},
   "outputs": [],
   "source": [
    "path = os.getcwd()\n",
    "path = os.path.dirname(path)\n",
    "filename = 'COPY Indonesia AEO8 Data.xlsx'\n",
    "filename = os.path.join(path,filename)\n",
    "\n",
    "sectors = ['Industry','Transport','Commercial','Residential']\n",
    "sector_models = ['industry_el','transport_el','commercial_el','residential_el']"
   ]
  },
  {
   "cell_type": "code",
   "execution_count": 829,
   "metadata": {},
   "outputs": [],
   "source": [
    "for sector,sector_model in zip(sectors,sector_models):\n",
    "\n",
    "    df = pd.read_excel(filename,sheet_name=f'IDN_{sector}_BAS',skiprows=6)\n",
    "    index = df[df['Fuel'] == 'Total'].index[0] #get index of the targeted sliced rows\n",
    "    df = df.loc[:index-1]\n",
    "    df = df.melt(id_vars='Fuel', value_vars=list(range(2005,2051,5)),var_name='Year')\n",
    "    df = df[(df['Fuel'] == 'Electricity') & (df['Year']>2020)]\n",
    "    df.value = df.value*conv_mtoe_gwa\n",
    "    coeffs = np.polyfit(df[\"Year\"].values.astype(int), df[\"value\"].values.astype(float), deg=1)\n",
    "    poly = np.poly1d(coeffs)\n",
    "\n",
    "    # Predict values for the missing years\n",
    "    future_years = list(range(2055,2071,5))\n",
    "    predicted_values = poly(future_years)\n",
    "    newrow = pd.DataFrame({'Year':list(range(2055,2071,5)),'Fuel':['Electricity' for _ in range(4)], 'value':predicted_values})\n",
    "    df = pd.concat([df,newrow])\n",
    "    values = df.value.tolist()\n",
    "\n",
    "    df_demand = pd.DataFrame(\n",
    "        {\n",
    "            'node':country,\n",
    "            'commodity':f'{sector_model}',\n",
    "            'level':'useful',\n",
    "            'year': model_horizon,\n",
    "            'time':'year',\n",
    "            'value':values,\n",
    "            'unit':'GWa'\n",
    "        }\n",
    "    )\n",
    "\n",
    "    scenario.add_par('demand',df_demand)\n",
    "    "
   ]
  },
  {
   "cell_type": "markdown",
   "metadata": {},
   "source": [
    "## Engineering Parameters"
   ]
  },
  {
   "cell_type": "markdown",
   "metadata": {},
   "source": [
    "### Input"
   ]
  },
  {
   "cell_type": "code",
   "execution_count": 830,
   "metadata": {},
   "outputs": [],
   "source": [
    "year_df = scenario.vintage_and_active_years(in_horizon=False)\n",
    "vintage_years,act_years = year_df[\"year_vtg\"],year_df[\"year_act\"]"
   ]
  },
  {
   "cell_type": "code",
   "execution_count": 831,
   "metadata": {},
   "outputs": [],
   "source": [
    "#Technical Lifetime (data from LEAP)\n",
    "from message_ix import make_df\n",
    "\n",
    "base_technical_lifetime = {\n",
    "    'node_loc': country,\n",
    "    'year_vtg':vintage_years,\n",
    "    'unit':'y'\n",
    "}\n",
    "\n",
    "lifetimes ={\n",
    "    'coal_ppl':40,\n",
    "    'gas_ppl':30,\n",
    "    'oil_ppl':40,\n",
    "    'hydro_ppl':40,\n",
    "    'solar_ppl':20,\n",
    "    'onshorewind_ppl':20,\n",
    "    'offshorewind_ppl':20,\n",
    "    'geo_ppl':30,\n",
    "    'bio_ppl':30,\n",
    "    'nuclear_ppl':60\n",
    "}\n",
    "\n",
    "for tec, val in lifetimes.items():\n",
    "    df = make_df(base_technical_lifetime,technology=tec,value=val)\n",
    "    scenario.add_par('technical_lifetime',df)"
   ]
  },
  {
   "cell_type": "code",
   "execution_count": 832,
   "metadata": {},
   "outputs": [],
   "source": [
    "#Data from LEAP\n",
    "coal_ppl_eff = 0.37 \n",
    "gas_ppl_eff = 0.33 \n",
    "oil_ppl_eff = 0.45 \n",
    "bio_ppl_eff = 0.34"
   ]
  },
  {
   "cell_type": "code",
   "execution_count": 833,
   "metadata": {},
   "outputs": [],
   "source": [
    "#Coal Input\n",
    "\n",
    "vintage_years,act_years = get_act_vtg_years(year_df,horizon,lifetimes,'coal_ppl')\n",
    "base_coal_input = {\n",
    "    \"node_loc\":country,\n",
    "    \"year_vtg\":vintage_years,\n",
    "    \"year_act\":act_years,\n",
    "    \"mode\":\"standard\",\n",
    "    \"node_origin\":country,\n",
    "    \"commodity\":\"coal\",\n",
    "    \"time\":\"year\",\n",
    "    \"time_origin\":\"year\"\n",
    "}\n",
    "\n",
    "coal_ppl = pd.DataFrame(\n",
    "    dict(\n",
    "        technology='coal_ppl',\n",
    "        level='primary',\n",
    "        value=1/coal_ppl_eff,\n",
    "        unit='-',\n",
    "        **base_coal_input,\n",
    "    )\n",
    ")\n",
    "\n",
    "#Gas Input\n",
    "\n",
    "vintage_years,act_years = get_act_vtg_years(year_df,horizon,lifetimes,'gas_ppl')\n",
    "base_gas_input = {\n",
    "    \"node_loc\":country,\n",
    "    \"year_vtg\":vintage_years,\n",
    "    \"year_act\":act_years,\n",
    "    \"mode\":\"standard\",\n",
    "    \"node_origin\":country,\n",
    "    \"commodity\":\"gas\",\n",
    "    \"time\":\"year\",\n",
    "    \"time_origin\":\"year\"\n",
    "}\n",
    "\n",
    "gas_ppl = pd.DataFrame(\n",
    "    dict(\n",
    "        technology='gas_ppl',\n",
    "        level='primary',\n",
    "        value=1/gas_ppl_eff,\n",
    "        unit='-',\n",
    "        **base_gas_input,\n",
    "    )\n",
    ")\n",
    "\n",
    "#Oil Input\n",
    "\n",
    "vintage_years,act_years = get_act_vtg_years(year_df,horizon,lifetimes,'oil_ppl')\n",
    "base_oil_input = {\n",
    "    \"node_loc\":country,\n",
    "    \"year_vtg\":vintage_years,\n",
    "    \"year_act\":act_years,\n",
    "    \"mode\":\"standard\",\n",
    "    \"node_origin\":country,\n",
    "    \"commodity\":\"oil\",\n",
    "    \"time\":\"year\",\n",
    "    \"time_origin\":\"year\"\n",
    "}\n",
    "\n",
    "oil_ppl = pd.DataFrame(\n",
    "    dict(\n",
    "        technology='oil_ppl',\n",
    "        level='primary',\n",
    "        value=1/oil_ppl_eff,\n",
    "        unit='-',\n",
    "        **base_oil_input,\n",
    "    )\n",
    ")\n",
    "\n",
    "#Biomass Input\n",
    "vintage_years,act_years = get_act_vtg_years(year_df,horizon,lifetimes,'bio_ppl')\n",
    "base_bio_input = {\n",
    "    \"node_loc\":country,\n",
    "    \"year_vtg\":vintage_years,\n",
    "    \"year_act\":act_years,\n",
    "    \"mode\":\"standard\",\n",
    "    \"node_origin\":country,\n",
    "    \"commodity\":\"biomass\",\n",
    "    \"time\":\"year\",\n",
    "    \"time_origin\":\"year\"\n",
    "}\n",
    "\n",
    "bio_ppl = pd.DataFrame(\n",
    "    dict(\n",
    "        technology='bio_ppl',\n",
    "        level='primary',\n",
    "        value=1/bio_ppl_eff,\n",
    "        unit='-',\n",
    "        **base_bio_input,\n",
    "    )\n",
    ")\n",
    "\n",
    "\n",
    "scenario.add_par(\"input\",coal_ppl)\n",
    "scenario.add_par(\"input\",gas_ppl)\n",
    "scenario.add_par(\"input\",oil_ppl)\n",
    "scenario.add_par(\"input\",bio_ppl)"
   ]
  },
  {
   "cell_type": "code",
   "execution_count": 834,
   "metadata": {},
   "outputs": [],
   "source": [
    "\n",
    "#Electricity Input\n",
    "vintage_years,act_years = pd.Series(horizon),pd.Series(horizon)\n",
    "base_electr_input = {\n",
    "    \"node_loc\":country,\n",
    "    \"year_vtg\":vintage_years,\n",
    "    \"year_act\":act_years,\n",
    "    \"mode\":\"standard\",\n",
    "    \"node_origin\":country,\n",
    "    \"commodity\":\"electricity\",\n",
    "    \"time\":\"year\",\n",
    "    \"time_origin\":\"year\"\n",
    "}\n",
    "historical_grid_eff = [1.225103251,1.180351516,1.186777289,1.134548094]\n",
    "grid_eff = 1.18081555 #Average of the historical efficiency\n",
    "\n",
    "electr_grid = make_df(\n",
    "    base_electr_input,\n",
    "    technology='electricity_grid',\n",
    "    level='secondary',\n",
    "    value=historical_grid_eff + [grid_eff]*len(range(2025,2071,5)),\n",
    "    unit='-',\n",
    ")\n",
    "\n",
    "scenario.add_par(\"input\",electr_grid)\n",
    "\n",
    "for tec in demand_tec:\n",
    "    electr_in = make_df(\n",
    "        base_electr_input,\n",
    "        technology = f'{tec}',\n",
    "        level = 'final',\n",
    "        value=1,\n",
    "        unit ='-'\n",
    "    )\n",
    "    scenario.add_par('input',electr_in)\n",
    "    \n",
    "\n"
   ]
  },
  {
   "cell_type": "markdown",
   "metadata": {},
   "source": [
    "### VRE Input and Potential"
   ]
  },
  {
   "cell_type": "code",
   "execution_count": 835,
   "metadata": {},
   "outputs": [],
   "source": [
    "path = os.getcwd()\n",
    "path = os.path.dirname(path)\n",
    "filename = 'IDN_Solar_wind.xlsx'\n",
    "filename = os.path.join(path,filename)\n",
    "\n",
    "df_solar = pd.read_excel(filename,sheet_name='Bins')[:17]\n",
    "df_solar.rename(columns={'Unnamed: 0':'grade'},inplace=True)\n",
    "df_solar = df_solar[df_solar['grade'].str.contains('solar')]\n",
    "df_solar = pd.melt(df_solar,id_vars='grade',value_vars=list(range(2005,2071,5)),var_name='Year')"
   ]
  },
  {
   "cell_type": "code",
   "execution_count": 836,
   "metadata": {},
   "outputs": [],
   "source": [
    "#RE solar input (Potential)\n",
    "\n",
    "vintage_years,act_years = get_act_vtg_years(year_df,horizon,lifetimes,'solar_ppl')\n",
    "\n",
    "df = pd.DataFrame(\n",
    "    {\n",
    "        \"node_loc\": country,\n",
    "        \"technology\": \"solar_ppl\",\n",
    "        \"year_vtg\": vintage_years,\n",
    "        \"year_act\": act_years,\n",
    "        \"mode\": \"standard\",\n",
    "        \"node_origin\": country,\n",
    "        \"commodity\": \"solar_energy\",\n",
    "        \"level\": \"renewable\",\n",
    "        \"time\": \"year\",\n",
    "        \"time_origin\": \"year\",\n",
    "        \"value\": 1,\n",
    "        \"unit\": \"%\",\n",
    "    }\n",
    ")\n",
    "\n",
    "scenario.add_par(\"input\", df)\n",
    "\n",
    "grades = [f'solar_res{i+1}' for i in range(8)]\n",
    "\n",
    "scenario.add_set('grade',grades)\n",
    "\n",
    "#Historical Values\n",
    "\n",
    "idx = pd.MultiIndex.from_product(\n",
    "    [[country],['solar_energy'],grades,['renewable'],historical_horizon,['GWa']],\n",
    "    names = ['node','commodity','grade','level','year','unit'],\n",
    ")\n",
    "\n",
    "values = df_solar[df_solar['Year']<2021]['value'].unique().tolist()\n",
    "\n",
    "df =pd.DataFrame({\n",
    "    'value':values*len(historical_horizon)\n",
    "},idx.sortlevel('year')[0]).reset_index()\n",
    "\n",
    "df = df.sort_values('grade').reset_index()\n",
    "\n",
    "scenario.add_par('renewable_potential',df)\n",
    "\n",
    "#Model Values\n",
    "idx = pd.MultiIndex.from_product(\n",
    "    [[country],['solar_energy'],grades,['renewable'],model_horizon,['GWa']],\n",
    "    names = ['node','commodity','grade','level','year','unit'],\n",
    ")\n",
    "\n",
    "values = df_solar[df_solar['Year']>2020]['value'].unique().tolist()\n",
    "\n",
    "df =pd.DataFrame({\n",
    "    'value':values*len(model_horizon)\n",
    "},idx.sortlevel('year')[0]).reset_index()\n",
    "\n",
    "df = df.sort_values('grade').reset_index()\n",
    "\n",
    "scenario.add_par('renewable_potential',df)"
   ]
  },
  {
   "cell_type": "code",
   "execution_count": 837,
   "metadata": {},
   "outputs": [],
   "source": [
    "#RE onshorewind input (Potential)\n",
    "df_wind = pd.read_excel(filename,sheet_name='Bins')[:17]\n",
    "df_wind.rename(columns={'Unnamed: 0':'grade'},inplace=True)\n",
    "df_wind = df_wind[df_wind['grade'].str.contains('wind_res')]\n",
    "df_wind = pd.melt(df_wind,id_vars='grade',value_vars=list(range(2005,2071,5)),var_name='Year')\n",
    "vintage_years,act_years = get_act_vtg_years(year_df,horizon,lifetimes,'onshorewind_ppl')\n",
    "\n",
    "df = pd.DataFrame(\n",
    "    {\n",
    "        \"node_loc\": country,\n",
    "        \"technology\": \"onshorewind_ppl\",\n",
    "        \"year_vtg\": vintage_years,\n",
    "        \"year_act\": act_years,\n",
    "        \"mode\": \"standard\",\n",
    "        \"node_origin\": country,\n",
    "        \"commodity\": \"wind_onshore\",\n",
    "        \"level\": \"renewable\",\n",
    "        \"time\": \"year\",\n",
    "        \"time_origin\": \"year\",\n",
    "        \"value\": 1,\n",
    "        \"unit\": \"%\",\n",
    "    }\n",
    ")\n",
    "\n",
    "scenario.add_par(\"input\", df)\n",
    "\n",
    "grades = [f'wind_res{i+1}' for i in range(4)]\n",
    "\n",
    "scenario.add_set('grade',grades)\n",
    "\n",
    "#Historical Values\n",
    "\n",
    "idx = pd.MultiIndex.from_product(\n",
    "    [[country],['wind_onshore'],grades,['renewable'],historical_horizon,['GWa']],\n",
    "    names = ['node','commodity','grade','level','year','unit'],\n",
    ")\n",
    "\n",
    "values = df_wind[df_wind['Year']<2021]['value'].unique().tolist()\n",
    "values.insert(0,0.0)\n",
    "\n",
    "df =pd.DataFrame({\n",
    "    'value':values*len(historical_horizon)\n",
    "},idx.sortlevel('year')[0]).reset_index()\n",
    "\n",
    "df = df.sort_values('grade').reset_index()\n",
    "\n",
    "scenario.add_par('renewable_potential',df)\n",
    "\n",
    "#Model Values\n",
    "idx = pd.MultiIndex.from_product(\n",
    "    [[country],['wind_onshore'],grades,['renewable'],model_horizon,['GWa']],\n",
    "    names = ['node','commodity','grade','level','year','unit'],\n",
    ")\n",
    "\n",
    "values = df_wind[df_wind['Year']>2020]['value'].unique().tolist()\n",
    "values.insert(0,0.0)\n",
    "\n",
    "\n",
    "df =pd.DataFrame({\n",
    "    'value':values*len(model_horizon)\n",
    "},idx.sortlevel('year')[0]).reset_index()\n",
    "\n",
    "df = df.sort_values('grade').reset_index()\n",
    "\n",
    "scenario.add_par('renewable_potential',df)"
   ]
  },
  {
   "cell_type": "code",
   "execution_count": 838,
   "metadata": {},
   "outputs": [],
   "source": [
    "#RE offshorewind input (Potential)\n",
    "df_wind = pd.read_excel(filename,sheet_name='Bins')[:17]\n",
    "df_wind.rename(columns={'Unnamed: 0':'grade'},inplace=True)\n",
    "df_wind = df_wind[df_wind['grade'].str.contains('wind_ref')]\n",
    "df_wind = pd.melt(df_wind,id_vars='grade',value_vars=list(range(2005,2071,5)),var_name='Year')\n",
    "vintage_years,act_years = get_act_vtg_years(year_df,horizon,lifetimes,'onshorewind_ppl')\n",
    "\n",
    "df = pd.DataFrame(\n",
    "    {\n",
    "        \"node_loc\": country,\n",
    "        \"technology\": \"offshorewind_ppl\",\n",
    "        \"year_vtg\": vintage_years,\n",
    "        \"year_act\": act_years,\n",
    "        \"mode\": \"standard\",\n",
    "        \"node_origin\": country,\n",
    "        \"commodity\": \"wind_offshore\",\n",
    "        \"level\": \"renewable\",\n",
    "        \"time\": \"year\",\n",
    "        \"time_origin\": \"year\",\n",
    "        \"value\": 1,\n",
    "        \"unit\": \"%\",\n",
    "    }\n",
    ")\n",
    "\n",
    "scenario.add_par(\"input\", df)\n",
    "\n",
    "grades = [f'wind_ref{i+1}' for i in range(5)]\n",
    "\n",
    "scenario.add_set('grade',grades)\n",
    "\n",
    "#Historical Values\n",
    "\n",
    "idx = pd.MultiIndex.from_product(\n",
    "    [[country],['wind_offshore'],grades,['renewable'],historical_horizon,['GWa']],\n",
    "    names = ['node','commodity','grade','level','year','unit'],\n",
    ")\n",
    "\n",
    "values = df_wind[df_wind['Year']<2021]['value'].unique().tolist()\n",
    "values.insert(0,0.0)\n",
    "\n",
    "df =pd.DataFrame({\n",
    "    'value':values*len(historical_horizon)\n",
    "},idx.sortlevel('year')[0]).reset_index()\n",
    "\n",
    "df = df.sort_values('grade').reset_index()\n",
    "\n",
    "scenario.add_par('renewable_potential',df)\n",
    "\n",
    "#Model Values\n",
    "idx = pd.MultiIndex.from_product(\n",
    "    [[country],['wind_offshore'],grades,['renewable'],model_horizon,['GWa']],\n",
    "    names = ['node','commodity','grade','level','year','unit'],\n",
    ")\n",
    "\n",
    "values = df_wind[df_wind['Year']>2020]['value'].unique().tolist()\n",
    "values.insert(0,0.0)\n",
    "\n",
    "\n",
    "df =pd.DataFrame({\n",
    "    'value':values*len(model_horizon)\n",
    "},idx.sortlevel('year')[0]).reset_index()\n",
    "\n",
    "df = df.sort_values('grade').reset_index()\n",
    "\n",
    "scenario.add_par('renewable_potential',df)"
   ]
  },
  {
   "cell_type": "markdown",
   "metadata": {},
   "source": [
    "### Output"
   ]
  },
  {
   "cell_type": "code",
   "execution_count": 839,
   "metadata": {},
   "outputs": [],
   "source": [
    "#Output\n",
    "base_output = {\n",
    "'node_loc':country,\n",
    "'mode':'standard',\n",
    "'node_dest':country,\n",
    "'time':'year',\n",
    "'time_dest':'year',   \n",
    "}\n",
    "\n",
    "\n",
    "\n",
    "#coal_ppl\n",
    "vintage_years,act_years = get_act_vtg_years(year_df,horizon,lifetimes,'coal_ppl')\n",
    "coal_ppl = make_df(\n",
    "    base_output,\n",
    "    technology ='coal_ppl',\n",
    "    year_vtg = vintage_years,\n",
    "    year_act = act_years,\n",
    "    commodity ='electricity',\n",
    "    level = 'secondary',\n",
    "    value = 1, \n",
    "    unit = '-'\n",
    "    \n",
    ")\n",
    "\n",
    "#gas_ppl\n",
    "vintage_years,act_years = get_act_vtg_years(year_df,horizon,lifetimes,'gas_ppl')\n",
    "gas_ppl = make_df(\n",
    "    base_output,\n",
    "    technology ='gas_ppl',\n",
    "    year_vtg = vintage_years,\n",
    "    year_act = act_years,\n",
    "    commodity ='electricity',\n",
    "    level = 'secondary',\n",
    "    value = 1, \n",
    "    unit = '-'  \n",
    ")\n",
    "\n",
    "#oil_ppl\n",
    "vintage_years,act_years = get_act_vtg_years(year_df,horizon,lifetimes,'oil_ppl')\n",
    "oil_ppl = make_df(\n",
    "    base_output,\n",
    "    technology ='oil_ppl',\n",
    "    year_vtg = vintage_years,\n",
    "    year_act = act_years,\n",
    "    commodity ='electricity',\n",
    "    level = 'secondary',\n",
    "    value = 1, \n",
    "    unit = '-'  \n",
    ")\n",
    "\n",
    "#hydro_ppl\n",
    "vintage_years,act_years = get_act_vtg_years(year_df,horizon,lifetimes,'hydro_ppl')\n",
    "hydro_ppl = make_df(\n",
    "    base_output,\n",
    "    technology ='hydro_ppl',\n",
    "    year_vtg = vintage_years,\n",
    "    year_act = act_years,\n",
    "    commodity ='electricity',\n",
    "    level = 'secondary',\n",
    "    value = 1, \n",
    "    unit = '-'  \n",
    ")\n",
    "\n",
    "#solar_ppl\n",
    "vintage_years,act_years = get_act_vtg_years(year_df,horizon,lifetimes,'solar_ppl')\n",
    "solar_ppl = make_df(\n",
    "    base_output,\n",
    "    technology ='solar_ppl',\n",
    "    year_vtg = vintage_years,\n",
    "    year_act = act_years,\n",
    "    commodity ='electricity',\n",
    "    level = 'secondary',\n",
    "    value = 1, \n",
    "    unit = '-'  \n",
    ")\n",
    "\n",
    "#onshorewind_ppl\n",
    "vintage_years,act_years = get_act_vtg_years(year_df,horizon,lifetimes,'onshorewind_ppl')\n",
    "onshorewind_ppl = make_df(\n",
    "    base_output,\n",
    "    technology ='onshorewind_ppl',\n",
    "    year_vtg = vintage_years,\n",
    "    year_act = act_years,\n",
    "    commodity ='electricity',\n",
    "    level = 'secondary',\n",
    "    value = 1, \n",
    "    unit = '-'  \n",
    ")\n",
    "\n",
    "#offshorewind_ppl\n",
    "vintage_years,act_years = get_act_vtg_years(year_df,horizon,lifetimes,'offshorewind_ppl')\n",
    "offshorewind_ppl = make_df(\n",
    "    base_output,\n",
    "    technology ='offshorewind_ppl',\n",
    "    year_vtg = vintage_years,\n",
    "    year_act = act_years,\n",
    "    commodity ='electricity',\n",
    "    level = 'secondary',\n",
    "    value = 1, \n",
    "    unit = '-'  \n",
    ")\n",
    "\n",
    "#geo_ppl\n",
    "vintage_years,act_years = get_act_vtg_years(year_df,horizon,lifetimes,'geo_ppl')\n",
    "geo_ppl = make_df(\n",
    "    base_output,\n",
    "    technology ='geo_ppl',\n",
    "    year_vtg = vintage_years,\n",
    "    year_act = act_years,\n",
    "    commodity ='electricity',\n",
    "    level = 'secondary',\n",
    "    value = 1, \n",
    "    unit = '-'  \n",
    ")\n",
    "\n",
    "#bio_ppl\n",
    "vintage_years,act_years = get_act_vtg_years(year_df,horizon,lifetimes,'bio_ppl')\n",
    "bio_ppl = make_df(\n",
    "    base_output,\n",
    "    technology ='bio_ppl',\n",
    "    year_vtg = vintage_years,\n",
    "    year_act = act_years,\n",
    "    commodity ='electricity',\n",
    "    level = 'secondary',\n",
    "    value = 1, \n",
    "    unit = '-'  \n",
    ")\n",
    "\n",
    "#nuclear_ppl\n",
    "vintage_years,act_years = get_act_vtg_years(year_df,horizon,lifetimes,'nuclear_ppl')\n",
    "nuclear_ppl = make_df(\n",
    "    base_output,\n",
    "    technology ='nuclear_ppl',\n",
    "    year_vtg = vintage_years,\n",
    "    year_act = act_years,\n",
    "    commodity ='electricity',\n",
    "    level = 'secondary',\n",
    "    value = 1, \n",
    "    unit = '-'  \n",
    ")\n",
    "\n",
    "\n",
    "#electricity grid\n",
    "vintage_years,act_years = pd.Series(horizon),pd.Series(horizon)\n",
    "electr_grid = make_df(\n",
    "    base_output,\n",
    "    technology ='electricity_grid',\n",
    "    year_vtg = vintage_years,\n",
    "    year_act = act_years,\n",
    "    commodity ='electricity',\n",
    "    level = 'final',\n",
    "    value = 1, \n",
    "    unit = '-'\n",
    ")\n",
    "\n",
    "for tec in ppl_tec:\n",
    "    df = globals()[f'{tec}']\n",
    "    scenario.add_par('output',df)\n",
    "    \n",
    "scenario.add_par(\"output\",electr_grid)\n",
    "\n",
    "for tec,com in zip(demand_tec,demand_com):\n",
    "    electr_out = make_df(\n",
    "        base_output,\n",
    "        technology = f'{tec}',\n",
    "        commodity = f'{com}',\n",
    "        year_vtg = vintage_years,\n",
    "        year_act = act_years,\n",
    "        level = 'useful',\n",
    "        value=1,\n",
    "        unit ='-'\n",
    "    )\n",
    "    scenario.add_par('output',electr_out)"
   ]
  },
  {
   "cell_type": "markdown",
   "metadata": {},
   "source": [
    "### Capacity Factor"
   ]
  },
  {
   "cell_type": "markdown",
   "metadata": {},
   "source": [
    "#### VRE CF"
   ]
  },
  {
   "cell_type": "code",
   "execution_count": 840,
   "metadata": {},
   "outputs": [],
   "source": [
    "#RE solar input (Capacity Factor)\n",
    "\n",
    "grades = [f'solar_res{i+1}' for i in range(8)]\n",
    "\n",
    "df_solar = pd.read_excel(filename,sheet_name='Renewable_CF')\n",
    "df_solar.rename(columns={'Unnamed: 0':'grade'},inplace=True)\n",
    "df_solar = df_solar[df_solar['grade'].str.contains('solar')]\n",
    "df_solar = pd.melt(df_solar,id_vars='grade',value_vars='CF',var_name='Year')\n",
    "\n",
    "\n",
    "idx = pd.MultiIndex.from_product(\n",
    "    [[country],['solar_energy'],grades,['renewable'],horizon,['-']],\n",
    "    names = ['node','commodity','grade','level','year','unit'],\n",
    ")\n",
    "values = df_solar['value'].tolist()\n",
    "\n",
    "df = pd.DataFrame({\n",
    "    'value':values*len(horizon)\n",
    "},idx.sortlevel('year')[0]).reset_index()\n",
    "\n",
    "df = df.sort_values('grade').reset_index()\n",
    "\n",
    "scenario.add_par('renewable_capacity_factor',df)"
   ]
  },
  {
   "cell_type": "code",
   "execution_count": 841,
   "metadata": {},
   "outputs": [],
   "source": [
    "#RE onshore wind input (Capacity Factor)\n",
    "grades = [f'wind_res{i+1}' for i in range(4)]\n",
    "\n",
    "df_wind = pd.read_excel(filename,sheet_name='Renewable_CF')[:17]\n",
    "df_wind.rename(columns={'Unnamed: 0':'grade'},inplace=True)\n",
    "df_wind = df_wind[df_wind['grade'].str.contains('wind_res')]\n",
    "df_wind = pd.melt(df_wind,id_vars='grade',value_vars='CF',var_name='Year')\n",
    "\n",
    "\n",
    "idx = pd.MultiIndex.from_product(\n",
    "    [[country],['wind_onshore'],grades,['renewable'],horizon,['-']],\n",
    "    names = ['node','commodity','grade','level','year','unit'],\n",
    ")\n",
    "values = df_wind['value'].tolist()\n",
    "\n",
    "df = pd.DataFrame({\n",
    "    'value':values*len(horizon)\n",
    "},idx.sortlevel('year')[0]).reset_index()\n",
    "\n",
    "df = df.sort_values('grade').reset_index()\n",
    "\n",
    "scenario.add_par('renewable_capacity_factor',df)"
   ]
  },
  {
   "cell_type": "code",
   "execution_count": 842,
   "metadata": {},
   "outputs": [],
   "source": [
    "#RE offshore wind input (Capacity Factor)\n",
    "grades = [f'wind_ref{i+1}' for i in range(5)]\n",
    "\n",
    "\n",
    "df_wind = pd.read_excel(filename,sheet_name='Renewable_CF')[:17]\n",
    "df_wind.rename(columns={'Unnamed: 0':'grade'},inplace=True)\n",
    "df_wind = df_wind[df_wind['grade'].str.contains('wind_ref')]\n",
    "df_wind = pd.melt(df_wind,id_vars='grade',value_vars='CF',var_name='Year')\n",
    "\n",
    "\n",
    "idx = pd.MultiIndex.from_product(\n",
    "    [[country],['wind_offshore'],grades,['renewable'],horizon,['-']],\n",
    "    names = ['node','commodity','grade','level','year','unit'],\n",
    ")\n",
    "values = df_wind['value'].tolist()\n",
    "\n",
    "df = pd.DataFrame({\n",
    "    'value':values*len(horizon)\n",
    "},idx.sortlevel('year')[0]).reset_index()\n",
    "\n",
    "df = df.sort_values('grade').reset_index()\n",
    "\n",
    "scenario.add_par('renewable_capacity_factor',df)"
   ]
  },
  {
   "cell_type": "markdown",
   "metadata": {},
   "source": [
    "#### Conventional Technology Capacity Factor"
   ]
  },
  {
   "cell_type": "code",
   "execution_count": 843,
   "metadata": {},
   "outputs": [],
   "source": [
    "path = os.getcwd()\n",
    "path = os.path.dirname(path)\n",
    "filename = 'COPY Indonesia AEO8 Data.xlsx'\n",
    "filename = os.path.join(path,filename)\n",
    "\n",
    "\n",
    "ppl_tec_nonre = ['coal_ppl',\n",
    " 'gas_ppl',\n",
    " 'oil_ppl',\n",
    " 'hydro_ppl',\n",
    " 'geo_ppl',\n",
    " 'bio_ppl',\n",
    " 'nuclear_ppl']\n",
    "ppl_commodities = ['Coal','Natural Gas','Oil','Hydro','Geothermal','Bioenergy','Nuclear']\n",
    "\n",
    "df_gen = pd.read_excel(filename,sheet_name='IDN_Generation_BAS',skiprows=44)[:9]\n",
    "df_gen.rename(columns={'by technology - summary (TWh)':'fuel'},inplace=True)\n",
    "df_gen = df_gen.melt(id_vars='fuel',value_vars=list(range(2005,2021,5)),var_name='Year')\n",
    "\n",
    "df_cap = pd.read_excel(filename,sheet_name='IDN_Capacity_BAS',skiprows=48)[:10]\n",
    "df_cap.rename(columns={'by technology - summary (GW)':'fuel'},inplace=True)\n",
    "df_cap = df_cap.melt(id_vars='fuel',value_vars=list(range(2005,2021,5)),var_name='Year')\n",
    "df_cap = df_cap[df_cap['fuel']!='Energy Storage']\n",
    "\n",
    "df_cf = df_gen.merge(df_cap,on=['fuel','Year'],how='outer',suffixes=('_gen','_cap'))\n",
    "df_cf['cf'] = (df_cf['value_gen']*1000/8760)/df_cf['value_cap']\n",
    "df_cf['cf'].fillna(0,inplace=True)\n",
    "\n",
    "base_capacity_factor = {\n",
    "    'node_loc': country,\n",
    "    'time':'year',\n",
    "    'unit':'-'\n",
    "}\n",
    "\n",
    "capacity_factor ={\n",
    "    'coal_ppl':0.8, #Handayani et al. (2022) based on RUPTL 2021-2030, IEA-NEA, Mongird et al (2019)\n",
    "    'gas_ppl':0.85, #Handayani et al. (2022) based on RUPTL 2021-2030, IEA-NEA, Mongird et al (2019)\n",
    "    'oil_ppl':0.95, # for Fuel Oil and Diesel Power Plant, Handayani et al. (2022) based on RUPTL 2021-2030, IEA-NEA, Mongird et al (2019)\n",
    "    'hydro_ppl':0.492, #Last Historical Year Value from LEAP AEO8 Calculation in 2020\n",
    "    'solar_ppl':0.186, #Last Historical Year Value from LEAP AEO8 Calculation in 2022\n",
    "    'wind_ppl':0.44, #Placeholder from NREL ATB 2023 - average for all wind classes (moderate)\n",
    "    'geo_ppl':0.9, #Handayani et al. (2022) based on RUPTL 2021-2030, IEA-NEA, Mongird et al (2019)\n",
    "    'bio_ppl':0.8, #Handayani et al. (2022) based on RUPTL 2021-2030, IEA-NEA, Mongird et al (2019)\n",
    "    'nuclear_ppl':0.95 #LWR Nuclear BWRX -300 https://aris.iaea.org/PDF/BWRX-300_2020.pdf\n",
    "}\n",
    "\n",
    "for com,tec in zip(ppl_commodities,ppl_tec_nonre):\n",
    "\n",
    "\n",
    "    vintage_years, active_years = get_act_vtg_years(year_df, horizon, lifetimes, tec)\n",
    "    va_year_df = pd.DataFrame({'vintage_years': pd.Series(vintage_years), 'active_years': pd.Series(active_years)})\n",
    "\n",
    "    df_cf_tec = df_cf[df_cf['fuel'] == com].dropna(subset=['cf'])\n",
    "    full_cf = va_year_df.merge(df_cf_tec,left_on='vintage_years',right_on='Year',how='left')\n",
    "\n",
    "    full_cf['cf'].fillna(capacity_factor[tec],inplace=True)\n",
    "\n",
    "    df = make_df(\n",
    "            base_capacity_factor,\n",
    "            technology=tec,\n",
    "            year_vtg=full_cf['vintage_years'].tolist(),\n",
    "            year_act=full_cf['active_years'].tolist(),\n",
    "            value=full_cf['cf'].tolist()\n",
    "        )\n",
    "    df.dropna(inplace=True)\n",
    "    df.year_vtg = df.year_vtg.astype(int)\n",
    "\n",
    "        # Step 8: Add to scenario\n",
    "    scenario.add_par('capacity_factor', df)\n"
   ]
  },
  {
   "cell_type": "code",
   "execution_count": 844,
   "metadata": {},
   "outputs": [],
   "source": [
    "#solar and wind capacity technology conventional capacity factor\n",
    "\n",
    "path = os.getcwd()\n",
    "path = os.path.dirname(path)\n",
    "filename = 'IDN_Solar_wind.xlsx'\n",
    "filename = os.path.join(path,filename)\n",
    "\n",
    "for tec in ['solar_ppl','onshorewind_ppl','offshorewind_ppl']:\n",
    "\n",
    "\n",
    "    df = pd.read_excel(filename,sheet_name='New_act_cap_5yr')\n",
    "    df = df[df['technology'] == tec]\n",
    "    df = pd.melt(df,id_vars=['node_loc','Metric'],value_vars=[2005,2010,2015,2020],var_name='Year')\n",
    "    df = df[df['Metric'] == 'CF']\n",
    "\n",
    "    vintage_years,act_years = get_act_vtg_years(year_df, horizon, lifetimes,'solar_ppl')\n",
    "    va_year_df = pd.DataFrame({'vintage_years': pd.Series(vintage_years), 'active_years': pd.Series(act_years)})\n",
    "\n",
    "    df_cf = va_year_df.merge(df[['Year','Metric','value']],left_on='active_years',right_on='Year',how='left')\n",
    "    df_cf['value'].fillna(1,inplace=True)\n",
    "\n",
    "    df_cf.drop(columns=['Year','Metric'],inplace=True)\n",
    "\n",
    "    df = make_df(\n",
    "            base_capacity_factor,\n",
    "            technology=tec,\n",
    "            year_vtg=df_cf['vintage_years'].tolist(),\n",
    "            year_act=df_cf['active_years'].tolist(),\n",
    "            value=df_cf['value'].tolist()\n",
    "        )\n",
    "    df.dropna(inplace=True)\n",
    "    df.year_vtg = df.year_vtg.astype(int)\n",
    "\n",
    "        # Step 8: Add to scenario\n",
    "    scenario.add_par('capacity_factor', df)\n",
    "\n",
    "\n"
   ]
  },
  {
   "cell_type": "markdown",
   "metadata": {},
   "source": [
    "## Technoeconomic Parameters"
   ]
  },
  {
   "cell_type": "markdown",
   "metadata": {},
   "source": [
    "### Resource Parametrisation"
   ]
  },
  {
   "cell_type": "code",
   "execution_count": 845,
   "metadata": {},
   "outputs": [],
   "source": [
    "#Resource cost in USD 2020/MWh\n",
    "\n",
    "path = os.getcwd()\n",
    "path = os.path.dirname(path)\n",
    "filename = 'LEAP_Indonesia_data.xlsx'\n",
    "filename = os.path.join(path,filename)\n",
    "\n",
    "df_cost = pd.read_excel(filename,sheet_name='resource_cost')\n",
    "df_cost.rename(columns={'Branch':'technology'},inplace=True)\n",
    "df_cost = pd.melt(df_cost,id_vars='technology',value_vars=list(range(2005,2071,5)),var_name='Year')\n",
    "\n",
    "#convert cost from USD/MWh to USD/Kwa\n",
    "df_cost['value'] = df_cost['value']*8.76"
   ]
  },
  {
   "cell_type": "code",
   "execution_count": 846,
   "metadata": {},
   "outputs": [],
   "source": [
    "#Resource parameters\n",
    "\n",
    "'''Data Format\n",
    "Reserves Volume (GWa)|Historical Extraction (GWa)\n",
    "'''\n",
    "#Coal Energy Content 18.8 GJ/Ton\n",
    "coal_reserves = 34868968.53*1000 #Tonnes Data as of December 31 2021 from US EIA\n",
    "coal_reserves_gwa = coal_reserves*18.8*277.78/8760*1e-6 \n",
    "\n",
    "coal_extraction = 563728255 #Ton, Handbook of Energy and Economic Statistics of Indonesia (HEESI) 2020\n",
    "coal_extraction_gwa = coal_extraction*18.8*277.78/8760*1e-6\n",
    "\n",
    "coal_potentials = {'a':[coal_reserves_gwa,coal_extraction_gwa]} \n",
    "\n",
    "#Natural gas energy content 34.2 MJ/m3, 1 SCF = 1037 BTU\n",
    "gas_reserves = 1.77*1e12 #m3\n",
    "gas_reserves_gwa = gas_reserves*34.2*277.78/8760*1e-9\n",
    "\n",
    "gas_extraction = 2442831 #MMSCF, HEESI 2020\n",
    "gas_extraction_gwa = gas_extraction*1.037*1e9*0.0002931/(8760*1e6)\n",
    "\n",
    "gas_potentials = {'a':[gas_reserves_gwa,gas_extraction]}\n",
    "\n",
    "#Fuel Oil Energy content 40.19 GJ/Ton, 1 BOE = 5.815 GJ\n",
    "oil_reserves = 4.17*1e9 #BOE\n",
    "oil_reserves_gwa = oil_reserves*5.815*277.78/(8760*1e6)\n",
    "\n",
    "oil_extraction = 259247*1e3 #BBL\n",
    "oil_extraction_gwa = oil_extraction*5.815*277.78/(8760*1e6)\n",
    "\n",
    "oil_potentials = {'a':[oil_reserves_gwa,oil_extraction_gwa]}\n",
    "\n",
    "bio_potentials = {'a':[2445,1.425]}  #Need to update data"
   ]
  },
  {
   "cell_type": "code",
   "execution_count": 847,
   "metadata": {},
   "outputs": [
    {
     "data": {
      "text/plain": [
       "\"#Resource parameters\\n\\nData Format\\nReserves Volume (GWa)|Cost (USD/Kwa) |Historical Extraction (GWa)\\n\\n#Coal Energy Content 18.8 GJ/Ton\\ncoal_reserves = 34868968.53*1000 #Tonnes Data as of December 31 2021 from US EIA\\ncoal_reserves_gwa = coal_reserves*18.8*277.78/8760*1e-6 \\n\\ncoal_cost = 59.04 #USD 2020 per Metric Ton\\ncoal_cost_kwa = coal_cost/(18.8*277.78)*8760\\n\\ncoal_extraction = 563728255 #Ton, Handbook of Energy and Economic Statistics of Indonesia (HEESI) 2020\\ncoal_extraction_gwa = coal_extraction*18.8*277.78/8760*1e-6\\n\\ncoal_potentials = {'a':[coal_reserves_gwa,coal_cost_kwa,coal_extraction_gwa]} \\n\\n#Natural gas energy content 34.2 MJ/m3, 1 SCF = 1037 BTU\\ngas_reserves = 1.77*1e12 #m3\\ngas_reserves_gwa = gas_reserves*34.2*277.78/8760*1e-9\\n\\ngas_cost = 5.56 #USD 2020 per Million BTU\\ngas_cost_kwa = gas_cost/(1e6*0.2931)*8760\\n\\ngas_extraction = 2442831 #MMSCF, HEESI 2020\\ngas_extraction_gwa = gas_extraction*1.037*1e9*0.0002931/(8760*1e6)\\n\\ngas_potentials = {'a':[gas_reserves_gwa,gas_cost,gas_extraction]}\\n\\n#Fuel Oil Energy content 40.19 GJ/Ton, 1 BOE = 5.815 GJ\\noil_reserves = 4.17*1e9 #BOE\\noil_reserves_gwa = oil_reserves*5.815*277.78/(8760*1e6)\\n\\noil_cost = 6.7 #USD 2020 per barrel oil\\noil_cost_kwa = oil_cost/(5.815*277.78)*8760\\n\\noil_extraction = 259247*1e3 #BBL\\noil_extraction_gwa = oil_extraction*5.815*277.78/(8760*1e6)\\n\\noil_potentials = {'a':[oil_reserves_gwa,oil_cost_kwa,oil_extraction_gwa]}\\n\\n\\nbio_potentials = {'a':[2445,16.8,1.425]}  #Need to update data\""
      ]
     },
     "execution_count": 847,
     "metadata": {},
     "output_type": "execute_result"
    }
   ],
   "source": [
    "'''#Resource parameters\n",
    "\n",
    "Data Format\n",
    "Reserves Volume (GWa)|Cost (USD/Kwa) |Historical Extraction (GWa)\n",
    "\n",
    "#Coal Energy Content 18.8 GJ/Ton\n",
    "coal_reserves = 34868968.53*1000 #Tonnes Data as of December 31 2021 from US EIA\n",
    "coal_reserves_gwa = coal_reserves*18.8*277.78/8760*1e-6 \n",
    "\n",
    "coal_cost = 59.04 #USD 2020 per Metric Ton\n",
    "coal_cost_kwa = coal_cost/(18.8*277.78)*8760\n",
    "\n",
    "coal_extraction = 563728255 #Ton, Handbook of Energy and Economic Statistics of Indonesia (HEESI) 2020\n",
    "coal_extraction_gwa = coal_extraction*18.8*277.78/8760*1e-6\n",
    "\n",
    "coal_potentials = {'a':[coal_reserves_gwa,coal_cost_kwa,coal_extraction_gwa]} \n",
    "\n",
    "#Natural gas energy content 34.2 MJ/m3, 1 SCF = 1037 BTU\n",
    "gas_reserves = 1.77*1e12 #m3\n",
    "gas_reserves_gwa = gas_reserves*34.2*277.78/8760*1e-9\n",
    "\n",
    "gas_cost = 5.56 #USD 2020 per Million BTU\n",
    "gas_cost_kwa = gas_cost/(1e6*0.2931)*8760\n",
    "\n",
    "gas_extraction = 2442831 #MMSCF, HEESI 2020\n",
    "gas_extraction_gwa = gas_extraction*1.037*1e9*0.0002931/(8760*1e6)\n",
    "\n",
    "gas_potentials = {'a':[gas_reserves_gwa,gas_cost,gas_extraction]}\n",
    "\n",
    "#Fuel Oil Energy content 40.19 GJ/Ton, 1 BOE = 5.815 GJ\n",
    "oil_reserves = 4.17*1e9 #BOE\n",
    "oil_reserves_gwa = oil_reserves*5.815*277.78/(8760*1e6)\n",
    "\n",
    "oil_cost = 6.7 #USD 2020 per barrel oil\n",
    "oil_cost_kwa = oil_cost/(5.815*277.78)*8760\n",
    "\n",
    "oil_extraction = 259247*1e3 #BBL\n",
    "oil_extraction_gwa = oil_extraction*5.815*277.78/(8760*1e6)\n",
    "\n",
    "oil_potentials = {'a':[oil_reserves_gwa,oil_cost_kwa,oil_extraction_gwa]}\n",
    "\n",
    "\n",
    "bio_potentials = {'a':[2445,16.8,1.425]}  #Need to update data'''"
   ]
  },
  {
   "cell_type": "code",
   "execution_count": 848,
   "metadata": {},
   "outputs": [],
   "source": [
    "#Coal Resource\n",
    "df = pd.DataFrame(\n",
    "    {\n",
    "        'node': [country],\n",
    "        'commodity':'coal',\n",
    "        'grade':'a_coal',\n",
    "        'value':coal_potentials['a'][0],\n",
    "        'unit':'GWa',\n",
    "    }\n",
    ")\n",
    "scenario.add_par('resource_volume',df)\n",
    "\n",
    "mp.add_unit('USD/KWa')\n",
    "df = make_df(\n",
    "    'resource_cost',\n",
    "    node = country,\n",
    "    commodity='coal',\n",
    "    grade='a_coal',\n",
    "    year = horizon,\n",
    "    value=df_cost[df_cost['technology'] == 'Coal Bituminous']['value'].tolist(),\n",
    "    unit='USD/KWa'\n",
    ")\n",
    "\n",
    "scenario.add_par('resource_cost',df)\n",
    "\n",
    "df = pd.DataFrame(\n",
    "    {\n",
    "        'node': country,\n",
    "        'commodity':'coal',\n",
    "        'grade':'a_coal',\n",
    "        'year':[2020],\n",
    "        'value':coal_potentials['a'][1],\n",
    "        'unit':'GWa'\n",
    "    }\n",
    ")\n",
    "scenario.add_par('historical_extraction',df)\n",
    "\n",
    "df = pd.DataFrame(\n",
    "    {\n",
    "        'node': country,\n",
    "        'commodity':'coal',\n",
    "        'grade':'a_coal',\n",
    "        'year':model_horizon,\n",
    "        'value':[0.05]*len(model_horizon),\n",
    "        'unit':'-'\n",
    "    }\n",
    ")\n",
    "\n",
    "scenario.add_par('resource_remaining',df)"
   ]
  },
  {
   "cell_type": "code",
   "execution_count": 849,
   "metadata": {},
   "outputs": [],
   "source": [
    "#Gas resource\n",
    "df = pd.DataFrame(\n",
    "    {\n",
    "        'node': [country],\n",
    "        'commodity':'gas',\n",
    "        'grade':'a_gas',\n",
    "        'value':gas_potentials['a'][0],\n",
    "        'unit':'GWa',\n",
    "    }\n",
    ")\n",
    "scenario.add_par('resource_volume',df)\n",
    "\n",
    "mp.add_unit('USD/KWa')\n",
    "df = make_df(\n",
    "    'resource_cost',\n",
    "    node = country,\n",
    "    commodity='gas',\n",
    "    grade='a_gas',\n",
    "    year = horizon,\n",
    "    value=df_cost[df_cost['technology'] == 'Natural Gas']['value'].tolist(),\n",
    "    unit='USD/KWa'\n",
    ")\n",
    "\n",
    "scenario.add_par('resource_cost',df)\n",
    "\n",
    "df = pd.DataFrame(\n",
    "    {\n",
    "        'node': country,\n",
    "        'commodity':'gas',\n",
    "        'grade':'a_gas',\n",
    "        'year':[2020],\n",
    "        'value':gas_potentials['a'][1],\n",
    "        'unit':'GWa'\n",
    "    }\n",
    ")\n",
    "scenario.add_par('historical_extraction',df)\n",
    "\n",
    "df = pd.DataFrame(\n",
    "    {\n",
    "        'node': country,\n",
    "        'commodity':'gas',\n",
    "        'grade':'a_gas',\n",
    "        'year':model_horizon,\n",
    "        'value':[0.05]*len(model_horizon),\n",
    "        'unit':'-'\n",
    "    }\n",
    ")\n",
    "\n",
    "scenario.add_par('resource_remaining',df)\n"
   ]
  },
  {
   "cell_type": "code",
   "execution_count": 850,
   "metadata": {},
   "outputs": [],
   "source": [
    "#Oil Resource\n",
    "df = pd.DataFrame(\n",
    "    {\n",
    "        'node': [country],\n",
    "        'commodity':'oil',\n",
    "        'grade':'a_oil',\n",
    "        'value':oil_potentials['a'][0],\n",
    "        'unit':'GWa',\n",
    "    }\n",
    ")\n",
    "scenario.add_par('resource_volume',df)\n",
    "\n",
    "mp.add_unit('USD/KWa')\n",
    "df = make_df(\n",
    "    'resource_cost',\n",
    "    node = country,\n",
    "    commodity='oil',\n",
    "    grade='a_oil',\n",
    "    year = horizon,\n",
    "    value=df_cost[df_cost['technology'] == 'Crude Oil']['value'].tolist(),\n",
    "    unit='USD/KWa'\n",
    ")\n",
    "\n",
    "scenario.add_par('resource_cost',df)\n",
    "\n",
    "df = pd.DataFrame(\n",
    "    {\n",
    "        'node': country,\n",
    "        'commodity':'oil',\n",
    "        'grade':'a_oil',\n",
    "        'year':[2020],\n",
    "        'value':oil_potentials['a'][1],\n",
    "        'unit':'GWa'\n",
    "    }\n",
    ")\n",
    "\n",
    "\n",
    "scenario.add_par('historical_extraction',df)\n",
    "\n",
    "df = pd.DataFrame(\n",
    "    {\n",
    "        'node': country,\n",
    "        'commodity':'oil',\n",
    "        'grade':'a_oil',\n",
    "        'year':model_horizon,\n",
    "        'value':[0.05]*len(model_horizon),\n",
    "        'unit':'-'\n",
    "    }\n",
    ")\n",
    "\n",
    "scenario.add_par('resource_remaining',df)\n"
   ]
  },
  {
   "cell_type": "code",
   "execution_count": 851,
   "metadata": {},
   "outputs": [],
   "source": [
    "#Bio Resource\n",
    "df = pd.DataFrame(\n",
    "    {\n",
    "        'node': [country],\n",
    "        'commodity':'biomass',\n",
    "        'grade':'a_biomass',\n",
    "        'value':bio_potentials['a'][0],\n",
    "        'unit':'GWa',\n",
    "    }\n",
    ")\n",
    "scenario.add_par('resource_volume',df)\n",
    "\n",
    "mp.add_unit('USD/KWa')\n",
    "df = make_df(\n",
    "    'resource_cost',\n",
    "    node = country,\n",
    "    commodity='biomass',\n",
    "    grade='a_biomass',\n",
    "    year = horizon,\n",
    "    value=df_cost[df_cost['technology'] == 'Biomass']['value'].tolist(),\n",
    "    unit='USD/KWa'\n",
    ")\n",
    "\n",
    "scenario.add_par('resource_cost',df)\n",
    "\n",
    "df = pd.DataFrame(\n",
    "    {\n",
    "        'node': country,\n",
    "        'commodity':'biomass',\n",
    "        'grade':'a_biomass',\n",
    "        'year':[2020],\n",
    "        'value':bio_potentials['a'][1],\n",
    "        'unit':'GWa'\n",
    "    }\n",
    ")\n",
    "scenario.add_par('historical_extraction',df)\n",
    "\n",
    "df = pd.DataFrame(\n",
    "    {\n",
    "        'node': country,\n",
    "        'commodity':'biomass',\n",
    "        'grade':'a_biomass',\n",
    "        'year':model_horizon,\n",
    "        'value':[0.05]*len(model_horizon),\n",
    "        'unit':'-'\n",
    "    }\n",
    ")\n",
    "\n",
    "scenario.add_par('resource_remaining',df)\n"
   ]
  },
  {
   "cell_type": "markdown",
   "metadata": {},
   "source": [
    "### Investment Cost"
   ]
  },
  {
   "cell_type": "code",
   "execution_count": 852,
   "metadata": {},
   "outputs": [],
   "source": [
    "path = os.getcwd()\n",
    "path = os.path.dirname(path)\n",
    "filename = 'LEAP_Indonesia_data.xlsx'\n",
    "filename = os.path.join(path,filename)\n",
    "\n",
    "df_cost = pd.read_excel(filename,sheet_name='inv_cost')\n",
    "df_cost.rename(columns={'Branch':'technology'},inplace=True)\n",
    "df_cost = pd.melt(df_cost,id_vars='technology',value_vars=list(range(2005,2071,5)),var_name='Year')\n",
    "\n",
    "#convert cost from Thousand Thousand USD/MW to USD/Kwa\n",
    "df_cost['value'] = df_cost['value']*1000"
   ]
  },
  {
   "cell_type": "code",
   "execution_count": 853,
   "metadata": {},
   "outputs": [],
   "source": [
    "cost_tec = ['coal_ppl',\n",
    " 'gas_ppl',\n",
    " 'oil_ppl',\n",
    " 'hydro_ppl',\n",
    " 'solar_ppl',\n",
    " 'onshorewind_ppl',\n",
    " 'offshorewind_ppl',\n",
    " 'geo_ppl',\n",
    " 'bio_ppl',\n",
    " 'nuclear_ppl']\n",
    "\n",
    "cost_tec_LEAP = ['Coal Subcritical','Gas Turbine','Fuel Oil','Large Hydro','Solar PV','Wind Onshore','Wind Offshore','Geothermal Flash','Biomass Other','Nuclear LWR']"
   ]
  },
  {
   "cell_type": "code",
   "execution_count": 854,
   "metadata": {},
   "outputs": [],
   "source": [
    "#inv_cost (data from LEAP)\n",
    "vintage_years,act_years = year_df[\"year_vtg\"],year_df[\"year_act\"]\n",
    "base_inv_cost = {\n",
    "    'node_loc':country,\n",
    "    'year_vtg':horizon,\n",
    "    'unit':'USD/kW'\n",
    "}\n",
    "\n",
    "mp.add_unit('USD/kW')\n",
    "\n",
    "for tec, tec_leap in zip(cost_tec,cost_tec_LEAP):\n",
    "    df = make_df(base_inv_cost,technology=tec,value=df_cost[df_cost['technology'] == tec_leap]['value'].tolist())\n",
    "    scenario.add_par('inv_cost',df)\n"
   ]
  },
  {
   "cell_type": "code",
   "execution_count": 855,
   "metadata": {},
   "outputs": [
    {
     "data": {
      "text/plain": [
       "\"costs = {\\n    'coal_ppl':1900,\\n    'gas_ppl':1100,\\n    'oil_ppl':910,\\n    'hydro_ppl':2200,\\n    'solar_ppl':960,\\n    'onshorewind_ppl':1650,\\n    'offshorewind_ppl':3000,\\n    'geo_ppl':3600,\\n    'bio_ppl':2280,\\n    'nuclear_ppl':9600\\n}\""
      ]
     },
     "execution_count": 855,
     "metadata": {},
     "output_type": "execute_result"
    }
   ],
   "source": [
    "'''costs = {\n",
    "    'coal_ppl':1900,\n",
    "    'gas_ppl':1100,\n",
    "    'oil_ppl':910,\n",
    "    'hydro_ppl':2200,\n",
    "    'solar_ppl':960,\n",
    "    'onshorewind_ppl':1650,\n",
    "    'offshorewind_ppl':3000,\n",
    "    'geo_ppl':3600,\n",
    "    'bio_ppl':2280,\n",
    "    'nuclear_ppl':9600\n",
    "}'''"
   ]
  },
  {
   "cell_type": "code",
   "execution_count": 856,
   "metadata": {},
   "outputs": [],
   "source": [
    "#Renewables investment cost\n",
    "path = os.getcwd()\n",
    "path = os.path.dirname(path)\n",
    "filename = 'IDN_Solar_wind.xlsx'\n",
    "filename = os.path.join(path,filename)\n",
    "\n",
    "df_solar = pd.read_excel(filename,sheet_name='investment cost')\n",
    "df_solar = pd.melt(df_solar,id_vars='USD_2005$',value_vars=list(range(2005,2071,5)),var_name='Year')\n",
    "df_solar.rename(columns={'USD_2005$':'technology'},inplace=True)\n",
    "\n",
    "base_inv_cost = {\n",
    "    'node_loc':country,\n",
    "    'year_vtg':horizon,\n",
    "    'unit':'USD/kW'\n",
    "}\n",
    "\n",
    "for tec in ['solar_ppl','onshorewind_ppl','offshorewind_ppl']:\n",
    "\n",
    "    df_tec = df_solar[df_solar['technology'] == tec]\n",
    "\n",
    "    df = make_df(base_inv_cost,technology=tec)\n",
    "    \n",
    "    df = df.merge(df_tec[['Year','value']],left_on='year_vtg',right_on='Year',how='left')\n",
    "    df.drop(columns=['Year'],inplace=True)\n",
    "\n",
    "    scenario.add_par('inv_cost',df)"
   ]
  },
  {
   "cell_type": "markdown",
   "metadata": {},
   "source": [
    "### Fix Cost"
   ]
  },
  {
   "cell_type": "code",
   "execution_count": 857,
   "metadata": {},
   "outputs": [],
   "source": [
    "path = os.getcwd()\n",
    "path = os.path.dirname(path)\n",
    "filename = 'LEAP_Indonesia_data.xlsx'\n",
    "filename = os.path.join(path,filename)\n",
    "\n",
    "df_cost = pd.read_excel(filename,sheet_name='fix_cost')\n",
    "df_cost.rename(columns={'Branch':'technology'},inplace=True)\n",
    "df_cost = pd.melt(df_cost,id_vars='technology',value_vars=list(range(2005,2071,5)),var_name='Year')\n",
    "\n",
    "#cost from Thousand USD/MW is the same with USD/Kw"
   ]
  },
  {
   "cell_type": "code",
   "execution_count": 858,
   "metadata": {},
   "outputs": [
    {
     "data": {
      "text/plain": [
       "\"costs = {\\n    'coal_ppl':51.6,\\n    'gas_ppl':26.8,\\n    'oil_ppl':9.1,\\n    'hydro_ppl':43,\\n    'solar_ppl':9.2,\\n    'onshorewind_ppl':40,\\n    'offshorewind_ppl':80,\\n    'geo_ppl':18.7,\\n    'bio_ppl':54,\\n    'nuclear_ppl':127\\n}\""
      ]
     },
     "execution_count": 858,
     "metadata": {},
     "output_type": "execute_result"
    }
   ],
   "source": [
    "'''costs = {\n",
    "    'coal_ppl':51.6,\n",
    "    'gas_ppl':26.8,\n",
    "    'oil_ppl':9.1,\n",
    "    'hydro_ppl':43,\n",
    "    'solar_ppl':9.2,\n",
    "    'onshorewind_ppl':40,\n",
    "    'offshorewind_ppl':80,\n",
    "    'geo_ppl':18.7,\n",
    "    'bio_ppl':54,\n",
    "    'nuclear_ppl':127\n",
    "}'''"
   ]
  },
  {
   "cell_type": "code",
   "execution_count": 859,
   "metadata": {},
   "outputs": [],
   "source": [
    "#fix_cost (data from LEAP 2022)\n",
    "mp.add_unit('USD/kW')\n",
    "\n",
    "base_fix_cost = {\n",
    "    'node_loc':country,\n",
    "    'unit':'USD/kW'\n",
    "}\n",
    "\n",
    "for tec, tec_leap in zip(cost_tec,cost_tec_LEAP):\n",
    "    vintage_years,act_years = get_act_vtg_years(year_df,horizon,lifetimes,tec)\n",
    "    va_year_df = pd.DataFrame({'vintage_years': pd.Series(vintage_years), 'active_years': pd.Series(act_years)})\n",
    "\n",
    "    df_cost_tec = df_cost[df_cost['technology'] == tec_leap ]\n",
    "    df_combined = va_year_df.merge(df_cost_tec,left_on='active_years',right_on='Year',how='left')\n",
    "\n",
    "    df = make_df(\n",
    "        base_fix_cost,\n",
    "        technology=tec,\n",
    "        year_vtg = pd.Series(df_combined['vintage_years'].astype(int)),\n",
    "        year_act = pd.Series(df_combined['Year']),\n",
    "        value=pd.Series(df_combined['value']))\n",
    "    \n",
    "    scenario.add_par('fix_cost',df)"
   ]
  },
  {
   "cell_type": "code",
   "execution_count": 860,
   "metadata": {},
   "outputs": [],
   "source": [
    "path = os.getcwd()\n",
    "path = os.path.dirname(path)\n",
    "filename = 'IDN_Solar_wind.xlsx'\n",
    "filename = os.path.join(path,filename)\n",
    "\n",
    "df_solar = pd.read_excel(filename,sheet_name='Fixed_Cost')\n",
    "df_solar.rename(columns={'Unnamed: 0':'technology'},inplace=True)\n",
    "\n",
    "base_fix_cost = {\n",
    "    'node_loc':country,\n",
    "    'unit':'USD/kWa'\n",
    "}\n",
    "\n",
    "for tec,value,value_toput in zip(['solar_ppl','onshorewind_ppl','offshorewind_ppl'],[2.47,21.8369,26.8913],[2.38,21.4629,26.4486]):\n",
    "\n",
    "    vintage_years,act_years = get_act_vtg_years(year_df,horizon,lifetimes,tec)\n",
    "    df = make_df(base_fix_cost,\n",
    "                year_vtg = vintage_years,\n",
    "                year_act = act_years,\n",
    "                technology=tec)\n",
    "    \n",
    "    df_tec = df_solar[(df_solar['ACT']<2071) &(df_solar['technology'] == tec)]\n",
    "    fix_costs = df_tec['Value'].unique().tolist()\n",
    "    index = fix_costs.index(value)\n",
    "    fix_costs.insert(index + 1, value_toput)\n",
    "    years = list(range(2020,2071,5))\n",
    "\n",
    "    df_fc = pd.DataFrame({'Year':pd.Series(years),'value':pd.Series(fix_costs)})\n",
    "\n",
    "    df = df.merge(df_fc,left_on='year_act',right_on='Year',how='left')\n",
    "    df['value'].fillna(fix_costs[0],inplace=True)\n",
    "\n",
    "    scenario.add_par('fix_cost',df)\n",
    "\n",
    "\n"
   ]
  },
  {
   "cell_type": "markdown",
   "metadata": {},
   "source": [
    "### Var Cost"
   ]
  },
  {
   "cell_type": "code",
   "execution_count": 861,
   "metadata": {},
   "outputs": [],
   "source": [
    "path = os.getcwd()\n",
    "path = os.path.dirname(path)\n",
    "filename = 'LEAP_Indonesia_data.xlsx'\n",
    "filename = os.path.join(path,filename)\n",
    "\n",
    "df_cost = pd.read_excel(filename,sheet_name='var_cost')\n",
    "df_cost.rename(columns={'Branch':'technology'},inplace=True)\n",
    "df_cost = pd.melt(df_cost,id_vars='technology',value_vars=list(range(2005,2071,5)),var_name='Year')\n",
    "\n",
    "#from USD/MWh to USD/KWa\n",
    "df_cost['value'] = df_cost['value']*8760.0/1e3"
   ]
  },
  {
   "cell_type": "code",
   "execution_count": 862,
   "metadata": {},
   "outputs": [],
   "source": [
    "#var_cost (data from LEAP 2022)\n",
    "mp.add_unit('USD/kW')\n",
    "\n",
    "base_var_cost = {\n",
    "    'node_loc':country,\n",
    "    'mode':'standard',\n",
    "    'time':'year',\n",
    "    'unit':'USD/kWa'\n",
    "}\n",
    "\n",
    "for tec, tec_leap in zip(cost_tec,cost_tec_LEAP):\n",
    "    vintage_years,act_years = get_act_vtg_years(year_df,horizon,lifetimes,tec)\n",
    "    va_year_df = pd.DataFrame({'vintage_years': pd.Series(vintage_years), 'active_years': pd.Series(act_years)})\n",
    "\n",
    "    df_cost_tec = df_cost[df_cost['technology'] == tec_leap ]\n",
    "    df_combined = va_year_df.merge(df_cost_tec,left_on='active_years',right_on='Year',how='left')\n",
    "\n",
    "    df = make_df(\n",
    "        base_var_cost,\n",
    "        technology=tec,\n",
    "        year_vtg = pd.Series(df_combined['vintage_years'].astype(int)),\n",
    "        year_act = pd.Series(df_combined['Year']),\n",
    "        value=pd.Series(df_combined['value']))\n",
    "    \n",
    "    scenario.add_par('var_cost',df)"
   ]
  },
  {
   "cell_type": "code",
   "execution_count": 863,
   "metadata": {},
   "outputs": [
    {
     "data": {
      "text/plain": [
       "\"#var_cost (data from LEAP 2022)\\n\\nbase_var_cost = {\\n    'node_loc':country,\\n    'mode':'standard',\\n    'time':'year',\\n    'unit':'USD/kWa'\\n}\\n\\n#in USD/MWh\\ncosts = {\\n    'coal_ppl':1.5,\\n    'gas_ppl':2.6,\\n    'oil_ppl':7.3,\\n    'hydro_ppl':0.7,\\n    'solar_ppl':0,\\n    'onshorewind_ppl':4.2,\\n    'offshorewind_ppl':8.2,\\n    'geo_ppl':0.3,\\n    'bio_ppl':3.4,\\n    'nuclear_ppl':2.4\\n}\\n\\nfor tec, val in costs.items():\\n    vintage_years,act_years = get_act_vtg_years(year_df,horizon,lifetimes,tec)\\n    df = make_df(\\n        base_var_cost,\\n        technology=tec,\\n        year_vtg = vintage_years,\\n        year_act = act_years,\\n        value=val*8760.0/1e3)\\n    scenario.add_par('var_cost',df)\""
      ]
     },
     "execution_count": 863,
     "metadata": {},
     "output_type": "execute_result"
    }
   ],
   "source": [
    "'''#var_cost (data from LEAP 2022)\n",
    "\n",
    "base_var_cost = {\n",
    "    'node_loc':country,\n",
    "    'mode':'standard',\n",
    "    'time':'year',\n",
    "    'unit':'USD/kWa'\n",
    "}\n",
    "\n",
    "#in USD/MWh\n",
    "costs = {\n",
    "    'coal_ppl':1.5,\n",
    "    'gas_ppl':2.6,\n",
    "    'oil_ppl':7.3,\n",
    "    'hydro_ppl':0.7,\n",
    "    'solar_ppl':0,\n",
    "    'onshorewind_ppl':4.2,\n",
    "    'offshorewind_ppl':8.2,\n",
    "    'geo_ppl':0.3,\n",
    "    'bio_ppl':3.4,\n",
    "    'nuclear_ppl':2.4\n",
    "}\n",
    "\n",
    "for tec, val in costs.items():\n",
    "    vintage_years,act_years = get_act_vtg_years(year_df,horizon,lifetimes,tec)\n",
    "    df = make_df(\n",
    "        base_var_cost,\n",
    "        technology=tec,\n",
    "        year_vtg = vintage_years,\n",
    "        year_act = act_years,\n",
    "        value=val*8760.0/1e3)\n",
    "    scenario.add_par('var_cost',df)'''"
   ]
  },
  {
   "cell_type": "markdown",
   "metadata": {},
   "source": [
    "## Calibration Parameter"
   ]
  },
  {
   "cell_type": "code",
   "execution_count": 864,
   "metadata": {},
   "outputs": [],
   "source": [
    "ppl_commodities = ['Coal','Natural Gas','Oil','Hydro','Solar PV','Wind','Geothermal','Bioenergy','Nuclear']\n",
    "ppl_tec = ['coal_ppl',\n",
    " 'gas_ppl',\n",
    " 'oil_ppl',\n",
    " 'hydro_ppl',\n",
    " 'solar_ppl',\n",
    " 'onshorewind_ppl',\n",
    " 'geo_ppl',\n",
    " 'bio_ppl',\n",
    " 'nuclear_ppl']"
   ]
  },
  {
   "cell_type": "code",
   "execution_count": 865,
   "metadata": {},
   "outputs": [],
   "source": [
    "path = os.getcwd()\n",
    "path = os.path.dirname(path)\n",
    "filename = 'COPY Indonesia AEO8 Data.xlsx'\n",
    "filename = os.path.join(path,filename)\n",
    "\n",
    "df_gen = pd.read_excel(filename,sheet_name='IDN_Generation_BAS',skiprows=44)[:9]\n",
    "df_gen.rename(columns={'by technology - summary (TWh)':'fuel'},inplace=True)\n",
    "df_gen = df_gen.melt(id_vars='fuel',value_vars=list(range(2005,2021,5)),var_name='Year')"
   ]
  },
  {
   "cell_type": "code",
   "execution_count": 866,
   "metadata": {},
   "outputs": [],
   "source": [
    "df_total_demand = pd.read_excel(filename,sheet_name='IDN_TFEC_Fuel_BAS',skiprows=5)[:10]\n",
    "df_total_demand.rename(columns={'Fuel':'fuel'},inplace=True)\n",
    "df_total_demand = df_total_demand[df_total_demand['fuel'] == 'Electricity']\n",
    "df_total_demand = df_total_demand.melt(id_vars='fuel',value_vars=list(range(2005,2021,5)),var_name='Year')"
   ]
  },
  {
   "cell_type": "code",
   "execution_count": 867,
   "metadata": {},
   "outputs": [],
   "source": [
    "df_total_gen = pd.read_excel(filename,sheet_name='IDN_Generation_BAS',skiprows=44)[:10]\n",
    "df_total_gen.rename(columns={'by technology - summary (TWh)':'fuel'},inplace=True)\n",
    "df_total_gen = df_total_gen[df_total_gen['fuel'] == 'Total']\n",
    "df_total_gen = df_total_gen.melt(id_vars='fuel',value_vars=list(range(2005,2021,5)),var_name='Year')"
   ]
  },
  {
   "cell_type": "code",
   "execution_count": 868,
   "metadata": {},
   "outputs": [],
   "source": [
    "df_cap = pd.read_excel(filename,sheet_name='IDN_Capacity_BAS',skiprows=48)[:10]\n",
    "df_cap.rename(columns={'by technology - summary (GW)':'fuel'},inplace=True)\n",
    "df_cap = df_cap.melt(id_vars='fuel',value_vars=list(range(2005,2021,5)),var_name='Year')"
   ]
  },
  {
   "cell_type": "code",
   "execution_count": 869,
   "metadata": {},
   "outputs": [],
   "source": [
    "mp.add_unit(\"GW/y\")\n",
    "\n",
    "ppl_tec.remove('solar_ppl')\n",
    "ppl_commodities.remove('Solar PV')\n",
    "\n",
    "\n",
    "for act,tec in zip(ppl_commodities,ppl_tec):\n",
    "\n",
    "    d_his = list((df_gen[(df_gen['fuel'] == act )&(df_gen['Year'].isin([2005,2010,2015,2020]))])['value']*conv_twh_gwa)\n",
    "    df = make_df(\n",
    "        'historical_activity',\n",
    "        node_loc=country,\n",
    "        year_act=historical_horizon,\n",
    "        mode='standard',\n",
    "        time='year',\n",
    "        unit='GWa',\n",
    "        technology = tec,\n",
    "        value = d_his\n",
    "    )\n",
    "\n",
    "    scenario.add_par('historical_activity',df)\n",
    "\n",
    "d_his = list(df_total_demand['value']*conv_mtoe_gwa)\n",
    "\n",
    "df = make_df(\n",
    "    'historical_activity',\n",
    "    node_loc = country,\n",
    "    year_act = historical_horizon,\n",
    "    mode='standard',\n",
    "    time='year',\n",
    "    unit='GWa',\n",
    "    technology = 'electricity_grid',\n",
    "    value = d_his\n",
    ")\n",
    "\n",
    "scenario.add_par('historical_activity',df)\n",
    "\n",
    "for sector,sector_model in zip(sectors,demand_tec):\n",
    "\n",
    "    df = pd.read_excel(filename,sheet_name=f'IDN_{sector}_BAS',skiprows=6)\n",
    "    index = df[df['Fuel'] == 'Total'].index[0] #get index of the targeted sliced rows\n",
    "    df = df.loc[:index-1]\n",
    "    df = df.melt(id_vars='Fuel', value_vars=list(range(2005,2051,5)),var_name='Year')\n",
    "    df = df[(df['Fuel'] == 'Electricity') & (df['Year']<2021)]\n",
    "    df.value = df.value*conv_mtoe_gwa\n",
    "\n",
    "    d_his = df.value.tolist()\n",
    "\n",
    "    df = make_df(\n",
    "    'historical_activity',\n",
    "    node_loc = country,\n",
    "    year_act = historical_horizon,\n",
    "    mode='standard',\n",
    "    time='year',\n",
    "    unit='GWa',\n",
    "    technology = sector_model,\n",
    "    value = d_his\n",
    ")\n",
    "\n",
    "    scenario.add_par('historical_activity',df)"
   ]
  },
  {
   "cell_type": "code",
   "execution_count": 870,
   "metadata": {},
   "outputs": [],
   "source": [
    "mp.add_unit(\"GW/y\")\n",
    "\n",
    "df_cap_new = df_cap.pivot(index='Year',columns='fuel',values='value').diff().reset_index()\n",
    "df_cap_new = pd.melt(df_cap_new,id_vars='Year',value_vars=ppl_commodities,value_name='value',var_name='fuel')\n",
    "df_cap_new['value'] = df_cap_new['value']/5\n",
    "\n",
    "df_cap_new = fix_negative_values(df_cap_new,fuel_col='fuel',year_col='Year',value_col='value')\n",
    "df_cap_new = fill_missing_values(df_cap_new,df_cap[df_cap['Year'] == 2005],year_step=5)\n",
    "\n",
    "for cap,tec in zip(ppl_commodities,ppl_tec):\n",
    "    d_his = list(df_cap_new[df_cap_new['fuel'] == cap]['value'])\n",
    "    df = make_df(\n",
    "        'historical_new_capacity',\n",
    "        node_loc = country,\n",
    "        year_vtg = historical_horizon,\n",
    "        unit = 'GW/y',\n",
    "        technology = tec,\n",
    "        value=d_his\n",
    "    )\n",
    "\n",
    "    scenario.add_par('historical_new_capacity',df)"
   ]
  },
  {
   "cell_type": "code",
   "execution_count": 871,
   "metadata": {},
   "outputs": [
    {
     "data": {
      "text/plain": [
       "\"growth = {\\n    'coal_ppl':0.1,\\n    'gas_ppl':0.05,\\n    'oil_ppl':0.05,\\n    'hydro_ppl':0.025,\\n    'solar_ppl':0.05,\\n    'onshorewind_ppl':0.05,\\n    'offshorewind_ppl':0.05,\\n    'geo_ppl':0.025,\\n    'bio_ppl':0.05,\\n    'nuclear_ppl':0.05\\n}\""
      ]
     },
     "execution_count": 871,
     "metadata": {},
     "output_type": "execute_result"
    }
   ],
   "source": [
    "#Original Growth Rate\n",
    "'''growth = {\n",
    "    'coal_ppl':0.1,\n",
    "    'gas_ppl':0.05,\n",
    "    'oil_ppl':0.05,\n",
    "    'hydro_ppl':0.025,\n",
    "    'solar_ppl':0.05,\n",
    "    'onshorewind_ppl':0.05,\n",
    "    'offshorewind_ppl':0.05,\n",
    "    'geo_ppl':0.025,\n",
    "    'bio_ppl':0.05,\n",
    "    'nuclear_ppl':0.05\n",
    "}'''\n"
   ]
  },
  {
   "cell_type": "code",
   "execution_count": 872,
   "metadata": {},
   "outputs": [],
   "source": [
    "base_growth = {\n",
    "    'node_loc':country,\n",
    "    'year_act':model_horizon,\n",
    "    'time':'year',\n",
    "    'unit':'-'\n",
    "}\n",
    "\n",
    "growth = {\n",
    "    'coal_ppl':0.075,\n",
    "    'gas_ppl':0.1,\n",
    "    'oil_ppl':0.05,\n",
    "    'hydro_ppl':0.04,\n",
    "    'solar_ppl':0.05,\n",
    "    'onshorewind_ppl':0.05,\n",
    "    'offshorewind_ppl':0.05,\n",
    "    'geo_ppl':0.04,\n",
    "    'bio_ppl':0.05,\n",
    "    'nuclear_ppl':0.05\n",
    "}\n",
    "\n",
    "for tec,val in growth.items():\n",
    "    df = make_df(base_growth,technology = tec,value=val)\n",
    "    scenario.add_par('growth_activity_up',df)\n",
    " \n"
   ]
  },
  {
   "cell_type": "code",
   "execution_count": 873,
   "metadata": {},
   "outputs": [],
   "source": [
    "base_growth = {\n",
    "    'node_loc':country,\n",
    "    'year_act':model_horizon,\n",
    "    'time':'year',\n",
    "    'unit':'-'\n",
    "}\n",
    "\n",
    "growth = {\n",
    "\n",
    "    'gas_ppl':-0.01,\n",
    "    'oil_ppl':-0.05\n",
    "}\n",
    "\n",
    "for tec,val in growth.items():\n",
    "    df = make_df(base_growth,technology = tec,value=val)\n",
    "    scenario.add_par('growth_activity_lo',df)"
   ]
  },
  {
   "cell_type": "code",
   "execution_count": 874,
   "metadata": {},
   "outputs": [],
   "source": [
    "base_activity = {\n",
    "    'node_loc':country,\n",
    "    'year_act':[2020],\n",
    "    'mode':'standard',\n",
    "    'time':'year',\n",
    "    'unit':'GWa',\n",
    "}\n",
    "\n",
    "for act,tec in zip(ppl_commodities,ppl_tec):\n",
    "\n",
    "    d_his = df_gen\n",
    "    d_his= list((d_his[(d_his['fuel'] == act) & (d_his['Year'] == 2020)]['value']*conv_twh_gwa))\n",
    "\n",
    "    df = make_df(\n",
    "        base_activity,\n",
    "        technology = tec,\n",
    "        value = d_his\n",
    "    )\n",
    "\n",
    "    scenario.add_par('bound_activity_lo',df)\n",
    "    scenario.add_par('bound_activity_up',df)\n"
   ]
  },
  {
   "cell_type": "code",
   "execution_count": 875,
   "metadata": {},
   "outputs": [],
   "source": [
    "base_activity = {\n",
    "    'node_loc':country,\n",
    "    'year_act':[2025],\n",
    "    'mode':'standard',\n",
    "    'time':'year',\n",
    "    'unit':'GWa',\n",
    "}\n",
    "\n",
    "for act,tec in zip(['Natural Gas','Oil'],['gas_ppl','oil_ppl']):\n",
    "\n",
    "    d_his = df_gen\n",
    "    d_his= list((d_his[(d_his['fuel'] == act) & (d_his['Year'] == 2020)]['value']*conv_twh_gwa*0.9))\n",
    "\n",
    "    df = make_df(\n",
    "        base_activity,\n",
    "        technology = tec,\n",
    "        value = d_his\n",
    "    )\n",
    "\n",
    "    scenario.add_par('bound_activity_lo',df)\n",
    "        "
   ]
  },
  {
   "cell_type": "code",
   "execution_count": 876,
   "metadata": {},
   "outputs": [],
   "source": [
    "#Renewables Parametrisation\n",
    "path = os.getcwd()\n",
    "path = os.path.dirname(path)\n",
    "filename = 'IDN_Solar_wind.xlsx'\n",
    "filename = os.path.join(path,filename)\n",
    "\n",
    "df_solar = pd.read_excel(filename,sheet_name='New_act_cap_5yr')\n",
    "df_solar = pd.melt(df_solar,id_vars=['technology','Metric'],value_vars=[2005,2010,2015,2020],var_name='Year')\n",
    "\n",
    "for tec in ['solar_ppl','onshorewind_ppl']:\n",
    "\n",
    "    df_tec = df_solar[df_solar['technology'] == tec]\n",
    "    df = make_df(\n",
    "        'historical_activity',\n",
    "        node_loc = country,\n",
    "        year_act = historical_horizon,\n",
    "        mode='standard',\n",
    "        time='year',\n",
    "        unit='GWa',\n",
    "        technology = tec,\n",
    "        value = df_tec[df_tec['Metric'] == 'ACT']['value'].tolist()\n",
    "    )\n",
    "\n",
    "    scenario.add_par('historical_activity',df)\n",
    "\n",
    "    df = make_df(\n",
    "            'historical_new_capacity',\n",
    "            node_loc = country,\n",
    "            year_vtg = historical_horizon,\n",
    "            unit = 'GW/y',\n",
    "            technology = tec,\n",
    "            value= df_tec[df_tec['Metric'] == 'NC']['value'].tolist()\n",
    "        )\n",
    "\n",
    "    scenario.add_par('historical_new_capacity',df)\n",
    "\n",
    "    base_activity = {\n",
    "        'node_loc':country,\n",
    "        'year_act':[2020],\n",
    "        'mode':'standard',\n",
    "        'time':'year',\n",
    "        'unit':'GWa',\n",
    "    }\n",
    "\n",
    "    df = make_df(\n",
    "            base_activity,\n",
    "            technology = tec,\n",
    "            value = df_tec[(df_tec['Metric'] == 'ACT') & (df_tec['Year'] == 2020)]['value'].tolist()\n",
    "        )\n",
    "\n",
    "    scenario.add_par('bound_activity_lo',df)\n",
    "\n",
    "    d_his = df_tec[(df_tec['Metric'] == 'ACT')&(df_tec['Year'] == 2020)]['value']*1.005\n",
    "\n",
    "    df = make_df(\n",
    "            base_activity,\n",
    "            technology = tec,\n",
    "            value = d_his.tolist()\n",
    "    )\n",
    "\n",
    "    scenario.add_par('bound_activity_up',df)"
   ]
  },
  {
   "cell_type": "markdown",
   "metadata": {},
   "source": [
    "## Emission"
   ]
  },
  {
   "cell_type": "code",
   "execution_count": 877,
   "metadata": {},
   "outputs": [],
   "source": [
    "fossil_ppl_tec = ['coal_ppl','gas_ppl','oil_ppl','bio_ppl']\n",
    "fossil_ppl_leap = ['Coal Subcritical','Gas Combined Cycle','Diesel','Biomass Other']"
   ]
  },
  {
   "cell_type": "code",
   "execution_count": 878,
   "metadata": {},
   "outputs": [],
   "source": [
    "path = os.getcwd()\n",
    "path = os.path.dirname(path)\n",
    "filename = 'Emission Factor_Indonesia_Baseline.xlsx'\n",
    "filename = os.path.join(path,filename)\n",
    "\n",
    "df_emis = pd.read_excel(filename,sheet_name='emission_factor')\n",
    "\n",
    "base_emissions = {\n",
    "    \"node_loc\": country,\n",
    "    \"mode\": \"standard\",\n",
    "    \"unit\": \"tCO2/kWa\",\n",
    "}\n",
    "\n",
    "scenario.add_set(\"emission\", \"CO2\")\n",
    "scenario.add_cat(\"emission\", \"GHG\", \"CO2\")\n",
    "\n",
    "mp.add_unit(\"tCO2/kWa\")\n",
    "mp.add_unit(\"MtCO2\")\n",
    "\n",
    "for tec,tec_leap in zip(fossil_ppl_tec,fossil_ppl_leap):\n",
    "\n",
    "    emission = df_emis[(df_emis['Branch'] == tec_leap)][2025]* 8760.0 / 1000\n",
    "    emission = emission.values[0]\n",
    "\n",
    "    vintage_years,active_years = get_act_vtg_years(year_df,horizon,lifetimes,tec)\n",
    "\n",
    "    df = make_df(\n",
    "        base_emissions, \n",
    "        year_vtg =vintage_years, \n",
    "        year_act=active_years,\n",
    "        technology = tec,\n",
    "        emission = 'CO2',\n",
    "        value = [emission for _ in range(len(vintage_years))]\n",
    "    )\n",
    "\n",
    "    scenario.add_par(\"emission_factor\", df)"
   ]
  },
  {
   "cell_type": "markdown",
   "metadata": {},
   "source": [
    "## Objective Function"
   ]
  },
  {
   "cell_type": "code",
   "execution_count": 879,
   "metadata": {},
   "outputs": [],
   "source": [
    "scenario.add_par(\"interestrate\", model_horizon, value=0.07, unit=\"-\")"
   ]
  },
  {
   "cell_type": "markdown",
   "metadata": {},
   "source": [
    "# Commit and Solve the Model"
   ]
  },
  {
   "cell_type": "code",
   "execution_count": 880,
   "metadata": {},
   "outputs": [],
   "source": [
    "comment = \"initial commit for Indonesia model\"\n",
    "scenario.commit(comment)\n",
    "scenario.set_as_default()"
   ]
  },
  {
   "cell_type": "code",
   "execution_count": 881,
   "metadata": {},
   "outputs": [],
   "source": [
    "scenario.solve()"
   ]
  },
  {
   "cell_type": "code",
   "execution_count": 882,
   "metadata": {},
   "outputs": [
    {
     "data": {
      "text/plain": [
       "301258.34375"
      ]
     },
     "execution_count": 882,
     "metadata": {},
     "output_type": "execute_result"
    }
   ],
   "source": [
    "scenario.var(\"OBJ\")[\"lvl\"]\n"
   ]
  },
  {
   "cell_type": "markdown",
   "metadata": {},
   "source": [
    "# Plotting Result"
   ]
  },
  {
   "cell_type": "code",
   "execution_count": 803,
   "metadata": {},
   "outputs": [],
   "source": [
    "from message_ix.report import Reporter\n",
    "from message_ix.util.tutorial import prepare_plots\n",
    "\n",
    "%matplotlib inline\n",
    "\n",
    "# Create a Reporter object to describe and carry out reporting\n",
    "# calculations and operations (like plotting) based on `scenario`\n",
    "rep = Reporter.from_scenario(scenario)\n",
    "\n",
    "# \"prepare_plots\" enables several to describe reporting operations, e.g.\n",
    "# \"plot activity\", \"plot capacity\", or \"plot prices\"\n",
    "# See message_ix/util/tutorial.py for more information\n",
    "prepare_plots(rep)\n",
    "\n",
    "ppl_tec = [\n",
    "    'coal_ppl',\n",
    "    'gas_ppl',\n",
    "    'oil_ppl',\n",
    "    'hydro_ppl',\n",
    "    'solar_ppl',\n",
    "    'onshorewind_ppl',\n",
    "    'offshorewind_ppl',\n",
    "    'geo_ppl',\n",
    "    'bio_ppl',\n",
    "    'nuclear_ppl'\n",
    "]"
   ]
  },
  {
   "cell_type": "code",
   "execution_count": 804,
   "metadata": {},
   "outputs": [
    {
     "data": {
      "text/plain": [
       "<Axes: title={'center': 'IDN Energy System Activity'}, xlabel='Year', ylabel='GWa'>"
      ]
     },
     "execution_count": 804,
     "metadata": {},
     "output_type": "execute_result"
    },
    {
     "data": {
      "image/png": "[encoded data removed]",
      "text/plain": [
       "<Figure size 640x480 with 1 Axes>"
      ]
     },
     "metadata": {},
     "output_type": "display_data"
    }
   ],
   "source": [
    "rep.set_filters(t=ppl_tec, ya=historical_horizon+model_horizon)\n",
    "rep.get(\"plot activity\")"
   ]
  },
  {
   "cell_type": "code",
   "execution_count": 805,
   "metadata": {},
   "outputs": [
    {
     "data": {
      "text/plain": [
       "<Axes: title={'center': 'IDN Energy System Capacity'}, xlabel='Year', ylabel='GW'>"
      ]
     },
     "execution_count": 805,
     "metadata": {},
     "output_type": "execute_result"
    },
    {
     "data": {
      "image/png": "[encoded data removed]",
      "text/plain": [
       "<Figure size 640x480 with 1 Axes>"
      ]
     },
     "metadata": {},
     "output_type": "display_data"
    }
   ],
   "source": [
    "rep.get('plot capacity')"
   ]
  },
  {
   "cell_type": "code",
   "execution_count": 806,
   "metadata": {},
   "outputs": [
    {
     "data": {
      "text/plain": [
       "<Axes: title={'center': 'IDN Energy System New Capacity'}, xlabel='Year', ylabel='GWa'>"
      ]
     },
     "execution_count": 806,
     "metadata": {},
     "output_type": "execute_result"
    },
    {
     "data": {
      "image/png": "[encoded data removed]",
      "text/plain": [
       "<Figure size 640x480 with 1 Axes>"
      ]
     },
     "metadata": {},
     "output_type": "display_data"
    }
   ],
   "source": [
    "rep.get('plot new capacity')"
   ]
  },
  {
   "cell_type": "code",
   "execution_count": 807,
   "metadata": {},
   "outputs": [
    {
     "data": {
      "text/plain": [
       "<Axes: title={'center': 'IDN Fossil Supply'}, xlabel='Resource volume [GWa]', ylabel='Cost [USD / KWa]'>"
      ]
     },
     "execution_count": 807,
     "metadata": {},
     "output_type": "execute_result"
    },
    {
     "data": {
      "image/png": "[encoded data removed]",
      "text/plain": [
       "<Figure size 640x480 with 1 Axes>"
      ]
     },
     "metadata": {},
     "output_type": "display_data"
    }
   ],
   "source": [
    "rep.set_filters()\n",
    "rep.get(\"plot fossil supply curve\")\n"
   ]
  },
  {
   "cell_type": "code",
   "execution_count": 808,
   "metadata": {},
   "outputs": [
    {
     "data": {
      "text/plain": [
       "<Axes: title={'center': 'g\\n    IDN\\nName: 0, dtype: object Energy System Extraction'}, xlabel='Year', ylabel='GW'>"
      ]
     },
     "execution_count": 808,
     "metadata": {},
     "output_type": "execute_result"
    },
    {
     "data": {
      "image/png": "[encoded data removed]",
      "text/plain": [
       "<Figure size 640x480 with 1 Axes>"
      ]
     },
     "metadata": {},
     "output_type": "display_data"
    }
   ],
   "source": [
    "rep.set_filters()\n",
    "rep.get(\"plot extraction\")\n"
   ]
  },
  {
   "cell_type": "code",
   "execution_count": 809,
   "metadata": {},
   "outputs": [
    {
     "data": {
      "text/plain": [
       "<Axes: title={'center': 'IDN Energy System Demand'}, xlabel='Year', ylabel='GWa'>"
      ]
     },
     "execution_count": 809,
     "metadata": {},
     "output_type": "execute_result"
    },
    {
     "data": {
      "image/png": "[encoded data removed]",
      "text/plain": [
       "<Figure size 640x480 with 1 Axes>"
      ]
     },
     "metadata": {},
     "output_type": "display_data"
    }
   ],
   "source": [
    "rep.get('plot demand')"
   ]
  },
  {
   "cell_type": "code",
   "execution_count": 810,
   "metadata": {},
   "outputs": [
    {
     "data": {
      "text/plain": [
       "<Axes: title={'center': 'IDN Energy System Prices'}, xlabel='Year', ylabel='¢/kW·h'>"
      ]
     },
     "execution_count": 810,
     "metadata": {},
     "output_type": "execute_result"
    },
    {
     "data": {
      "image/png": "[encoded data removed]",
      "text/plain": [
       "<Figure size 640x480 with 1 Axes>"
      ]
     },
     "metadata": {},
     "output_type": "display_data"
    }
   ],
   "source": [
    "rep.set_filters(t=None, c=demand_com)\n",
    "rep.get(\"plot prices\")"
   ]
  },
  {
   "cell_type": "code",
   "execution_count": 884,
   "metadata": {},
   "outputs": [],
   "source": [
    "scenario.remove_solution()"
   ]
  },
  {
   "cell_type": "code",
   "execution_count": 885,
   "metadata": {},
   "outputs": [],
   "source": [
    "scenario.check_out()"
   ]
  },
  {
   "cell_type": "code",
   "execution_count": 887,
   "metadata": {},
   "outputs": [],
   "source": [
    "mp.close_db()"
   ]
  }
 ],
 "metadata": {
  "kernelspec": {
   "display_name": "message-env",
   "language": "python",
   "name": "python3"
  },
  "language_info": {
   "codemirror_mode": {
    "name": "ipython",
    "version": 3
   },
   "file_extension": ".py",
   "mimetype": "text/x-python",
   "name": "python",
   "nbconvert_exporter": "python",
   "pygments_lexer": "ipython3",
   "version": "3.9.21"
  }
 },
 "nbformat": 4,
 "nbformat_minor": 2
}
