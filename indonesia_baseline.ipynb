{
 "cells": [
  {
   "cell_type": "markdown",
   "metadata": {},
   "source": [
    "# Model Initiation"
   ]
  },
  {
   "cell_type": "code",
   "execution_count": 132,
   "metadata": {},
   "outputs": [],
   "source": [
    "#Libary\n",
    "import pandas as pd\n",
    "import os\n",
    "import numpy as np"
   ]
  },
  {
   "cell_type": "code",
   "execution_count": null,
   "metadata": {},
   "outputs": [],
   "source": [
    "#tes"
   ]
  },
  {
   "cell_type": "code",
   "execution_count": 133,
   "metadata": {},
   "outputs": [],
   "source": [
    "import ixmp\n",
    "\n",
    "mp = ixmp.Platform()"
   ]
  },
  {
   "cell_type": "code",
   "execution_count": 134,
   "metadata": {},
   "outputs": [],
   "source": [
    "#convert mtoe to GWa\n",
    "conv_mtoe_gwa = 11.63*1000/8760\n",
    "conv_twh_gwa = 1000/8760"
   ]
  },
  {
   "cell_type": "code",
   "execution_count": 135,
   "metadata": {},
   "outputs": [],
   "source": [
    "import message_ix\n",
    "\n",
    "scenario = message_ix.Scenario(\n",
    "    mp, model='Indonesia Prototype', scenario='baseline', version='new'\n",
    ")"
   ]
  },
  {
   "cell_type": "markdown",
   "metadata": {},
   "source": [
    "# Functions"
   ]
  },
  {
   "cell_type": "code",
   "execution_count": 136,
   "metadata": {},
   "outputs": [],
   "source": [
    "def get_act_vtg_years(y_df,horizon,lifetimes,technology):\n",
    "    \"\"\"\n",
    "    get active years and vintage years according to technology lifetime\n",
    "    \"\"\"\n",
    "    for year in horizon:\n",
    "        count = y_df[y_df['year_vtg'] == year]['year_vtg'].value_counts()\n",
    "        count = count[year]\n",
    "        if count > lifetimes[f'{technology}']:\n",
    "            df = y_df[y_df['year_vtg'] == year]\n",
    "            value = (count - lifetimes[f'{technology}'])*-1\n",
    "            index_to_remove = df.index[value:]\n",
    "\n",
    "            y_df = y_df.drop(index=index_to_remove)\n",
    "\n",
    "    return y_df['year_vtg'],y_df['year_act']\n",
    "            \n"
   ]
  },
  {
   "cell_type": "code",
   "execution_count": 137,
   "metadata": {},
   "outputs": [],
   "source": [
    "def fix_negative_values(df, fuel_col='fuel', year_col='Year', value_col='value'):\n",
    "    \"\"\"\n",
    "    Fix negative values by transferring values within the same fuel type.\n",
    "    Priority: Add to next year if exists, otherwise pull from previous years.\n",
    "    \n",
    "    Parameters:\n",
    "    - df: pandas DataFrame\n",
    "    - fuel_col: column name for fuel types\n",
    "    - year_col: column name for years\n",
    "    - value_col: column name for values to adjust\n",
    "\n",
    "    Returns:\n",
    "    - Adjusted DataFrame\n",
    "    \"\"\"\n",
    "    # Sort first to ensure correct order\n",
    "    df = df.sort_values(by=[fuel_col, year_col]).reset_index(drop=True)\n",
    "    \n",
    "    # Iterate through DataFrame\n",
    "    i = 0\n",
    "    while i < len(df):\n",
    "        if df.loc[i, value_col] < 0:\n",
    "            current_fuel = df.loc[i, fuel_col]\n",
    "            \n",
    "            # Try to find next year with same fuel\n",
    "            next_indices = df.index[(df.index > i) & (df[fuel_col] == current_fuel)]\n",
    "            \n",
    "            if len(next_indices) > 0:\n",
    "                next_i = next_indices[0]\n",
    "                df.loc[next_i, value_col] += df.loc[i, value_col]\n",
    "                df.loc[i, value_col] = 0\n",
    "            else:\n",
    "                # No next year: pull from previous years\n",
    "                prev_indices = df.index[(df.index < i) & (df[fuel_col] == current_fuel)].tolist()\n",
    "                prev_indices = prev_indices[::-1]  # Closest previous first\n",
    "\n",
    "                for prev_i in prev_indices:\n",
    "                    df.loc[i, value_col] += df.loc[prev_i, value_col]\n",
    "                    df.loc[prev_i, value_col] = 0\n",
    "                    if df.loc[i, value_col] >= 0:\n",
    "                        break\n",
    "        i += 1\n",
    "    \n",
    "    return df\n"
   ]
  },
  {
   "cell_type": "code",
   "execution_count": 138,
   "metadata": {},
   "outputs": [],
   "source": [
    "def fill_missing_values(main_df, reference_df, fuel_col='fuel', year_col='Year', value_col='value', year=2005):\n",
    "    \"\"\"\n",
    "    Fill missing or zero values in main_df using reference_df.\n",
    "\n",
    "    Parameters:\n",
    "    - main_df: DataFrame that needs filling\n",
    "    - reference_df: DataFrame providing reference values\n",
    "    - fuel_col: column name for fuel types\n",
    "    - year_col: column name for years\n",
    "    - value_col: column name for values to adjust\n",
    "\n",
    "    Returns:\n",
    "    - Filled DataFrame\n",
    "    \"\"\"\n",
    "    df = main_df.copy()\n",
    "    \n",
    "    for idx, row in df.iterrows():\n",
    "        # If value is NaN or zero\n",
    "        if pd.isna(row[value_col]):\n",
    "            ref_value = reference_df.loc[\n",
    "                (reference_df[fuel_col] == row[fuel_col]) & (reference_df[year_col] == year),\n",
    "                value_col\n",
    "            ]\n",
    "            if not ref_value.empty:\n",
    "                df.at[idx, value_col] = ref_value.values[0]\n",
    "    \n",
    "    return df"
   ]
  },
  {
   "cell_type": "markdown",
   "metadata": {},
   "source": [
    "# Model Structure"
   ]
  },
  {
   "cell_type": "markdown",
   "metadata": {},
   "source": [
    "<img src='Messageix Indonesia Structure.drawio.png' width='1000'>"
   ]
  },
  {
   "cell_type": "code",
   "execution_count": 139,
   "metadata": {},
   "outputs": [],
   "source": [
    "historical_horizon = list(range(2005,2021,5))\n",
    "model_horizon = list(range(2025,2071,5))\n",
    "\n",
    "horizon = historical_horizon+model_horizon\n",
    "\n",
    "scenario.add_horizon(year=historical_horizon+model_horizon)\n"
   ]
  },
  {
   "cell_type": "code",
   "execution_count": 140,
   "metadata": {},
   "outputs": [],
   "source": [
    "country='IDN'\n",
    "scenario.add_spatial_sets({'country':country})"
   ]
  },
  {
   "cell_type": "code",
   "execution_count": 141,
   "metadata": {},
   "outputs": [],
   "source": [
    "demand_com = [\n",
    "    'industry_el',\n",
    "    'transport_el',\n",
    "    'commercial_el',\n",
    "    'residential_el'\n",
    "]\n",
    "\n",
    "commodities = [\n",
    "    'coal',\n",
    "    'electricity',\n",
    "    'gas',\n",
    "    'oil'\n",
    "]\n",
    "\n",
    "all_com = demand_com + commodities"
   ]
  },
  {
   "cell_type": "code",
   "execution_count": 142,
   "metadata": {},
   "outputs": [],
   "source": [
    "\n",
    "ppl_tec = [\n",
    "    'coal_ppl',\n",
    "    'gas_ppl',\n",
    "    'oil_ppl',\n",
    "    'hydro_ppl',\n",
    "    'solar_ppl',\n",
    "    'wind_ppl',\n",
    "    'geo_ppl',\n",
    "    'bio_ppl',\n",
    "    'nuclear_ppl'\n",
    "]\n",
    "\n",
    "t_d_tec = [\n",
    "    'electricity_grid'\n",
    "           ]\n",
    "\n",
    "demand_tec = [\n",
    "    'industry_el_tec',\n",
    "    'transport_el_tec',\n",
    "    'commercial_el_tec',\n",
    "    'residential_el_tec'\n",
    "]\n",
    "\n",
    "all_tec =  ppl_tec + t_d_tec + demand_tec"
   ]
  },
  {
   "cell_type": "code",
   "execution_count": 143,
   "metadata": {},
   "outputs": [],
   "source": [
    "scenario.add_set('commodity',all_com)\n",
    "scenario.add_set('level',['primary','secondary','final','useful'])\n",
    "scenario.add_set('technology',all_tec)\n",
    "scenario.add_set('mode','standard')\n",
    "scenario.add_set('level_resource','primary')\n",
    "scenario.add_set('grade',['a_coal','a_gas','a_oil'])"
   ]
  },
  {
   "cell_type": "markdown",
   "metadata": {},
   "source": [
    "## Demand Parameter"
   ]
  },
  {
   "cell_type": "code",
   "execution_count": 144,
   "metadata": {},
   "outputs": [],
   "source": [
    "path = os.getcwd()\n",
    "path = os.path.dirname(path)\n",
    "filename = 'COPY Indonesia AEO8 Data.xlsx'\n",
    "filename = os.path.join(path,filename)\n",
    "\n",
    "sectors = ['Industry','Transport','Commercial','Residential']\n",
    "sector_models = ['industry_el','transport_el','commercial_el','residential_el']"
   ]
  },
  {
   "cell_type": "code",
   "execution_count": 145,
   "metadata": {},
   "outputs": [
    {
     "data": {
      "text/plain": [
       "['Industry', 'Transport', 'Commercial', 'Residential']"
      ]
     },
     "execution_count": 145,
     "metadata": {},
     "output_type": "execute_result"
    }
   ],
   "source": [
    "sectors"
   ]
  },
  {
   "cell_type": "code",
   "execution_count": 146,
   "metadata": {},
   "outputs": [],
   "source": [
    "for sector,sector_model in zip(sectors,sector_models):\n",
    "\n",
    "    df = pd.read_excel(filename,sheet_name=f'IDN_{sector}_BAS',skiprows=6)\n",
    "    index = df[df['Fuel'] == 'Total'].index[0] #get index of the targeted sliced rows\n",
    "    df = df.loc[:index-1]\n",
    "    df = df.melt(id_vars='Fuel', value_vars=list(range(2005,2051,5)),var_name='Year')\n",
    "    df = df[(df['Fuel'] == 'Electricity') & (df['Year']>2020)]\n",
    "    df.value = df.value*conv_mtoe_gwa\n",
    "    coeffs = np.polyfit(df[\"Year\"].values.astype(int), df[\"value\"].values.astype(float), deg=1)\n",
    "    poly = np.poly1d(coeffs)\n",
    "\n",
    "    # Predict values for the missing years\n",
    "    future_years = list(range(2055,2071,5))\n",
    "    predicted_values = poly(future_years)\n",
    "    newrow = pd.DataFrame({'Year':list(range(2055,2071,5)),'Fuel':['Electricity' for _ in range(4)], 'value':predicted_values})\n",
    "    df = pd.concat([df,newrow])\n",
    "    values = df.value.tolist()\n",
    "\n",
    "\n",
    "\n",
    "    df_demand = pd.DataFrame(\n",
    "        {\n",
    "            'node':country,\n",
    "            'commodity':f'{sector_model}',\n",
    "            'level':'useful',\n",
    "            'year': model_horizon,\n",
    "            'time':'year',\n",
    "            'value':values,\n",
    "            'unit':'GWa'\n",
    "        }\n",
    "    )\n",
    "\n",
    "    scenario.add_par('demand',df_demand)\n",
    "    "
   ]
  },
  {
   "cell_type": "markdown",
   "metadata": {},
   "source": [
    "## Engineering Parameters"
   ]
  },
  {
   "cell_type": "code",
   "execution_count": 147,
   "metadata": {},
   "outputs": [],
   "source": [
    "year_df = scenario.vintage_and_active_years()\n",
    "vintage_years,act_years = year_df[\"year_vtg\"],year_df[\"year_act\"]"
   ]
  },
  {
   "cell_type": "code",
   "execution_count": 148,
   "metadata": {},
   "outputs": [],
   "source": [
    "#Technical Lifetime (data from LEAP)\n",
    "from message_ix import make_df\n",
    "\n",
    "base_technical_lifetime = {\n",
    "    'node_loc': country,\n",
    "    'year_vtg':vintage_years,\n",
    "    'unit':'y'\n",
    "}\n",
    "\n",
    "lifetimes ={\n",
    "    'coal_ppl':40,\n",
    "    'gas_ppl':30,\n",
    "    'oil_ppl':40,\n",
    "    'hydro_ppl':40,\n",
    "    'solar_ppl':20,\n",
    "    'wind_ppl':20,\n",
    "    'geo_ppl':30,\n",
    "    'bio_ppl':30,\n",
    "    'nuclear_ppl':60\n",
    "}\n",
    "\n",
    "for tec, val in lifetimes.items():\n",
    "    df = make_df(base_technical_lifetime,technology=tec,value=val)\n",
    "    scenario.add_par('technical_lifetime',df)\n",
    "\n"
   ]
  },
  {
   "cell_type": "code",
   "execution_count": 149,
   "metadata": {},
   "outputs": [
    {
     "data": {
      "text/plain": [
       "'scenario.add_par(\"input\",bio_ppl)\\nscenario.add_par(\"input\",nuclear_ppl)'"
      ]
     },
     "execution_count": 149,
     "metadata": {},
     "output_type": "execute_result"
    }
   ],
   "source": [
    "#Coal Input\n",
    "\n",
    "vintage_years,act_years = get_act_vtg_years(year_df,horizon,lifetimes,'coal_ppl')\n",
    "base_coal_input = {\n",
    "    \"node_loc\":country,\n",
    "    \"year_vtg\":vintage_years,\n",
    "    \"year_act\":act_years,\n",
    "    \"mode\":\"standard\",\n",
    "    \"node_origin\":country,\n",
    "    \"commodity\":\"coal\",\n",
    "    \"time\":\"year\",\n",
    "    \"time_origin\":\"year\"\n",
    "}\n",
    "\n",
    "coal_ppl = pd.DataFrame(\n",
    "    dict(\n",
    "        technology='coal_ppl',\n",
    "        level='primary',\n",
    "        value=1,\n",
    "        unit='-',\n",
    "        **base_coal_input,\n",
    "    )\n",
    ")\n",
    "\n",
    "#Gas Input\n",
    "\n",
    "vintage_years,act_years = get_act_vtg_years(year_df,horizon,lifetimes,'gas_ppl')\n",
    "base_gas_input = {\n",
    "    \"node_loc\":country,\n",
    "    \"year_vtg\":vintage_years,\n",
    "    \"year_act\":act_years,\n",
    "    \"mode\":\"standard\",\n",
    "    \"node_origin\":country,\n",
    "    \"commodity\":\"gas\",\n",
    "    \"time\":\"year\",\n",
    "    \"time_origin\":\"year\"\n",
    "}\n",
    "\n",
    "gas_ppl = pd.DataFrame(\n",
    "    dict(\n",
    "        technology='gas_ppl',\n",
    "        level='primary',\n",
    "        value=1,\n",
    "        unit='-',\n",
    "        **base_gas_input,\n",
    "    )\n",
    ")\n",
    "\n",
    "#Oil Input\n",
    "\n",
    "vintage_years,act_years = get_act_vtg_years(year_df,horizon,lifetimes,'oil_ppl')\n",
    "base_oil_input = {\n",
    "    \"node_loc\":country,\n",
    "    \"year_vtg\":vintage_years,\n",
    "    \"year_act\":act_years,\n",
    "    \"mode\":\"standard\",\n",
    "    \"node_origin\":country,\n",
    "    \"commodity\":\"oil\",\n",
    "    \"time\":\"year\",\n",
    "    \"time_origin\":\"year\"\n",
    "}\n",
    "\n",
    "oil_ppl = pd.DataFrame(\n",
    "    dict(\n",
    "        technology='oil_ppl',\n",
    "        level='primary',\n",
    "        value=1,\n",
    "        unit='-',\n",
    "        **base_oil_input,\n",
    "    )\n",
    ")\n",
    "\n",
    "#Biomass Input\n",
    "'''base_bio_input = {\n",
    "    \"node_loc\":country,\n",
    "    \"year_vtg\":vintage_years,\n",
    "    \"year_act\":act_years,\n",
    "    \"mode\":\"standard\",\n",
    "    \"node_origin\":country,\n",
    "    \"commodity\":\"biomass\",\n",
    "    \"time\":\"year\",\n",
    "    \"time_origin\":\"year\"\n",
    "}\n",
    "\n",
    "bio_ppl = pd.DataFrame(\n",
    "    dict(\n",
    "        technology='bio_ppl',\n",
    "        level='primary',\n",
    "        value=1,\n",
    "        unit='-',\n",
    "        **base_bio_input,\n",
    "    )\n",
    ")\n",
    "\n",
    "#Nuclear Input\n",
    "base_nuclear_input = {\n",
    "    \"node_loc\":country,\n",
    "    \"year_vtg\":vintage_years,\n",
    "    \"year_act\":act_years,\n",
    "    \"mode\":\"standard\",\n",
    "    \"node_origin\":country,\n",
    "    \"commodity\":\"nuclear\",\n",
    "    \"time\":\"year\",\n",
    "    \"time_origin\":\"year\"\n",
    "}\n",
    "\n",
    "nuclear_ppl = pd.DataFrame(\n",
    "    dict(\n",
    "        technology='nuclear_ppl',\n",
    "        level='primary',\n",
    "        value=1,\n",
    "        unit='-',\n",
    "        **base_nuclear_input,\n",
    "    )\n",
    ")'''\n",
    "\n",
    "\n",
    "scenario.add_par(\"input\",coal_ppl)\n",
    "scenario.add_par(\"input\",gas_ppl)\n",
    "scenario.add_par(\"input\",oil_ppl)\n",
    "'''scenario.add_par(\"input\",bio_ppl)\n",
    "scenario.add_par(\"input\",nuclear_ppl)'''"
   ]
  },
  {
   "cell_type": "code",
   "execution_count": 150,
   "metadata": {},
   "outputs": [],
   "source": [
    "\n",
    "#Electricity Input\n",
    "vintage_years,act_years = pd.Series(horizon),pd.Series(horizon)\n",
    "base_electr_input = {\n",
    "    \"node_loc\":country,\n",
    "    \"year_vtg\":vintage_years,\n",
    "    \"year_act\":act_years,\n",
    "    \"mode\":\"standard\",\n",
    "    \"node_origin\":country,\n",
    "    \"commodity\":\"electricity\",\n",
    "    \"time\":\"year\",\n",
    "    \"time_origin\":\"year\"\n",
    "}\n",
    "\n",
    "electr_grid = make_df(\n",
    "    base_electr_input,\n",
    "    technology='electricity_grid',\n",
    "    level='secondary',\n",
    "    value=1,\n",
    "    unit='-',\n",
    ")\n",
    "\n",
    "scenario.add_par(\"input\",electr_grid)\n",
    "\n",
    "for tec in demand_tec:\n",
    "    electr_in = make_df(\n",
    "        base_electr_input,\n",
    "        technology = f'{tec}',\n",
    "        level = 'final',\n",
    "        value=1,\n",
    "        unit ='-'\n",
    "    )\n",
    "    scenario.add_par('input',electr_in)\n",
    "    \n",
    "\n"
   ]
  },
  {
   "cell_type": "code",
   "execution_count": 151,
   "metadata": {},
   "outputs": [],
   "source": [
    "#Data from LEAP\n",
    "coal_ppl_eff = 0.37 \n",
    "gas_ppl_eff = 0.33 \n",
    "oil_ppl_eff = 0.45 \n",
    "bio_ppl_eff = 0.62\n",
    "nuclear_ppl_eff = 0.4\n",
    "electr_grid_eff = 1\n",
    "\n",
    "\n",
    "#Output\n",
    "base_output = {\n",
    "'node_loc':country,\n",
    "'mode':'standard',\n",
    "'node_dest':country,\n",
    "'time':'year',\n",
    "'time_dest':'year',   \n",
    "}\n",
    "\n",
    "\n",
    "\n",
    "#coal_ppl\n",
    "vintage_years,act_years = get_act_vtg_years(year_df,horizon,lifetimes,'coal_ppl')\n",
    "coal_ppl = make_df(\n",
    "    base_output,\n",
    "    technology ='coal_ppl',\n",
    "    year_vtg = vintage_years,\n",
    "    year_act = act_years,\n",
    "    commodity ='electricity',\n",
    "    level = 'secondary',\n",
    "    value = coal_ppl_eff, \n",
    "    unit = '-'\n",
    "    \n",
    ")\n",
    "\n",
    "#gas_ppl\n",
    "vintage_years,act_years = get_act_vtg_years(year_df,horizon,lifetimes,'gas_ppl')\n",
    "gas_ppl = make_df(\n",
    "    base_output,\n",
    "    technology ='gas_ppl',\n",
    "    year_vtg = vintage_years,\n",
    "    year_act = act_years,\n",
    "    commodity ='electricity',\n",
    "    level = 'secondary',\n",
    "    value = gas_ppl_eff, \n",
    "    unit = '-'  \n",
    ")\n",
    "\n",
    "#oil_ppl\n",
    "vintage_years,act_years = get_act_vtg_years(year_df,horizon,lifetimes,'oil_ppl')\n",
    "oil_ppl = make_df(\n",
    "    base_output,\n",
    "    technology ='oil_ppl',\n",
    "    year_vtg = vintage_years,\n",
    "    year_act = act_years,\n",
    "    commodity ='electricity',\n",
    "    level = 'secondary',\n",
    "    value = oil_ppl_eff, \n",
    "    unit = '-'  \n",
    ")\n",
    "\n",
    "#hydro_ppl\n",
    "vintage_years,act_years = get_act_vtg_years(year_df,horizon,lifetimes,'hydro_ppl')\n",
    "hydro_ppl = make_df(\n",
    "    base_output,\n",
    "    technology ='hydro_ppl',\n",
    "    year_vtg = vintage_years,\n",
    "    year_act = act_years,\n",
    "    commodity ='electricity',\n",
    "    level = 'secondary',\n",
    "    value = 1, \n",
    "    unit = '-'  \n",
    ")\n",
    "\n",
    "#solar_ppl\n",
    "vintage_years,act_years = get_act_vtg_years(year_df,horizon,lifetimes,'solar_ppl')\n",
    "solar_ppl = make_df(\n",
    "    base_output,\n",
    "    technology ='solar_ppl',\n",
    "    year_vtg = vintage_years,\n",
    "    year_act = act_years,\n",
    "    commodity ='electricity',\n",
    "    level = 'secondary',\n",
    "    value = 1, \n",
    "    unit = '-'  \n",
    ")\n",
    "\n",
    "#wind_ppl\n",
    "vintage_years,act_years = get_act_vtg_years(year_df,horizon,lifetimes,'wind_ppl')\n",
    "wind_ppl = make_df(\n",
    "    base_output,\n",
    "    technology ='wind_ppl',\n",
    "    year_vtg = vintage_years,\n",
    "    year_act = act_years,\n",
    "    commodity ='electricity',\n",
    "    level = 'secondary',\n",
    "    value = 1, \n",
    "    unit = '-'  \n",
    ")\n",
    "\n",
    "#geo_ppl\n",
    "vintage_years,act_years = get_act_vtg_years(year_df,horizon,lifetimes,'geo_ppl')\n",
    "geo_ppl = make_df(\n",
    "    base_output,\n",
    "    technology ='geo_ppl',\n",
    "    year_vtg = vintage_years,\n",
    "    year_act = act_years,\n",
    "    commodity ='electricity',\n",
    "    level = 'secondary',\n",
    "    value = 1, \n",
    "    unit = '-'  \n",
    ")\n",
    "\n",
    "#bio_ppl\n",
    "vintage_years,act_years = get_act_vtg_years(year_df,horizon,lifetimes,'bio_ppl')\n",
    "bio_ppl = make_df(\n",
    "    base_output,\n",
    "    technology ='bio_ppl',\n",
    "    year_vtg = vintage_years,\n",
    "    year_act = act_years,\n",
    "    commodity ='electricity',\n",
    "    level = 'secondary',\n",
    "    value = 1, \n",
    "    unit = '-'  \n",
    ")\n",
    "\n",
    "#nuclear_ppl\n",
    "vintage_years,act_years = get_act_vtg_years(year_df,horizon,lifetimes,'nuclear_ppl')\n",
    "nuclear_ppl = make_df(\n",
    "    base_output,\n",
    "    technology ='nuclear_ppl',\n",
    "    year_vtg = vintage_years,\n",
    "    year_act = act_years,\n",
    "    commodity ='electricity',\n",
    "    level = 'secondary',\n",
    "    value = 1, \n",
    "    unit = '-'  \n",
    ")\n",
    "\n",
    "\n",
    "#electricity grid\n",
    "vintage_years,act_years = pd.Series(horizon),pd.Series(horizon)\n",
    "electr_grid = make_df(\n",
    "    base_output,\n",
    "    technology ='electricity_grid',\n",
    "    year_vtg = vintage_years,\n",
    "    year_act = act_years,\n",
    "    commodity ='electricity',\n",
    "    level = 'final',\n",
    "    value = electr_grid_eff, \n",
    "    unit = '-'\n",
    ")\n",
    "\n",
    "for tec in ppl_tec:\n",
    "    df = globals()[f'{tec}']\n",
    "    scenario.add_par('output',df)\n",
    "    \n",
    "scenario.add_par(\"output\",electr_grid)\n",
    "\n",
    "for tec,com in zip(demand_tec,demand_com):\n",
    "    electr_out = make_df(\n",
    "        base_output,\n",
    "        technology = f'{tec}',\n",
    "        commodity = f'{com}',\n",
    "        year_vtg = vintage_years,\n",
    "        year_act = act_years,\n",
    "        level = 'useful',\n",
    "        value=1,\n",
    "        unit ='-'\n",
    "    )\n",
    "    scenario.add_par('output',electr_out)"
   ]
  },
  {
   "cell_type": "code",
   "execution_count": 152,
   "metadata": {},
   "outputs": [],
   "source": [
    "#Capacity Factor (data from LEAP Max Availability)\n",
    "\n",
    "base_capacity_factor = {\n",
    "    'node_loc': country,\n",
    "    'time':'year',\n",
    "    'unit':'-'\n",
    "}\n",
    "\n",
    "capacity_factor ={\n",
    "    'coal_ppl':0.8,\n",
    "    'gas_ppl':0.85,\n",
    "    'oil_ppl':0.95,\n",
    "    'hydro_ppl':0.5177,\n",
    "    'solar_ppl':0.1861,\n",
    "    'wind_ppl':0.2634,\n",
    "    'geo_ppl':0.8,\n",
    "    'bio_ppl':0.8,\n",
    "    'nuclear_ppl':0.95\n",
    "}\n",
    "\n",
    "for tec, val in capacity_factor.items():\n",
    "    vintage_years,act_years = get_act_vtg_years(year_df,horizon,lifetimes,tec)\n",
    "    df = make_df(\n",
    "        base_capacity_factor,\n",
    "        technology=tec,\n",
    "        year_vtg = vintage_years,\n",
    "        year_act = act_years,\n",
    "        value=val)\n",
    "    scenario.add_par('capacity_factor',df)\n",
    "\n"
   ]
  },
  {
   "cell_type": "markdown",
   "metadata": {},
   "source": [
    "## Technoeconomic Parameters"
   ]
  },
  {
   "cell_type": "code",
   "execution_count": 153,
   "metadata": {},
   "outputs": [],
   "source": [
    "#Resource parameters\n",
    "\n",
    "coal_potentials = {'a':[133575,0.35,638.85]} #based on RUKN (potential) and HEESI 2022 (last historical extraction), cost based on tutorial\n",
    "gas_potentials = {'a':[1834.43,7.52,79.2]} #Need to update data\n",
    "oil_potentials = {'a':[2.66,40.7,0.041]} #Need to update data"
   ]
  },
  {
   "cell_type": "code",
   "execution_count": 154,
   "metadata": {},
   "outputs": [],
   "source": [
    "#Coal Resource\n",
    "df = pd.DataFrame(\n",
    "    {\n",
    "        'node': [country],\n",
    "        'commodity':'coal',\n",
    "        'grade':'a_coal',\n",
    "        'value':coal_potentials['a'][0],\n",
    "        'unit':'GWa',\n",
    "    }\n",
    ")\n",
    "scenario.add_par('resource_volume',df)\n",
    "\n",
    "mp.add_unit('USD/KWa')\n",
    "df = make_df(\n",
    "    'resource_cost',\n",
    "    node = country,\n",
    "    commodity='coal',\n",
    "    grade='a_coal',\n",
    "    year = model_horizon,\n",
    "    value=coal_potentials['a'][1],\n",
    "    unit='USD/KWa'\n",
    ")\n",
    "\n",
    "scenario.add_par('resource_cost',df)\n",
    "\n",
    "df = pd.DataFrame(\n",
    "    {\n",
    "        'node': country,\n",
    "        'commodity':'coal',\n",
    "        'grade':'a_coal',\n",
    "        'year':[2020],\n",
    "        'value':coal_potentials['a'][2],\n",
    "        'unit':'GWa'\n",
    "    }\n",
    ")\n",
    "scenario.add_par('historical_extraction',df)\n",
    "\n",
    "\n",
    "\n"
   ]
  },
  {
   "cell_type": "code",
   "execution_count": 155,
   "metadata": {},
   "outputs": [],
   "source": [
    "#Gas resource\n",
    "df = pd.DataFrame(\n",
    "    {\n",
    "        'node': [country],\n",
    "        'commodity':'gas',\n",
    "        'grade':'a_gas',\n",
    "        'value':gas_potentials['a'][0],\n",
    "        'unit':'GWa',\n",
    "    }\n",
    ")\n",
    "scenario.add_par('resource_volume',df)\n",
    "\n",
    "mp.add_unit('USD/KWa')\n",
    "df = make_df(\n",
    "    'resource_cost',\n",
    "    node = country,\n",
    "    commodity='gas',\n",
    "    grade='a_gas',\n",
    "    year = model_horizon,\n",
    "    value=gas_potentials['a'][1],\n",
    "    unit='USD/KWa'\n",
    ")\n",
    "\n",
    "scenario.add_par('resource_cost',df)\n",
    "\n",
    "df = pd.DataFrame(\n",
    "    {\n",
    "        'node': country,\n",
    "        'commodity':'gas',\n",
    "        'grade':'a_gas',\n",
    "        'year':[2020],\n",
    "        'value':gas_potentials['a'][2],\n",
    "        'unit':'GWa'\n",
    "    }\n",
    ")\n",
    "scenario.add_par('historical_extraction',df)\n"
   ]
  },
  {
   "cell_type": "code",
   "execution_count": 156,
   "metadata": {},
   "outputs": [],
   "source": [
    "#Oil Resource\n",
    "df = pd.DataFrame(\n",
    "    {\n",
    "        'node': [country],\n",
    "        'commodity':'oil',\n",
    "        'grade':'a_oil',\n",
    "        'value':oil_potentials['a'][0],\n",
    "        'unit':'GWa',\n",
    "    }\n",
    ")\n",
    "scenario.add_par('resource_volume',df)\n",
    "\n",
    "mp.add_unit('USD/KWa')\n",
    "df = make_df(\n",
    "    'resource_cost',\n",
    "    node = country,\n",
    "    commodity='oil',\n",
    "    grade='a_oil',\n",
    "    year = model_horizon,\n",
    "    value=oil_potentials['a'][1],\n",
    "    unit='USD/KWa'\n",
    ")\n",
    "\n",
    "scenario.add_par('resource_cost',df)\n",
    "\n",
    "df = pd.DataFrame(\n",
    "    {\n",
    "        'node': country,\n",
    "        'commodity':'oil',\n",
    "        'grade':'a_oil',\n",
    "        'year':[2020],\n",
    "        'value':oil_potentials['a'][2],\n",
    "        'unit':'GWa'\n",
    "    }\n",
    ")\n",
    "scenario.add_par('historical_extraction',df)\n"
   ]
  },
  {
   "cell_type": "code",
   "execution_count": 157,
   "metadata": {},
   "outputs": [],
   "source": [
    "#inv_cost (data from LEAP 2022)\n",
    "vintage_years,act_years = year_df[\"year_vtg\"],year_df[\"year_act\"]\n",
    "base_inv_cost = {\n",
    "    'node_loc':country,\n",
    "    'year_vtg':vintage_years,\n",
    "    'unit':'USD/kW'\n",
    "}\n",
    "\n",
    "mp.add_unit('USD/kW')\n",
    "\n",
    "costs = {\n",
    "    'coal_ppl':1600,\n",
    "    'gas_ppl':1062,\n",
    "    'oil_ppl':910,\n",
    "    'hydro_ppl':2200,\n",
    "    'solar_ppl':960,\n",
    "    'wind_ppl':1650,\n",
    "    'geo_ppl':3600,\n",
    "    'bio_ppl':2280,\n",
    "    'nuclear_ppl':9000\n",
    "}\n",
    "\n",
    "for tec, val in costs.items():\n",
    "    df = make_df(base_inv_cost,technology=tec,value=val)\n",
    "    scenario.add_par('inv_cost',df)\n"
   ]
  },
  {
   "cell_type": "code",
   "execution_count": 158,
   "metadata": {},
   "outputs": [],
   "source": [
    "#fix_cost (data from LEAP 2022)\n",
    "mp.add_unit('USD/kWa')\n",
    "\n",
    "base_fix_cost = {\n",
    "    'node_loc':country,\n",
    "    'unit':'USD/kWa'\n",
    "}\n",
    "\n",
    "costs = {\n",
    "    'coal_ppl':47,\n",
    "    'gas_ppl':26.5,\n",
    "    'oil_ppl':9.1,\n",
    "    'hydro_ppl':43,\n",
    "    'solar_ppl':9.2,\n",
    "    'wind_ppl':40,\n",
    "    'geo_ppl':18.7,\n",
    "    'bio_ppl':54,\n",
    "    'nuclear_ppl':127\n",
    "}\n",
    "\n",
    "for tec, val in costs.items():\n",
    "    vintage_years,act_years = get_act_vtg_years(year_df,horizon,lifetimes,tec)\n",
    "    df = make_df(\n",
    "        base_fix_cost,\n",
    "        technology=tec,\n",
    "        year_vtg = vintage_years,\n",
    "        year_act = act_years,\n",
    "        value=val)\n",
    "    scenario.add_par('fix_cost',df)"
   ]
  },
  {
   "cell_type": "code",
   "execution_count": 159,
   "metadata": {},
   "outputs": [],
   "source": [
    "#var_cost (data from LEAP 2022)\n",
    "\n",
    "base_var_cost = {\n",
    "    'node_loc':country,\n",
    "    'mode':'standard',\n",
    "    'time':'year',\n",
    "    'unit':'USD/kWa'\n",
    "}\n",
    "\n",
    "#in USD/MWh\n",
    "costs = {\n",
    "    'coal_ppl':1.5,\n",
    "    'gas_ppl':2.6,\n",
    "    'oil_ppl':7.3,\n",
    "    'hydro_ppl':0.7,\n",
    "    'solar_ppl':0,\n",
    "    'wind_ppl':4.2,\n",
    "    'geo_ppl':0.3,\n",
    "    'bio_ppl':3.4,\n",
    "    'nuclear_ppl':2.4\n",
    "}\n",
    "\n",
    "for tec, val in costs.items():\n",
    "    vintage_years,act_years = get_act_vtg_years(year_df,horizon,lifetimes,tec)\n",
    "    df = make_df(\n",
    "        base_var_cost,\n",
    "        technology=tec,\n",
    "        year_vtg = vintage_years,\n",
    "        year_act = act_years,\n",
    "        value=val*8760.0/1e3)\n",
    "    scenario.add_par('var_cost',df)"
   ]
  },
  {
   "cell_type": "markdown",
   "metadata": {},
   "source": [
    "## Calibration Parameter"
   ]
  },
  {
   "cell_type": "code",
   "execution_count": 160,
   "metadata": {},
   "outputs": [],
   "source": [
    "ppl_commodities = ['Coal','Natural Gas','Oil','Hydro','Solar PV','Wind','Geothermal','Bioenergy','Nuclear']"
   ]
  },
  {
   "cell_type": "code",
   "execution_count": 161,
   "metadata": {},
   "outputs": [],
   "source": [
    "df_gen = pd.read_excel(filename,sheet_name='IDN_Generation_BAS',skiprows=44)[:9]\n",
    "df_gen.rename(columns={'by technology - summary (TWh)':'fuel'},inplace=True)\n",
    "df_gen = df_gen.melt(id_vars='fuel',value_vars=list(range(2005,2021,5)),var_name='Year')"
   ]
  },
  {
   "cell_type": "code",
   "execution_count": 162,
   "metadata": {},
   "outputs": [],
   "source": [
    "df_total_gen = pd.read_excel(filename,sheet_name='IDN_Generation_BAS',skiprows=44)[:10]\n",
    "df_total_gen.rename(columns={'by technology - summary (TWh)':'fuel'},inplace=True)\n",
    "df_total_gen = df_total_gen[df_total_gen['fuel'] == 'Total']\n",
    "df_total_gen = df_total_gen.melt(id_vars='fuel',value_vars=list(range(2005,2021,5)),var_name='Year')"
   ]
  },
  {
   "cell_type": "code",
   "execution_count": 163,
   "metadata": {},
   "outputs": [],
   "source": [
    "df_cap = pd.read_excel(filename,sheet_name='IDN_Capacity_BAS',skiprows=48)[:10]\n",
    "df_cap.rename(columns={'by technology - summary (GW)':'fuel'},inplace=True)\n",
    "df_cap = df_cap.melt(id_vars='fuel',value_vars=list(range(2005,2021,5)),var_name='Year')"
   ]
  },
  {
   "cell_type": "code",
   "execution_count": 164,
   "metadata": {},
   "outputs": [],
   "source": [
    "base_growth = {\n",
    "    'node_loc':country,\n",
    "    'year_act':model_horizon,\n",
    "    'value':0.05,\n",
    "    'time':'year',\n",
    "    'unit':'-'\n",
    "}\n",
    "\n",
    "for tec in ppl_tec:\n",
    "    df = make_df(base_growth,technology = tec)\n",
    "    scenario.add_par('growth_activity_up',df)"
   ]
  },
  {
   "cell_type": "code",
   "execution_count": 165,
   "metadata": {},
   "outputs": [],
   "source": [
    "mp.add_unit(\"GW/y\")\n",
    "\n",
    "for act,tec in zip(ppl_commodities,ppl_tec):\n",
    "\n",
    "    d_his = list(df_gen[df_gen['fuel'] == act]['value']*conv_twh_gwa)\n",
    "    df = make_df(\n",
    "        'historical_activity',\n",
    "        node_loc=country,\n",
    "        year_act=historical_horizon,\n",
    "        mode='standard',\n",
    "        time='year',\n",
    "        unit='GWa',\n",
    "        technology = tec,\n",
    "        value = d_his\n",
    "    )\n",
    "\n",
    "    scenario.add_par('historical_activity',df)\n",
    "\n",
    "d_his = list(df_total_gen['value']*conv_twh_gwa)\n",
    "df = make_df(\n",
    "    'historical_activity',\n",
    "    node_loc = country,\n",
    "    year_act = historical_horizon,\n",
    "    mode='standard',\n",
    "    time='year',\n",
    "    unit='GWa',\n",
    "    technology = 'electricity_grid',\n",
    "    value = d_his\n",
    ")\n",
    "\n",
    "scenario.add_par('historical_activity',df)"
   ]
  },
  {
   "cell_type": "code",
   "execution_count": 169,
   "metadata": {},
   "outputs": [],
   "source": [
    "base_activity = {\n",
    "    'node_loc':country,\n",
    "    'year_act':[2020],\n",
    "    'mode':'standard',\n",
    "    'time':'year',\n",
    "    'unit':'GWa',\n",
    "}\n",
    "\n",
    "for act,tec in zip(ppl_commodities,ppl_tec):\n",
    "\n",
    "    d_his = df_gen[df_gen['Year'] == 2020]\n",
    "    d_his = list((d_his[d_his['fuel'] == act]['value']*conv_twh_gwa))\n",
    "\n",
    "\n",
    "\n",
    "    df = make_df(\n",
    "        base_activity,\n",
    "        technology = tec,\n",
    "        value = d_his\n",
    "    )\n",
    "\n",
    "    scenario.add_par('bound_activity_up',df)\n",
    "    scenario.add_par('bound_activity_lo',df)\n",
    "\n",
    "\n",
    "\n"
   ]
  },
  {
   "cell_type": "code",
   "execution_count": 170,
   "metadata": {},
   "outputs": [],
   "source": [
    "mp.add_unit(\"GW/y\")\n",
    "\n",
    "df_cap_new = df_cap.pivot(index='Year',columns='fuel',values='value').diff().reset_index()\n",
    "df_cap_new = pd.melt(df_cap_new,id_vars='Year',value_vars=ppl_commodities,value_name='value',var_name='fuel')\n",
    "\n",
    "df_cap_new = fix_negative_values(df_cap_new,fuel_col='fuel',year_col='Year',value_col='value')\n",
    "df_cap_new = fill_missing_values(df_cap_new,df_cap[df_cap['Year'] == 2005])\n",
    "\n",
    "for cap,tec in zip(ppl_commodities,ppl_tec):\n",
    "    d_his = list(df_cap_new[df_cap_new['fuel'] == cap]['value'])\n",
    "    df = make_df(\n",
    "        'historical_new_capacity',\n",
    "        node_loc = country,\n",
    "        year_vtg = historical_horizon,\n",
    "        unit = 'GW/y',\n",
    "        technology = tec,\n",
    "        value=d_his\n",
    "    )\n",
    "\n",
    "    scenario.add_par('historical_new_capacity',df)"
   ]
  },
  {
   "cell_type": "code",
   "execution_count": 171,
   "metadata": {},
   "outputs": [
    {
     "data": {
      "text/plain": [
       "\"base_initial = {\\n    'node_loc':country,\\n    'year_act':model_horizon,\\n    'time':'year',\\n    'unit':'%'\\n}\\n\\nfor tec,sector in zip(demand_tec,sectors):\\n\\n    df = pd.read_excel(filename,sheet_name=f'IDN_{sector}_BAS',skiprows=6)\\n    index = df[df['Fuel'] == 'Total'].index[0] #get index of the targeted sliced rows\\n    df = df.loc[:index-1]\\n    df = df.melt(id_vars='Fuel', value_vars=list(range(2005,2051,1)),var_name='Year')\\n    df = df[(df['Fuel'] == 'Electricity') & (df['Year']>2022)]\\n    df.value = df.value*conv_mtoe_gwa*0.01\\n    values = df.value.tolist()\\n\\n    df = make_df(\\n        base_initial,\\n        technology = tec,\\n        value = values\\n    )\\n\\n    scenario.add_par('initial_activity_up',df)\""
      ]
     },
     "execution_count": 171,
     "metadata": {},
     "output_type": "execute_result"
    }
   ],
   "source": [
    "'''base_initial = {\n",
    "    'node_loc':country,\n",
    "    'year_act':model_horizon,\n",
    "    'time':'year',\n",
    "    'unit':'%'\n",
    "}\n",
    "\n",
    "for tec,sector in zip(demand_tec,sectors):\n",
    "\n",
    "    df = pd.read_excel(filename,sheet_name=f'IDN_{sector}_BAS',skiprows=6)\n",
    "    index = df[df['Fuel'] == 'Total'].index[0] #get index of the targeted sliced rows\n",
    "    df = df.loc[:index-1]\n",
    "    df = df.melt(id_vars='Fuel', value_vars=list(range(2005,2051,1)),var_name='Year')\n",
    "    df = df[(df['Fuel'] == 'Electricity') & (df['Year']>2022)]\n",
    "    df.value = df.value*conv_mtoe_gwa*0.01\n",
    "    values = df.value.tolist()\n",
    "\n",
    "    df = make_df(\n",
    "        base_initial,\n",
    "        technology = tec,\n",
    "        value = values\n",
    "    )\n",
    "\n",
    "    scenario.add_par('initial_activity_up',df)'''"
   ]
  },
  {
   "cell_type": "code",
   "execution_count": 172,
   "metadata": {},
   "outputs": [
    {
     "data": {
      "text/plain": [
       "\"base_initial = {\\n    'node_loc':country,\\n    'year_act':model_horizon,\\n    'time':'year',\\n    'unit':'%',\\n}\\n\\nfor tec,sector in zip(demand_tec,sectors):\\n\\n    df = pd.read_excel(filename,sheet_name=f'IDN_{sector}_BAS',skiprows=6)\\n    index = df[df['Fuel'] == 'Total'].index[0] #get index of the targeted sliced rows\\n    df = df.loc[:index-1]\\n    df = df.melt(id_vars='Fuel', value_vars=list(range(2005,2051,1)),var_name='Year')\\n    df = df[(df['Fuel'] == 'Electricity') & (df['Year']>2022)]\\n    df.value = df.value*conv_mtoe_gwa*0.01\\n    values = df.value.tolist()\\n\\n    df = make_df(\\n        base_initial,\\n        technology=tec,\\n        value = values\\n    )\\n\\n    scenario.add_par('initial_activity_up',df)\""
      ]
     },
     "execution_count": 172,
     "metadata": {},
     "output_type": "execute_result"
    }
   ],
   "source": [
    "'''base_initial = {\n",
    "    'node_loc':country,\n",
    "    'year_act':model_horizon,\n",
    "    'time':'year',\n",
    "    'unit':'%',\n",
    "}\n",
    "\n",
    "for tec,sector in zip(demand_tec,sectors):\n",
    "\n",
    "    df = pd.read_excel(filename,sheet_name=f'IDN_{sector}_BAS',skiprows=6)\n",
    "    index = df[df['Fuel'] == 'Total'].index[0] #get index of the targeted sliced rows\n",
    "    df = df.loc[:index-1]\n",
    "    df = df.melt(id_vars='Fuel', value_vars=list(range(2005,2051,1)),var_name='Year')\n",
    "    df = df[(df['Fuel'] == 'Electricity') & (df['Year']>2022)]\n",
    "    df.value = df.value*conv_mtoe_gwa*0.01\n",
    "    values = df.value.tolist()\n",
    "\n",
    "    df = make_df(\n",
    "        base_initial,\n",
    "        technology=tec,\n",
    "        value = values\n",
    "    )\n",
    "\n",
    "    scenario.add_par('initial_activity_up',df)'''"
   ]
  },
  {
   "cell_type": "code",
   "execution_count": 173,
   "metadata": {},
   "outputs": [
    {
     "data": {
      "text/plain": [
       "'mp.add_unit(\"GW/y\")\\n\\nfor act,tec in zip(ppl_commodities,ppl_tec):\\n\\n    d_his = list(df_gen[df_gen[\\'fuel\\'] == act][\\'value\\']*conv_twh_gwa)\\n    df = make_df(\\n        \\'historical_activity\\',\\n        node_loc=country,\\n        year_act=historical_horizon,\\n        mode=\\'standard\\',\\n        time=\\'year\\',\\n        unit=\\'GWa\\',\\n        technology = tec,\\n        value = d_his\\n    )\\n\\n    scenario.add_par(\\'bound_activity_up\\',df)\\n    scenario.add_par(\\'bound_activity_lo\\',df)\\n\\n    value = list(df_gen[df_gen[\\'fuel\\'] == act][\\'value\\']*conv_twh_gwa/capacity_factor[tec])\\n    df = make_df(\\n        \\'bound_new_capacity_up\\',\\n        node_loc = country,\\n        year_vtg = historical_horizon,\\n        unit = \\'GW/y\\',\\n        technology = tec,\\n        value=value\\n    )\\n    scenario.add_par(\\'bound_new_capacity_up\\',df)'"
      ]
     },
     "execution_count": 173,
     "metadata": {},
     "output_type": "execute_result"
    }
   ],
   "source": [
    "'''mp.add_unit(\"GW/y\")\n",
    "\n",
    "for act,tec in zip(ppl_commodities,ppl_tec):\n",
    "\n",
    "    d_his = list(df_gen[df_gen['fuel'] == act]['value']*conv_twh_gwa)\n",
    "    df = make_df(\n",
    "        'historical_activity',\n",
    "        node_loc=country,\n",
    "        year_act=historical_horizon,\n",
    "        mode='standard',\n",
    "        time='year',\n",
    "        unit='GWa',\n",
    "        technology = tec,\n",
    "        value = d_his\n",
    "    )\n",
    "\n",
    "    scenario.add_par('bound_activity_up',df)\n",
    "    scenario.add_par('bound_activity_lo',df)\n",
    "\n",
    "    value = list(df_gen[df_gen['fuel'] == act]['value']*conv_twh_gwa/capacity_factor[tec])\n",
    "    df = make_df(\n",
    "        'bound_new_capacity_up',\n",
    "        node_loc = country,\n",
    "        year_vtg = historical_horizon,\n",
    "        unit = 'GW/y',\n",
    "        technology = tec,\n",
    "        value=value\n",
    "    )\n",
    "    scenario.add_par('bound_new_capacity_up',df)'''\n",
    "\n"
   ]
  },
  {
   "cell_type": "code",
   "execution_count": 174,
   "metadata": {},
   "outputs": [
    {
     "data": {
      "text/plain": [
       "\"df_tfec = pd.read_excel(filename,sheet_name='IDN_TFEC_Fuel_BAS',skiprows=18)[:7]\\ndf_tfec.rename(columns={'Fuel':'fuel'},inplace=True)\\ndf_tfec = df_tfec[df_tfec['fuel'] == 'Electricity']\\ndf_tfec = df_tfec.melt(id_vars='fuel',value_vars=list(range(2005,2023)),var_name='Year')\""
      ]
     },
     "execution_count": 174,
     "metadata": {},
     "output_type": "execute_result"
    }
   ],
   "source": [
    "#Electricity After Grid\n",
    "'''df_tfec = pd.read_excel(filename,sheet_name='IDN_TFEC_Fuel_BAS',skiprows=18)[:7]\n",
    "df_tfec.rename(columns={'Fuel':'fuel'},inplace=True)\n",
    "df_tfec = df_tfec[df_tfec['fuel'] == 'Electricity']\n",
    "df_tfec = df_tfec.melt(id_vars='fuel',value_vars=list(range(2005,2023)),var_name='Year')'''"
   ]
  },
  {
   "cell_type": "code",
   "execution_count": 175,
   "metadata": {},
   "outputs": [
    {
     "data": {
      "text/plain": [
       "\"base_activity = {\\n    'node_loc':country,\\n    'year_act':[2022],\\n    'mode':'standard',\\n    'time':'year',\\n    'unit':'GWa',\\n}\\n\\nfor act,tec in zip(ppl_commodities,ppl_tec):\\n\\n    d_his = df_gen[df_gen['Year'] == 2022]\\n    d_his = list((d_his[d_his['fuel'] == act]['value']*conv_twh_gwa))\\n\\n    df = make_df(\\n        base_activity,\\n        technology = tec,\\n        value = d_his\\n    )\\n\\n    scenario.add_par('bound_activity_lo',df)\""
      ]
     },
     "execution_count": 175,
     "metadata": {},
     "output_type": "execute_result"
    }
   ],
   "source": [
    "'''base_activity = {\n",
    "    'node_loc':country,\n",
    "    'year_act':[2022],\n",
    "    'mode':'standard',\n",
    "    'time':'year',\n",
    "    'unit':'GWa',\n",
    "}\n",
    "\n",
    "for act,tec in zip(ppl_commodities,ppl_tec):\n",
    "\n",
    "    d_his = df_gen[df_gen['Year'] == 2022]\n",
    "    d_his = list((d_his[d_his['fuel'] == act]['value']*conv_twh_gwa))\n",
    "\n",
    "    df = make_df(\n",
    "        base_activity,\n",
    "        technology = tec,\n",
    "        value = d_his\n",
    "    )\n",
    "\n",
    "    scenario.add_par('bound_activity_lo',df)'''"
   ]
  },
  {
   "cell_type": "markdown",
   "metadata": {},
   "source": [
    "## Objective Function"
   ]
  },
  {
   "cell_type": "code",
   "execution_count": 176,
   "metadata": {},
   "outputs": [],
   "source": [
    "scenario.add_par(\"interestrate\", model_horizon, value=0.07, unit=\"-\")"
   ]
  },
  {
   "cell_type": "markdown",
   "metadata": {},
   "source": [
    "# Commit and Solve the Model"
   ]
  },
  {
   "cell_type": "code",
   "execution_count": 177,
   "metadata": {},
   "outputs": [],
   "source": [
    "comment = \"initial commit for Indonesia model\"\n",
    "scenario.commit(comment)\n",
    "scenario.set_as_default()"
   ]
  },
  {
   "cell_type": "code",
   "execution_count": 178,
   "metadata": {},
   "outputs": [
    {
     "ename": "ModelError",
     "evalue": "GAMS errored with return code 3:\n    There was an execution error\n\nFor details, see the terminal output above, plus:\nListing   : c:\\Users\\M Ilham Rizaldi\\anaconda3\\envs\\message-env\\lib\\site-packages\\message_ix\\model\\MESSAGE_run.lst\nLog file  : c:\\Users\\M Ilham Rizaldi\\anaconda3\\envs\\message-env\\lib\\site-packages\\message_ix\\model\\MESSAGE_run.log\nInput data: c:\\Users\\M Ilham Rizaldi\\anaconda3\\envs\\message-env\\lib\\site-packages\\message_ix\\model\\data\\MsgData_Indonesia_Prototype_baseline.gdx",
     "output_type": "error",
     "traceback": [
      "\u001b[1;31m---------------------------------------------------------------------------\u001b[0m",
      "\u001b[1;31mModelError\u001b[0m                                Traceback (most recent call last)",
      "Cell \u001b[1;32mIn[178], line 1\u001b[0m\n\u001b[1;32m----> 1\u001b[0m \u001b[43mscenario\u001b[49m\u001b[38;5;241;43m.\u001b[39;49m\u001b[43msolve\u001b[49m\u001b[43m(\u001b[49m\u001b[43m)\u001b[49m\n",
      "File \u001b[1;32mc:\\Users\\M Ilham Rizaldi\\anaconda3\\envs\\message-env\\lib\\site-packages\\message_ix\\core.py:712\u001b[0m, in \u001b[0;36mScenario.solve\u001b[1;34m(self, model, solve_options, **kwargs)\u001b[0m\n\u001b[0;32m    693\u001b[0m \u001b[38;5;28;01mdef\u001b[39;00m\u001b[38;5;250m \u001b[39m\u001b[38;5;21msolve\u001b[39m(\u001b[38;5;28mself\u001b[39m, model\u001b[38;5;241m=\u001b[39m\u001b[38;5;124m\"\u001b[39m\u001b[38;5;124mMESSAGE\u001b[39m\u001b[38;5;124m\"\u001b[39m, solve_options\u001b[38;5;241m=\u001b[39m{}, \u001b[38;5;241m*\u001b[39m\u001b[38;5;241m*\u001b[39mkwargs):\n\u001b[0;32m    694\u001b[0m \u001b[38;5;250m    \u001b[39m\u001b[38;5;124;03m\"\"\"Solve MESSAGE or MESSAGE-MACRO for the Scenario.\u001b[39;00m\n\u001b[0;32m    695\u001b[0m \n\u001b[0;32m    696\u001b[0m \u001b[38;5;124;03m    By default, :meth:`ixmp.Scenario.solve` is called with 'MESSAGE' as the\u001b[39;00m\n\u001b[1;32m   (...)\u001b[0m\n\u001b[0;32m    710\u001b[0m \u001b[38;5;124;03m        :class:`.MESSAGE_MACRO` class and :class:`.GAMSModel`.\u001b[39;00m\n\u001b[0;32m    711\u001b[0m \u001b[38;5;124;03m    \"\"\"\u001b[39;00m\n\u001b[1;32m--> 712\u001b[0m     \u001b[38;5;28msuper\u001b[39m()\u001b[38;5;241m.\u001b[39msolve(model\u001b[38;5;241m=\u001b[39mmodel, solve_options\u001b[38;5;241m=\u001b[39msolve_options, \u001b[38;5;241m*\u001b[39m\u001b[38;5;241m*\u001b[39mkwargs)\n",
      "File \u001b[1;32mc:\\Users\\M Ilham Rizaldi\\anaconda3\\envs\\message-env\\lib\\site-packages\\ixmp\\core\\scenario.py:890\u001b[0m, in \u001b[0;36mScenario.solve\u001b[1;34m(self, model, callback, cb_kwargs, **model_options)\u001b[0m\n\u001b[0;32m    888\u001b[0m \u001b[38;5;66;03m# Iterate until convergence\u001b[39;00m\n\u001b[0;32m    889\u001b[0m \u001b[38;5;28;01mwhile\u001b[39;00m \u001b[38;5;28;01mTrue\u001b[39;00m:\n\u001b[1;32m--> 890\u001b[0m     \u001b[43mmodel_obj\u001b[49m\u001b[38;5;241;43m.\u001b[39;49m\u001b[43mrun\u001b[49m\u001b[43m(\u001b[49m\u001b[38;5;28;43mself\u001b[39;49m\u001b[43m)\u001b[49m\n\u001b[0;32m    892\u001b[0m     \u001b[38;5;66;03m# Store an iteration number to help the callback\u001b[39;00m\n\u001b[0;32m    893\u001b[0m     \u001b[38;5;28;01mif\u001b[39;00m \u001b[38;5;129;01mnot\u001b[39;00m \u001b[38;5;28mhasattr\u001b[39m(\u001b[38;5;28mself\u001b[39m, \u001b[38;5;124m\"\u001b[39m\u001b[38;5;124miteration\u001b[39m\u001b[38;5;124m\"\u001b[39m):\n",
      "File \u001b[1;32mc:\\Users\\M Ilham Rizaldi\\anaconda3\\envs\\message-env\\lib\\site-packages\\message_ix\\models.py:220\u001b[0m, in \u001b[0;36mGAMSModel.run\u001b[1;34m(self, scenario)\u001b[0m\n\u001b[0;32m    217\u001b[0m lines2 \u001b[38;5;241m=\u001b[39m (\u001b[38;5;124m\"\u001b[39m\u001b[38;5;132;01m{}\u001b[39;00m\u001b[38;5;124m = \u001b[39m\u001b[38;5;132;01m{}\u001b[39;00m\u001b[38;5;124m\"\u001b[39m\u001b[38;5;241m.\u001b[39mformat(\u001b[38;5;241m*\u001b[39mkv) \u001b[38;5;28;01mfor\u001b[39;00m kv \u001b[38;5;129;01min\u001b[39;00m \u001b[38;5;28mself\u001b[39m\u001b[38;5;241m.\u001b[39mcplex_opts\u001b[38;5;241m.\u001b[39mitems())\n\u001b[0;32m    218\u001b[0m optfile2\u001b[38;5;241m.\u001b[39mwrite_text(\u001b[38;5;124m\"\u001b[39m\u001b[38;5;130;01m\\n\u001b[39;00m\u001b[38;5;124m\"\u001b[39m\u001b[38;5;241m.\u001b[39mjoin(lines2))\n\u001b[1;32m--> 220\u001b[0m result \u001b[38;5;241m=\u001b[39m \u001b[38;5;28;43msuper\u001b[39;49m\u001b[43m(\u001b[49m\u001b[43m)\u001b[49m\u001b[38;5;241;43m.\u001b[39;49m\u001b[43mrun\u001b[49m\u001b[43m(\u001b[49m\u001b[43mscenario\u001b[49m\u001b[43m)\u001b[49m\n\u001b[0;32m    222\u001b[0m \u001b[38;5;66;03m# In previous versions, the `cplex.opt` file(s) were removed at this point\u001b[39;00m\n\u001b[0;32m    223\u001b[0m \u001b[38;5;66;03m# in the workflow. This has been removed due to issues when running\u001b[39;00m\n\u001b[0;32m    224\u001b[0m \u001b[38;5;66;03m# scenarios asynchronously.\u001b[39;00m\n\u001b[0;32m    226\u001b[0m \u001b[38;5;28;01mreturn\u001b[39;00m result\n",
      "File \u001b[1;32mc:\\Users\\M Ilham Rizaldi\\anaconda3\\envs\\message-env\\lib\\site-packages\\ixmp\\model\\gams.py:397\u001b[0m, in \u001b[0;36mGAMSModel.run\u001b[1;34m(self, scenario)\u001b[0m\n\u001b[0;32m    385\u001b[0m     scenario\u001b[38;5;241m.\u001b[39mplatform\u001b[38;5;241m.\u001b[39m_backend\u001b[38;5;241m.\u001b[39mread_file(\n\u001b[0;32m    386\u001b[0m         \u001b[38;5;28mself\u001b[39m\u001b[38;5;241m.\u001b[39mout_file,\n\u001b[0;32m    387\u001b[0m         ItemType\u001b[38;5;241m.\u001b[39mMODEL,\n\u001b[1;32m   (...)\u001b[0m\n\u001b[0;32m    392\u001b[0m         var_list\u001b[38;5;241m=\u001b[39mas_str_list(\u001b[38;5;28mself\u001b[39m\u001b[38;5;241m.\u001b[39mvar_list) \u001b[38;5;129;01mor\u001b[39;00m [],\n\u001b[0;32m    393\u001b[0m     )\n\u001b[0;32m    394\u001b[0m \u001b[38;5;28;01mexcept\u001b[39;00m (CalledProcessError, \u001b[38;5;167;01mRuntimeError\u001b[39;00m) \u001b[38;5;28;01mas\u001b[39;00m exc:\n\u001b[0;32m    395\u001b[0m     \u001b[38;5;66;03m# CalledProcessError from run(); RuntimeError from read_file()\u001b[39;00m\n\u001b[0;32m    396\u001b[0m     \u001b[38;5;66;03m# Do not remove self.temp_dir; the user may want to inspect the GDX file\u001b[39;00m\n\u001b[1;32m--> 397\u001b[0m     \u001b[38;5;28;01mraise\u001b[39;00m \u001b[38;5;28mself\u001b[39m\u001b[38;5;241m.\u001b[39mformat_exception(\n\u001b[0;32m    398\u001b[0m         exc, model_file, scenario\u001b[38;5;241m.\u001b[39mplatform\u001b[38;5;241m.\u001b[39m_backend\u001b[38;5;241m.\u001b[39m\u001b[38;5;18m__class__\u001b[39m\n\u001b[0;32m    399\u001b[0m     ) \u001b[38;5;28;01mfrom\u001b[39;00m\u001b[38;5;250m \u001b[39m\u001b[38;5;28;01mNone\u001b[39;00m\n\u001b[0;32m    401\u001b[0m \u001b[38;5;66;03m# Finished: remove the temporary directory, if any\u001b[39;00m\n\u001b[0;32m    402\u001b[0m \u001b[38;5;28mself\u001b[39m\u001b[38;5;241m.\u001b[39mremove_temp_dir()\n",
      "\u001b[1;31mModelError\u001b[0m: GAMS errored with return code 3:\n    There was an execution error\n\nFor details, see the terminal output above, plus:\nListing   : c:\\Users\\M Ilham Rizaldi\\anaconda3\\envs\\message-env\\lib\\site-packages\\message_ix\\model\\MESSAGE_run.lst\nLog file  : c:\\Users\\M Ilham Rizaldi\\anaconda3\\envs\\message-env\\lib\\site-packages\\message_ix\\model\\MESSAGE_run.log\nInput data: c:\\Users\\M Ilham Rizaldi\\anaconda3\\envs\\message-env\\lib\\site-packages\\message_ix\\model\\data\\MsgData_Indonesia_Prototype_baseline.gdx"
     ]
    }
   ],
   "source": [
    "scenario.solve()"
   ]
  },
  {
   "cell_type": "code",
   "execution_count": 179,
   "metadata": {},
   "outputs": [
    {
     "data": {
      "text/plain": [
       "nan"
      ]
     },
     "execution_count": 179,
     "metadata": {},
     "output_type": "execute_result"
    }
   ],
   "source": [
    "scenario.var(\"OBJ\")[\"lvl\"]\n"
   ]
  },
  {
   "cell_type": "markdown",
   "metadata": {},
   "source": [
    "# Plotting Result"
   ]
  },
  {
   "cell_type": "code",
   "execution_count": 180,
   "metadata": {},
   "outputs": [],
   "source": [
    "%matplotlib inline\n"
   ]
  },
  {
   "cell_type": "code",
   "execution_count": 181,
   "metadata": {},
   "outputs": [
    {
     "name": "stderr",
     "output_type": "stream",
     "text": [
      "Scenario \"Indonesia Prototype/baseline\" has no solution\n",
      "Some reporting may not function as expected\n"
     ]
    }
   ],
   "source": [
    "from message_ix.report import Reporter\n",
    "from message_ix.util.tutorial import prepare_plots\n",
    "\n",
    "# Create a Reporter object to describe and carry out reporting\n",
    "# calculations and operations (like plotting) based on `scenario`\n",
    "rep = Reporter.from_scenario(scenario)\n",
    "\n",
    "# \"prepare_plots\" enables several to describe reporting operations, e.g.\n",
    "# \"plot activity\", \"plot capacity\", or \"plot prices\"\n",
    "# See message_ix/util/tutorial.py for more information\n",
    "prepare_plots(rep)"
   ]
  },
  {
   "cell_type": "code",
   "execution_count": 182,
   "metadata": {},
   "outputs": [
    {
     "name": "stderr",
     "output_type": "stream",
     "text": [
      "Insert length-1 dimension for {\"ya\": []}\n"
     ]
    },
    {
     "ename": "ComputationError",
     "evalue": "computing 'plot activity' using:\n\n(functools.partial(<function stacked_bar at 0x000001964A2FEEE0>, dims=('nl', 't', 'ya'), units='GWa', title='Energy System Activity', cf=1.0, stacked=True), 'out:nl-t-ya')\n\nUse Computer.describe(...) to trace the computation.\n\nComputation traceback:\n  File \"c:\\Users\\M Ilham Rizaldi\\anaconda3\\envs\\message-env\\lib\\site-packages\\message_ix\\report\\operator.py\", line 198, in stacked_bar\n    title=f\"{df.loc[0, dims[0]]} {title}\",\n  File \"c:\\Users\\M Ilham Rizaldi\\anaconda3\\envs\\message-env\\lib\\site-packages\\pandas\\core\\indexing.py\", line 1183, in __getitem__\n    return self.obj._get_value(*key, takeable=self._takeable)\n  File \"c:\\Users\\M Ilham Rizaldi\\anaconda3\\envs\\message-env\\lib\\site-packages\\pandas\\core\\frame.py\", line 4221, in _get_value\n    row = self.index.get_loc(index)\n  File \"c:\\Users\\M Ilham Rizaldi\\anaconda3\\envs\\message-env\\lib\\site-packages\\pandas\\core\\indexes\\range.py\", line 415, in get_loc\n    raise KeyError(key) from err\nKeyError: 0\n",
     "output_type": "error",
     "traceback": [
      "\u001b[1;31m---------------------------------------------------------------------------\u001b[0m",
      "\u001b[1;31mComputationError\u001b[0m                          Traceback (most recent call last)",
      "Cell \u001b[1;32mIn[182], line 2\u001b[0m\n\u001b[0;32m      1\u001b[0m rep\u001b[38;5;241m.\u001b[39mset_filters(t\u001b[38;5;241m=\u001b[39mppl_tec, ya\u001b[38;5;241m=\u001b[39mmodel_horizon)\n\u001b[1;32m----> 2\u001b[0m \u001b[43mrep\u001b[49m\u001b[38;5;241;43m.\u001b[39;49m\u001b[43mget\u001b[49m\u001b[43m(\u001b[49m\u001b[38;5;124;43m\"\u001b[39;49m\u001b[38;5;124;43mplot activity\u001b[39;49m\u001b[38;5;124;43m\"\u001b[39;49m\u001b[43m)\u001b[49m\n",
      "File \u001b[1;32mc:\\Users\\M Ilham Rizaldi\\anaconda3\\envs\\message-env\\lib\\site-packages\\genno\\core\\computer.py:691\u001b[0m, in \u001b[0;36mComputer.get\u001b[1;34m(self, key)\u001b[0m\n\u001b[0;32m    689\u001b[0m     result \u001b[38;5;241m=\u001b[39m dask\u001b[38;5;241m.\u001b[39mget(dsk, \u001b[38;5;28mstr\u001b[39m(key))\n\u001b[0;32m    690\u001b[0m \u001b[38;5;28;01mexcept\u001b[39;00m \u001b[38;5;167;01mException\u001b[39;00m \u001b[38;5;28;01mas\u001b[39;00m exc:\n\u001b[1;32m--> 691\u001b[0m     \u001b[38;5;28;01mraise\u001b[39;00m ComputationError(exc) \u001b[38;5;28;01mfrom\u001b[39;00m\u001b[38;5;250m \u001b[39m\u001b[38;5;28;01mNone\u001b[39;00m\n\u001b[0;32m    692\u001b[0m \u001b[38;5;28;01melse\u001b[39;00m:\n\u001b[0;32m    693\u001b[0m     \u001b[38;5;28;01mreturn\u001b[39;00m result\n",
      "\u001b[1;31mComputationError\u001b[0m: computing 'plot activity' using:\n\n(functools.partial(<function stacked_bar at 0x000001964A2FEEE0>, dims=('nl', 't', 'ya'), units='GWa', title='Energy System Activity', cf=1.0, stacked=True), 'out:nl-t-ya')\n\nUse Computer.describe(...) to trace the computation.\n\nComputation traceback:\n  File \"c:\\Users\\M Ilham Rizaldi\\anaconda3\\envs\\message-env\\lib\\site-packages\\message_ix\\report\\operator.py\", line 198, in stacked_bar\n    title=f\"{df.loc[0, dims[0]]} {title}\",\n  File \"c:\\Users\\M Ilham Rizaldi\\anaconda3\\envs\\message-env\\lib\\site-packages\\pandas\\core\\indexing.py\", line 1183, in __getitem__\n    return self.obj._get_value(*key, takeable=self._takeable)\n  File \"c:\\Users\\M Ilham Rizaldi\\anaconda3\\envs\\message-env\\lib\\site-packages\\pandas\\core\\frame.py\", line 4221, in _get_value\n    row = self.index.get_loc(index)\n  File \"c:\\Users\\M Ilham Rizaldi\\anaconda3\\envs\\message-env\\lib\\site-packages\\pandas\\core\\indexes\\range.py\", line 415, in get_loc\n    raise KeyError(key) from err\nKeyError: 0\n"
     ]
    }
   ],
   "source": [
    "rep.set_filters(t=ppl_tec, ya=model_horizon)\n",
    "rep.get(\"plot activity\")\n",
    "\n"
   ]
  },
  {
   "cell_type": "code",
   "execution_count": null,
   "metadata": {},
   "outputs": [
    {
     "data": {
      "text/plain": [
       "<Axes: title={'center': 'IDN Energy System Capacity'}, xlabel='Year', ylabel='GW'>"
      ]
     },
     "execution_count": 122,
     "metadata": {},
     "output_type": "execute_result"
    },
    {
     "data": {
      "image/png": "[encoded data removed]",
      "text/plain": [
       "<Figure size 640x480 with 1 Axes>"
      ]
     },
     "metadata": {},
     "output_type": "display_data"
    }
   ],
   "source": [
    "rep.get('plot capacity')"
   ]
  },
  {
   "cell_type": "code",
   "execution_count": 183,
   "metadata": {},
   "outputs": [
    {
     "data": {
      "text/plain": [
       "<Axes: title={'center': 'IDN Fossil Supply'}, xlabel='Resource volume [GWa]', ylabel='Cost [USD / KWa]'>"
      ]
     },
     "execution_count": 183,
     "metadata": {},
     "output_type": "execute_result"
    },
    {
     "data": {
      "image/png": "[encoded data removed]",
      "text/plain": [
       "<Figure size 640x480 with 1 Axes>"
      ]
     },
     "metadata": {},
     "output_type": "display_data"
    }
   ],
   "source": [
    "rep.set_filters()\n",
    "rep.get(\"plot fossil supply curve\")\n"
   ]
  },
  {
   "cell_type": "code",
   "execution_count": 184,
   "metadata": {},
   "outputs": [
    {
     "name": "stderr",
     "output_type": "stream",
     "text": [
      "Insert length-1 dimension for {\"y\": []}\n"
     ]
    },
    {
     "ename": "ComputationError",
     "evalue": "computing 'plot extraction' using:\n\n(functools.partial(<function stacked_bar at 0x000001964A2FEEE0>, dims=('n', 'c', 'g', 'y'), units='GW', title='Energy System Extraction', cf=1.0, stacked=True), 'EXT:n-c-g-y')\n\nUse Computer.describe(...) to trace the computation.\n\nComputation traceback:\n  File \"c:\\Users\\M Ilham Rizaldi\\anaconda3\\envs\\message-env\\lib\\site-packages\\message_ix\\report\\operator.py\", line 198, in stacked_bar\n    title=f\"{df.loc[0, dims[0]]} {title}\",\n  File \"c:\\Users\\M Ilham Rizaldi\\anaconda3\\envs\\message-env\\lib\\site-packages\\pandas\\core\\indexing.py\", line 1184, in __getitem__\n    return self._getitem_tuple(key)\n  File \"c:\\Users\\M Ilham Rizaldi\\anaconda3\\envs\\message-env\\lib\\site-packages\\pandas\\core\\indexing.py\", line 1368, in _getitem_tuple\n    return self._getitem_lowerdim(tup)\n  File \"c:\\Users\\M Ilham Rizaldi\\anaconda3\\envs\\message-env\\lib\\site-packages\\pandas\\core\\indexing.py\", line 1065, in _getitem_lowerdim\n    section = self._getitem_axis(key, axis=i)\n  File \"c:\\Users\\M Ilham Rizaldi\\anaconda3\\envs\\message-env\\lib\\site-packages\\pandas\\core\\indexing.py\", line 1431, in _getitem_axis\n    return self._get_label(key, axis=axis)\n  File \"c:\\Users\\M Ilham Rizaldi\\anaconda3\\envs\\message-env\\lib\\site-packages\\pandas\\core\\indexing.py\", line 1381, in _get_label\n    return self.obj.xs(label, axis=axis)\n  File \"c:\\Users\\M Ilham Rizaldi\\anaconda3\\envs\\message-env\\lib\\site-packages\\pandas\\core\\generic.py\", line 4301, in xs\n    loc = index.get_loc(key)\n  File \"c:\\Users\\M Ilham Rizaldi\\anaconda3\\envs\\message-env\\lib\\site-packages\\pandas\\core\\indexes\\range.py\", line 415, in get_loc\n    raise KeyError(key) from err\nKeyError: 0\n",
     "output_type": "error",
     "traceback": [
      "\u001b[1;31m---------------------------------------------------------------------------\u001b[0m",
      "\u001b[1;31mComputationError\u001b[0m                          Traceback (most recent call last)",
      "Cell \u001b[1;32mIn[184], line 2\u001b[0m\n\u001b[0;32m      1\u001b[0m rep\u001b[38;5;241m.\u001b[39mset_filters()\n\u001b[1;32m----> 2\u001b[0m \u001b[43mrep\u001b[49m\u001b[38;5;241;43m.\u001b[39;49m\u001b[43mget\u001b[49m\u001b[43m(\u001b[49m\u001b[38;5;124;43m\"\u001b[39;49m\u001b[38;5;124;43mplot extraction\u001b[39;49m\u001b[38;5;124;43m\"\u001b[39;49m\u001b[43m)\u001b[49m\n",
      "File \u001b[1;32mc:\\Users\\M Ilham Rizaldi\\anaconda3\\envs\\message-env\\lib\\site-packages\\genno\\core\\computer.py:691\u001b[0m, in \u001b[0;36mComputer.get\u001b[1;34m(self, key)\u001b[0m\n\u001b[0;32m    689\u001b[0m     result \u001b[38;5;241m=\u001b[39m dask\u001b[38;5;241m.\u001b[39mget(dsk, \u001b[38;5;28mstr\u001b[39m(key))\n\u001b[0;32m    690\u001b[0m \u001b[38;5;28;01mexcept\u001b[39;00m \u001b[38;5;167;01mException\u001b[39;00m \u001b[38;5;28;01mas\u001b[39;00m exc:\n\u001b[1;32m--> 691\u001b[0m     \u001b[38;5;28;01mraise\u001b[39;00m ComputationError(exc) \u001b[38;5;28;01mfrom\u001b[39;00m\u001b[38;5;250m \u001b[39m\u001b[38;5;28;01mNone\u001b[39;00m\n\u001b[0;32m    692\u001b[0m \u001b[38;5;28;01melse\u001b[39;00m:\n\u001b[0;32m    693\u001b[0m     \u001b[38;5;28;01mreturn\u001b[39;00m result\n",
      "\u001b[1;31mComputationError\u001b[0m: computing 'plot extraction' using:\n\n(functools.partial(<function stacked_bar at 0x000001964A2FEEE0>, dims=('n', 'c', 'g', 'y'), units='GW', title='Energy System Extraction', cf=1.0, stacked=True), 'EXT:n-c-g-y')\n\nUse Computer.describe(...) to trace the computation.\n\nComputation traceback:\n  File \"c:\\Users\\M Ilham Rizaldi\\anaconda3\\envs\\message-env\\lib\\site-packages\\message_ix\\report\\operator.py\", line 198, in stacked_bar\n    title=f\"{df.loc[0, dims[0]]} {title}\",\n  File \"c:\\Users\\M Ilham Rizaldi\\anaconda3\\envs\\message-env\\lib\\site-packages\\pandas\\core\\indexing.py\", line 1184, in __getitem__\n    return self._getitem_tuple(key)\n  File \"c:\\Users\\M Ilham Rizaldi\\anaconda3\\envs\\message-env\\lib\\site-packages\\pandas\\core\\indexing.py\", line 1368, in _getitem_tuple\n    return self._getitem_lowerdim(tup)\n  File \"c:\\Users\\M Ilham Rizaldi\\anaconda3\\envs\\message-env\\lib\\site-packages\\pandas\\core\\indexing.py\", line 1065, in _getitem_lowerdim\n    section = self._getitem_axis(key, axis=i)\n  File \"c:\\Users\\M Ilham Rizaldi\\anaconda3\\envs\\message-env\\lib\\site-packages\\pandas\\core\\indexing.py\", line 1431, in _getitem_axis\n    return self._get_label(key, axis=axis)\n  File \"c:\\Users\\M Ilham Rizaldi\\anaconda3\\envs\\message-env\\lib\\site-packages\\pandas\\core\\indexing.py\", line 1381, in _get_label\n    return self.obj.xs(label, axis=axis)\n  File \"c:\\Users\\M Ilham Rizaldi\\anaconda3\\envs\\message-env\\lib\\site-packages\\pandas\\core\\generic.py\", line 4301, in xs\n    loc = index.get_loc(key)\n  File \"c:\\Users\\M Ilham Rizaldi\\anaconda3\\envs\\message-env\\lib\\site-packages\\pandas\\core\\indexes\\range.py\", line 415, in get_loc\n    raise KeyError(key) from err\nKeyError: 0\n"
     ]
    }
   ],
   "source": [
    "rep.set_filters()\n",
    "rep.get(\"plot extraction\")\n"
   ]
  },
  {
   "cell_type": "code",
   "execution_count": 185,
   "metadata": {},
   "outputs": [
    {
     "data": {
      "text/plain": [
       "<Axes: title={'center': 'IDN Energy System Demand'}, xlabel='Year', ylabel='GWa'>"
      ]
     },
     "execution_count": 185,
     "metadata": {},
     "output_type": "execute_result"
    },
    {
     "data": {
      "image/png": "[encoded data removed]",
      "text/plain": [
       "<Figure size 640x480 with 1 Axes>"
      ]
     },
     "metadata": {},
     "output_type": "display_data"
    }
   ],
   "source": [
    "rep.get('plot demand')"
   ]
  },
  {
   "cell_type": "code",
   "execution_count": 186,
   "metadata": {},
   "outputs": [
    {
     "ename": "ValueError",
     "evalue": "This Scenario does not have a solution!",
     "output_type": "error",
     "traceback": [
      "\u001b[1;31m---------------------------------------------------------------------------\u001b[0m",
      "\u001b[1;31mValueError\u001b[0m                                Traceback (most recent call last)",
      "Cell \u001b[1;32mIn[186], line 1\u001b[0m\n\u001b[1;32m----> 1\u001b[0m \u001b[43mscenario\u001b[49m\u001b[38;5;241;43m.\u001b[39;49m\u001b[43mremove_solution\u001b[49m\u001b[43m(\u001b[49m\u001b[43m)\u001b[49m\n",
      "File \u001b[1;32mc:\\Users\\M Ilham Rizaldi\\anaconda3\\envs\\message-env\\lib\\site-packages\\ixmp\\core\\scenario.py:812\u001b[0m, in \u001b[0;36mScenario.remove_solution\u001b[1;34m(self, first_model_year)\u001b[0m\n\u001b[0;32m    810\u001b[0m     \u001b[38;5;28mself\u001b[39m\u001b[38;5;241m.\u001b[39m_backend(\u001b[38;5;124m\"\u001b[39m\u001b[38;5;124mclear_solution\u001b[39m\u001b[38;5;124m\"\u001b[39m, first_model_year)\n\u001b[0;32m    811\u001b[0m \u001b[38;5;28;01melse\u001b[39;00m:\n\u001b[1;32m--> 812\u001b[0m     \u001b[38;5;28;01mraise\u001b[39;00m \u001b[38;5;167;01mValueError\u001b[39;00m(\u001b[38;5;124m\"\u001b[39m\u001b[38;5;124mThis Scenario does not have a solution!\u001b[39m\u001b[38;5;124m\"\u001b[39m)\n",
      "\u001b[1;31mValueError\u001b[0m: This Scenario does not have a solution!"
     ]
    }
   ],
   "source": [
    "scenario.remove_solution()"
   ]
  },
  {
   "cell_type": "code",
   "execution_count": 187,
   "metadata": {},
   "outputs": [],
   "source": [
    "scenario.check_out()"
   ]
  },
  {
   "cell_type": "code",
   "execution_count": 188,
   "metadata": {},
   "outputs": [],
   "source": [
    "mp.close_db()"
   ]
  },
  {
   "cell_type": "code",
   "execution_count": null,
   "metadata": {},
   "outputs": [],
   "source": []
  }
 ],
 "metadata": {
  "kernelspec": {
   "display_name": "message-env",
   "language": "python",
   "name": "python3"
  },
  "language_info": {
   "codemirror_mode": {
    "name": "ipython",
    "version": 3
   },
   "file_extension": ".py",
   "mimetype": "text/x-python",
   "name": "python",
   "nbconvert_exporter": "python",
   "pygments_lexer": "ipython3",
   "version": "3.9.21"
  }
 },
 "nbformat": 4,
 "nbformat_minor": 2
}
