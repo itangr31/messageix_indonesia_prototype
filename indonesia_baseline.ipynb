{
 "cells": [
  {
   "cell_type": "markdown",
   "metadata": {},
   "source": [
    "# Model Initiation"
   ]
  },
  {
   "cell_type": "code",
   "execution_count": 55,
   "metadata": {},
   "outputs": [],
   "source": [
    "#Libary\n",
    "import pandas as pd\n",
    "import os"
   ]
  },
  {
   "cell_type": "code",
   "execution_count": 56,
   "metadata": {},
   "outputs": [],
   "source": [
    "import ixmp\n",
    "\n",
    "mp = ixmp.Platform()"
   ]
  },
  {
   "cell_type": "code",
   "execution_count": 57,
   "metadata": {},
   "outputs": [],
   "source": [
    "#convert mtoe to GW\n",
    "conv_mtoe_gwa = 11.63*1000/8760"
   ]
  },
  {
   "cell_type": "code",
   "execution_count": 58,
   "metadata": {},
   "outputs": [],
   "source": [
    "import message_ix\n",
    "\n",
    "scenario = message_ix.Scenario(\n",
    "    mp, model='Indonesia Prototype', scenario='baseline', version='new'\n",
    ")"
   ]
  },
  {
   "cell_type": "markdown",
   "metadata": {},
   "source": [
    "# Model Structure"
   ]
  },
  {
   "cell_type": "markdown",
   "metadata": {},
   "source": [
    "<img src='Messageix Indonesia Structure.drawio.png' width='1000'>"
   ]
  },
  {
   "cell_type": "code",
   "execution_count": 59,
   "metadata": {},
   "outputs": [],
   "source": [
    "historical_horizon = list(range(2005,2023,1))\n",
    "model_horizon = list(range(2023,2051,1))\n",
    "\n",
    "scenario.add_horizon(year=historical_horizon+model_horizon, firstmodelyear=2023)\n"
   ]
  },
  {
   "cell_type": "code",
   "execution_count": 60,
   "metadata": {},
   "outputs": [],
   "source": [
    "country='IDN'\n",
    "scenario.add_spatial_sets({'country':country})"
   ]
  },
  {
   "cell_type": "code",
   "execution_count": 61,
   "metadata": {},
   "outputs": [],
   "source": [
    "demand_com = [\n",
    "    'industry_el',\n",
    "    'transport_el',\n",
    "    'commercial_el',\n",
    "    'residential_el'\n",
    "]\n",
    "\n",
    "commodities = [\n",
    "    'coal',\n",
    "    'electricity'\n",
    "]\n",
    "\n",
    "all_com = demand_com + commodities"
   ]
  },
  {
   "cell_type": "code",
   "execution_count": 62,
   "metadata": {},
   "outputs": [],
   "source": [
    "\n",
    "ppl_tec = [\n",
    "    'coal_ppl'\n",
    "]\n",
    "\n",
    "t_d_tec = [\n",
    "    'electricity_grid'\n",
    "           ]\n",
    "\n",
    "demand_tec = [\n",
    "    'industry_el_tec',\n",
    "    'transport_el_tec',\n",
    "    'commercial_el_tec',\n",
    "    'residential_el_tec'\n",
    "]\n",
    "\n",
    "all_tec =  ppl_tec + t_d_tec + demand_tec"
   ]
  },
  {
   "cell_type": "code",
   "execution_count": 63,
   "metadata": {},
   "outputs": [],
   "source": [
    "scenario.add_set('commodity',all_com)\n",
    "scenario.add_set('level',['primary','secondary','final','useful'])\n",
    "scenario.add_set('technology',all_tec)\n",
    "scenario.add_set('mode','standard')\n",
    "scenario.add_set('level_resource','primary')\n",
    "scenario.add_set('grade','a')"
   ]
  },
  {
   "cell_type": "markdown",
   "metadata": {},
   "source": [
    "## Demand Parameter"
   ]
  },
  {
   "cell_type": "code",
   "execution_count": 64,
   "metadata": {},
   "outputs": [],
   "source": [
    "path = os.getcwd()\n",
    "path = os.path.dirname(path)\n",
    "filename = 'COPY Indonesia AEO8 Data.xlsx'\n",
    "filename = os.path.join(path,filename)\n",
    "\n",
    "sectors = ['Industry','Transport','Commercial','Residential']\n",
    "sector_models = ['industry_el','transport_el','commercial_el','residential_el']"
   ]
  },
  {
   "cell_type": "code",
   "execution_count": 65,
   "metadata": {},
   "outputs": [],
   "source": [
    "\n",
    "for sector,sector_model in zip(sectors,sector_models):\n",
    "\n",
    "    df = pd.read_excel(filename,sheet_name=f'IDN_{sector}_BAS',skiprows=6)\n",
    "    index = df[df['Fuel'] == 'Total'].index[0] #get index of the targeted sliced rows\n",
    "    df = df.loc[:index-1]\n",
    "    df = df.melt(id_vars='Fuel', value_vars=list(range(2005,2051,1)),var_name='Year')\n",
    "    df = df[(df['Fuel'] == 'Electricity') & (df['Year']>2022)]\n",
    "    df.value = df.value*conv_mtoe_gwa\n",
    "    values = df.value.tolist()\n",
    "\n",
    "    df_demand = pd.DataFrame(\n",
    "        {\n",
    "            'node':country,\n",
    "            'commodity':f'{sector_model}',\n",
    "            'level':'useful',\n",
    "            'year': model_horizon,\n",
    "            'time':'year',\n",
    "            'value':values,\n",
    "            'unit':'GWa'\n",
    "        }\n",
    "    )\n",
    "\n",
    "    scenario.add_par('demand',df_demand)\n",
    "    "
   ]
  },
  {
   "cell_type": "code",
   "execution_count": null,
   "metadata": {},
   "outputs": [],
   "source": [
    "'''\n",
    "electricity_d = [\n",
    "    21.00799087, 21.65068493, 22.32191781, 23.03310502, 23.10844749, 23.16552511, \n",
    "    23.34589041, 23.46232877, 23.7956621, 24.1826484, 24.54680365, 24.89155251, \n",
    "    25.28652968, 25.64611872, 26.15068493, 26.65410959, 27.21461187, 27.71803653, \n",
    "    28.32762557, 28.94406393, 29.51712329, 30.16324201, 30.80022831, 31.4303653, \n",
    "    32.12442922, 32.77739726, 33.42694064, 34.06849315\n",
    "]#converted to GWa\n",
    "\n",
    "model_horizon = list(range(2023,2051,1))\n",
    "\n",
    "\n",
    "\n",
    "electricity_demand = pd.DataFrame(\n",
    "    {\n",
    "        'node':country,\n",
    "        'commodity':'electricity',\n",
    "        'level':'final',\n",
    "        'year': model_horizon,\n",
    "        'time':'year',\n",
    "        'value':electricity_d,\n",
    "        'unit':'GWa'\n",
    "    }\n",
    ")\n",
    "\n",
    "electricity_demand['value'] = electricity_demand['value'].round(decimals=2)\n",
    "'''\n"
   ]
  },
  {
   "cell_type": "code",
   "execution_count": 65,
   "metadata": {},
   "outputs": [
    {
     "data": {
      "text/plain": [
       "\"scenario.add_par('demand',electricity_demand)\""
      ]
     },
     "execution_count": 65,
     "metadata": {},
     "output_type": "execute_result"
    }
   ],
   "source": [
    "'''scenario.add_par('demand',electricity_demand)'''"
   ]
  },
  {
   "cell_type": "markdown",
   "metadata": {},
   "source": [
    "## Engineering Parameters"
   ]
  },
  {
   "cell_type": "code",
   "execution_count": 66,
   "metadata": {},
   "outputs": [],
   "source": [
    "year_df = scenario.vintage_and_active_years()\n",
    "vintage_years,act_years = year_df[\"year_vtg\"],year_df[\"year_act\"]"
   ]
  },
  {
   "cell_type": "code",
   "execution_count": 67,
   "metadata": {},
   "outputs": [],
   "source": [
    "base_coal_input = {\n",
    "    \"node_loc\":country,\n",
    "    \"year_vtg\":vintage_years,\n",
    "    \"year_act\":act_years,\n",
    "    \"mode\":\"standard\",\n",
    "    \"node_origin\":country,\n",
    "    \"commodity\":\"coal\",\n",
    "    \"time\":\"year\",\n",
    "    \"time_origin\":\"year\"\n",
    "}\n",
    "\n",
    "coal_ppl = pd.DataFrame(\n",
    "    dict(\n",
    "        technology='coal_ppl',\n",
    "        level='primary',\n",
    "        value=1,\n",
    "        unit='-',\n",
    "        **base_coal_input,\n",
    "    )\n",
    ")\n",
    "\n",
    "scenario.add_par(\"input\",coal_ppl)\n",
    "\n"
   ]
  },
  {
   "cell_type": "code",
   "execution_count": 68,
   "metadata": {},
   "outputs": [],
   "source": [
    "from message_ix import make_df\n",
    "\n",
    "#Electricity Input\n",
    "base_electr_input = {\n",
    "    \"node_loc\":country,\n",
    "    \"year_vtg\":vintage_years,\n",
    "    \"year_act\":act_years,\n",
    "    \"mode\":\"standard\",\n",
    "    \"node_origin\":country,\n",
    "    \"commodity\":\"electricity\",\n",
    "    \"time\":\"year\",\n",
    "    \"time_origin\":\"year\"\n",
    "}\n",
    "\n",
    "electr_grid = make_df(\n",
    "    base_electr_input,\n",
    "    technology='electricity_grid',\n",
    "    level='secondary',\n",
    "    value=1,\n",
    "    unit='-',\n",
    ")\n",
    "\n",
    "scenario.add_par(\"input\",electr_grid)\n",
    "\n",
    "for tec in demand_tec:\n",
    "    electr_in = make_df(\n",
    "        base_electr_input,\n",
    "        technology = f'{tec}',\n",
    "        level = 'final',\n",
    "        value=1,\n",
    "        unit ='-'\n",
    "    )\n",
    "    scenario.add_par('input',electr_in)\n",
    "    \n",
    "\n"
   ]
  },
  {
   "cell_type": "code",
   "execution_count": 70,
   "metadata": {},
   "outputs": [],
   "source": [
    "coal_ppl_eff = 0.34 #Data from EBT\n",
    "electr_grid_eff = 1\n",
    "\n",
    "\n",
    "#Output\n",
    "base_output = {\n",
    "'node_loc':country,\n",
    "'year_vtg':vintage_years,\n",
    "'year_act':act_years,\n",
    "'mode':'standard',\n",
    "'node_dest':country,\n",
    "'time':'year',\n",
    "'time_dest':'year',   \n",
    "}\n",
    "\n",
    "\n",
    "\n",
    "#coal_ppl\n",
    "coal_ppl = make_df(\n",
    "    base_output,\n",
    "    technology ='coal_ppl',\n",
    "    commodity ='electricity',\n",
    "    level = 'secondary',\n",
    "    value = coal_ppl_eff, \n",
    "    unit = '-'\n",
    "    \n",
    ")\n",
    "\n",
    "\n",
    "#electricity grid\n",
    "electr_grid = make_df(\n",
    "    base_output,\n",
    "    technology ='electricity_grid',\n",
    "    commodity ='electricity',\n",
    "    level = 'final',\n",
    "    value = electr_grid_eff, \n",
    "    unit = '-'\n",
    ")\n",
    "\n",
    "scenario.add_par(\"output\",coal_ppl)\n",
    "scenario.add_par(\"output\",electr_grid)\n",
    "\n",
    "for tec,com in zip(demand_tec,demand_com):\n",
    "    electr_out = make_df(\n",
    "        base_output,\n",
    "        technology = f'{tec}',\n",
    "        commodity = f'{com}',\n",
    "        level = 'useful',\n",
    "        value=1,\n",
    "        unit ='-'\n",
    "    )\n",
    "    scenario.add_par('output',electr_out)"
   ]
  },
  {
   "cell_type": "code",
   "execution_count": 72,
   "metadata": {},
   "outputs": [],
   "source": [
    "#Technical Lifetime (data from tutorial)\n",
    "\n",
    "technical_lifetime = make_df(\"technical_lifetime\",\n",
    "    node_loc = country,\n",
    "    year_vtg = vintage_years,\n",
    "    unit = 'y',\n",
    "    technology = 'coal_ppl',\n",
    "    value = 40,\n",
    ")\n",
    "\n",
    "scenario.add_par('technical_lifetime',technical_lifetime)"
   ]
  },
  {
   "cell_type": "code",
   "execution_count": 73,
   "metadata": {},
   "outputs": [],
   "source": [
    "#Capacity Factor (data from tutorial)\n",
    "coal_ppl_cf = 0.8\n",
    "\n",
    "capacity_factor = make_df(\n",
    "   'capacity_factor',\n",
    "    node_loc = country,\n",
    "    year_vtg = vintage_years,\n",
    "    year_act = act_years,\n",
    "    time = 'year',\n",
    "    unit = '-',\n",
    "    technology = 'coal_ppl',\n",
    "    value = coal_ppl_cf\n",
    ")\n",
    "\n",
    "scenario.add_par('capacity_factor',capacity_factor)"
   ]
  },
  {
   "cell_type": "markdown",
   "metadata": {},
   "source": [
    "## Technoeconomic Parameters"
   ]
  },
  {
   "cell_type": "code",
   "execution_count": 74,
   "metadata": {},
   "outputs": [],
   "source": [
    "#Resource parameters\n",
    "\n",
    "potentials = {'a':[133575,10,638.85]} #based on RUKN (potential) and HEESI 2022 (last historical extraction), cost based on tutorial\n",
    "\n",
    "df = pd.DataFrame(\n",
    "    {\n",
    "        'node': [country],\n",
    "        'commodity':'coal',\n",
    "        'grade':'a',\n",
    "        'value':potentials['a'][0]\n",
    "    }\n",
    ")\n",
    "scenario.add_par('resource_volume',df)\n",
    "\n",
    "mp.add_unit('USD/KWa')\n",
    "df = make_df(\n",
    "    'resource_cost',\n",
    "    node = country,\n",
    "    commodity='coal',\n",
    "    grade='a',\n",
    "    year = model_horizon,\n",
    "    value=potentials['a'][1],\n",
    "    unit='USD/KWa'\n",
    ")\n",
    "\n",
    "scenario.add_par('resource_cost',df)\n",
    "\n",
    "df = pd.DataFrame(\n",
    "    {\n",
    "        'node': country,\n",
    "        'commodity':'coal',\n",
    "        'grade':'a',\n",
    "        'year':[2022],\n",
    "        'value':potentials['a'][2],\n",
    "        'unit':'GWa'\n",
    "    }\n",
    ")\n",
    "scenario.add_par('historical_extraction',df)\n",
    "\n",
    "\n",
    "\n"
   ]
  },
  {
   "cell_type": "code",
   "execution_count": 75,
   "metadata": {},
   "outputs": [],
   "source": [
    "#inv_cost (data from tutorial)\n",
    "\n",
    "inv_cost = make_df(\n",
    "    \"inv_cost\",\n",
    "    node_loc = country,\n",
    "    year_vtg = vintage_years,\n",
    "    unit = 'USD/kW',\n",
    "    technology = 'coal_ppl',\n",
    "    value=1500,\n",
    ")\n",
    "\n",
    "mp.add_unit('USD/kW')\n",
    "\n",
    "scenario.add_par('inv_cost',inv_cost)"
   ]
  },
  {
   "cell_type": "code",
   "execution_count": 76,
   "metadata": {},
   "outputs": [],
   "source": [
    "#fix_cost (data from tutorial)\n",
    "\n",
    "fix_cost = make_df(\n",
    "    \"fix_cost\",\n",
    "    node_loc = country,\n",
    "    year_vtg = vintage_years,\n",
    "    year_act = act_years,\n",
    "    unit = 'USD/kWa',\n",
    "    technology = 'coal_ppl',\n",
    "    value=40,\n",
    ")\n",
    "\n",
    "mp.add_unit('USD/kWa')\n",
    "\n",
    "scenario.add_par('fix_cost',fix_cost)"
   ]
  },
  {
   "cell_type": "code",
   "execution_count": 77,
   "metadata": {},
   "outputs": [],
   "source": [
    "#var_cost (data from tutorial)\n",
    "\n",
    "var_cost = make_df(\n",
    "    \"var_cost\",\n",
    "    node_loc = country,\n",
    "    year_vtg = vintage_years,\n",
    "    year_act = act_years,\n",
    "    unit = 'USD/kWa',\n",
    "    mode='standard',\n",
    "    time='year',\n",
    "    technology = 'coal_ppl',\n",
    "    value=213.744\n",
    ")\n",
    "\n",
    "scenario.add_par('var_cost',var_cost)"
   ]
  },
  {
   "cell_type": "markdown",
   "metadata": {},
   "source": [
    "## Calibration Parameter"
   ]
  },
  {
   "cell_type": "code",
   "execution_count": 79,
   "metadata": {},
   "outputs": [],
   "source": [
    "#2005-2022 data converted to GWa\n",
    "coal_el_d_his = [\n",
    "    6.947945205, 7.774315068, 8.478196347, 8.296803653, 8.653424658, \n",
    "    8.720547945, 10.13869863, 12.52591324, 13.49303653, 14.43949772, \n",
    "    15.6163242, 16.17271689, 17.42773973, 18.2663242, 19.91929224, \n",
    "    20.64714612, 21.6847032, 23.4369863\n",
    "]\n",
    "\n"
   ]
  },
  {
   "cell_type": "code",
   "execution_count": 80,
   "metadata": {},
   "outputs": [],
   "source": [
    "elec_tec = ['coal_ppl','electricity_grid']\n",
    "\n",
    "for tec in elec_tec:\n",
    "    df = make_df(\n",
    "        'historical_activity',\n",
    "        node_loc=country,\n",
    "        year_act=historical_horizon,\n",
    "        mode='standard',\n",
    "        time='year',\n",
    "        unit='GWa',\n",
    "        technology = tec,\n",
    "        value = coal_el_d_his\n",
    "    )\n",
    "\n",
    "    scenario.add_par('historical_activity',df)\n",
    "    scenario.add_par(\"bound_activity_up\", df)\n",
    "    scenario.add_par(\"bound_activity_lo\", df)"
   ]
  },
  {
   "cell_type": "code",
   "execution_count": 81,
   "metadata": {},
   "outputs": [],
   "source": [
    "ace_coal_cap_his = [\n",
    "    9.75, 11.17, 12.01, 12.29, 12.59, 12.98, 16.36, 18.28, 22.34, \n",
    "    23.64, 25.76, 27.14, 26.81, 31.59, 34.74, 36.67, 37.04, 46.04]\n",
    "\n",
    "df = make_df(\n",
    "    'historical_new_capacity',\n",
    "    node_loc = country,\n",
    "    year_vtg = historical_horizon,\n",
    "    unit = 'GW',\n",
    "    technology = 'coal_ppl',\n",
    "    value=ace_coal_cap_his\n",
    ")\n",
    "\n",
    "scenario.add_par('historical_new_capacity',df)"
   ]
  },
  {
   "cell_type": "markdown",
   "metadata": {},
   "source": [
    "## Objective Function"
   ]
  },
  {
   "cell_type": "code",
   "execution_count": 82,
   "metadata": {},
   "outputs": [],
   "source": [
    "scenario.add_par(\"interestrate\", model_horizon, value=0.07, unit=\"-\")"
   ]
  },
  {
   "cell_type": "markdown",
   "metadata": {},
   "source": [
    "# Commit and Solve the Model"
   ]
  },
  {
   "cell_type": "code",
   "execution_count": 83,
   "metadata": {},
   "outputs": [],
   "source": [
    "comment = \"initial commit for Indonesia model\"\n",
    "scenario.commit(comment)\n",
    "scenario.set_as_default()"
   ]
  },
  {
   "cell_type": "code",
   "execution_count": 84,
   "metadata": {},
   "outputs": [],
   "source": [
    "scenario.solve()"
   ]
  },
  {
   "cell_type": "code",
   "execution_count": 85,
   "metadata": {},
   "outputs": [
    {
     "data": {
      "text/plain": [
       "481242.21875"
      ]
     },
     "execution_count": 85,
     "metadata": {},
     "output_type": "execute_result"
    }
   ],
   "source": [
    "scenario.var(\"OBJ\")[\"lvl\"]\n"
   ]
  },
  {
   "cell_type": "markdown",
   "metadata": {},
   "source": [
    "# Plotting Result"
   ]
  },
  {
   "cell_type": "code",
   "execution_count": 86,
   "metadata": {},
   "outputs": [],
   "source": [
    "%matplotlib inline\n"
   ]
  },
  {
   "cell_type": "code",
   "execution_count": 87,
   "metadata": {},
   "outputs": [
    {
     "data": {
      "application/javascript": "if (typeof IPython !== 'undefined') { IPython.OutputArea.prototype._should_scroll = function(lines){ return false; }}",
      "text/plain": [
       "<IPython.core.display.Javascript object>"
      ]
     },
     "metadata": {},
     "output_type": "display_data"
    }
   ],
   "source": [
    "from message_ix.report import Reporter\n",
    "from message_ix.util.tutorial import prepare_plots\n",
    "\n",
    "# Create a Reporter object to describe and carry out reporting\n",
    "# calculations and operations (like plotting) based on `scenario`\n",
    "rep = Reporter.from_scenario(scenario)\n",
    "\n",
    "# \"prepare_plots\" enables several to describe reporting operations, e.g.\n",
    "# \"plot activity\", \"plot capacity\", or \"plot prices\"\n",
    "# See message_ix/util/tutorial.py for more information\n",
    "prepare_plots(rep)"
   ]
  },
  {
   "cell_type": "code",
   "execution_count": 93,
   "metadata": {},
   "outputs": [
    {
     "data": {
      "text/plain": [
       "<Axes: title={'center': 'IDN Energy System Activity'}, xlabel='Year', ylabel='GWa'>"
      ]
     },
     "execution_count": 93,
     "metadata": {},
     "output_type": "execute_result"
    },
    {
     "data": {
      "image/png": "[encoded data removed]",
      "text/plain": [
       "<Figure size 640x480 with 1 Axes>"
      ]
     },
     "metadata": {},
     "output_type": "display_data"
    }
   ],
   "source": [
    "rep.set_filters(t=[\"electricity_grid\"], ya=model_horizon)\n",
    "rep.get(\"plot activity\")\n",
    "\n"
   ]
  },
  {
   "cell_type": "code",
   "execution_count": 89,
   "metadata": {},
   "outputs": [
    {
     "data": {
      "text/plain": [
       "<Axes: title={'center': 'IDN Energy System Capacity'}, xlabel='Year', ylabel='GW'>"
      ]
     },
     "execution_count": 89,
     "metadata": {},
     "output_type": "execute_result"
    },
    {
     "data": {
      "image/png": "[encoded data removed]",
      "text/plain": [
       "<Figure size 640x480 with 1 Axes>"
      ]
     },
     "metadata": {},
     "output_type": "display_data"
    }
   ],
   "source": [
    "rep.get('plot capacity')"
   ]
  },
  {
   "cell_type": "code",
   "execution_count": 94,
   "metadata": {},
   "outputs": [],
   "source": [
    "mp.close_db()"
   ]
  },
  {
   "cell_type": "code",
   "execution_count": null,
   "metadata": {},
   "outputs": [],
   "source": []
  }
 ],
 "metadata": {
  "kernelspec": {
   "display_name": "message-env",
   "language": "python",
   "name": "python3"
  },
  "language_info": {
   "codemirror_mode": {
    "name": "ipython",
    "version": 3
   },
   "file_extension": ".py",
   "mimetype": "text/x-python",
   "name": "python",
   "nbconvert_exporter": "python",
   "pygments_lexer": "ipython3",
   "version": "3.9.21"
  }
 },
 "nbformat": 4,
 "nbformat_minor": 2
}
