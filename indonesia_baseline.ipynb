{
 "cells": [
  {
   "cell_type": "markdown",
   "metadata": {},
   "source": [
    "# Model Initiation"
   ]
  },
  {
   "cell_type": "code",
   "execution_count": 1,
   "metadata": {},
   "outputs": [],
   "source": [
    "#Libary\n",
    "import pandas as pd"
   ]
  },
  {
   "cell_type": "code",
   "execution_count": 3,
   "metadata": {},
   "outputs": [
    {
     "name": "stdout",
     "output_type": "stream",
     "text": [
      "2025-02-17 09:16:02,305  INFO at.ac.iiasa.ixmp.Platform:165 - Welcome to the IX modeling platform!\n",
      "2025-02-17 09:16:02,306  INFO at.ac.iiasa.ixmp.Platform:166 -  connected to database 'jdbc:hsqldb:file:/Users/ilhamrizaldi/.local/share/ixmp/localdb/default' (user: ixmp)...\n"
     ]
    }
   ],
   "source": [
    "import ixmp\n",
    "\n",
    "mp = ixmp.Platform()"
   ]
  },
  {
   "cell_type": "code",
   "execution_count": 4,
   "metadata": {},
   "outputs": [],
   "source": [
    "import message_ix\n",
    "\n",
    "scenario = message_ix.Scenario(\n",
    "    mp, model='Indonesia Prototype', scenario='baseline', version='new'\n",
    ")"
   ]
  },
  {
   "cell_type": "markdown",
   "metadata": {},
   "source": [
    "# Model Structure"
   ]
  },
  {
   "cell_type": "markdown",
   "metadata": {},
   "source": [
    "<img src='Coal Messageix Structure.drawio.png' width='1000'>"
   ]
  },
  {
   "cell_type": "code",
   "execution_count": 5,
   "metadata": {},
   "outputs": [],
   "source": [
    "horizon = list(range(2005,2051,1))\n",
    "scenario.add_horizon(year=horizon, firstmodelyear=2023)\n"
   ]
  },
  {
   "cell_type": "code",
   "execution_count": 6,
   "metadata": {},
   "outputs": [],
   "source": [
    "country='Indonesia'\n",
    "scenario.add_spatial_sets({'country':country})"
   ]
  },
  {
   "cell_type": "code",
   "execution_count": 7,
   "metadata": {},
   "outputs": [],
   "source": [
    "scenario.add_set('commodity',['coal','electricity'])\n",
    "scenario.add_set('level',['primary','secondary','final'])\n",
    "scenario.add_set('technology',['coal_bal','coal_ppl','coal_t_d','electricity_grid'])\n",
    "scenario.add_set('mode','standard')"
   ]
  },
  {
   "cell_type": "markdown",
   "metadata": {},
   "source": [
    "## Demand Parameter"
   ]
  },
  {
   "cell_type": "code",
   "execution_count": 8,
   "metadata": {},
   "outputs": [],
   "source": [
    "coal_d = [\n",
    "    57.18083, 60.03523, 63.04894, 66.23524, 69.58086, 73.11234, 76.81642, 79.94961, \n",
    "    83.16247, 86.46825, 89.86697, 93.34535, 96.92994, 100.60747, 104.37792, 108.22804, \n",
    "    112.18436, 116.23362, 120.36253, 124.58438, 128.88589, 133.26705, 137.72788, 142.2418, \n",
    "    146.80884, 151.4157, 156.08894, 160.80201\n",
    "]#converted to GWa\n",
    "\n",
    "electricity_d = [\n",
    "    21.00799087, 21.65068493, 22.32191781, 23.03310502, 23.10844749, 23.16552511, \n",
    "    23.34589041, 23.46232877, 23.7956621, 24.1826484, 24.54680365, 24.89155251, \n",
    "    25.28652968, 25.64611872, 26.15068493, 26.65410959, 27.21461187, 27.71803653, \n",
    "    28.32762557, 28.94406393, 29.51712329, 30.16324201, 30.80022831, 31.4303653, \n",
    "    32.12442922, 32.77739726, 33.42694064, 34.06849315\n",
    "]#converted to GWa\n",
    "\n",
    "model_horizon = list(range(2023,2051,1))\n",
    "\n",
    "coal_demand = pd.DataFrame(\n",
    "    {\n",
    "        'node':country,\n",
    "        'commodity':'coal',\n",
    "        'level':'final',\n",
    "        'year': model_horizon,\n",
    "        'time':'year',\n",
    "        'value':coal_d,\n",
    "        'unit':'GWa'\n",
    "    }\n",
    ")\n",
    "coal_demand['value'] = coal_demand['value'].round(decimals=2)\n",
    "\n",
    "electricity_demand = pd.DataFrame(\n",
    "    {\n",
    "        'node':country,\n",
    "        'commodity':'electricity',\n",
    "        'level':'final',\n",
    "        'year': model_horizon,\n",
    "        'time':'year',\n",
    "        'value':electricity_d,\n",
    "        'unit':'GWa'\n",
    "    }\n",
    ")\n",
    "\n",
    "electricity_demand['value'] = electricity_demand['value'].round(decimals=2)\n",
    "\n"
   ]
  },
  {
   "cell_type": "code",
   "execution_count": 9,
   "metadata": {},
   "outputs": [],
   "source": [
    "scenario.add_par('demand',coal_demand)\n",
    "scenario.add_par('demand',electricity_demand)"
   ]
  },
  {
   "cell_type": "markdown",
   "metadata": {},
   "source": [
    "## Engineering Parameters"
   ]
  },
  {
   "cell_type": "code",
   "execution_count": 10,
   "metadata": {},
   "outputs": [],
   "source": [
    "year_df = scenario.vintage_and_active_years()\n",
    "vintage_years,act_years = year_df[\"year_vtg\"],year_df[\"year_act\"]"
   ]
  },
  {
   "cell_type": "code",
   "execution_count": 11,
   "metadata": {},
   "outputs": [],
   "source": [
    "#Coal Input\n",
    "\n",
    "base_coal_input = {\n",
    "    \"node_loc\":country,\n",
    "    \"year_vtg\":vintage_years,\n",
    "    \"year_act\":act_years,\n",
    "    \"mode\":\"standard\",\n",
    "    \"node_origin\":country,\n",
    "    \"commodity\":\"coal\",\n",
    "    \"time\":\"year\",\n",
    "    \"time_origin\":\"year\"\n",
    "}\n",
    "\n",
    "coal_bal = pd.DataFrame(\n",
    "    dict(\n",
    "        technology='coal_bal',\n",
    "        level='primary',\n",
    "        value = 1,\n",
    "        unit=\"-\",\n",
    "        **base_coal_input,\n",
    "    )\n",
    ")\n",
    "\n",
    "coal_t_d =pd.DataFrame(\n",
    "    dict(\n",
    "        technology='coal_t_d',\n",
    "        level='secondary',\n",
    "        value=1,\n",
    "        unit=\"-\",\n",
    "        **base_coal_input,\n",
    "    )\n",
    ")\n",
    "\n",
    "coal_ppl = pd.DataFrame(\n",
    "    dict(\n",
    "        technology='coal_ppl',\n",
    "        level='primary',\n",
    "        value=1,\n",
    "        unit='-',\n",
    "        **base_coal_input,\n",
    "    )\n",
    ")\n",
    "\n",
    "scenario.add_par(\"input\",coal_bal)\n",
    "scenario.add_par(\"input\",coal_t_d)\n",
    "scenario.add_par(\"input\",coal_ppl)\n",
    "\n"
   ]
  },
  {
   "cell_type": "code",
   "execution_count": 12,
   "metadata": {},
   "outputs": [],
   "source": [
    "from message_ix import make_df\n",
    "\n",
    "#Electricity Input\n",
    "base_electr_input = {\n",
    "    \"node_loc\":country,\n",
    "    \"year_vtg\":vintage_years,\n",
    "    \"year_act\":act_years,\n",
    "    \"mode\":\"standard\",\n",
    "    \"node_origin\":country,\n",
    "    \"commodity\":\"electricity\",\n",
    "    \"time\":\"year\",\n",
    "    \"time_origin\":\"year\"\n",
    "}\n",
    "\n",
    "electr_grid = make_df(\n",
    "    base_electr_input,\n",
    "    technology='electricity_grid',\n",
    "    level='secondary',\n",
    "    value=1,\n",
    "    unit='-',\n",
    ")\n",
    "\n",
    "scenario.add_par(\"input\",electr_grid)\n",
    "\n"
   ]
  },
  {
   "cell_type": "code",
   "execution_count": 14,
   "metadata": {},
   "outputs": [],
   "source": [
    "#Output\n",
    "base_output = {\n",
    "'node_loc':country,\n",
    "'year_vtg':vintage_years,\n",
    "'year_act':act_years,\n",
    "'mode':'standard',\n",
    "'node_dest':country,\n",
    "'time':'year',\n",
    "'time_dest':'year',   \n",
    "}\n",
    "\n",
    "#coal_bal\n",
    "coal_bal = make_df(\n",
    "    base_output,\n",
    "    technology ='coal_bal',\n",
    "    commodity ='coal',\n",
    "    level = 'secondary',\n",
    "    value = 0.9, #Assumption to be changed (10% losses)\n",
    "    unit = '-'\n",
    "    \n",
    ")\n",
    "\n",
    "#coal_ppl\n",
    "coal_ppl = make_df(\n",
    "    base_output,\n",
    "    technology ='coal_ppl',\n",
    "    commodity ='electricity',\n",
    "    level = 'secondary',\n",
    "    value = 0.3, #Assumption to be changed\n",
    "    unit = '-'\n",
    "    \n",
    ")\n",
    "\n",
    "#coal_t_d\n",
    "coal_t_d = make_df(\n",
    "    base_output,\n",
    "    technology = 'coal_t_d',\n",
    "    commodity = 'coal',\n",
    "    level='final',\n",
    "    value=0.9, #Assumption to be changed\n",
    "    unit = '-'\n",
    ")\n",
    "\n",
    "#electricity grid\n",
    "electr_grid = make_df(\n",
    "    base_output,\n",
    "    technology ='electricity_grid',\n",
    "    commodity ='electricity',\n",
    "    level = 'final',\n",
    "    value = 0.9, #Assumption to be changed\n",
    "    unit = '-'\n",
    ")\n",
    "\n",
    "scenario.add_par(\"output\",coal_bal)\n",
    "scenario.add_par(\"output\",coal_ppl)\n",
    "scenario.add_par(\"output\",coal_t_d)\n",
    "scenario.add_par(\"output\",electr_grid)\n",
    "\n"
   ]
  },
  {
   "cell_type": "code",
   "execution_count": null,
   "metadata": {},
   "outputs": [],
   "source": [
    "#Technical Lifetime (data from tutorial)\n",
    "\n",
    "technical_lifetime = make_df(\"technical_lifetime\",\n",
    "    node_loc = country,\n",
    "    year_vtg = vintage_years,\n",
    "    unit = 'y',\n",
    "    technology = 'coal_ppl',\n",
    "    value = 40,\n",
    ")\n",
    "\n",
    "scenario.add_par('technical_lifetime',technical_lifetime)"
   ]
  },
  {
   "cell_type": "code",
   "execution_count": null,
   "metadata": {},
   "outputs": [],
   "source": [
    "#Capacity Factor (data from tutorial)\n",
    "\n",
    "capacity_factor = make_df(\n",
    "   'capacity_factor',\n",
    "    node_loc = country,\n",
    "    year_vtg = vintage_years,\n",
    "    year_act = act_years,\n",
    "    time = 'year',\n",
    "    unit = '-',\n",
    "    technology = 'coal_ppl',\n",
    "    value = 0.85\n",
    ")\n",
    "\n",
    "scenario.add_par('capacity_factor',capacity_factor)"
   ]
  },
  {
   "cell_type": "markdown",
   "metadata": {},
   "source": [
    "## Technoeconomic Parameters"
   ]
  },
  {
   "cell_type": "code",
   "execution_count": 22,
   "metadata": {},
   "outputs": [],
   "source": [
    "#inv_cost (data from tutorial)\n",
    "\n",
    "inv_cost = make_df(\n",
    "    \"inv_cost\",\n",
    "    node_loc = country,\n",
    "    year_vtg = vintage_years,\n",
    "    unit = 'USD/kW',\n",
    "    technology = 'coal_ppl',\n",
    "    value=1500,\n",
    ")\n",
    "\n",
    "mp.add_unit('USD/kW')\n",
    "\n",
    "scenario.add_par('inv_cost',inv_cost)"
   ]
  },
  {
   "cell_type": "code",
   "execution_count": 23,
   "metadata": {},
   "outputs": [],
   "source": [
    "#fix_cost (data from tutorial)\n",
    "\n",
    "fix_cost = make_df(\n",
    "    \"fix_cost\",\n",
    "    node_loc = country,\n",
    "    year_vtg = vintage_years,\n",
    "    year_act = act_years,\n",
    "    unit = 'USD/kWa',\n",
    "    technology = 'coal_ppl',\n",
    "    value=40,\n",
    ")\n",
    "\n",
    "mp.add_unit('USD/kWa')\n",
    "\n",
    "scenario.add_par('fix_cost',fix_cost)"
   ]
  },
  {
   "cell_type": "code",
   "execution_count": 26,
   "metadata": {},
   "outputs": [],
   "source": [
    "#var_cost (data from tutorial)\n",
    "\n",
    "var_cost = make_df(\n",
    "    \"var_cost\",\n",
    "    node_loc = country,\n",
    "    year_vtg = vintage_years,\n",
    "    year_act = act_years,\n",
    "    unit = 'USD/kWa',\n",
    "    mode='standard',\n",
    "    time='year',\n",
    "    technology = 'coal_ppl',\n",
    "    value=213.744\n",
    ")\n",
    "\n",
    "scenario.add_par('var_cost',var_cost)"
   ]
  },
  {
   "cell_type": "code",
   "execution_count": null,
   "metadata": {},
   "outputs": [],
   "source": []
  },
  {
   "cell_type": "code",
   "execution_count": 45,
   "metadata": {},
   "outputs": [],
   "source": [
    "mp.close_db()"
   ]
  },
  {
   "cell_type": "code",
   "execution_count": null,
   "metadata": {},
   "outputs": [],
   "source": []
  }
 ],
 "metadata": {
  "kernelspec": {
   "display_name": "message_env",
   "language": "python",
   "name": "python3"
  },
  "language_info": {
   "codemirror_mode": {
    "name": "ipython",
    "version": 3
   },
   "file_extension": ".py",
   "mimetype": "text/x-python",
   "name": "python",
   "nbconvert_exporter": "python",
   "pygments_lexer": "ipython3",
   "version": "3.12.2"
  }
 },
 "nbformat": 4,
 "nbformat_minor": 2
}
