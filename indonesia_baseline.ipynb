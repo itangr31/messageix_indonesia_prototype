{
 "cells": [
  {
   "cell_type": "markdown",
   "metadata": {},
   "source": [
    "# Model Initiation"
   ]
  },
  {
   "cell_type": "code",
   "execution_count": 47,
   "metadata": {},
   "outputs": [],
   "source": [
    "#Libary\n",
    "import pandas as pd\n",
    "import os"
   ]
  },
  {
   "cell_type": "code",
   "execution_count": 48,
   "metadata": {},
   "outputs": [],
   "source": [
    "import ixmp\n",
    "\n",
    "mp = ixmp.Platform()"
   ]
  },
  {
   "cell_type": "code",
   "execution_count": 49,
   "metadata": {},
   "outputs": [],
   "source": [
    "#convert mtoe to GW\n",
    "conv_mtoe_gwa = 11.63*1000/8760\n",
    "conv_twh_gwa = 1000/8760"
   ]
  },
  {
   "cell_type": "code",
   "execution_count": 50,
   "metadata": {},
   "outputs": [],
   "source": [
    "import message_ix\n",
    "\n",
    "scenario = message_ix.Scenario(\n",
    "    mp, model='Indonesia Prototype', scenario='baseline', version='new'\n",
    ")"
   ]
  },
  {
   "cell_type": "markdown",
   "metadata": {},
   "source": [
    "# Model Structure"
   ]
  },
  {
   "cell_type": "markdown",
   "metadata": {},
   "source": [
    "<img src='Messageix Indonesia Structure.drawio.png' width='1000'>"
   ]
  },
  {
   "cell_type": "code",
   "execution_count": 51,
   "metadata": {},
   "outputs": [],
   "source": [
    "historical_horizon = list(range(2005,2023,1))\n",
    "model_horizon = list(range(2023,2051,1))\n",
    "\n",
    "scenario.add_horizon(year=historical_horizon+model_horizon, firstmodelyear=2023)\n"
   ]
  },
  {
   "cell_type": "code",
   "execution_count": 52,
   "metadata": {},
   "outputs": [],
   "source": [
    "country='IDN'\n",
    "scenario.add_spatial_sets({'country':country})"
   ]
  },
  {
   "cell_type": "code",
   "execution_count": 53,
   "metadata": {},
   "outputs": [],
   "source": [
    "demand_com = [\n",
    "    'industry_el',\n",
    "    'transport_el',\n",
    "    'commercial_el',\n",
    "    'residential_el'\n",
    "]\n",
    "\n",
    "commodities = [\n",
    "    'coal',\n",
    "    'electricity',\n",
    "    'gas',\n",
    "    'oil'\n",
    "]\n",
    "\n",
    "all_com = demand_com + commodities"
   ]
  },
  {
   "cell_type": "code",
   "execution_count": 54,
   "metadata": {},
   "outputs": [],
   "source": [
    "\n",
    "ppl_tec = [\n",
    "    'coal_ppl',\n",
    "    'gas_ppl',\n",
    "    'oil_ppl',\n",
    "    'hydro_ppl',\n",
    "    'solar_ppl',\n",
    "    'wind_ppl',\n",
    "    'geo_ppl',\n",
    "    'bio_ppl',\n",
    "    'nuclear_ppl'\n",
    "]\n",
    "\n",
    "t_d_tec = [\n",
    "    'electricity_grid'\n",
    "           ]\n",
    "\n",
    "demand_tec = [\n",
    "    'industry_el_tec',\n",
    "    'transport_el_tec',\n",
    "    'commercial_el_tec',\n",
    "    'residential_el_tec'\n",
    "]\n",
    "\n",
    "all_tec =  ppl_tec + t_d_tec + demand_tec"
   ]
  },
  {
   "cell_type": "code",
   "execution_count": 55,
   "metadata": {},
   "outputs": [],
   "source": [
    "scenario.add_set('commodity',all_com)\n",
    "scenario.add_set('level',['primary','secondary','final','useful'])\n",
    "scenario.add_set('technology',all_tec)\n",
    "scenario.add_set('mode','standard')\n",
    "scenario.add_set('level_resource','primary')\n",
    "scenario.add_set('grade',['a_coal','a_gas','a_oil'])"
   ]
  },
  {
   "cell_type": "markdown",
   "metadata": {},
   "source": [
    "## Demand Parameter"
   ]
  },
  {
   "cell_type": "code",
   "execution_count": 56,
   "metadata": {},
   "outputs": [],
   "source": [
    "path = os.getcwd()\n",
    "path = os.path.dirname(path)\n",
    "filename = 'COPY Indonesia AEO8 Data.xlsx'\n",
    "filename = os.path.join(path,filename)\n",
    "\n",
    "sectors = ['Industry','Transport','Commercial','Residential']\n",
    "sector_models = ['industry_el','transport_el','commercial_el','residential_el']"
   ]
  },
  {
   "cell_type": "code",
   "execution_count": 57,
   "metadata": {},
   "outputs": [],
   "source": [
    "\n",
    "for sector,sector_model in zip(sectors,sector_models):\n",
    "\n",
    "    df = pd.read_excel(filename,sheet_name=f'IDN_{sector}_BAS',skiprows=6)\n",
    "    index = df[df['Fuel'] == 'Total'].index[0] #get index of the targeted sliced rows\n",
    "    df = df.loc[:index-1]\n",
    "    df = df.melt(id_vars='Fuel', value_vars=list(range(2005,2051,1)),var_name='Year')\n",
    "    df = df[(df['Fuel'] == 'Electricity') & (df['Year']>2022)]\n",
    "    df.value = df.value*conv_mtoe_gwa\n",
    "    values = df.value.tolist()\n",
    "\n",
    "    df_demand = pd.DataFrame(\n",
    "        {\n",
    "            'node':country,\n",
    "            'commodity':f'{sector_model}',\n",
    "            'level':'useful',\n",
    "            'year': model_horizon,\n",
    "            'time':'year',\n",
    "            'value':values,\n",
    "            'unit':'GWa'\n",
    "        }\n",
    "    )\n",
    "\n",
    "    scenario.add_par('demand',df_demand)\n",
    "    "
   ]
  },
  {
   "cell_type": "markdown",
   "metadata": {},
   "source": [
    "## Engineering Parameters"
   ]
  },
  {
   "cell_type": "code",
   "execution_count": 58,
   "metadata": {},
   "outputs": [],
   "source": [
    "year_df = scenario.vintage_and_active_years()\n",
    "vintage_years,act_years = year_df[\"year_vtg\"],year_df[\"year_act\"]"
   ]
  },
  {
   "cell_type": "code",
   "execution_count": 59,
   "metadata": {},
   "outputs": [
    {
     "data": {
      "text/plain": [
       "'scenario.add_par(\"input\",bio_ppl)\\nscenario.add_par(\"input\",nuclear_ppl)'"
      ]
     },
     "execution_count": 59,
     "metadata": {},
     "output_type": "execute_result"
    }
   ],
   "source": [
    "#Coal Input\n",
    "base_coal_input = {\n",
    "    \"node_loc\":country,\n",
    "    \"year_vtg\":vintage_years,\n",
    "    \"year_act\":act_years,\n",
    "    \"mode\":\"standard\",\n",
    "    \"node_origin\":country,\n",
    "    \"commodity\":\"coal\",\n",
    "    \"time\":\"year\",\n",
    "    \"time_origin\":\"year\"\n",
    "}\n",
    "\n",
    "coal_ppl = pd.DataFrame(\n",
    "    dict(\n",
    "        technology='coal_ppl',\n",
    "        level='primary',\n",
    "        value=1,\n",
    "        unit='-',\n",
    "        **base_coal_input,\n",
    "    )\n",
    ")\n",
    "\n",
    "#Gas Input\n",
    "base_gas_input = {\n",
    "    \"node_loc\":country,\n",
    "    \"year_vtg\":vintage_years,\n",
    "    \"year_act\":act_years,\n",
    "    \"mode\":\"standard\",\n",
    "    \"node_origin\":country,\n",
    "    \"commodity\":\"gas\",\n",
    "    \"time\":\"year\",\n",
    "    \"time_origin\":\"year\"\n",
    "}\n",
    "\n",
    "gas_ppl = pd.DataFrame(\n",
    "    dict(\n",
    "        technology='gas_ppl',\n",
    "        level='primary',\n",
    "        value=1,\n",
    "        unit='-',\n",
    "        **base_gas_input,\n",
    "    )\n",
    ")\n",
    "\n",
    "#Oil Input\n",
    "base_oil_input = {\n",
    "    \"node_loc\":country,\n",
    "    \"year_vtg\":vintage_years,\n",
    "    \"year_act\":act_years,\n",
    "    \"mode\":\"standard\",\n",
    "    \"node_origin\":country,\n",
    "    \"commodity\":\"oil\",\n",
    "    \"time\":\"year\",\n",
    "    \"time_origin\":\"year\"\n",
    "}\n",
    "\n",
    "oil_ppl = pd.DataFrame(\n",
    "    dict(\n",
    "        technology='oil_ppl',\n",
    "        level='primary',\n",
    "        value=1,\n",
    "        unit='-',\n",
    "        **base_oil_input,\n",
    "    )\n",
    ")\n",
    "\n",
    "#Biomass Input\n",
    "'''base_bio_input = {\n",
    "    \"node_loc\":country,\n",
    "    \"year_vtg\":vintage_years,\n",
    "    \"year_act\":act_years,\n",
    "    \"mode\":\"standard\",\n",
    "    \"node_origin\":country,\n",
    "    \"commodity\":\"biomass\",\n",
    "    \"time\":\"year\",\n",
    "    \"time_origin\":\"year\"\n",
    "}\n",
    "\n",
    "bio_ppl = pd.DataFrame(\n",
    "    dict(\n",
    "        technology='bio_ppl',\n",
    "        level='primary',\n",
    "        value=1,\n",
    "        unit='-',\n",
    "        **base_bio_input,\n",
    "    )\n",
    ")\n",
    "\n",
    "#Nuclear Input\n",
    "base_nuclear_input = {\n",
    "    \"node_loc\":country,\n",
    "    \"year_vtg\":vintage_years,\n",
    "    \"year_act\":act_years,\n",
    "    \"mode\":\"standard\",\n",
    "    \"node_origin\":country,\n",
    "    \"commodity\":\"nuclear\",\n",
    "    \"time\":\"year\",\n",
    "    \"time_origin\":\"year\"\n",
    "}\n",
    "\n",
    "nuclear_ppl = pd.DataFrame(\n",
    "    dict(\n",
    "        technology='nuclear_ppl',\n",
    "        level='primary',\n",
    "        value=1,\n",
    "        unit='-',\n",
    "        **base_nuclear_input,\n",
    "    )\n",
    ")'''\n",
    "\n",
    "\n",
    "scenario.add_par(\"input\",coal_ppl)\n",
    "scenario.add_par(\"input\",gas_ppl)\n",
    "scenario.add_par(\"input\",oil_ppl)\n",
    "'''scenario.add_par(\"input\",bio_ppl)\n",
    "scenario.add_par(\"input\",nuclear_ppl)'''"
   ]
  },
  {
   "cell_type": "code",
   "execution_count": 60,
   "metadata": {},
   "outputs": [],
   "source": [
    "from message_ix import make_df\n",
    "\n",
    "#Electricity Input\n",
    "base_electr_input = {\n",
    "    \"node_loc\":country,\n",
    "    \"year_vtg\":vintage_years,\n",
    "    \"year_act\":act_years,\n",
    "    \"mode\":\"standard\",\n",
    "    \"node_origin\":country,\n",
    "    \"commodity\":\"electricity\",\n",
    "    \"time\":\"year\",\n",
    "    \"time_origin\":\"year\"\n",
    "}\n",
    "\n",
    "electr_grid = make_df(\n",
    "    base_electr_input,\n",
    "    technology='electricity_grid',\n",
    "    level='secondary',\n",
    "    value=1,\n",
    "    unit='-',\n",
    ")\n",
    "\n",
    "scenario.add_par(\"input\",electr_grid)\n",
    "\n",
    "for tec in demand_tec:\n",
    "    electr_in = make_df(\n",
    "        base_electr_input,\n",
    "        technology = f'{tec}',\n",
    "        level = 'final',\n",
    "        value=1,\n",
    "        unit ='-'\n",
    "    )\n",
    "    scenario.add_par('input',electr_in)\n",
    "    \n",
    "\n"
   ]
  },
  {
   "cell_type": "code",
   "execution_count": 61,
   "metadata": {},
   "outputs": [],
   "source": [
    "#Data from LEAP\n",
    "coal_ppl_eff = 0.37 \n",
    "gas_ppl_eff = 0.33 \n",
    "oil_ppl_eff = 0.45 \n",
    "bio_ppl_eff = 0.62\n",
    "nuclear_ppl_eff = 0.4\n",
    "electr_grid_eff = 1\n",
    "\n",
    "\n",
    "#Output\n",
    "base_output = {\n",
    "'node_loc':country,\n",
    "'year_vtg':vintage_years,\n",
    "'year_act':act_years,\n",
    "'mode':'standard',\n",
    "'node_dest':country,\n",
    "'time':'year',\n",
    "'time_dest':'year',   \n",
    "}\n",
    "\n",
    "\n",
    "\n",
    "#coal_ppl\n",
    "coal_ppl = make_df(\n",
    "    base_output,\n",
    "    technology ='coal_ppl',\n",
    "    commodity ='electricity',\n",
    "    level = 'secondary',\n",
    "    value = coal_ppl_eff, \n",
    "    unit = '-'\n",
    "    \n",
    ")\n",
    "\n",
    "#gas_ppl\n",
    "gas_ppl = make_df(\n",
    "    base_output,\n",
    "    technology ='gas_ppl',\n",
    "    commodity ='electricity',\n",
    "    level = 'secondary',\n",
    "    value = gas_ppl_eff, \n",
    "    unit = '-'  \n",
    ")\n",
    "\n",
    "#oil_ppl\n",
    "oil_ppl = make_df(\n",
    "    base_output,\n",
    "    technology ='oil_ppl',\n",
    "    commodity ='electricity',\n",
    "    level = 'secondary',\n",
    "    value = oil_ppl_eff, \n",
    "    unit = '-'  \n",
    ")\n",
    "\n",
    "#hydro_ppl\n",
    "hydro_ppl = make_df(\n",
    "    base_output,\n",
    "    technology ='hydro_ppl',\n",
    "    commodity ='electricity',\n",
    "    level = 'secondary',\n",
    "    value = 1, \n",
    "    unit = '-'  \n",
    ")\n",
    "\n",
    "#solar_ppl\n",
    "solar_ppl = make_df(\n",
    "    base_output,\n",
    "    technology ='solar_ppl',\n",
    "    commodity ='electricity',\n",
    "    level = 'secondary',\n",
    "    value = 1, \n",
    "    unit = '-'  \n",
    ")\n",
    "\n",
    "#wind_ppl\n",
    "wind_ppl = make_df(\n",
    "    base_output,\n",
    "    technology ='wind_ppl',\n",
    "    commodity ='electricity',\n",
    "    level = 'secondary',\n",
    "    value = 1, \n",
    "    unit = '-'  \n",
    ")\n",
    "\n",
    "#geo_ppl\n",
    "geo_ppl = make_df(\n",
    "    base_output,\n",
    "    technology ='geo_ppl',\n",
    "    commodity ='electricity',\n",
    "    level = 'secondary',\n",
    "    value = 1, \n",
    "    unit = '-'  \n",
    ")\n",
    "\n",
    "#bio_ppl\n",
    "bio_ppl = make_df(\n",
    "    base_output,\n",
    "    technology ='bio_ppl',\n",
    "    commodity ='electricity',\n",
    "    level = 'secondary',\n",
    "    value = 1, \n",
    "    unit = '-'  \n",
    ")\n",
    "\n",
    "#nuclear_ppl\n",
    "nuclear_ppl = make_df(\n",
    "    base_output,\n",
    "    technology ='nuclear_ppl',\n",
    "    commodity ='electricity',\n",
    "    level = 'secondary',\n",
    "    value = 1, \n",
    "    unit = '-'  \n",
    ")\n",
    "\n",
    "\n",
    "#electricity grid\n",
    "electr_grid = make_df(\n",
    "    base_output,\n",
    "    technology ='electricity_grid',\n",
    "    commodity ='electricity',\n",
    "    level = 'final',\n",
    "    value = electr_grid_eff, \n",
    "    unit = '-'\n",
    ")\n",
    "\n",
    "for tec in ppl_tec:\n",
    "    df = globals()[f'{tec}']\n",
    "    scenario.add_par('output',df)\n",
    "    \n",
    "scenario.add_par(\"output\",electr_grid)\n",
    "\n",
    "for tec,com in zip(demand_tec,demand_com):\n",
    "    electr_out = make_df(\n",
    "        base_output,\n",
    "        technology = f'{tec}',\n",
    "        commodity = f'{com}',\n",
    "        level = 'useful',\n",
    "        value=1,\n",
    "        unit ='-'\n",
    "    )\n",
    "    scenario.add_par('output',electr_out)"
   ]
  },
  {
   "cell_type": "code",
   "execution_count": 62,
   "metadata": {},
   "outputs": [],
   "source": [
    "#Technical Lifetime (data from LEAP)\n",
    "\n",
    "base_technical_lifetime = {\n",
    "    'node_loc': country,\n",
    "    'year_vtg':vintage_years,\n",
    "    'unit':'y'\n",
    "}\n",
    "\n",
    "lifetimes ={\n",
    "    'coal_ppl':40,\n",
    "    'gas_ppl':30,\n",
    "    'oil_ppl':40,\n",
    "    'hydro_ppl':40,\n",
    "    'solar_ppl':20,\n",
    "    'wind_ppl':20,\n",
    "    'geo_ppl':30,\n",
    "    'bio_ppl':30,\n",
    "    'nuclear_ppl':60\n",
    "}\n",
    "\n",
    "for tec, val in lifetimes.items():\n",
    "    df = make_df(base_technical_lifetime,technology=tec,value=val)\n",
    "    scenario.add_par('technical_lifetime',df)\n",
    "\n"
   ]
  },
  {
   "cell_type": "code",
   "execution_count": 63,
   "metadata": {},
   "outputs": [],
   "source": [
    "#Capacity Factor (data from LEAP Max Availability)\n",
    "\n",
    "base_capacity_factor = {\n",
    "    'node_loc': country,\n",
    "    'year_vtg':vintage_years,\n",
    "    'year_act':act_years,\n",
    "    'time':'year',\n",
    "    'unit':'-'\n",
    "}\n",
    "\n",
    "capacity_factor ={\n",
    "    'coal_ppl':0.8,\n",
    "    'gas_ppl':0.85,\n",
    "    'oil_ppl':0.95,\n",
    "    'hydro_ppl':0.5177,\n",
    "    'solar_ppl':0.1861,\n",
    "    'wind_ppl':0.2634,\n",
    "    'geo_ppl':0.8,\n",
    "    'bio_ppl':0.8,\n",
    "    'nuclear_ppl':0.95\n",
    "}\n",
    "\n",
    "for tec, val in capacity_factor.items():\n",
    "    df = make_df(base_capacity_factor,technology=tec,value=val)\n",
    "    scenario.add_par('capacity_factor',df)\n",
    "\n"
   ]
  },
  {
   "cell_type": "markdown",
   "metadata": {},
   "source": [
    "## Technoeconomic Parameters"
   ]
  },
  {
   "cell_type": "code",
   "execution_count": 64,
   "metadata": {},
   "outputs": [],
   "source": [
    "#Resource parameters\n",
    "\n",
    "coal_potentials = {'a':[133575,0.35,638.85]} #based on RUKN (potential) and HEESI 2022 (last historical extraction), cost based on tutorial\n",
    "gas_potentials = {'a':[1834.43,7.52,79.2]} #Need to update data\n",
    "oil_potentials = {'a':[2.66,40.7,0.041]} #Need to update data"
   ]
  },
  {
   "cell_type": "code",
   "execution_count": 65,
   "metadata": {},
   "outputs": [],
   "source": [
    "#Coal Resource\n",
    "df = pd.DataFrame(\n",
    "    {\n",
    "        'node': [country],\n",
    "        'commodity':'coal',\n",
    "        'grade':'a_coal',\n",
    "        'value':coal_potentials['a'][0],\n",
    "        'unit':'GWa',\n",
    "    }\n",
    ")\n",
    "scenario.add_par('resource_volume',df)\n",
    "\n",
    "mp.add_unit('USD/KWa')\n",
    "df = make_df(\n",
    "    'resource_cost',\n",
    "    node = country,\n",
    "    commodity='coal',\n",
    "    grade='a_coal',\n",
    "    year = model_horizon,\n",
    "    value=coal_potentials['a'][1],\n",
    "    unit='USD/KWa'\n",
    ")\n",
    "\n",
    "scenario.add_par('resource_cost',df)\n",
    "\n",
    "df = pd.DataFrame(\n",
    "    {\n",
    "        'node': country,\n",
    "        'commodity':'coal',\n",
    "        'grade':'a_coal',\n",
    "        'year':[2022],\n",
    "        'value':coal_potentials['a'][2],\n",
    "        'unit':'GWa'\n",
    "    }\n",
    ")\n",
    "scenario.add_par('historical_extraction',df)\n",
    "\n",
    "\n",
    "\n"
   ]
  },
  {
   "cell_type": "code",
   "execution_count": 66,
   "metadata": {},
   "outputs": [],
   "source": [
    "#Gas resource\n",
    "df = pd.DataFrame(\n",
    "    {\n",
    "        'node': [country],\n",
    "        'commodity':'gas',\n",
    "        'grade':'a_gas',\n",
    "        'value':gas_potentials['a'][0],\n",
    "        'unit':'GWa',\n",
    "    }\n",
    ")\n",
    "scenario.add_par('resource_volume',df)\n",
    "\n",
    "mp.add_unit('USD/KWa')\n",
    "df = make_df(\n",
    "    'resource_cost',\n",
    "    node = country,\n",
    "    commodity='gas',\n",
    "    grade='a_gas',\n",
    "    year = model_horizon,\n",
    "    value=gas_potentials['a'][1],\n",
    "    unit='USD/KWa'\n",
    ")\n",
    "\n",
    "scenario.add_par('resource_cost',df)\n",
    "\n",
    "df = pd.DataFrame(\n",
    "    {\n",
    "        'node': country,\n",
    "        'commodity':'gas',\n",
    "        'grade':'a_gas',\n",
    "        'year':[2022],\n",
    "        'value':gas_potentials['a'][2],\n",
    "        'unit':'GWa'\n",
    "    }\n",
    ")\n",
    "scenario.add_par('historical_extraction',df)\n"
   ]
  },
  {
   "cell_type": "code",
   "execution_count": 67,
   "metadata": {},
   "outputs": [],
   "source": [
    "#Oil Resource\n",
    "df = pd.DataFrame(\n",
    "    {\n",
    "        'node': [country],\n",
    "        'commodity':'oil',\n",
    "        'grade':'a_oil',\n",
    "        'value':oil_potentials['a'][0],\n",
    "        'unit':'GWa',\n",
    "    }\n",
    ")\n",
    "scenario.add_par('resource_volume',df)\n",
    "\n",
    "mp.add_unit('USD/KWa')\n",
    "df = make_df(\n",
    "    'resource_cost',\n",
    "    node = country,\n",
    "    commodity='oil',\n",
    "    grade='a_oil',\n",
    "    year = model_horizon,\n",
    "    value=oil_potentials['a'][1],\n",
    "    unit='USD/KWa'\n",
    ")\n",
    "\n",
    "scenario.add_par('resource_cost',df)\n",
    "\n",
    "df = pd.DataFrame(\n",
    "    {\n",
    "        'node': country,\n",
    "        'commodity':'oil',\n",
    "        'grade':'a_oil',\n",
    "        'year':[2022],\n",
    "        'value':oil_potentials['a'][2],\n",
    "        'unit':'GWa'\n",
    "    }\n",
    ")\n",
    "scenario.add_par('historical_extraction',df)\n"
   ]
  },
  {
   "cell_type": "code",
   "execution_count": 68,
   "metadata": {},
   "outputs": [],
   "source": [
    "#inv_cost (data from LEAP 2022)\n",
    "\n",
    "base_inv_cost = {\n",
    "    'node_loc':country,\n",
    "    'year_vtg':vintage_years,\n",
    "    'unit':'USD/kW'\n",
    "}\n",
    "\n",
    "mp.add_unit('USD/kW')\n",
    "\n",
    "costs = {\n",
    "    'coal_ppl':1600,\n",
    "    'gas_ppl':1062,\n",
    "    'oil_ppl':910,\n",
    "    'hydro_ppl':2200,\n",
    "    'solar_ppl':960,\n",
    "    'wind_ppl':1650,\n",
    "    'geo_ppl':3600,\n",
    "    'bio_ppl':2280,\n",
    "    'nuclear_ppl':9000\n",
    "}\n",
    "\n",
    "for tec, val in costs.items():\n",
    "    df = make_df(base_inv_cost,technology=tec,value=val)\n",
    "    scenario.add_par('inv_cost',df)\n"
   ]
  },
  {
   "cell_type": "code",
   "execution_count": 69,
   "metadata": {},
   "outputs": [],
   "source": [
    "#fix_cost (data from LEAP 2022)\n",
    "mp.add_unit('USD/kWa')\n",
    "\n",
    "base_fix_cost = {\n",
    "    'node_loc':country,\n",
    "    'year_vtg':vintage_years,\n",
    "    'year_act':act_years,\n",
    "    'unit':'USD/kWa'\n",
    "}\n",
    "\n",
    "costs = {\n",
    "    'coal_ppl':47,\n",
    "    'gas_ppl':26.5,\n",
    "    'oil_ppl':9.1,\n",
    "    'hydro_ppl':43,\n",
    "    'solar_ppl':9.2,\n",
    "    'wind_ppl':40,\n",
    "    'geo_ppl':18.7,\n",
    "    'bio_ppl':54,\n",
    "    'nuclear_ppl':127\n",
    "}\n",
    "\n",
    "for tec, val in costs.items():\n",
    "    df = make_df(base_fix_cost,technology=tec,value=val)\n",
    "    scenario.add_par('fix_cost',df)"
   ]
  },
  {
   "cell_type": "code",
   "execution_count": 70,
   "metadata": {},
   "outputs": [],
   "source": [
    "#var_cost (data from LEAP 2022)\n",
    "\n",
    "base_var_cost = {\n",
    "    'node_loc':country,\n",
    "    'year_vtg':vintage_years,\n",
    "    'year_act':act_years,\n",
    "    'mode':'standard',\n",
    "    'time':'year',\n",
    "    'unit':'USD/kWa'\n",
    "}\n",
    "\n",
    "#in USD/MWh\n",
    "costs = {\n",
    "    'coal_ppl':1.5,\n",
    "    'gas_ppl':2.6,\n",
    "    'oil_ppl':7.3,\n",
    "    'hydro_ppl':0.7,\n",
    "    'solar_ppl':0,\n",
    "    'wind_ppl':4.2,\n",
    "    'geo_ppl':0.3,\n",
    "    'bio_ppl':3.4,\n",
    "    'nuclear_ppl':2.4\n",
    "}\n",
    "\n",
    "for tec, val in costs.items():\n",
    "    df = make_df(base_var_cost,technology=tec,value=val*8760.0/1e3)\n",
    "    scenario.add_par('var_cost',df)"
   ]
  },
  {
   "cell_type": "markdown",
   "metadata": {},
   "source": [
    "## Calibration Parameter"
   ]
  },
  {
   "cell_type": "code",
   "execution_count": 71,
   "metadata": {},
   "outputs": [],
   "source": [
    "ppl_commodities = ['Coal','Natural Gas','Oil','Hydro','Solar PV','Wind','Geothermal','Bioenergy','Nuclear']"
   ]
  },
  {
   "cell_type": "code",
   "execution_count": 72,
   "metadata": {},
   "outputs": [],
   "source": [
    "df_gen = pd.read_excel(filename,sheet_name='IDN_Generation_BAS',skiprows=44)[:9]\n",
    "df_gen.rename(columns={'by technology - summary (TWh)':'fuel'},inplace=True)\n",
    "df_gen = df_gen.melt(id_vars='fuel',value_vars=list(range(2005,2023)),var_name='Year')"
   ]
  },
  {
   "cell_type": "code",
   "execution_count": 73,
   "metadata": {},
   "outputs": [],
   "source": [
    "base_growth = {\n",
    "    'node_loc':country,\n",
    "    'year_vtg':vintage_years,\n",
    "    'value':0.01,\n",
    "}\n",
    "\n",
    "for tec in ppl_tec:\n",
    "    df = make_df(base_growth,technology=tec)\n",
    "    scenario.add_par('growth_new_capacity_lo',df)"
   ]
  },
  {
   "cell_type": "code",
   "execution_count": 74,
   "metadata": {},
   "outputs": [],
   "source": [
    "mp.add_unit(\"GW/y\")\n",
    "\n",
    "for act,tec in zip(ppl_commodities,ppl_tec):\n",
    "\n",
    "    d_his = list(df_gen[df_gen['fuel'] == act]['value']*conv_twh_gwa)\n",
    "    df = make_df(\n",
    "        'historical_activity',\n",
    "        node_loc=country,\n",
    "        year_act=historical_horizon,\n",
    "        mode='standard',\n",
    "        time='year',\n",
    "        unit='GWa',\n",
    "        technology = tec,\n",
    "        value = d_his\n",
    "    )\n",
    "\n",
    "    scenario.add_par('historical_activity',df)\n",
    "\n",
    "    value = list(df_gen[df_gen['fuel'] == act]['value']*conv_twh_gwa/capacity_factor[tec])\n",
    "    df = make_df(\n",
    "        'historical_new_capacity',\n",
    "        node_loc = country,\n",
    "        year_vtg = historical_horizon,\n",
    "        unit = 'GW/y',\n",
    "        technology = tec,\n",
    "        value=value\n",
    "    )\n",
    "    scenario.add_par('historical_new_capacity',df)"
   ]
  },
  {
   "cell_type": "code",
   "execution_count": 75,
   "metadata": {},
   "outputs": [],
   "source": [
    "base_growth = {\n",
    "    'node_loc':country,\n",
    "    'year_act':model_horizon,\n",
    "    'value':0.05,\n",
    "    'time':'year',\n",
    "    'unit':'-'\n",
    "}\n",
    "\n",
    "for tec in ppl_tec:\n",
    "    df = make_df(base_growth,technology = tec)\n",
    "    scenario.add_par('growth_activity_up',df)"
   ]
  },
  {
   "cell_type": "code",
   "execution_count": 76,
   "metadata": {},
   "outputs": [
    {
     "data": {
      "text/plain": [
       "\"growth_tec = ppl_tec + t_d_tec\\n\\nbase_growth = {\\n    'node_loc':country,\\n    'year_act':model_horizon,\\n    'value':0.05,\\n    'time':'year',\\n    'unit':'%',\\n}\\n\\nfor tec in growth_tec:\\n    df = make_df(base_growth,technology=tec)\\n    scenario.add_par('growth_activity_up',df)\""
      ]
     },
     "execution_count": 76,
     "metadata": {},
     "output_type": "execute_result"
    }
   ],
   "source": [
    "'''growth_tec = ppl_tec + t_d_tec\n",
    "\n",
    "base_growth = {\n",
    "    'node_loc':country,\n",
    "    'year_act':model_horizon,\n",
    "    'value':0.05,\n",
    "    'time':'year',\n",
    "    'unit':'%',\n",
    "}\n",
    "\n",
    "for tec in growth_tec:\n",
    "    df = make_df(base_growth,technology=tec)\n",
    "    scenario.add_par('growth_activity_up',df)'''"
   ]
  },
  {
   "cell_type": "code",
   "execution_count": 77,
   "metadata": {},
   "outputs": [
    {
     "data": {
      "text/plain": [
       "\"base_initial = {\\n    'node_loc':country,\\n    'year_act':model_horizon,\\n    'time':'year',\\n    'unit':'%'\\n}\\n\\nfor tec,sector in zip(demand_tec,sectors):\\n\\n    df = pd.read_excel(filename,sheet_name=f'IDN_{sector}_BAS',skiprows=6)\\n    index = df[df['Fuel'] == 'Total'].index[0] #get index of the targeted sliced rows\\n    df = df.loc[:index-1]\\n    df = df.melt(id_vars='Fuel', value_vars=list(range(2005,2051,1)),var_name='Year')\\n    df = df[(df['Fuel'] == 'Electricity') & (df['Year']>2022)]\\n    df.value = df.value*conv_mtoe_gwa*0.01\\n    values = df.value.tolist()\\n\\n    df = make_df(\\n        base_initial,\\n        technology = tec,\\n        value = values\\n    )\\n\\n    scenario.add_par('initial_activity_up',df)\""
      ]
     },
     "execution_count": 77,
     "metadata": {},
     "output_type": "execute_result"
    }
   ],
   "source": [
    "'''base_initial = {\n",
    "    'node_loc':country,\n",
    "    'year_act':model_horizon,\n",
    "    'time':'year',\n",
    "    'unit':'%'\n",
    "}\n",
    "\n",
    "for tec,sector in zip(demand_tec,sectors):\n",
    "\n",
    "    df = pd.read_excel(filename,sheet_name=f'IDN_{sector}_BAS',skiprows=6)\n",
    "    index = df[df['Fuel'] == 'Total'].index[0] #get index of the targeted sliced rows\n",
    "    df = df.loc[:index-1]\n",
    "    df = df.melt(id_vars='Fuel', value_vars=list(range(2005,2051,1)),var_name='Year')\n",
    "    df = df[(df['Fuel'] == 'Electricity') & (df['Year']>2022)]\n",
    "    df.value = df.value*conv_mtoe_gwa*0.01\n",
    "    values = df.value.tolist()\n",
    "\n",
    "    df = make_df(\n",
    "        base_initial,\n",
    "        technology = tec,\n",
    "        value = values\n",
    "    )\n",
    "\n",
    "    scenario.add_par('initial_activity_up',df)'''"
   ]
  },
  {
   "cell_type": "code",
   "execution_count": 78,
   "metadata": {},
   "outputs": [
    {
     "data": {
      "text/plain": [
       "'mp.add_unit(\"GW/y\")\\n\\nfor act,tec in zip(ppl_commodities,ppl_tec):\\n\\n    d_his = list(df_gen[df_gen[\\'fuel\\'] == act][\\'value\\']*conv_twh_gwa)\\n    df = make_df(\\n        \\'historical_activity\\',\\n        node_loc=country,\\n        year_act=historical_horizon,\\n        mode=\\'standard\\',\\n        time=\\'year\\',\\n        unit=\\'GWa\\',\\n        technology = tec,\\n        value = d_his\\n    )\\n\\n    scenario.add_par(\\'bound_activity_up\\',df)\\n    scenario.add_par(\\'bound_activity_lo\\',df)\\n\\n    value = list(df_gen[df_gen[\\'fuel\\'] == act][\\'value\\']*conv_twh_gwa/capacity_factor[tec])\\n    df = make_df(\\n        \\'bound_new_capacity_up\\',\\n        node_loc = country,\\n        year_vtg = historical_horizon,\\n        unit = \\'GW/y\\',\\n        technology = tec,\\n        value=value\\n    )\\n    scenario.add_par(\\'bound_new_capacity_up\\',df)'"
      ]
     },
     "execution_count": 78,
     "metadata": {},
     "output_type": "execute_result"
    }
   ],
   "source": [
    "'''mp.add_unit(\"GW/y\")\n",
    "\n",
    "for act,tec in zip(ppl_commodities,ppl_tec):\n",
    "\n",
    "    d_his = list(df_gen[df_gen['fuel'] == act]['value']*conv_twh_gwa)\n",
    "    df = make_df(\n",
    "        'historical_activity',\n",
    "        node_loc=country,\n",
    "        year_act=historical_horizon,\n",
    "        mode='standard',\n",
    "        time='year',\n",
    "        unit='GWa',\n",
    "        technology = tec,\n",
    "        value = d_his\n",
    "    )\n",
    "\n",
    "    scenario.add_par('bound_activity_up',df)\n",
    "    scenario.add_par('bound_activity_lo',df)\n",
    "\n",
    "    value = list(df_gen[df_gen['fuel'] == act]['value']*conv_twh_gwa/capacity_factor[tec])\n",
    "    df = make_df(\n",
    "        'bound_new_capacity_up',\n",
    "        node_loc = country,\n",
    "        year_vtg = historical_horizon,\n",
    "        unit = 'GW/y',\n",
    "        technology = tec,\n",
    "        value=value\n",
    "    )\n",
    "    scenario.add_par('bound_new_capacity_up',df)'''\n",
    "\n"
   ]
  },
  {
   "cell_type": "code",
   "execution_count": 79,
   "metadata": {},
   "outputs": [
    {
     "data": {
      "text/plain": [
       "\"df_cap = pd.read_excel(filename,sheet_name='IDN_Capacity_BAS',skiprows=48)[:10]\\ndf_cap.rename(columns={'by technology - summary (GW)':'fuel'},inplace=True)\\ndf_cap = df_cap.melt(id_vars='fuel',value_vars=list(range(2005,2023)),var_name='Year')\""
      ]
     },
     "execution_count": 79,
     "metadata": {},
     "output_type": "execute_result"
    }
   ],
   "source": [
    "'''df_cap = pd.read_excel(filename,sheet_name='IDN_Capacity_BAS',skiprows=48)[:10]\n",
    "df_cap.rename(columns={'by technology - summary (GW)':'fuel'},inplace=True)\n",
    "df_cap = df_cap.melt(id_vars='fuel',value_vars=list(range(2005,2023)),var_name='Year')'''"
   ]
  },
  {
   "cell_type": "code",
   "execution_count": 80,
   "metadata": {},
   "outputs": [
    {
     "data": {
      "text/plain": [
       "'mp.add_unit(\"GW/y\")\\n\\nfor cap,tec in zip(ppl_commodities,ppl_tec):\\n    d_his = list(df_cap[df_cap[\\'fuel\\'] == cap][\\'value\\'])\\n    df = make_df(\\n        \\'historical_new_capacity\\',\\n        node_loc = country,\\n        year_vtg = historical_horizon,\\n        unit = \\'GW/y\\',\\n        technology = tec,\\n        value=d_his\\n    )\\n\\n    scenario.add_par(\\'historical_new_capacity\\',df)'"
      ]
     },
     "execution_count": 80,
     "metadata": {},
     "output_type": "execute_result"
    }
   ],
   "source": [
    "'''mp.add_unit(\"GW/y\")\n",
    "\n",
    "for cap,tec in zip(ppl_commodities,ppl_tec):\n",
    "    d_his = list(df_cap[df_cap['fuel'] == cap]['value'])\n",
    "    df = make_df(\n",
    "        'historical_new_capacity',\n",
    "        node_loc = country,\n",
    "        year_vtg = historical_horizon,\n",
    "        unit = 'GW/y',\n",
    "        technology = tec,\n",
    "        value=d_his\n",
    "    )\n",
    "\n",
    "    scenario.add_par('historical_new_capacity',df)'''"
   ]
  },
  {
   "cell_type": "markdown",
   "metadata": {},
   "source": [
    "## Objective Function"
   ]
  },
  {
   "cell_type": "code",
   "execution_count": 81,
   "metadata": {},
   "outputs": [],
   "source": [
    "scenario.add_par(\"interestrate\", model_horizon, value=0.07, unit=\"-\")"
   ]
  },
  {
   "cell_type": "markdown",
   "metadata": {},
   "source": [
    "# Commit and Solve the Model"
   ]
  },
  {
   "cell_type": "code",
   "execution_count": 82,
   "metadata": {},
   "outputs": [],
   "source": [
    "comment = \"initial commit for Indonesia model\"\n",
    "scenario.commit(comment)\n",
    "scenario.set_as_default()"
   ]
  },
  {
   "cell_type": "code",
   "execution_count": 83,
   "metadata": {},
   "outputs": [
    {
     "ename": "ModelError",
     "evalue": "GAMS errored with return code 3:\n    There was an execution error\n\nFor details, see the terminal output above, plus:\nListing   : c:\\Users\\M Ilham Rizaldi\\anaconda3\\envs\\message-env\\lib\\site-packages\\message_ix\\model\\MESSAGE_run.lst\nLog file  : c:\\Users\\M Ilham Rizaldi\\anaconda3\\envs\\message-env\\lib\\site-packages\\message_ix\\model\\MESSAGE_run.log\nInput data: c:\\Users\\M Ilham Rizaldi\\anaconda3\\envs\\message-env\\lib\\site-packages\\message_ix\\model\\data\\MsgData_Indonesia_Prototype_baseline.gdx",
     "output_type": "error",
     "traceback": [
      "\u001b[1;31m---------------------------------------------------------------------------\u001b[0m",
      "\u001b[1;31mModelError\u001b[0m                                Traceback (most recent call last)",
      "Cell \u001b[1;32mIn[83], line 1\u001b[0m\n\u001b[1;32m----> 1\u001b[0m \u001b[43mscenario\u001b[49m\u001b[38;5;241;43m.\u001b[39;49m\u001b[43msolve\u001b[49m\u001b[43m(\u001b[49m\u001b[43m)\u001b[49m\n",
      "File \u001b[1;32mc:\\Users\\M Ilham Rizaldi\\anaconda3\\envs\\message-env\\lib\\site-packages\\message_ix\\core.py:712\u001b[0m, in \u001b[0;36mScenario.solve\u001b[1;34m(self, model, solve_options, **kwargs)\u001b[0m\n\u001b[0;32m    693\u001b[0m \u001b[38;5;28;01mdef\u001b[39;00m\u001b[38;5;250m \u001b[39m\u001b[38;5;21msolve\u001b[39m(\u001b[38;5;28mself\u001b[39m, model\u001b[38;5;241m=\u001b[39m\u001b[38;5;124m\"\u001b[39m\u001b[38;5;124mMESSAGE\u001b[39m\u001b[38;5;124m\"\u001b[39m, solve_options\u001b[38;5;241m=\u001b[39m{}, \u001b[38;5;241m*\u001b[39m\u001b[38;5;241m*\u001b[39mkwargs):\n\u001b[0;32m    694\u001b[0m \u001b[38;5;250m    \u001b[39m\u001b[38;5;124;03m\"\"\"Solve MESSAGE or MESSAGE-MACRO for the Scenario.\u001b[39;00m\n\u001b[0;32m    695\u001b[0m \n\u001b[0;32m    696\u001b[0m \u001b[38;5;124;03m    By default, :meth:`ixmp.Scenario.solve` is called with 'MESSAGE' as the\u001b[39;00m\n\u001b[1;32m   (...)\u001b[0m\n\u001b[0;32m    710\u001b[0m \u001b[38;5;124;03m        :class:`.MESSAGE_MACRO` class and :class:`.GAMSModel`.\u001b[39;00m\n\u001b[0;32m    711\u001b[0m \u001b[38;5;124;03m    \"\"\"\u001b[39;00m\n\u001b[1;32m--> 712\u001b[0m     \u001b[38;5;28msuper\u001b[39m()\u001b[38;5;241m.\u001b[39msolve(model\u001b[38;5;241m=\u001b[39mmodel, solve_options\u001b[38;5;241m=\u001b[39msolve_options, \u001b[38;5;241m*\u001b[39m\u001b[38;5;241m*\u001b[39mkwargs)\n",
      "File \u001b[1;32mc:\\Users\\M Ilham Rizaldi\\anaconda3\\envs\\message-env\\lib\\site-packages\\ixmp\\core\\scenario.py:890\u001b[0m, in \u001b[0;36mScenario.solve\u001b[1;34m(self, model, callback, cb_kwargs, **model_options)\u001b[0m\n\u001b[0;32m    888\u001b[0m \u001b[38;5;66;03m# Iterate until convergence\u001b[39;00m\n\u001b[0;32m    889\u001b[0m \u001b[38;5;28;01mwhile\u001b[39;00m \u001b[38;5;28;01mTrue\u001b[39;00m:\n\u001b[1;32m--> 890\u001b[0m     \u001b[43mmodel_obj\u001b[49m\u001b[38;5;241;43m.\u001b[39;49m\u001b[43mrun\u001b[49m\u001b[43m(\u001b[49m\u001b[38;5;28;43mself\u001b[39;49m\u001b[43m)\u001b[49m\n\u001b[0;32m    892\u001b[0m     \u001b[38;5;66;03m# Store an iteration number to help the callback\u001b[39;00m\n\u001b[0;32m    893\u001b[0m     \u001b[38;5;28;01mif\u001b[39;00m \u001b[38;5;129;01mnot\u001b[39;00m \u001b[38;5;28mhasattr\u001b[39m(\u001b[38;5;28mself\u001b[39m, \u001b[38;5;124m\"\u001b[39m\u001b[38;5;124miteration\u001b[39m\u001b[38;5;124m\"\u001b[39m):\n",
      "File \u001b[1;32mc:\\Users\\M Ilham Rizaldi\\anaconda3\\envs\\message-env\\lib\\site-packages\\message_ix\\models.py:220\u001b[0m, in \u001b[0;36mGAMSModel.run\u001b[1;34m(self, scenario)\u001b[0m\n\u001b[0;32m    217\u001b[0m lines2 \u001b[38;5;241m=\u001b[39m (\u001b[38;5;124m\"\u001b[39m\u001b[38;5;132;01m{}\u001b[39;00m\u001b[38;5;124m = \u001b[39m\u001b[38;5;132;01m{}\u001b[39;00m\u001b[38;5;124m\"\u001b[39m\u001b[38;5;241m.\u001b[39mformat(\u001b[38;5;241m*\u001b[39mkv) \u001b[38;5;28;01mfor\u001b[39;00m kv \u001b[38;5;129;01min\u001b[39;00m \u001b[38;5;28mself\u001b[39m\u001b[38;5;241m.\u001b[39mcplex_opts\u001b[38;5;241m.\u001b[39mitems())\n\u001b[0;32m    218\u001b[0m optfile2\u001b[38;5;241m.\u001b[39mwrite_text(\u001b[38;5;124m\"\u001b[39m\u001b[38;5;130;01m\\n\u001b[39;00m\u001b[38;5;124m\"\u001b[39m\u001b[38;5;241m.\u001b[39mjoin(lines2))\n\u001b[1;32m--> 220\u001b[0m result \u001b[38;5;241m=\u001b[39m \u001b[38;5;28;43msuper\u001b[39;49m\u001b[43m(\u001b[49m\u001b[43m)\u001b[49m\u001b[38;5;241;43m.\u001b[39;49m\u001b[43mrun\u001b[49m\u001b[43m(\u001b[49m\u001b[43mscenario\u001b[49m\u001b[43m)\u001b[49m\n\u001b[0;32m    222\u001b[0m \u001b[38;5;66;03m# In previous versions, the `cplex.opt` file(s) were removed at this point\u001b[39;00m\n\u001b[0;32m    223\u001b[0m \u001b[38;5;66;03m# in the workflow. This has been removed due to issues when running\u001b[39;00m\n\u001b[0;32m    224\u001b[0m \u001b[38;5;66;03m# scenarios asynchronously.\u001b[39;00m\n\u001b[0;32m    226\u001b[0m \u001b[38;5;28;01mreturn\u001b[39;00m result\n",
      "File \u001b[1;32mc:\\Users\\M Ilham Rizaldi\\anaconda3\\envs\\message-env\\lib\\site-packages\\ixmp\\model\\gams.py:397\u001b[0m, in \u001b[0;36mGAMSModel.run\u001b[1;34m(self, scenario)\u001b[0m\n\u001b[0;32m    385\u001b[0m     scenario\u001b[38;5;241m.\u001b[39mplatform\u001b[38;5;241m.\u001b[39m_backend\u001b[38;5;241m.\u001b[39mread_file(\n\u001b[0;32m    386\u001b[0m         \u001b[38;5;28mself\u001b[39m\u001b[38;5;241m.\u001b[39mout_file,\n\u001b[0;32m    387\u001b[0m         ItemType\u001b[38;5;241m.\u001b[39mMODEL,\n\u001b[1;32m   (...)\u001b[0m\n\u001b[0;32m    392\u001b[0m         var_list\u001b[38;5;241m=\u001b[39mas_str_list(\u001b[38;5;28mself\u001b[39m\u001b[38;5;241m.\u001b[39mvar_list) \u001b[38;5;129;01mor\u001b[39;00m [],\n\u001b[0;32m    393\u001b[0m     )\n\u001b[0;32m    394\u001b[0m \u001b[38;5;28;01mexcept\u001b[39;00m (CalledProcessError, \u001b[38;5;167;01mRuntimeError\u001b[39;00m) \u001b[38;5;28;01mas\u001b[39;00m exc:\n\u001b[0;32m    395\u001b[0m     \u001b[38;5;66;03m# CalledProcessError from run(); RuntimeError from read_file()\u001b[39;00m\n\u001b[0;32m    396\u001b[0m     \u001b[38;5;66;03m# Do not remove self.temp_dir; the user may want to inspect the GDX file\u001b[39;00m\n\u001b[1;32m--> 397\u001b[0m     \u001b[38;5;28;01mraise\u001b[39;00m \u001b[38;5;28mself\u001b[39m\u001b[38;5;241m.\u001b[39mformat_exception(\n\u001b[0;32m    398\u001b[0m         exc, model_file, scenario\u001b[38;5;241m.\u001b[39mplatform\u001b[38;5;241m.\u001b[39m_backend\u001b[38;5;241m.\u001b[39m\u001b[38;5;18m__class__\u001b[39m\n\u001b[0;32m    399\u001b[0m     ) \u001b[38;5;28;01mfrom\u001b[39;00m\u001b[38;5;250m \u001b[39m\u001b[38;5;28;01mNone\u001b[39;00m\n\u001b[0;32m    401\u001b[0m \u001b[38;5;66;03m# Finished: remove the temporary directory, if any\u001b[39;00m\n\u001b[0;32m    402\u001b[0m \u001b[38;5;28mself\u001b[39m\u001b[38;5;241m.\u001b[39mremove_temp_dir()\n",
      "\u001b[1;31mModelError\u001b[0m: GAMS errored with return code 3:\n    There was an execution error\n\nFor details, see the terminal output above, plus:\nListing   : c:\\Users\\M Ilham Rizaldi\\anaconda3\\envs\\message-env\\lib\\site-packages\\message_ix\\model\\MESSAGE_run.lst\nLog file  : c:\\Users\\M Ilham Rizaldi\\anaconda3\\envs\\message-env\\lib\\site-packages\\message_ix\\model\\MESSAGE_run.log\nInput data: c:\\Users\\M Ilham Rizaldi\\anaconda3\\envs\\message-env\\lib\\site-packages\\message_ix\\model\\data\\MsgData_Indonesia_Prototype_baseline.gdx"
     ]
    }
   ],
   "source": [
    "scenario.solve()"
   ]
  },
  {
   "cell_type": "code",
   "execution_count": 84,
   "metadata": {},
   "outputs": [
    {
     "data": {
      "application/vnd.microsoft.datawrangler.viewer.v0+json": {
       "columns": [
        {
         "name": "index",
         "rawType": "int64",
         "type": "integer"
        },
        {
         "name": "node_loc",
         "rawType": "object",
         "type": "string"
        },
        {
         "name": "technology",
         "rawType": "object",
         "type": "string"
        },
        {
         "name": "year_vtg",
         "rawType": "int64",
         "type": "integer"
        },
        {
         "name": "year_act",
         "rawType": "int64",
         "type": "integer"
        },
        {
         "name": "mode",
         "rawType": "object",
         "type": "string"
        },
        {
         "name": "node_dest",
         "rawType": "object",
         "type": "string"
        },
        {
         "name": "commodity",
         "rawType": "object",
         "type": "string"
        },
        {
         "name": "level",
         "rawType": "object",
         "type": "string"
        },
        {
         "name": "time",
         "rawType": "object",
         "type": "string"
        },
        {
         "name": "time_dest",
         "rawType": "object",
         "type": "string"
        },
        {
         "name": "value",
         "rawType": "float64",
         "type": "float"
        },
        {
         "name": "unit",
         "rawType": "object",
         "type": "string"
        }
       ],
       "conversionMethod": "pd.DataFrame",
       "ref": "7eb97c61-49ca-46e1-bb6e-2ddbca1ef110",
       "rows": [
        [
         "0",
         "IDN",
         "coal_ppl",
         "2005",
         "2023",
         "standard",
         "IDN",
         "electricity",
         "secondary",
         "year",
         "year",
         "0.37",
         "-"
        ],
        [
         "1",
         "IDN",
         "coal_ppl",
         "2005",
         "2024",
         "standard",
         "IDN",
         "electricity",
         "secondary",
         "year",
         "year",
         "0.37",
         "-"
        ],
        [
         "2",
         "IDN",
         "coal_ppl",
         "2005",
         "2025",
         "standard",
         "IDN",
         "electricity",
         "secondary",
         "year",
         "year",
         "0.37",
         "-"
        ],
        [
         "3",
         "IDN",
         "coal_ppl",
         "2005",
         "2026",
         "standard",
         "IDN",
         "electricity",
         "secondary",
         "year",
         "year",
         "0.37",
         "-"
        ],
        [
         "4",
         "IDN",
         "coal_ppl",
         "2005",
         "2027",
         "standard",
         "IDN",
         "electricity",
         "secondary",
         "year",
         "year",
         "0.37",
         "-"
        ],
        [
         "5",
         "IDN",
         "coal_ppl",
         "2005",
         "2028",
         "standard",
         "IDN",
         "electricity",
         "secondary",
         "year",
         "year",
         "0.37",
         "-"
        ],
        [
         "6",
         "IDN",
         "coal_ppl",
         "2005",
         "2029",
         "standard",
         "IDN",
         "electricity",
         "secondary",
         "year",
         "year",
         "0.37",
         "-"
        ],
        [
         "7",
         "IDN",
         "coal_ppl",
         "2005",
         "2030",
         "standard",
         "IDN",
         "electricity",
         "secondary",
         "year",
         "year",
         "0.37",
         "-"
        ],
        [
         "8",
         "IDN",
         "coal_ppl",
         "2005",
         "2031",
         "standard",
         "IDN",
         "electricity",
         "secondary",
         "year",
         "year",
         "0.37",
         "-"
        ],
        [
         "9",
         "IDN",
         "coal_ppl",
         "2005",
         "2032",
         "standard",
         "IDN",
         "electricity",
         "secondary",
         "year",
         "year",
         "0.37",
         "-"
        ],
        [
         "10",
         "IDN",
         "coal_ppl",
         "2005",
         "2033",
         "standard",
         "IDN",
         "electricity",
         "secondary",
         "year",
         "year",
         "0.37",
         "-"
        ],
        [
         "11",
         "IDN",
         "coal_ppl",
         "2005",
         "2034",
         "standard",
         "IDN",
         "electricity",
         "secondary",
         "year",
         "year",
         "0.37",
         "-"
        ],
        [
         "12",
         "IDN",
         "coal_ppl",
         "2005",
         "2035",
         "standard",
         "IDN",
         "electricity",
         "secondary",
         "year",
         "year",
         "0.37",
         "-"
        ],
        [
         "13",
         "IDN",
         "coal_ppl",
         "2005",
         "2036",
         "standard",
         "IDN",
         "electricity",
         "secondary",
         "year",
         "year",
         "0.37",
         "-"
        ],
        [
         "14",
         "IDN",
         "coal_ppl",
         "2005",
         "2037",
         "standard",
         "IDN",
         "electricity",
         "secondary",
         "year",
         "year",
         "0.37",
         "-"
        ],
        [
         "15",
         "IDN",
         "coal_ppl",
         "2005",
         "2038",
         "standard",
         "IDN",
         "electricity",
         "secondary",
         "year",
         "year",
         "0.37",
         "-"
        ],
        [
         "16",
         "IDN",
         "coal_ppl",
         "2005",
         "2039",
         "standard",
         "IDN",
         "electricity",
         "secondary",
         "year",
         "year",
         "0.37",
         "-"
        ],
        [
         "17",
         "IDN",
         "coal_ppl",
         "2005",
         "2040",
         "standard",
         "IDN",
         "electricity",
         "secondary",
         "year",
         "year",
         "0.37",
         "-"
        ],
        [
         "18",
         "IDN",
         "coal_ppl",
         "2005",
         "2041",
         "standard",
         "IDN",
         "electricity",
         "secondary",
         "year",
         "year",
         "0.37",
         "-"
        ],
        [
         "19",
         "IDN",
         "coal_ppl",
         "2005",
         "2042",
         "standard",
         "IDN",
         "electricity",
         "secondary",
         "year",
         "year",
         "0.37",
         "-"
        ],
        [
         "20",
         "IDN",
         "coal_ppl",
         "2005",
         "2043",
         "standard",
         "IDN",
         "electricity",
         "secondary",
         "year",
         "year",
         "0.37",
         "-"
        ],
        [
         "21",
         "IDN",
         "coal_ppl",
         "2005",
         "2044",
         "standard",
         "IDN",
         "electricity",
         "secondary",
         "year",
         "year",
         "0.37",
         "-"
        ],
        [
         "22",
         "IDN",
         "coal_ppl",
         "2005",
         "2045",
         "standard",
         "IDN",
         "electricity",
         "secondary",
         "year",
         "year",
         "0.37",
         "-"
        ],
        [
         "23",
         "IDN",
         "coal_ppl",
         "2005",
         "2046",
         "standard",
         "IDN",
         "electricity",
         "secondary",
         "year",
         "year",
         "0.37",
         "-"
        ],
        [
         "24",
         "IDN",
         "coal_ppl",
         "2005",
         "2047",
         "standard",
         "IDN",
         "electricity",
         "secondary",
         "year",
         "year",
         "0.37",
         "-"
        ],
        [
         "25",
         "IDN",
         "coal_ppl",
         "2005",
         "2048",
         "standard",
         "IDN",
         "electricity",
         "secondary",
         "year",
         "year",
         "0.37",
         "-"
        ],
        [
         "26",
         "IDN",
         "coal_ppl",
         "2005",
         "2049",
         "standard",
         "IDN",
         "electricity",
         "secondary",
         "year",
         "year",
         "0.37",
         "-"
        ],
        [
         "27",
         "IDN",
         "coal_ppl",
         "2005",
         "2050",
         "standard",
         "IDN",
         "electricity",
         "secondary",
         "year",
         "year",
         "0.37",
         "-"
        ],
        [
         "28",
         "IDN",
         "coal_ppl",
         "2006",
         "2023",
         "standard",
         "IDN",
         "electricity",
         "secondary",
         "year",
         "year",
         "0.37",
         "-"
        ],
        [
         "29",
         "IDN",
         "coal_ppl",
         "2006",
         "2024",
         "standard",
         "IDN",
         "electricity",
         "secondary",
         "year",
         "year",
         "0.37",
         "-"
        ],
        [
         "30",
         "IDN",
         "coal_ppl",
         "2006",
         "2025",
         "standard",
         "IDN",
         "electricity",
         "secondary",
         "year",
         "year",
         "0.37",
         "-"
        ],
        [
         "31",
         "IDN",
         "coal_ppl",
         "2006",
         "2026",
         "standard",
         "IDN",
         "electricity",
         "secondary",
         "year",
         "year",
         "0.37",
         "-"
        ],
        [
         "32",
         "IDN",
         "coal_ppl",
         "2006",
         "2027",
         "standard",
         "IDN",
         "electricity",
         "secondary",
         "year",
         "year",
         "0.37",
         "-"
        ],
        [
         "33",
         "IDN",
         "coal_ppl",
         "2006",
         "2028",
         "standard",
         "IDN",
         "electricity",
         "secondary",
         "year",
         "year",
         "0.37",
         "-"
        ],
        [
         "34",
         "IDN",
         "coal_ppl",
         "2006",
         "2029",
         "standard",
         "IDN",
         "electricity",
         "secondary",
         "year",
         "year",
         "0.37",
         "-"
        ],
        [
         "35",
         "IDN",
         "coal_ppl",
         "2006",
         "2030",
         "standard",
         "IDN",
         "electricity",
         "secondary",
         "year",
         "year",
         "0.37",
         "-"
        ],
        [
         "36",
         "IDN",
         "coal_ppl",
         "2006",
         "2031",
         "standard",
         "IDN",
         "electricity",
         "secondary",
         "year",
         "year",
         "0.37",
         "-"
        ],
        [
         "37",
         "IDN",
         "coal_ppl",
         "2006",
         "2032",
         "standard",
         "IDN",
         "electricity",
         "secondary",
         "year",
         "year",
         "0.37",
         "-"
        ],
        [
         "38",
         "IDN",
         "coal_ppl",
         "2006",
         "2033",
         "standard",
         "IDN",
         "electricity",
         "secondary",
         "year",
         "year",
         "0.37",
         "-"
        ],
        [
         "39",
         "IDN",
         "coal_ppl",
         "2006",
         "2034",
         "standard",
         "IDN",
         "electricity",
         "secondary",
         "year",
         "year",
         "0.37",
         "-"
        ],
        [
         "40",
         "IDN",
         "coal_ppl",
         "2006",
         "2035",
         "standard",
         "IDN",
         "electricity",
         "secondary",
         "year",
         "year",
         "0.37",
         "-"
        ],
        [
         "41",
         "IDN",
         "coal_ppl",
         "2006",
         "2036",
         "standard",
         "IDN",
         "electricity",
         "secondary",
         "year",
         "year",
         "0.37",
         "-"
        ],
        [
         "42",
         "IDN",
         "coal_ppl",
         "2006",
         "2037",
         "standard",
         "IDN",
         "electricity",
         "secondary",
         "year",
         "year",
         "0.37",
         "-"
        ],
        [
         "43",
         "IDN",
         "coal_ppl",
         "2006",
         "2038",
         "standard",
         "IDN",
         "electricity",
         "secondary",
         "year",
         "year",
         "0.37",
         "-"
        ],
        [
         "44",
         "IDN",
         "coal_ppl",
         "2006",
         "2039",
         "standard",
         "IDN",
         "electricity",
         "secondary",
         "year",
         "year",
         "0.37",
         "-"
        ],
        [
         "45",
         "IDN",
         "coal_ppl",
         "2006",
         "2040",
         "standard",
         "IDN",
         "electricity",
         "secondary",
         "year",
         "year",
         "0.37",
         "-"
        ],
        [
         "46",
         "IDN",
         "coal_ppl",
         "2006",
         "2041",
         "standard",
         "IDN",
         "electricity",
         "secondary",
         "year",
         "year",
         "0.37",
         "-"
        ],
        [
         "47",
         "IDN",
         "coal_ppl",
         "2006",
         "2042",
         "standard",
         "IDN",
         "electricity",
         "secondary",
         "year",
         "year",
         "0.37",
         "-"
        ],
        [
         "48",
         "IDN",
         "coal_ppl",
         "2006",
         "2043",
         "standard",
         "IDN",
         "electricity",
         "secondary",
         "year",
         "year",
         "0.37",
         "-"
        ],
        [
         "49",
         "IDN",
         "coal_ppl",
         "2006",
         "2044",
         "standard",
         "IDN",
         "electricity",
         "secondary",
         "year",
         "year",
         "0.37",
         "-"
        ]
       ],
       "shape": {
        "columns": 12,
        "rows": 12740
       }
      },
      "text/html": [
       "<div>\n",
       "<style scoped>\n",
       "    .dataframe tbody tr th:only-of-type {\n",
       "        vertical-align: middle;\n",
       "    }\n",
       "\n",
       "    .dataframe tbody tr th {\n",
       "        vertical-align: top;\n",
       "    }\n",
       "\n",
       "    .dataframe thead th {\n",
       "        text-align: right;\n",
       "    }\n",
       "</style>\n",
       "<table border=\"1\" class=\"dataframe\">\n",
       "  <thead>\n",
       "    <tr style=\"text-align: right;\">\n",
       "      <th></th>\n",
       "      <th>node_loc</th>\n",
       "      <th>technology</th>\n",
       "      <th>year_vtg</th>\n",
       "      <th>year_act</th>\n",
       "      <th>mode</th>\n",
       "      <th>node_dest</th>\n",
       "      <th>commodity</th>\n",
       "      <th>level</th>\n",
       "      <th>time</th>\n",
       "      <th>time_dest</th>\n",
       "      <th>value</th>\n",
       "      <th>unit</th>\n",
       "    </tr>\n",
       "  </thead>\n",
       "  <tbody>\n",
       "    <tr>\n",
       "      <th>0</th>\n",
       "      <td>IDN</td>\n",
       "      <td>coal_ppl</td>\n",
       "      <td>2005</td>\n",
       "      <td>2023</td>\n",
       "      <td>standard</td>\n",
       "      <td>IDN</td>\n",
       "      <td>electricity</td>\n",
       "      <td>secondary</td>\n",
       "      <td>year</td>\n",
       "      <td>year</td>\n",
       "      <td>0.37</td>\n",
       "      <td>-</td>\n",
       "    </tr>\n",
       "    <tr>\n",
       "      <th>1</th>\n",
       "      <td>IDN</td>\n",
       "      <td>coal_ppl</td>\n",
       "      <td>2005</td>\n",
       "      <td>2024</td>\n",
       "      <td>standard</td>\n",
       "      <td>IDN</td>\n",
       "      <td>electricity</td>\n",
       "      <td>secondary</td>\n",
       "      <td>year</td>\n",
       "      <td>year</td>\n",
       "      <td>0.37</td>\n",
       "      <td>-</td>\n",
       "    </tr>\n",
       "    <tr>\n",
       "      <th>2</th>\n",
       "      <td>IDN</td>\n",
       "      <td>coal_ppl</td>\n",
       "      <td>2005</td>\n",
       "      <td>2025</td>\n",
       "      <td>standard</td>\n",
       "      <td>IDN</td>\n",
       "      <td>electricity</td>\n",
       "      <td>secondary</td>\n",
       "      <td>year</td>\n",
       "      <td>year</td>\n",
       "      <td>0.37</td>\n",
       "      <td>-</td>\n",
       "    </tr>\n",
       "    <tr>\n",
       "      <th>3</th>\n",
       "      <td>IDN</td>\n",
       "      <td>coal_ppl</td>\n",
       "      <td>2005</td>\n",
       "      <td>2026</td>\n",
       "      <td>standard</td>\n",
       "      <td>IDN</td>\n",
       "      <td>electricity</td>\n",
       "      <td>secondary</td>\n",
       "      <td>year</td>\n",
       "      <td>year</td>\n",
       "      <td>0.37</td>\n",
       "      <td>-</td>\n",
       "    </tr>\n",
       "    <tr>\n",
       "      <th>4</th>\n",
       "      <td>IDN</td>\n",
       "      <td>coal_ppl</td>\n",
       "      <td>2005</td>\n",
       "      <td>2027</td>\n",
       "      <td>standard</td>\n",
       "      <td>IDN</td>\n",
       "      <td>electricity</td>\n",
       "      <td>secondary</td>\n",
       "      <td>year</td>\n",
       "      <td>year</td>\n",
       "      <td>0.37</td>\n",
       "      <td>-</td>\n",
       "    </tr>\n",
       "    <tr>\n",
       "      <th>...</th>\n",
       "      <td>...</td>\n",
       "      <td>...</td>\n",
       "      <td>...</td>\n",
       "      <td>...</td>\n",
       "      <td>...</td>\n",
       "      <td>...</td>\n",
       "      <td>...</td>\n",
       "      <td>...</td>\n",
       "      <td>...</td>\n",
       "      <td>...</td>\n",
       "      <td>...</td>\n",
       "      <td>...</td>\n",
       "    </tr>\n",
       "    <tr>\n",
       "      <th>12735</th>\n",
       "      <td>IDN</td>\n",
       "      <td>residential_el_tec</td>\n",
       "      <td>2048</td>\n",
       "      <td>2049</td>\n",
       "      <td>standard</td>\n",
       "      <td>IDN</td>\n",
       "      <td>residential_el</td>\n",
       "      <td>useful</td>\n",
       "      <td>year</td>\n",
       "      <td>year</td>\n",
       "      <td>1.00</td>\n",
       "      <td>-</td>\n",
       "    </tr>\n",
       "    <tr>\n",
       "      <th>12736</th>\n",
       "      <td>IDN</td>\n",
       "      <td>residential_el_tec</td>\n",
       "      <td>2048</td>\n",
       "      <td>2050</td>\n",
       "      <td>standard</td>\n",
       "      <td>IDN</td>\n",
       "      <td>residential_el</td>\n",
       "      <td>useful</td>\n",
       "      <td>year</td>\n",
       "      <td>year</td>\n",
       "      <td>1.00</td>\n",
       "      <td>-</td>\n",
       "    </tr>\n",
       "    <tr>\n",
       "      <th>12737</th>\n",
       "      <td>IDN</td>\n",
       "      <td>residential_el_tec</td>\n",
       "      <td>2049</td>\n",
       "      <td>2049</td>\n",
       "      <td>standard</td>\n",
       "      <td>IDN</td>\n",
       "      <td>residential_el</td>\n",
       "      <td>useful</td>\n",
       "      <td>year</td>\n",
       "      <td>year</td>\n",
       "      <td>1.00</td>\n",
       "      <td>-</td>\n",
       "    </tr>\n",
       "    <tr>\n",
       "      <th>12738</th>\n",
       "      <td>IDN</td>\n",
       "      <td>residential_el_tec</td>\n",
       "      <td>2049</td>\n",
       "      <td>2050</td>\n",
       "      <td>standard</td>\n",
       "      <td>IDN</td>\n",
       "      <td>residential_el</td>\n",
       "      <td>useful</td>\n",
       "      <td>year</td>\n",
       "      <td>year</td>\n",
       "      <td>1.00</td>\n",
       "      <td>-</td>\n",
       "    </tr>\n",
       "    <tr>\n",
       "      <th>12739</th>\n",
       "      <td>IDN</td>\n",
       "      <td>residential_el_tec</td>\n",
       "      <td>2050</td>\n",
       "      <td>2050</td>\n",
       "      <td>standard</td>\n",
       "      <td>IDN</td>\n",
       "      <td>residential_el</td>\n",
       "      <td>useful</td>\n",
       "      <td>year</td>\n",
       "      <td>year</td>\n",
       "      <td>1.00</td>\n",
       "      <td>-</td>\n",
       "    </tr>\n",
       "  </tbody>\n",
       "</table>\n",
       "<p>12740 rows × 12 columns</p>\n",
       "</div>"
      ],
      "text/plain": [
       "      node_loc          technology  year_vtg  year_act      mode node_dest  \\\n",
       "0          IDN            coal_ppl      2005      2023  standard       IDN   \n",
       "1          IDN            coal_ppl      2005      2024  standard       IDN   \n",
       "2          IDN            coal_ppl      2005      2025  standard       IDN   \n",
       "3          IDN            coal_ppl      2005      2026  standard       IDN   \n",
       "4          IDN            coal_ppl      2005      2027  standard       IDN   \n",
       "...        ...                 ...       ...       ...       ...       ...   \n",
       "12735      IDN  residential_el_tec      2048      2049  standard       IDN   \n",
       "12736      IDN  residential_el_tec      2048      2050  standard       IDN   \n",
       "12737      IDN  residential_el_tec      2049      2049  standard       IDN   \n",
       "12738      IDN  residential_el_tec      2049      2050  standard       IDN   \n",
       "12739      IDN  residential_el_tec      2050      2050  standard       IDN   \n",
       "\n",
       "            commodity      level  time time_dest  value unit  \n",
       "0         electricity  secondary  year      year   0.37    -  \n",
       "1         electricity  secondary  year      year   0.37    -  \n",
       "2         electricity  secondary  year      year   0.37    -  \n",
       "3         electricity  secondary  year      year   0.37    -  \n",
       "4         electricity  secondary  year      year   0.37    -  \n",
       "...               ...        ...   ...       ...    ...  ...  \n",
       "12735  residential_el     useful  year      year   1.00    -  \n",
       "12736  residential_el     useful  year      year   1.00    -  \n",
       "12737  residential_el     useful  year      year   1.00    -  \n",
       "12738  residential_el     useful  year      year   1.00    -  \n",
       "12739  residential_el     useful  year      year   1.00    -  \n",
       "\n",
       "[12740 rows x 12 columns]"
      ]
     },
     "execution_count": 84,
     "metadata": {},
     "output_type": "execute_result"
    }
   ],
   "source": [
    "scenario.par('output')"
   ]
  },
  {
   "cell_type": "code",
   "execution_count": 38,
   "metadata": {},
   "outputs": [
    {
     "data": {
      "text/plain": [
       "858472.875"
      ]
     },
     "execution_count": 38,
     "metadata": {},
     "output_type": "execute_result"
    }
   ],
   "source": [
    "scenario.var(\"OBJ\")[\"lvl\"]\n"
   ]
  },
  {
   "cell_type": "markdown",
   "metadata": {},
   "source": [
    "# Plotting Result"
   ]
  },
  {
   "cell_type": "code",
   "execution_count": 39,
   "metadata": {},
   "outputs": [],
   "source": [
    "%matplotlib inline\n"
   ]
  },
  {
   "cell_type": "code",
   "execution_count": 40,
   "metadata": {},
   "outputs": [
    {
     "data": {
      "application/javascript": "if (typeof IPython !== 'undefined') { IPython.OutputArea.prototype._should_scroll = function(lines){ return false; }}",
      "text/plain": [
       "<IPython.core.display.Javascript object>"
      ]
     },
     "metadata": {},
     "output_type": "display_data"
    }
   ],
   "source": [
    "from message_ix.report import Reporter\n",
    "from message_ix.util.tutorial import prepare_plots\n",
    "\n",
    "# Create a Reporter object to describe and carry out reporting\n",
    "# calculations and operations (like plotting) based on `scenario`\n",
    "rep = Reporter.from_scenario(scenario)\n",
    "\n",
    "# \"prepare_plots\" enables several to describe reporting operations, e.g.\n",
    "# \"plot activity\", \"plot capacity\", or \"plot prices\"\n",
    "# See message_ix/util/tutorial.py for more information\n",
    "prepare_plots(rep)"
   ]
  },
  {
   "cell_type": "code",
   "execution_count": 41,
   "metadata": {},
   "outputs": [
    {
     "data": {
      "text/plain": [
       "<Axes: title={'center': 'IDN Energy System Activity'}, xlabel='Year', ylabel='GWa'>"
      ]
     },
     "execution_count": 41,
     "metadata": {},
     "output_type": "execute_result"
    },
    {
     "data": {
      "image/png": "[encoded data removed]",
      "text/plain": [
       "<Figure size 640x480 with 1 Axes>"
      ]
     },
     "metadata": {},
     "output_type": "display_data"
    }
   ],
   "source": [
    "rep.set_filters(t=ppl_tec, ya=model_horizon)\n",
    "rep.get(\"plot activity\")\n",
    "\n"
   ]
  },
  {
   "cell_type": "code",
   "execution_count": 42,
   "metadata": {},
   "outputs": [
    {
     "data": {
      "text/plain": [
       "<Axes: title={'center': 'IDN Energy System Capacity'}, xlabel='Year', ylabel='GW'>"
      ]
     },
     "execution_count": 42,
     "metadata": {},
     "output_type": "execute_result"
    },
    {
     "data": {
      "image/png": "[encoded data removed]",
      "text/plain": [
       "<Figure size 640x480 with 1 Axes>"
      ]
     },
     "metadata": {},
     "output_type": "display_data"
    }
   ],
   "source": [
    "rep.get('plot capacity')"
   ]
  },
  {
   "cell_type": "code",
   "execution_count": 43,
   "metadata": {},
   "outputs": [
    {
     "data": {
      "application/vnd.microsoft.datawrangler.viewer.v0+json": {
       "columns": [
        {
         "name": "index",
         "rawType": "int64",
         "type": "integer"
        },
        {
         "name": "node_loc",
         "rawType": "object",
         "type": "string"
        },
        {
         "name": "technology",
         "rawType": "object",
         "type": "string"
        },
        {
         "name": "year_act",
         "rawType": "int64",
         "type": "integer"
        },
        {
         "name": "mode",
         "rawType": "object",
         "type": "string"
        },
        {
         "name": "time",
         "rawType": "object",
         "type": "string"
        },
        {
         "name": "value",
         "rawType": "float64",
         "type": "float"
        },
        {
         "name": "unit",
         "rawType": "object",
         "type": "string"
        }
       ],
       "conversionMethod": "pd.DataFrame",
       "ref": "1f02763b-6f08-4434-8e8d-8e1facd8b006",
       "rows": [
        [
         "0",
         "IDN",
         "coal_ppl",
         "2005",
         "standard",
         "year",
         "6.947945205479456",
         "GWa"
        ],
        [
         "1",
         "IDN",
         "coal_ppl",
         "2006",
         "standard",
         "year",
         "7.774315068493151",
         "GWa"
        ],
        [
         "2",
         "IDN",
         "coal_ppl",
         "2007",
         "standard",
         "year",
         "8.478196347031968",
         "GWa"
        ],
        [
         "3",
         "IDN",
         "coal_ppl",
         "2008",
         "standard",
         "year",
         "8.296803652968038",
         "GWa"
        ],
        [
         "4",
         "IDN",
         "coal_ppl",
         "2009",
         "standard",
         "year",
         "8.65342465753425",
         "GWa"
        ],
        [
         "5",
         "IDN",
         "coal_ppl",
         "2010",
         "standard",
         "year",
         "8.720547945205476",
         "GWa"
        ],
        [
         "6",
         "IDN",
         "coal_ppl",
         "2011",
         "standard",
         "year",
         "10.13869863013699",
         "GWa"
        ],
        [
         "7",
         "IDN",
         "coal_ppl",
         "2012",
         "standard",
         "year",
         "12.525913242009139",
         "GWa"
        ],
        [
         "8",
         "IDN",
         "coal_ppl",
         "2013",
         "standard",
         "year",
         "13.49303652968037",
         "GWa"
        ],
        [
         "9",
         "IDN",
         "coal_ppl",
         "2014",
         "standard",
         "year",
         "14.439497716894985",
         "GWa"
        ],
        [
         "10",
         "IDN",
         "coal_ppl",
         "2015",
         "standard",
         "year",
         "15.616324200913251",
         "GWa"
        ],
        [
         "11",
         "IDN",
         "coal_ppl",
         "2016",
         "standard",
         "year",
         "16.172716894977167",
         "GWa"
        ],
        [
         "12",
         "IDN",
         "coal_ppl",
         "2017",
         "standard",
         "year",
         "17.427739726027408",
         "GWa"
        ],
        [
         "13",
         "IDN",
         "coal_ppl",
         "2018",
         "standard",
         "year",
         "18.26632420091325",
         "GWa"
        ],
        [
         "14",
         "IDN",
         "coal_ppl",
         "2019",
         "standard",
         "year",
         "19.919292237442928",
         "GWa"
        ],
        [
         "15",
         "IDN",
         "coal_ppl",
         "2020",
         "standard",
         "year",
         "20.647146118721476",
         "GWa"
        ],
        [
         "16",
         "IDN",
         "coal_ppl",
         "2021",
         "standard",
         "year",
         "21.68470319634704",
         "GWa"
        ],
        [
         "17",
         "IDN",
         "coal_ppl",
         "2022",
         "standard",
         "year",
         "23.436986301369874",
         "GWa"
        ],
        [
         "18",
         "IDN",
         "gas_ppl",
         "2005",
         "standard",
         "year",
         "4.594748858447487",
         "GWa"
        ],
        [
         "19",
         "IDN",
         "gas_ppl",
         "2006",
         "standard",
         "year",
         "4.515068493150685",
         "GWa"
        ],
        [
         "20",
         "IDN",
         "gas_ppl",
         "2007",
         "standard",
         "year",
         "4.669292237442924",
         "GWa"
        ],
        [
         "21",
         "IDN",
         "gas_ppl",
         "2008",
         "standard",
         "year",
         "5.282990867579911",
         "GWa"
        ],
        [
         "22",
         "IDN",
         "gas_ppl",
         "2009",
         "standard",
         "year",
         "5.648858447488585",
         "GWa"
        ],
        [
         "23",
         "IDN",
         "gas_ppl",
         "2010",
         "standard",
         "year",
         "6.196575342465757",
         "GWa"
        ],
        [
         "24",
         "IDN",
         "gas_ppl",
         "2011",
         "standard",
         "year",
         "6.427054794520549",
         "GWa"
        ],
        [
         "25",
         "IDN",
         "gas_ppl",
         "2012",
         "standard",
         "year",
         "5.610045662100458",
         "GWa"
        ],
        [
         "26",
         "IDN",
         "gas_ppl",
         "2013",
         "standard",
         "year",
         "5.970319634703196",
         "GWa"
        ],
        [
         "27",
         "IDN",
         "gas_ppl",
         "2014",
         "standard",
         "year",
         "6.226484018264843",
         "GWa"
        ],
        [
         "28",
         "IDN",
         "gas_ppl",
         "2015",
         "standard",
         "year",
         "6.1502283105022855",
         "GWa"
        ],
        [
         "29",
         "IDN",
         "gas_ppl",
         "2016",
         "standard",
         "year",
         "6.526369863013704",
         "GWa"
        ],
        [
         "30",
         "IDN",
         "gas_ppl",
         "2017",
         "standard",
         "year",
         "5.864611872146121",
         "GWa"
        ],
        [
         "31",
         "IDN",
         "gas_ppl",
         "2018",
         "standard",
         "year",
         "6.177899543379",
         "GWa"
        ],
        [
         "32",
         "IDN",
         "gas_ppl",
         "2019",
         "standard",
         "year",
         "6.702671232876714",
         "GWa"
        ],
        [
         "33",
         "IDN",
         "gas_ppl",
         "2020",
         "standard",
         "year",
         "5.695993150684934",
         "GWa"
        ],
        [
         "34",
         "IDN",
         "gas_ppl",
         "2021",
         "standard",
         "year",
         "6.340182648401825",
         "GWa"
        ],
        [
         "35",
         "IDN",
         "gas_ppl",
         "2022",
         "standard",
         "year",
         "6.375228310502291",
         "GWa"
        ],
        [
         "36",
         "IDN",
         "oil_ppl",
         "2005",
         "standard",
         "year",
         "1.0407534246575347",
         "GWa"
        ],
        [
         "37",
         "IDN",
         "oil_ppl",
         "2006",
         "standard",
         "year",
         "1.0471461187214612",
         "GWa"
        ],
        [
         "38",
         "IDN",
         "oil_ppl",
         "2007",
         "standard",
         "year",
         "1.0229452054794521",
         "GWa"
        ],
        [
         "39",
         "IDN",
         "oil_ppl",
         "2008",
         "standard",
         "year",
         "1.2146118721461194",
         "GWa"
        ],
        [
         "40",
         "IDN",
         "oil_ppl",
         "2009",
         "standard",
         "year",
         "1.2357305936073064",
         "GWa"
        ],
        [
         "41",
         "IDN",
         "oil_ppl",
         "2010",
         "standard",
         "year",
         "1.4034246575342462",
         "GWa"
        ],
        [
         "42",
         "IDN",
         "oil_ppl",
         "2011",
         "standard",
         "year",
         "1.880707762557079",
         "GWa"
        ],
        [
         "43",
         "IDN",
         "oil_ppl",
         "2012",
         "standard",
         "year",
         "2.190867579908677",
         "GWa"
        ],
        [
         "44",
         "IDN",
         "oil_ppl",
         "2013",
         "standard",
         "year",
         "2.2039954337899563",
         "GWa"
        ],
        [
         "45",
         "IDN",
         "oil_ppl",
         "2014",
         "standard",
         "year",
         "2.5433789954337906",
         "GWa"
        ],
        [
         "46",
         "IDN",
         "oil_ppl",
         "2015",
         "standard",
         "year",
         "2.225114155251142",
         "GWa"
        ],
        [
         "47",
         "IDN",
         "oil_ppl",
         "2016",
         "standard",
         "year",
         "2.249771689497718",
         "GWa"
        ],
        [
         "48",
         "IDN",
         "oil_ppl",
         "2017",
         "standard",
         "year",
         "2.11906392694064",
         "GWa"
        ],
        [
         "49",
         "IDN",
         "oil_ppl",
         "2018",
         "standard",
         "year",
         "1.9896118721461196",
         "GWa"
        ]
       ],
       "shape": {
        "columns": 7,
        "rows": 162
       }
      },
      "text/html": [
       "<div>\n",
       "<style scoped>\n",
       "    .dataframe tbody tr th:only-of-type {\n",
       "        vertical-align: middle;\n",
       "    }\n",
       "\n",
       "    .dataframe tbody tr th {\n",
       "        vertical-align: top;\n",
       "    }\n",
       "\n",
       "    .dataframe thead th {\n",
       "        text-align: right;\n",
       "    }\n",
       "</style>\n",
       "<table border=\"1\" class=\"dataframe\">\n",
       "  <thead>\n",
       "    <tr style=\"text-align: right;\">\n",
       "      <th></th>\n",
       "      <th>node_loc</th>\n",
       "      <th>technology</th>\n",
       "      <th>year_act</th>\n",
       "      <th>mode</th>\n",
       "      <th>time</th>\n",
       "      <th>value</th>\n",
       "      <th>unit</th>\n",
       "    </tr>\n",
       "  </thead>\n",
       "  <tbody>\n",
       "    <tr>\n",
       "      <th>0</th>\n",
       "      <td>IDN</td>\n",
       "      <td>coal_ppl</td>\n",
       "      <td>2005</td>\n",
       "      <td>standard</td>\n",
       "      <td>year</td>\n",
       "      <td>6.947945</td>\n",
       "      <td>GWa</td>\n",
       "    </tr>\n",
       "    <tr>\n",
       "      <th>1</th>\n",
       "      <td>IDN</td>\n",
       "      <td>coal_ppl</td>\n",
       "      <td>2006</td>\n",
       "      <td>standard</td>\n",
       "      <td>year</td>\n",
       "      <td>7.774315</td>\n",
       "      <td>GWa</td>\n",
       "    </tr>\n",
       "    <tr>\n",
       "      <th>2</th>\n",
       "      <td>IDN</td>\n",
       "      <td>coal_ppl</td>\n",
       "      <td>2007</td>\n",
       "      <td>standard</td>\n",
       "      <td>year</td>\n",
       "      <td>8.478196</td>\n",
       "      <td>GWa</td>\n",
       "    </tr>\n",
       "    <tr>\n",
       "      <th>3</th>\n",
       "      <td>IDN</td>\n",
       "      <td>coal_ppl</td>\n",
       "      <td>2008</td>\n",
       "      <td>standard</td>\n",
       "      <td>year</td>\n",
       "      <td>8.296804</td>\n",
       "      <td>GWa</td>\n",
       "    </tr>\n",
       "    <tr>\n",
       "      <th>4</th>\n",
       "      <td>IDN</td>\n",
       "      <td>coal_ppl</td>\n",
       "      <td>2009</td>\n",
       "      <td>standard</td>\n",
       "      <td>year</td>\n",
       "      <td>8.653425</td>\n",
       "      <td>GWa</td>\n",
       "    </tr>\n",
       "    <tr>\n",
       "      <th>...</th>\n",
       "      <td>...</td>\n",
       "      <td>...</td>\n",
       "      <td>...</td>\n",
       "      <td>...</td>\n",
       "      <td>...</td>\n",
       "      <td>...</td>\n",
       "      <td>...</td>\n",
       "    </tr>\n",
       "    <tr>\n",
       "      <th>157</th>\n",
       "      <td>IDN</td>\n",
       "      <td>nuclear_ppl</td>\n",
       "      <td>2018</td>\n",
       "      <td>standard</td>\n",
       "      <td>year</td>\n",
       "      <td>0.000000</td>\n",
       "      <td>GWa</td>\n",
       "    </tr>\n",
       "    <tr>\n",
       "      <th>158</th>\n",
       "      <td>IDN</td>\n",
       "      <td>nuclear_ppl</td>\n",
       "      <td>2019</td>\n",
       "      <td>standard</td>\n",
       "      <td>year</td>\n",
       "      <td>0.000000</td>\n",
       "      <td>GWa</td>\n",
       "    </tr>\n",
       "    <tr>\n",
       "      <th>159</th>\n",
       "      <td>IDN</td>\n",
       "      <td>nuclear_ppl</td>\n",
       "      <td>2020</td>\n",
       "      <td>standard</td>\n",
       "      <td>year</td>\n",
       "      <td>0.000000</td>\n",
       "      <td>GWa</td>\n",
       "    </tr>\n",
       "    <tr>\n",
       "      <th>160</th>\n",
       "      <td>IDN</td>\n",
       "      <td>nuclear_ppl</td>\n",
       "      <td>2021</td>\n",
       "      <td>standard</td>\n",
       "      <td>year</td>\n",
       "      <td>0.000000</td>\n",
       "      <td>GWa</td>\n",
       "    </tr>\n",
       "    <tr>\n",
       "      <th>161</th>\n",
       "      <td>IDN</td>\n",
       "      <td>nuclear_ppl</td>\n",
       "      <td>2022</td>\n",
       "      <td>standard</td>\n",
       "      <td>year</td>\n",
       "      <td>0.000000</td>\n",
       "      <td>GWa</td>\n",
       "    </tr>\n",
       "  </tbody>\n",
       "</table>\n",
       "<p>162 rows × 7 columns</p>\n",
       "</div>"
      ],
      "text/plain": [
       "    node_loc   technology  year_act      mode  time     value unit\n",
       "0        IDN     coal_ppl      2005  standard  year  6.947945  GWa\n",
       "1        IDN     coal_ppl      2006  standard  year  7.774315  GWa\n",
       "2        IDN     coal_ppl      2007  standard  year  8.478196  GWa\n",
       "3        IDN     coal_ppl      2008  standard  year  8.296804  GWa\n",
       "4        IDN     coal_ppl      2009  standard  year  8.653425  GWa\n",
       "..       ...          ...       ...       ...   ...       ...  ...\n",
       "157      IDN  nuclear_ppl      2018  standard  year  0.000000  GWa\n",
       "158      IDN  nuclear_ppl      2019  standard  year  0.000000  GWa\n",
       "159      IDN  nuclear_ppl      2020  standard  year  0.000000  GWa\n",
       "160      IDN  nuclear_ppl      2021  standard  year  0.000000  GWa\n",
       "161      IDN  nuclear_ppl      2022  standard  year  0.000000  GWa\n",
       "\n",
       "[162 rows x 7 columns]"
      ]
     },
     "execution_count": 43,
     "metadata": {},
     "output_type": "execute_result"
    }
   ],
   "source": [
    "scenario.par('historical_activity')"
   ]
  },
  {
   "cell_type": "code",
   "execution_count": 44,
   "metadata": {},
   "outputs": [
    {
     "data": {
      "text/plain": [
       "<Axes: title={'center': 'IDN Fossil Supply'}, xlabel='Resource volume [GWa]', ylabel='Cost [USD / KWa]'>"
      ]
     },
     "execution_count": 44,
     "metadata": {},
     "output_type": "execute_result"
    },
    {
     "data": {
      "image/png": "[encoded data removed]",
      "text/plain": [
       "<Figure size 640x480 with 1 Axes>"
      ]
     },
     "metadata": {},
     "output_type": "display_data"
    }
   ],
   "source": [
    "rep.set_filters()\n",
    "rep.get(\"plot fossil supply curve\")\n"
   ]
  },
  {
   "cell_type": "code",
   "execution_count": 45,
   "metadata": {},
   "outputs": [
    {
     "data": {
      "text/plain": [
       "<Axes: title={'center': 'g\\n    IDN\\nName: 0, dtype: object Energy System Extraction'}, xlabel='Year', ylabel='GW'>"
      ]
     },
     "execution_count": 45,
     "metadata": {},
     "output_type": "execute_result"
    },
    {
     "data": {
      "image/png": "[encoded data removed]",
      "text/plain": [
       "<Figure size 640x480 with 1 Axes>"
      ]
     },
     "metadata": {},
     "output_type": "display_data"
    }
   ],
   "source": [
    "rep.set_filters()\n",
    "rep.get(\"plot extraction\")\n"
   ]
  },
  {
   "cell_type": "code",
   "execution_count": 46,
   "metadata": {},
   "outputs": [
    {
     "data": {
      "text/plain": [
       "<Axes: title={'center': 'IDN Energy System Demand'}, xlabel='Year', ylabel='GWa'>"
      ]
     },
     "execution_count": 46,
     "metadata": {},
     "output_type": "execute_result"
    },
    {
     "data": {
      "image/png": "[encoded data removed]",
      "text/plain": [
       "<Figure size 640x480 with 1 Axes>"
      ]
     },
     "metadata": {},
     "output_type": "display_data"
    }
   ],
   "source": [
    "rep.get('plot demand')"
   ]
  },
  {
   "cell_type": "code",
   "execution_count": 363,
   "metadata": {},
   "outputs": [],
   "source": [
    "scenario.remove_solution()"
   ]
  },
  {
   "cell_type": "code",
   "execution_count": 364,
   "metadata": {},
   "outputs": [],
   "source": [
    "scenario.check_out()"
   ]
  },
  {
   "cell_type": "code",
   "execution_count": 266,
   "metadata": {},
   "outputs": [],
   "source": [
    "mp.close_db()"
   ]
  },
  {
   "cell_type": "code",
   "execution_count": null,
   "metadata": {},
   "outputs": [],
   "source": []
  }
 ],
 "metadata": {
  "kernelspec": {
   "display_name": "message-env",
   "language": "python",
   "name": "python3"
  },
  "language_info": {
   "codemirror_mode": {
    "name": "ipython",
    "version": 3
   },
   "file_extension": ".py",
   "mimetype": "text/x-python",
   "name": "python",
   "nbconvert_exporter": "python",
   "pygments_lexer": "ipython3",
   "version": "3.9.21"
  }
 },
 "nbformat": 4,
 "nbformat_minor": 2
}
