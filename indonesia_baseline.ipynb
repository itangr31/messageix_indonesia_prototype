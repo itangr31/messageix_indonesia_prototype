{
 "cells": [
  {
   "cell_type": "markdown",
   "metadata": {},
   "source": [
    "# Model Initiation"
   ]
  },
  {
   "cell_type": "code",
   "execution_count": 117,
   "metadata": {},
   "outputs": [],
   "source": [
    "#Libary\n",
    "import pandas as pd\n",
    "import os"
   ]
  },
  {
   "cell_type": "code",
   "execution_count": 118,
   "metadata": {},
   "outputs": [],
   "source": [
    "import ixmp\n",
    "\n",
    "mp = ixmp.Platform()"
   ]
  },
  {
   "cell_type": "code",
   "execution_count": 119,
   "metadata": {},
   "outputs": [],
   "source": [
    "#convert mtoe to GWa\n",
    "conv_mtoe_gwa = 11.63*1000/8760\n",
    "conv_twh_gwa = 1000/8760"
   ]
  },
  {
   "cell_type": "code",
   "execution_count": 120,
   "metadata": {},
   "outputs": [],
   "source": [
    "import message_ix\n",
    "\n",
    "scenario = message_ix.Scenario(\n",
    "    mp, model='Indonesia Prototype', scenario='baseline', version='new'\n",
    ")"
   ]
  },
  {
   "cell_type": "markdown",
   "metadata": {},
   "source": [
    "# Functions"
   ]
  },
  {
   "cell_type": "code",
   "execution_count": null,
   "metadata": {},
   "outputs": [],
   "source": [
    "def get_act_vtg_years(y_df,horizon,lifetimes,technology):\n",
    "    \"\"\"\n",
    "    get active years and vintage years according to technology lifetime\n",
    "    \"\"\"\n",
    "    for year in horizon:\n",
    "        count = y_df[y_df['year_vtg'] == year]['year_vtg'].value_counts()\n",
    "        count = count[year]\n",
    "        if count > lifetimes[f'{technology}']:\n",
    "            df = y_df[y_df['year_vtg'] == year]\n",
    "            value = (count - lifetimes[f'{technology}'])*-1\n",
    "            index_to_remove = df.index[value:]\n",
    "\n",
    "            y_df = y_df.drop(index=index_to_remove)\n",
    "\n",
    "    return y_df['year_vtg'],y_df['year_act']\n",
    "            \n"
   ]
  },
  {
   "cell_type": "code",
   "execution_count": 122,
   "metadata": {},
   "outputs": [],
   "source": [
    "def fix_negative_values(df, fuel_col='fuel', year_col='Year', value_col='value'):\n",
    "    \"\"\"\n",
    "    Fix negative values by transferring values within the same fuel type.\n",
    "    Priority: Add to next year if exists, otherwise pull from previous years.\n",
    "    \n",
    "    Parameters:\n",
    "    - df: pandas DataFrame\n",
    "    - fuel_col: column name for fuel types\n",
    "    - year_col: column name for years\n",
    "    - value_col: column name for values to adjust\n",
    "\n",
    "    Returns:\n",
    "    - Adjusted DataFrame\n",
    "    \"\"\"\n",
    "    # Sort first to ensure correct order\n",
    "    df = df.sort_values(by=[fuel_col, year_col]).reset_index(drop=True)\n",
    "    \n",
    "    # Iterate through DataFrame\n",
    "    i = 0\n",
    "    while i < len(df):\n",
    "        if df.loc[i, value_col] < 0:\n",
    "            current_fuel = df.loc[i, fuel_col]\n",
    "            \n",
    "            # Try to find next year with same fuel\n",
    "            next_indices = df.index[(df.index > i) & (df[fuel_col] == current_fuel)]\n",
    "            \n",
    "            if len(next_indices) > 0:\n",
    "                next_i = next_indices[0]\n",
    "                df.loc[next_i, value_col] += df.loc[i, value_col]\n",
    "                df.loc[i, value_col] = 0\n",
    "            else:\n",
    "                # No next year: pull from previous years\n",
    "                prev_indices = df.index[(df.index < i) & (df[fuel_col] == current_fuel)].tolist()\n",
    "                prev_indices = prev_indices[::-1]  # Closest previous first\n",
    "\n",
    "                for prev_i in prev_indices:\n",
    "                    df.loc[i, value_col] += df.loc[prev_i, value_col]\n",
    "                    df.loc[prev_i, value_col] = 0\n",
    "                    if df.loc[i, value_col] >= 0:\n",
    "                        break\n",
    "        i += 1\n",
    "    \n",
    "    return df\n"
   ]
  },
  {
   "cell_type": "code",
   "execution_count": 123,
   "metadata": {},
   "outputs": [],
   "source": [
    "def fill_missing_values(main_df, reference_df, fuel_col='fuel', year_col='Year', value_col='value', year=2005):\n",
    "    \"\"\"\n",
    "    Fill missing or zero values in main_df using reference_df.\n",
    "\n",
    "    Parameters:\n",
    "    - main_df: DataFrame that needs filling\n",
    "    - reference_df: DataFrame providing reference values\n",
    "    - fuel_col: column name for fuel types\n",
    "    - year_col: column name for years\n",
    "    - value_col: column name for values to adjust\n",
    "\n",
    "    Returns:\n",
    "    - Filled DataFrame\n",
    "    \"\"\"\n",
    "    df = main_df.copy()\n",
    "    \n",
    "    for idx, row in df.iterrows():\n",
    "        # If value is NaN or zero\n",
    "        if pd.isna(row[value_col]):\n",
    "            ref_value = reference_df.loc[\n",
    "                (reference_df[fuel_col] == row[fuel_col]) & (reference_df[year_col] == year),\n",
    "                value_col\n",
    "            ]\n",
    "            if not ref_value.empty:\n",
    "                df.at[idx, value_col] = ref_value.values[0]\n",
    "    \n",
    "    return df"
   ]
  },
  {
   "cell_type": "markdown",
   "metadata": {},
   "source": [
    "# Model Structure"
   ]
  },
  {
   "cell_type": "markdown",
   "metadata": {},
   "source": [
    "<img src='Messageix Indonesia Structure.drawio.png' width='1000'>"
   ]
  },
  {
   "cell_type": "code",
   "execution_count": 124,
   "metadata": {},
   "outputs": [],
   "source": [
    "historical_horizon = list(range(2005,2023,1))\n",
    "model_horizon = list(range(2023,2051,1))\n",
    "\n",
    "horizon = historical_horizon+model_horizon\n",
    "\n",
    "scenario.add_horizon(year=historical_horizon+model_horizon)\n"
   ]
  },
  {
   "cell_type": "code",
   "execution_count": 125,
   "metadata": {},
   "outputs": [],
   "source": [
    "country='IDN'\n",
    "scenario.add_spatial_sets({'country':country})"
   ]
  },
  {
   "cell_type": "code",
   "execution_count": 126,
   "metadata": {},
   "outputs": [],
   "source": [
    "demand_com = [\n",
    "    'industry_el',\n",
    "    'transport_el',\n",
    "    'commercial_el',\n",
    "    'residential_el'\n",
    "]\n",
    "\n",
    "commodities = [\n",
    "    'coal',\n",
    "    'electricity',\n",
    "    'gas',\n",
    "    'oil'\n",
    "]\n",
    "\n",
    "all_com = demand_com + commodities"
   ]
  },
  {
   "cell_type": "code",
   "execution_count": 127,
   "metadata": {},
   "outputs": [],
   "source": [
    "\n",
    "ppl_tec = [\n",
    "    'coal_ppl',\n",
    "    'gas_ppl',\n",
    "    'oil_ppl',\n",
    "    'hydro_ppl',\n",
    "    'solar_ppl',\n",
    "    'wind_ppl',\n",
    "    'geo_ppl',\n",
    "    'bio_ppl',\n",
    "    'nuclear_ppl'\n",
    "]\n",
    "\n",
    "t_d_tec = [\n",
    "    'electricity_grid'\n",
    "           ]\n",
    "\n",
    "demand_tec = [\n",
    "    'industry_el_tec',\n",
    "    'transport_el_tec',\n",
    "    'commercial_el_tec',\n",
    "    'residential_el_tec'\n",
    "]\n",
    "\n",
    "all_tec =  ppl_tec + t_d_tec + demand_tec"
   ]
  },
  {
   "cell_type": "code",
   "execution_count": 128,
   "metadata": {},
   "outputs": [],
   "source": [
    "scenario.add_set('commodity',all_com)\n",
    "scenario.add_set('level',['primary','secondary','final','useful'])\n",
    "scenario.add_set('technology',all_tec)\n",
    "scenario.add_set('mode','standard')\n",
    "scenario.add_set('level_resource','primary')\n",
    "scenario.add_set('grade',['a_coal','a_gas','a_oil'])"
   ]
  },
  {
   "cell_type": "markdown",
   "metadata": {},
   "source": [
    "## Demand Parameter"
   ]
  },
  {
   "cell_type": "code",
   "execution_count": 129,
   "metadata": {},
   "outputs": [],
   "source": [
    "path = os.getcwd()\n",
    "path = os.path.dirname(path)\n",
    "filename = 'COPY Indonesia AEO8 Data.xlsx'\n",
    "filename = os.path.join(path,filename)\n",
    "\n",
    "sectors = ['Industry','Transport','Commercial','Residential']\n",
    "sector_models = ['industry_el','transport_el','commercial_el','residential_el']"
   ]
  },
  {
   "cell_type": "code",
   "execution_count": 130,
   "metadata": {},
   "outputs": [],
   "source": [
    "\n",
    "for sector,sector_model in zip(sectors,sector_models):\n",
    "\n",
    "    df = pd.read_excel(filename,sheet_name=f'IDN_{sector}_BAS',skiprows=6)\n",
    "    index = df[df['Fuel'] == 'Total'].index[0] #get index of the targeted sliced rows\n",
    "    df = df.loc[:index-1]\n",
    "    df = df.melt(id_vars='Fuel', value_vars=list(range(2005,2051,1)),var_name='Year')\n",
    "    df = df[(df['Fuel'] == 'Electricity') & (df['Year']>2022)]\n",
    "    df.value = df.value*conv_mtoe_gwa\n",
    "    values = df.value.tolist()\n",
    "\n",
    "    df_demand = pd.DataFrame(\n",
    "        {\n",
    "            'node':country,\n",
    "            'commodity':f'{sector_model}',\n",
    "            'level':'useful',\n",
    "            'year': model_horizon,\n",
    "            'time':'year',\n",
    "            'value':values,\n",
    "            'unit':'GWa'\n",
    "        }\n",
    "    )\n",
    "\n",
    "    scenario.add_par('demand',df_demand)\n",
    "    "
   ]
  },
  {
   "cell_type": "markdown",
   "metadata": {},
   "source": [
    "## Engineering Parameters"
   ]
  },
  {
   "cell_type": "code",
   "execution_count": 131,
   "metadata": {},
   "outputs": [],
   "source": [
    "year_df = scenario.vintage_and_active_years()\n",
    "vintage_years,act_years = year_df[\"year_vtg\"],year_df[\"year_act\"]"
   ]
  },
  {
   "cell_type": "code",
   "execution_count": 132,
   "metadata": {},
   "outputs": [],
   "source": [
    "#Technical Lifetime (data from LEAP)\n",
    "from message_ix import make_df\n",
    "\n",
    "base_technical_lifetime = {\n",
    "    'node_loc': country,\n",
    "    'year_vtg':vintage_years,\n",
    "    'unit':'y'\n",
    "}\n",
    "\n",
    "lifetimes ={\n",
    "    'coal_ppl':40,\n",
    "    'gas_ppl':30,\n",
    "    'oil_ppl':40,\n",
    "    'hydro_ppl':40,\n",
    "    'solar_ppl':20,\n",
    "    'wind_ppl':20,\n",
    "    'geo_ppl':30,\n",
    "    'bio_ppl':30,\n",
    "    'nuclear_ppl':60\n",
    "}\n",
    "\n",
    "for tec, val in lifetimes.items():\n",
    "    df = make_df(base_technical_lifetime,technology=tec,value=val)\n",
    "    scenario.add_par('technical_lifetime',df)\n",
    "\n"
   ]
  },
  {
   "cell_type": "code",
   "execution_count": 133,
   "metadata": {},
   "outputs": [
    {
     "data": {
      "text/plain": [
       "'scenario.add_par(\"input\",bio_ppl)\\nscenario.add_par(\"input\",nuclear_ppl)'"
      ]
     },
     "execution_count": 133,
     "metadata": {},
     "output_type": "execute_result"
    }
   ],
   "source": [
    "#Coal Input\n",
    "\n",
    "vintage_years,act_years = get_act_vtg_years(year_df,horizon,lifetimes,'coal_ppl')\n",
    "base_coal_input = {\n",
    "    \"node_loc\":country,\n",
    "    \"year_vtg\":vintage_years,\n",
    "    \"year_act\":act_years,\n",
    "    \"mode\":\"standard\",\n",
    "    \"node_origin\":country,\n",
    "    \"commodity\":\"coal\",\n",
    "    \"time\":\"year\",\n",
    "    \"time_origin\":\"year\"\n",
    "}\n",
    "\n",
    "coal_ppl = pd.DataFrame(\n",
    "    dict(\n",
    "        technology='coal_ppl',\n",
    "        level='primary',\n",
    "        value=1,\n",
    "        unit='-',\n",
    "        **base_coal_input,\n",
    "    )\n",
    ")\n",
    "\n",
    "#Gas Input\n",
    "\n",
    "vintage_years,act_years = get_act_vtg_years(year_df,horizon,lifetimes,'gas_ppl')\n",
    "base_gas_input = {\n",
    "    \"node_loc\":country,\n",
    "    \"year_vtg\":vintage_years,\n",
    "    \"year_act\":act_years,\n",
    "    \"mode\":\"standard\",\n",
    "    \"node_origin\":country,\n",
    "    \"commodity\":\"gas\",\n",
    "    \"time\":\"year\",\n",
    "    \"time_origin\":\"year\"\n",
    "}\n",
    "\n",
    "gas_ppl = pd.DataFrame(\n",
    "    dict(\n",
    "        technology='gas_ppl',\n",
    "        level='primary',\n",
    "        value=1,\n",
    "        unit='-',\n",
    "        **base_gas_input,\n",
    "    )\n",
    ")\n",
    "\n",
    "#Oil Input\n",
    "\n",
    "vintage_years,act_years = get_act_vtg_years(year_df,horizon,lifetimes,'oil_ppl')\n",
    "base_oil_input = {\n",
    "    \"node_loc\":country,\n",
    "    \"year_vtg\":vintage_years,\n",
    "    \"year_act\":act_years,\n",
    "    \"mode\":\"standard\",\n",
    "    \"node_origin\":country,\n",
    "    \"commodity\":\"oil\",\n",
    "    \"time\":\"year\",\n",
    "    \"time_origin\":\"year\"\n",
    "}\n",
    "\n",
    "oil_ppl = pd.DataFrame(\n",
    "    dict(\n",
    "        technology='oil_ppl',\n",
    "        level='primary',\n",
    "        value=1,\n",
    "        unit='-',\n",
    "        **base_oil_input,\n",
    "    )\n",
    ")\n",
    "\n",
    "#Biomass Input\n",
    "'''base_bio_input = {\n",
    "    \"node_loc\":country,\n",
    "    \"year_vtg\":vintage_years,\n",
    "    \"year_act\":act_years,\n",
    "    \"mode\":\"standard\",\n",
    "    \"node_origin\":country,\n",
    "    \"commodity\":\"biomass\",\n",
    "    \"time\":\"year\",\n",
    "    \"time_origin\":\"year\"\n",
    "}\n",
    "\n",
    "bio_ppl = pd.DataFrame(\n",
    "    dict(\n",
    "        technology='bio_ppl',\n",
    "        level='primary',\n",
    "        value=1,\n",
    "        unit='-',\n",
    "        **base_bio_input,\n",
    "    )\n",
    ")\n",
    "\n",
    "#Nuclear Input\n",
    "base_nuclear_input = {\n",
    "    \"node_loc\":country,\n",
    "    \"year_vtg\":vintage_years,\n",
    "    \"year_act\":act_years,\n",
    "    \"mode\":\"standard\",\n",
    "    \"node_origin\":country,\n",
    "    \"commodity\":\"nuclear\",\n",
    "    \"time\":\"year\",\n",
    "    \"time_origin\":\"year\"\n",
    "}\n",
    "\n",
    "nuclear_ppl = pd.DataFrame(\n",
    "    dict(\n",
    "        technology='nuclear_ppl',\n",
    "        level='primary',\n",
    "        value=1,\n",
    "        unit='-',\n",
    "        **base_nuclear_input,\n",
    "    )\n",
    ")'''\n",
    "\n",
    "\n",
    "scenario.add_par(\"input\",coal_ppl)\n",
    "scenario.add_par(\"input\",gas_ppl)\n",
    "scenario.add_par(\"input\",oil_ppl)\n",
    "'''scenario.add_par(\"input\",bio_ppl)\n",
    "scenario.add_par(\"input\",nuclear_ppl)'''"
   ]
  },
  {
   "cell_type": "code",
   "execution_count": 134,
   "metadata": {},
   "outputs": [],
   "source": [
    "\n",
    "#Electricity Input\n",
    "vintage_years,act_years = year_df[\"year_vtg\"],year_df[\"year_act\"]\n",
    "base_electr_input = {\n",
    "    \"node_loc\":country,\n",
    "    \"year_vtg\":vintage_years,\n",
    "    \"year_act\":act_years,\n",
    "    \"mode\":\"standard\",\n",
    "    \"node_origin\":country,\n",
    "    \"commodity\":\"electricity\",\n",
    "    \"time\":\"year\",\n",
    "    \"time_origin\":\"year\"\n",
    "}\n",
    "\n",
    "electr_grid = make_df(\n",
    "    base_electr_input,\n",
    "    technology='electricity_grid',\n",
    "    level='secondary',\n",
    "    value=1,\n",
    "    unit='-',\n",
    ")\n",
    "\n",
    "scenario.add_par(\"input\",electr_grid)\n",
    "\n",
    "for tec in demand_tec:\n",
    "    electr_in = make_df(\n",
    "        base_electr_input,\n",
    "        technology = f'{tec}',\n",
    "        level = 'final',\n",
    "        value=1,\n",
    "        unit ='-'\n",
    "    )\n",
    "    scenario.add_par('input',electr_in)\n",
    "    \n",
    "\n"
   ]
  },
  {
   "cell_type": "code",
   "execution_count": 135,
   "metadata": {},
   "outputs": [],
   "source": [
    "#Data from LEAP\n",
    "coal_ppl_eff = 0.37 \n",
    "gas_ppl_eff = 0.33 \n",
    "oil_ppl_eff = 0.45 \n",
    "bio_ppl_eff = 0.62\n",
    "nuclear_ppl_eff = 0.4\n",
    "electr_grid_eff = 1\n",
    "\n",
    "\n",
    "#Output\n",
    "base_output = {\n",
    "'node_loc':country,\n",
    "'mode':'standard',\n",
    "'node_dest':country,\n",
    "'time':'year',\n",
    "'time_dest':'year',   \n",
    "}\n",
    "\n",
    "\n",
    "\n",
    "#coal_ppl\n",
    "vintage_years,act_years = get_act_vtg_years(year_df,horizon,lifetimes,'coal_ppl')\n",
    "coal_ppl = make_df(\n",
    "    base_output,\n",
    "    technology ='coal_ppl',\n",
    "    year_vtg = vintage_years,\n",
    "    year_act = act_years,\n",
    "    commodity ='electricity',\n",
    "    level = 'secondary',\n",
    "    value = coal_ppl_eff, \n",
    "    unit = '-'\n",
    "    \n",
    ")\n",
    "\n",
    "#gas_ppl\n",
    "vintage_years,act_years = get_act_vtg_years(year_df,horizon,lifetimes,'gas_ppl')\n",
    "gas_ppl = make_df(\n",
    "    base_output,\n",
    "    technology ='gas_ppl',\n",
    "    year_vtg = vintage_years,\n",
    "    year_act = act_years,\n",
    "    commodity ='electricity',\n",
    "    level = 'secondary',\n",
    "    value = gas_ppl_eff, \n",
    "    unit = '-'  \n",
    ")\n",
    "\n",
    "#oil_ppl\n",
    "vintage_years,act_years = get_act_vtg_years(year_df,horizon,lifetimes,'oil_ppl')\n",
    "oil_ppl = make_df(\n",
    "    base_output,\n",
    "    technology ='oil_ppl',\n",
    "    year_vtg = vintage_years,\n",
    "    year_act = act_years,\n",
    "    commodity ='electricity',\n",
    "    level = 'secondary',\n",
    "    value = oil_ppl_eff, \n",
    "    unit = '-'  \n",
    ")\n",
    "\n",
    "#hydro_ppl\n",
    "vintage_years,act_years = get_act_vtg_years(year_df,horizon,lifetimes,'hydro_ppl')\n",
    "hydro_ppl = make_df(\n",
    "    base_output,\n",
    "    technology ='hydro_ppl',\n",
    "    year_vtg = vintage_years,\n",
    "    year_act = act_years,\n",
    "    commodity ='electricity',\n",
    "    level = 'secondary',\n",
    "    value = 1, \n",
    "    unit = '-'  \n",
    ")\n",
    "\n",
    "#solar_ppl\n",
    "vintage_years,act_years = get_act_vtg_years(year_df,horizon,lifetimes,'solar_ppl')\n",
    "solar_ppl = make_df(\n",
    "    base_output,\n",
    "    technology ='solar_ppl',\n",
    "    year_vtg = vintage_years,\n",
    "    year_act = act_years,\n",
    "    commodity ='electricity',\n",
    "    level = 'secondary',\n",
    "    value = 1, \n",
    "    unit = '-'  \n",
    ")\n",
    "\n",
    "#wind_ppl\n",
    "vintage_years,act_years = get_act_vtg_years(year_df,horizon,lifetimes,'wind_ppl')\n",
    "wind_ppl = make_df(\n",
    "    base_output,\n",
    "    technology ='wind_ppl',\n",
    "    year_vtg = vintage_years,\n",
    "    year_act = act_years,\n",
    "    commodity ='electricity',\n",
    "    level = 'secondary',\n",
    "    value = 1, \n",
    "    unit = '-'  \n",
    ")\n",
    "\n",
    "#geo_ppl\n",
    "vintage_years,act_years = get_act_vtg_years(year_df,horizon,lifetimes,'geo_ppl')\n",
    "geo_ppl = make_df(\n",
    "    base_output,\n",
    "    technology ='geo_ppl',\n",
    "    year_vtg = vintage_years,\n",
    "    year_act = act_years,\n",
    "    commodity ='electricity',\n",
    "    level = 'secondary',\n",
    "    value = 1, \n",
    "    unit = '-'  \n",
    ")\n",
    "\n",
    "#bio_ppl\n",
    "vintage_years,act_years = get_act_vtg_years(year_df,horizon,lifetimes,'bio_ppl')\n",
    "bio_ppl = make_df(\n",
    "    base_output,\n",
    "    technology ='bio_ppl',\n",
    "    year_vtg = vintage_years,\n",
    "    year_act = act_years,\n",
    "    commodity ='electricity',\n",
    "    level = 'secondary',\n",
    "    value = 1, \n",
    "    unit = '-'  \n",
    ")\n",
    "\n",
    "#nuclear_ppl\n",
    "vintage_years,act_years = get_act_vtg_years(year_df,horizon,lifetimes,'nuclear_ppl')\n",
    "nuclear_ppl = make_df(\n",
    "    base_output,\n",
    "    technology ='nuclear_ppl',\n",
    "    year_vtg = vintage_years,\n",
    "    year_act = act_years,\n",
    "    commodity ='electricity',\n",
    "    level = 'secondary',\n",
    "    value = 1, \n",
    "    unit = '-'  \n",
    ")\n",
    "\n",
    "\n",
    "#electricity grid\n",
    "vintage_years,act_years = year_df[\"year_vtg\"],year_df[\"year_act\"]\n",
    "electr_grid = make_df(\n",
    "    base_output,\n",
    "    technology ='electricity_grid',\n",
    "    year_vtg = vintage_years,\n",
    "    year_act = act_years,\n",
    "    commodity ='electricity',\n",
    "    level = 'final',\n",
    "    value = electr_grid_eff, \n",
    "    unit = '-'\n",
    ")\n",
    "\n",
    "for tec in ppl_tec:\n",
    "    df = globals()[f'{tec}']\n",
    "    scenario.add_par('output',df)\n",
    "    \n",
    "scenario.add_par(\"output\",electr_grid)\n",
    "\n",
    "for tec,com in zip(demand_tec,demand_com):\n",
    "    electr_out = make_df(\n",
    "        base_output,\n",
    "        technology = f'{tec}',\n",
    "        commodity = f'{com}',\n",
    "        year_vtg = vintage_years,\n",
    "        year_act = act_years,\n",
    "        level = 'useful',\n",
    "        value=1,\n",
    "        unit ='-'\n",
    "    )\n",
    "    scenario.add_par('output',electr_out)"
   ]
  },
  {
   "cell_type": "code",
   "execution_count": 136,
   "metadata": {},
   "outputs": [],
   "source": [
    "#Capacity Factor (data from LEAP Max Availability)\n",
    "\n",
    "base_capacity_factor = {\n",
    "    'node_loc': country,\n",
    "    'time':'year',\n",
    "    'unit':'-'\n",
    "}\n",
    "\n",
    "capacity_factor ={\n",
    "    'coal_ppl':0.8,\n",
    "    'gas_ppl':0.85,\n",
    "    'oil_ppl':0.95,\n",
    "    'hydro_ppl':0.5177,\n",
    "    'solar_ppl':0.1861,\n",
    "    'wind_ppl':0.2634,\n",
    "    'geo_ppl':0.8,\n",
    "    'bio_ppl':0.8,\n",
    "    'nuclear_ppl':0.95\n",
    "}\n",
    "\n",
    "for tec, val in capacity_factor.items():\n",
    "    vintage_years,act_years = get_act_vtg_years(year_df,horizon,lifetimes,tec)\n",
    "    df = make_df(\n",
    "        base_capacity_factor,\n",
    "        technology=tec,\n",
    "        year_vtg = vintage_years,\n",
    "        year_act = act_years,\n",
    "        value=val)\n",
    "    scenario.add_par('capacity_factor',df)\n",
    "\n"
   ]
  },
  {
   "cell_type": "markdown",
   "metadata": {},
   "source": [
    "## Technoeconomic Parameters"
   ]
  },
  {
   "cell_type": "code",
   "execution_count": 137,
   "metadata": {},
   "outputs": [],
   "source": [
    "#Resource parameters\n",
    "\n",
    "coal_potentials = {'a':[133575,0.35,638.85]} #based on RUKN (potential) and HEESI 2022 (last historical extraction), cost based on tutorial\n",
    "gas_potentials = {'a':[1834.43,7.52,79.2]} #Need to update data\n",
    "oil_potentials = {'a':[2.66,40.7,0.041]} #Need to update data"
   ]
  },
  {
   "cell_type": "code",
   "execution_count": 138,
   "metadata": {},
   "outputs": [],
   "source": [
    "#Coal Resource\n",
    "df = pd.DataFrame(\n",
    "    {\n",
    "        'node': [country],\n",
    "        'commodity':'coal',\n",
    "        'grade':'a_coal',\n",
    "        'value':coal_potentials['a'][0],\n",
    "        'unit':'GWa',\n",
    "    }\n",
    ")\n",
    "scenario.add_par('resource_volume',df)\n",
    "\n",
    "mp.add_unit('USD/KWa')\n",
    "df = make_df(\n",
    "    'resource_cost',\n",
    "    node = country,\n",
    "    commodity='coal',\n",
    "    grade='a_coal',\n",
    "    year = model_horizon,\n",
    "    value=coal_potentials['a'][1],\n",
    "    unit='USD/KWa'\n",
    ")\n",
    "\n",
    "scenario.add_par('resource_cost',df)\n",
    "\n",
    "df = pd.DataFrame(\n",
    "    {\n",
    "        'node': country,\n",
    "        'commodity':'coal',\n",
    "        'grade':'a_coal',\n",
    "        'year':[2022],\n",
    "        'value':coal_potentials['a'][2],\n",
    "        'unit':'GWa'\n",
    "    }\n",
    ")\n",
    "scenario.add_par('historical_extraction',df)\n",
    "\n",
    "\n",
    "\n"
   ]
  },
  {
   "cell_type": "code",
   "execution_count": 139,
   "metadata": {},
   "outputs": [],
   "source": [
    "#Gas resource\n",
    "df = pd.DataFrame(\n",
    "    {\n",
    "        'node': [country],\n",
    "        'commodity':'gas',\n",
    "        'grade':'a_gas',\n",
    "        'value':gas_potentials['a'][0],\n",
    "        'unit':'GWa',\n",
    "    }\n",
    ")\n",
    "scenario.add_par('resource_volume',df)\n",
    "\n",
    "mp.add_unit('USD/KWa')\n",
    "df = make_df(\n",
    "    'resource_cost',\n",
    "    node = country,\n",
    "    commodity='gas',\n",
    "    grade='a_gas',\n",
    "    year = model_horizon,\n",
    "    value=gas_potentials['a'][1],\n",
    "    unit='USD/KWa'\n",
    ")\n",
    "\n",
    "scenario.add_par('resource_cost',df)\n",
    "\n",
    "df = pd.DataFrame(\n",
    "    {\n",
    "        'node': country,\n",
    "        'commodity':'gas',\n",
    "        'grade':'a_gas',\n",
    "        'year':[2022],\n",
    "        'value':gas_potentials['a'][2],\n",
    "        'unit':'GWa'\n",
    "    }\n",
    ")\n",
    "scenario.add_par('historical_extraction',df)\n"
   ]
  },
  {
   "cell_type": "code",
   "execution_count": 140,
   "metadata": {},
   "outputs": [],
   "source": [
    "#Oil Resource\n",
    "df = pd.DataFrame(\n",
    "    {\n",
    "        'node': [country],\n",
    "        'commodity':'oil',\n",
    "        'grade':'a_oil',\n",
    "        'value':oil_potentials['a'][0],\n",
    "        'unit':'GWa',\n",
    "    }\n",
    ")\n",
    "scenario.add_par('resource_volume',df)\n",
    "\n",
    "mp.add_unit('USD/KWa')\n",
    "df = make_df(\n",
    "    'resource_cost',\n",
    "    node = country,\n",
    "    commodity='oil',\n",
    "    grade='a_oil',\n",
    "    year = model_horizon,\n",
    "    value=oil_potentials['a'][1],\n",
    "    unit='USD/KWa'\n",
    ")\n",
    "\n",
    "scenario.add_par('resource_cost',df)\n",
    "\n",
    "df = pd.DataFrame(\n",
    "    {\n",
    "        'node': country,\n",
    "        'commodity':'oil',\n",
    "        'grade':'a_oil',\n",
    "        'year':[2022],\n",
    "        'value':oil_potentials['a'][2],\n",
    "        'unit':'GWa'\n",
    "    }\n",
    ")\n",
    "scenario.add_par('historical_extraction',df)\n"
   ]
  },
  {
   "cell_type": "code",
   "execution_count": 141,
   "metadata": {},
   "outputs": [],
   "source": [
    "#inv_cost (data from LEAP 2022)\n",
    "vintage_years,act_years = year_df[\"year_vtg\"],year_df[\"year_act\"]\n",
    "base_inv_cost = {\n",
    "    'node_loc':country,\n",
    "    'year_vtg':vintage_years,\n",
    "    'unit':'USD/kW'\n",
    "}\n",
    "\n",
    "mp.add_unit('USD/kW')\n",
    "\n",
    "costs = {\n",
    "    'coal_ppl':1600,\n",
    "    'gas_ppl':1062,\n",
    "    'oil_ppl':910,\n",
    "    'hydro_ppl':2200,\n",
    "    'solar_ppl':960,\n",
    "    'wind_ppl':1650,\n",
    "    'geo_ppl':3600,\n",
    "    'bio_ppl':2280,\n",
    "    'nuclear_ppl':9000\n",
    "}\n",
    "\n",
    "for tec, val in costs.items():\n",
    "    df = make_df(base_inv_cost,technology=tec,value=val)\n",
    "    scenario.add_par('inv_cost',df)\n"
   ]
  },
  {
   "cell_type": "code",
   "execution_count": 142,
   "metadata": {},
   "outputs": [],
   "source": [
    "#fix_cost (data from LEAP 2022)\n",
    "mp.add_unit('USD/kWa')\n",
    "\n",
    "base_fix_cost = {\n",
    "    'node_loc':country,\n",
    "    'unit':'USD/kWa'\n",
    "}\n",
    "\n",
    "costs = {\n",
    "    'coal_ppl':47,\n",
    "    'gas_ppl':26.5,\n",
    "    'oil_ppl':9.1,\n",
    "    'hydro_ppl':43,\n",
    "    'solar_ppl':9.2,\n",
    "    'wind_ppl':40,\n",
    "    'geo_ppl':18.7,\n",
    "    'bio_ppl':54,\n",
    "    'nuclear_ppl':127\n",
    "}\n",
    "\n",
    "for tec, val in costs.items():\n",
    "    vintage_years,act_years = get_act_vtg_years(year_df,horizon,lifetimes,tec)\n",
    "    df = make_df(\n",
    "        base_fix_cost,\n",
    "        technology=tec,\n",
    "        year_vtg = vintage_years,\n",
    "        year_act = act_years,\n",
    "        value=val)\n",
    "    scenario.add_par('fix_cost',df)"
   ]
  },
  {
   "cell_type": "code",
   "execution_count": 143,
   "metadata": {},
   "outputs": [],
   "source": [
    "#var_cost (data from LEAP 2022)\n",
    "\n",
    "base_var_cost = {\n",
    "    'node_loc':country,\n",
    "    'mode':'standard',\n",
    "    'time':'year',\n",
    "    'unit':'USD/kWa'\n",
    "}\n",
    "\n",
    "#in USD/MWh\n",
    "costs = {\n",
    "    'coal_ppl':1.5,\n",
    "    'gas_ppl':2.6,\n",
    "    'oil_ppl':7.3,\n",
    "    'hydro_ppl':0.7,\n",
    "    'solar_ppl':0,\n",
    "    'wind_ppl':4.2,\n",
    "    'geo_ppl':0.3,\n",
    "    'bio_ppl':3.4,\n",
    "    'nuclear_ppl':2.4\n",
    "}\n",
    "\n",
    "for tec, val in costs.items():\n",
    "    vintage_years,act_years = get_act_vtg_years(year_df,horizon,lifetimes,tec)\n",
    "    df = make_df(\n",
    "        base_var_cost,\n",
    "        technology=tec,\n",
    "        year_vtg = vintage_years,\n",
    "        year_act = act_years,\n",
    "        value=val*8760.0/1e3)\n",
    "    scenario.add_par('var_cost',df)"
   ]
  },
  {
   "cell_type": "markdown",
   "metadata": {},
   "source": [
    "## Calibration Parameter"
   ]
  },
  {
   "cell_type": "code",
   "execution_count": 144,
   "metadata": {},
   "outputs": [],
   "source": [
    "ppl_commodities = ['Coal','Natural Gas','Oil','Hydro','Solar PV','Wind','Geothermal','Bioenergy','Nuclear']"
   ]
  },
  {
   "cell_type": "code",
   "execution_count": 145,
   "metadata": {},
   "outputs": [],
   "source": [
    "df_gen = pd.read_excel(filename,sheet_name='IDN_Generation_BAS',skiprows=44)[:9]\n",
    "df_gen.rename(columns={'by technology - summary (TWh)':'fuel'},inplace=True)\n",
    "df_gen = df_gen.melt(id_vars='fuel',value_vars=list(range(2005,2023)),var_name='Year')"
   ]
  },
  {
   "cell_type": "code",
   "execution_count": 146,
   "metadata": {},
   "outputs": [],
   "source": [
    "df_cap = pd.read_excel(filename,sheet_name='IDN_Capacity_BAS',skiprows=48)[:10]\n",
    "df_cap.rename(columns={'by technology - summary (GW)':'fuel'},inplace=True)\n",
    "df_cap = df_cap.melt(id_vars='fuel',value_vars=list(range(2005,2023)),var_name='Year')"
   ]
  },
  {
   "cell_type": "code",
   "execution_count": 147,
   "metadata": {},
   "outputs": [],
   "source": [
    "mp.add_unit(\"GW/y\")\n",
    "\n",
    "for act,tec in zip(ppl_commodities,ppl_tec):\n",
    "\n",
    "    d_his = list(df_gen[df_gen['fuel'] == act]['value']*conv_twh_gwa)\n",
    "    df = make_df(\n",
    "        'historical_activity',\n",
    "        node_loc=country,\n",
    "        year_act=historical_horizon,\n",
    "        mode='standard',\n",
    "        time='year',\n",
    "        unit='GWa',\n",
    "        technology = tec,\n",
    "        value = d_his\n",
    "    )\n",
    "\n",
    "    scenario.add_par('historical_activity',df)\n",
    "\n",
    "    '''value = list(df_gen[df_gen['fuel'] == act]['value']*conv_twh_gwa/capacity_factor[tec])\n",
    "    df = make_df(\n",
    "        'historical_new_capacity',\n",
    "        node_loc = country,\n",
    "        year_vtg = historical_horizon,\n",
    "        unit = 'GW/y',\n",
    "        technology = tec,\n",
    "        value=value\n",
    "    )\n",
    "    scenario.add_par('historical_new_capacity',df)'''"
   ]
  },
  {
   "cell_type": "code",
   "execution_count": 148,
   "metadata": {},
   "outputs": [],
   "source": [
    "mp.add_unit(\"GW/y\")\n",
    "\n",
    "df_cap_new = df_cap.pivot(index='Year',columns='fuel',values='value').diff().reset_index()\n",
    "df_cap_new = pd.melt(df_cap_new,id_vars='Year',value_vars=ppl_commodities,value_name='value',var_name='fuel')\n",
    "\n",
    "df_cap_new = fix_negative_values(df_cap_new,fuel_col='fuel',year_col='Year',value_col='value')\n",
    "df_cap_new = fill_missing_values(df_cap_new,df_cap[df_cap['Year'] == 2005])\n",
    "\n",
    "for cap,tec in zip(ppl_commodities,ppl_tec):\n",
    "    d_his = list(df_cap_new[df_cap_new['fuel'] == cap]['value'])\n",
    "    df = make_df(\n",
    "        'historical_new_capacity',\n",
    "        node_loc = country,\n",
    "        year_vtg = historical_horizon,\n",
    "        unit = 'GW/y',\n",
    "        technology = tec,\n",
    "        value=d_his\n",
    "    )\n",
    "\n",
    "    scenario.add_par('historical_new_capacity',df)"
   ]
  },
  {
   "cell_type": "code",
   "execution_count": 149,
   "metadata": {},
   "outputs": [],
   "source": [
    "base_growth = {\n",
    "    'node_loc':country,\n",
    "    'year_act':model_horizon,\n",
    "    'value':0.05,\n",
    "    'time':'year',\n",
    "    'unit':'-'\n",
    "}\n",
    "\n",
    "for tec in ppl_tec:\n",
    "    df = make_df(base_growth,technology = tec)\n",
    "    scenario.add_par('growth_activity_up',df)"
   ]
  },
  {
   "cell_type": "code",
   "execution_count": 150,
   "metadata": {},
   "outputs": [
    {
     "data": {
      "text/plain": [
       "\"base_growth = {\\n    'node_loc':country,\\n    'year_vtg':vintage_years,\\n    'value':0.01,\\n}\\n\\nfor tec in ppl_tec:\\n    df = make_df(base_growth,technology=tec)\\n    scenario.add_par('growth_new_capacity_lo',df)\""
      ]
     },
     "execution_count": 150,
     "metadata": {},
     "output_type": "execute_result"
    }
   ],
   "source": [
    "'''base_growth = {\n",
    "    'node_loc':country,\n",
    "    'year_vtg':vintage_years,\n",
    "    'value':0.01,\n",
    "}\n",
    "\n",
    "for tec in ppl_tec:\n",
    "    df = make_df(base_growth,technology=tec)\n",
    "    scenario.add_par('growth_new_capacity_lo',df)'''"
   ]
  },
  {
   "cell_type": "code",
   "execution_count": 151,
   "metadata": {},
   "outputs": [
    {
     "data": {
      "text/plain": [
       "\"base_initial = {\\n    'node_loc':country,\\n    'year_act':model_horizon,\\n    'time':'year',\\n    'unit':'%'\\n}\\n\\nfor tec,sector in zip(demand_tec,sectors):\\n\\n    df = pd.read_excel(filename,sheet_name=f'IDN_{sector}_BAS',skiprows=6)\\n    index = df[df['Fuel'] == 'Total'].index[0] #get index of the targeted sliced rows\\n    df = df.loc[:index-1]\\n    df = df.melt(id_vars='Fuel', value_vars=list(range(2005,2051,1)),var_name='Year')\\n    df = df[(df['Fuel'] == 'Electricity') & (df['Year']>2022)]\\n    df.value = df.value*conv_mtoe_gwa*0.01\\n    values = df.value.tolist()\\n\\n    df = make_df(\\n        base_initial,\\n        technology = tec,\\n        value = values\\n    )\\n\\n    scenario.add_par('initial_activity_up',df)\""
      ]
     },
     "execution_count": 151,
     "metadata": {},
     "output_type": "execute_result"
    }
   ],
   "source": [
    "'''base_initial = {\n",
    "    'node_loc':country,\n",
    "    'year_act':model_horizon,\n",
    "    'time':'year',\n",
    "    'unit':'%'\n",
    "}\n",
    "\n",
    "for tec,sector in zip(demand_tec,sectors):\n",
    "\n",
    "    df = pd.read_excel(filename,sheet_name=f'IDN_{sector}_BAS',skiprows=6)\n",
    "    index = df[df['Fuel'] == 'Total'].index[0] #get index of the targeted sliced rows\n",
    "    df = df.loc[:index-1]\n",
    "    df = df.melt(id_vars='Fuel', value_vars=list(range(2005,2051,1)),var_name='Year')\n",
    "    df = df[(df['Fuel'] == 'Electricity') & (df['Year']>2022)]\n",
    "    df.value = df.value*conv_mtoe_gwa*0.01\n",
    "    values = df.value.tolist()\n",
    "\n",
    "    df = make_df(\n",
    "        base_initial,\n",
    "        technology = tec,\n",
    "        value = values\n",
    "    )\n",
    "\n",
    "    scenario.add_par('initial_activity_up',df)'''"
   ]
  },
  {
   "cell_type": "code",
   "execution_count": 152,
   "metadata": {},
   "outputs": [
    {
     "data": {
      "text/plain": [
       "'mp.add_unit(\"GW/y\")\\n\\nfor act,tec in zip(ppl_commodities,ppl_tec):\\n\\n    d_his = list(df_gen[df_gen[\\'fuel\\'] == act][\\'value\\']*conv_twh_gwa)\\n    df = make_df(\\n        \\'historical_activity\\',\\n        node_loc=country,\\n        year_act=historical_horizon,\\n        mode=\\'standard\\',\\n        time=\\'year\\',\\n        unit=\\'GWa\\',\\n        technology = tec,\\n        value = d_his\\n    )\\n\\n    scenario.add_par(\\'bound_activity_up\\',df)\\n    scenario.add_par(\\'bound_activity_lo\\',df)\\n\\n    value = list(df_gen[df_gen[\\'fuel\\'] == act][\\'value\\']*conv_twh_gwa/capacity_factor[tec])\\n    df = make_df(\\n        \\'bound_new_capacity_up\\',\\n        node_loc = country,\\n        year_vtg = historical_horizon,\\n        unit = \\'GW/y\\',\\n        technology = tec,\\n        value=value\\n    )\\n    scenario.add_par(\\'bound_new_capacity_up\\',df)'"
      ]
     },
     "execution_count": 152,
     "metadata": {},
     "output_type": "execute_result"
    }
   ],
   "source": [
    "'''mp.add_unit(\"GW/y\")\n",
    "\n",
    "for act,tec in zip(ppl_commodities,ppl_tec):\n",
    "\n",
    "    d_his = list(df_gen[df_gen['fuel'] == act]['value']*conv_twh_gwa)\n",
    "    df = make_df(\n",
    "        'historical_activity',\n",
    "        node_loc=country,\n",
    "        year_act=historical_horizon,\n",
    "        mode='standard',\n",
    "        time='year',\n",
    "        unit='GWa',\n",
    "        technology = tec,\n",
    "        value = d_his\n",
    "    )\n",
    "\n",
    "    scenario.add_par('bound_activity_up',df)\n",
    "    scenario.add_par('bound_activity_lo',df)\n",
    "\n",
    "    value = list(df_gen[df_gen['fuel'] == act]['value']*conv_twh_gwa/capacity_factor[tec])\n",
    "    df = make_df(\n",
    "        'bound_new_capacity_up',\n",
    "        node_loc = country,\n",
    "        year_vtg = historical_horizon,\n",
    "        unit = 'GW/y',\n",
    "        technology = tec,\n",
    "        value=value\n",
    "    )\n",
    "    scenario.add_par('bound_new_capacity_up',df)'''\n",
    "\n"
   ]
  },
  {
   "cell_type": "markdown",
   "metadata": {},
   "source": [
    "## Objective Function"
   ]
  },
  {
   "cell_type": "code",
   "execution_count": 153,
   "metadata": {},
   "outputs": [],
   "source": [
    "scenario.add_par(\"interestrate\", model_horizon, value=0.07, unit=\"-\")"
   ]
  },
  {
   "cell_type": "markdown",
   "metadata": {},
   "source": [
    "# Commit and Solve the Model"
   ]
  },
  {
   "cell_type": "code",
   "execution_count": 154,
   "metadata": {},
   "outputs": [],
   "source": [
    "comment = \"initial commit for Indonesia model\"\n",
    "scenario.commit(comment)\n",
    "scenario.set_as_default()"
   ]
  },
  {
   "cell_type": "code",
   "execution_count": 155,
   "metadata": {},
   "outputs": [],
   "source": [
    "scenario.solve()"
   ]
  },
  {
   "cell_type": "code",
   "execution_count": 156,
   "metadata": {},
   "outputs": [
    {
     "data": {
      "text/plain": [
       "185601.21875"
      ]
     },
     "execution_count": 156,
     "metadata": {},
     "output_type": "execute_result"
    }
   ],
   "source": [
    "scenario.var(\"OBJ\")[\"lvl\"]\n"
   ]
  },
  {
   "cell_type": "markdown",
   "metadata": {},
   "source": [
    "# Plotting Result"
   ]
  },
  {
   "cell_type": "code",
   "execution_count": 157,
   "metadata": {},
   "outputs": [],
   "source": [
    "%matplotlib inline\n"
   ]
  },
  {
   "cell_type": "code",
   "execution_count": 158,
   "metadata": {},
   "outputs": [
    {
     "data": {
      "application/javascript": "if (typeof IPython !== 'undefined') { IPython.OutputArea.prototype._should_scroll = function(lines){ return false; }}",
      "text/plain": [
       "<IPython.core.display.Javascript object>"
      ]
     },
     "metadata": {},
     "output_type": "display_data"
    }
   ],
   "source": [
    "from message_ix.report import Reporter\n",
    "from message_ix.util.tutorial import prepare_plots\n",
    "\n",
    "# Create a Reporter object to describe and carry out reporting\n",
    "# calculations and operations (like plotting) based on `scenario`\n",
    "rep = Reporter.from_scenario(scenario)\n",
    "\n",
    "# \"prepare_plots\" enables several to describe reporting operations, e.g.\n",
    "# \"plot activity\", \"plot capacity\", or \"plot prices\"\n",
    "# See message_ix/util/tutorial.py for more information\n",
    "prepare_plots(rep)"
   ]
  },
  {
   "cell_type": "code",
   "execution_count": 159,
   "metadata": {},
   "outputs": [
    {
     "data": {
      "text/plain": [
       "<Axes: title={'center': 'IDN Energy System Activity'}, xlabel='Year', ylabel='GWa'>"
      ]
     },
     "execution_count": 159,
     "metadata": {},
     "output_type": "execute_result"
    },
    {
     "data": {
      "image/png": "[encoded data removed]",
      "text/plain": [
       "<Figure size 640x480 with 1 Axes>"
      ]
     },
     "metadata": {},
     "output_type": "display_data"
    }
   ],
   "source": [
    "rep.set_filters(t=ppl_tec, ya=model_horizon)\n",
    "rep.get(\"plot activity\")\n",
    "\n"
   ]
  },
  {
   "cell_type": "code",
   "execution_count": 160,
   "metadata": {},
   "outputs": [
    {
     "data": {
      "text/plain": [
       "<Axes: title={'center': 'IDN Energy System Capacity'}, xlabel='Year', ylabel='GW'>"
      ]
     },
     "execution_count": 160,
     "metadata": {},
     "output_type": "execute_result"
    },
    {
     "data": {
      "image/png": "[encoded data removed]",
      "text/plain": [
       "<Figure size 640x480 with 1 Axes>"
      ]
     },
     "metadata": {},
     "output_type": "display_data"
    }
   ],
   "source": [
    "rep.get('plot capacity')"
   ]
  },
  {
   "cell_type": "code",
   "execution_count": 161,
   "metadata": {},
   "outputs": [
    {
     "data": {
      "text/plain": [
       "<Axes: title={'center': 'IDN Fossil Supply'}, xlabel='Resource volume [GWa]', ylabel='Cost [USD / KWa]'>"
      ]
     },
     "execution_count": 161,
     "metadata": {},
     "output_type": "execute_result"
    },
    {
     "data": {
      "image/png": "[encoded data removed]",
      "text/plain": [
       "<Figure size 640x480 with 1 Axes>"
      ]
     },
     "metadata": {},
     "output_type": "display_data"
    }
   ],
   "source": [
    "rep.set_filters()\n",
    "rep.get(\"plot fossil supply curve\")\n"
   ]
  },
  {
   "cell_type": "code",
   "execution_count": 162,
   "metadata": {},
   "outputs": [
    {
     "data": {
      "text/plain": [
       "<Axes: title={'center': 'g\\n    IDN\\nName: 0, dtype: object Energy System Extraction'}, xlabel='Year', ylabel='GW'>"
      ]
     },
     "execution_count": 162,
     "metadata": {},
     "output_type": "execute_result"
    },
    {
     "data": {
      "image/png": "[encoded data removed]",
      "text/plain": [
       "<Figure size 640x480 with 1 Axes>"
      ]
     },
     "metadata": {},
     "output_type": "display_data"
    }
   ],
   "source": [
    "rep.set_filters()\n",
    "rep.get(\"plot extraction\")\n"
   ]
  },
  {
   "cell_type": "code",
   "execution_count": 163,
   "metadata": {},
   "outputs": [
    {
     "data": {
      "text/plain": [
       "<Axes: title={'center': 'IDN Energy System Demand'}, xlabel='Year', ylabel='GWa'>"
      ]
     },
     "execution_count": 163,
     "metadata": {},
     "output_type": "execute_result"
    },
    {
     "data": {
      "image/png": "[encoded data removed]",
      "text/plain": [
       "<Figure size 640x480 with 1 Axes>"
      ]
     },
     "metadata": {},
     "output_type": "display_data"
    }
   ],
   "source": [
    "rep.get('plot demand')"
   ]
  },
  {
   "cell_type": "code",
   "execution_count": 164,
   "metadata": {},
   "outputs": [],
   "source": [
    "scenario.remove_solution()"
   ]
  },
  {
   "cell_type": "code",
   "execution_count": 165,
   "metadata": {},
   "outputs": [],
   "source": [
    "scenario.check_out()"
   ]
  },
  {
   "cell_type": "code",
   "execution_count": 166,
   "metadata": {},
   "outputs": [],
   "source": [
    "mp.close_db()"
   ]
  }
 ],
 "metadata": {
  "kernelspec": {
   "display_name": "message-env",
   "language": "python",
   "name": "python3"
  },
  "language_info": {
   "codemirror_mode": {
    "name": "ipython",
    "version": 3
   },
   "file_extension": ".py",
   "mimetype": "text/x-python",
   "name": "python",
   "nbconvert_exporter": "python",
   "pygments_lexer": "ipython3",
   "version": "3.9.21"
  }
 },
 "nbformat": 4,
 "nbformat_minor": 2
}
