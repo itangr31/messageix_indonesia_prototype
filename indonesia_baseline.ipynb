{
 "cells": [
  {
   "cell_type": "markdown",
   "metadata": {},
   "source": [
    "# Model Initiation"
   ]
  },
  {
   "cell_type": "code",
   "execution_count": 1302,
   "metadata": {},
   "outputs": [],
   "source": [
    "#Libary\n",
    "import pandas as pd\n",
    "import os\n",
    "import numpy as np"
   ]
  },
  {
   "cell_type": "code",
   "execution_count": 1303,
   "metadata": {},
   "outputs": [],
   "source": [
    "import ixmp\n",
    "\n",
    "mp = ixmp.Platform()"
   ]
  },
  {
   "cell_type": "code",
   "execution_count": 1304,
   "metadata": {},
   "outputs": [],
   "source": [
    "#convert mtoe to GWa\n",
    "conv_mtoe_gwa = 11.63*1000/8760\n",
    "conv_twh_gwa = 1000/8760"
   ]
  },
  {
   "cell_type": "code",
   "execution_count": 1305,
   "metadata": {},
   "outputs": [],
   "source": [
    "import message_ix\n",
    "\n",
    "scenario = message_ix.Scenario(\n",
    "    mp, model='Indonesia Prototype', scenario='baseline', version='new'\n",
    ")"
   ]
  },
  {
   "cell_type": "markdown",
   "metadata": {},
   "source": [
    "# Functions"
   ]
  },
  {
   "cell_type": "code",
   "execution_count": 1306,
   "metadata": {},
   "outputs": [],
   "source": [
    "def get_act_vtg_years(y_df,horizon,lifetimes,technology):\n",
    "    \"\"\"\n",
    "    get active years and vintage years according to technology lifetime\n",
    "    \"\"\"\n",
    "    for year in horizon:\n",
    "        count = y_df[y_df['year_vtg'] == year]['year_vtg'].value_counts()\n",
    "        count = count[year]\n",
    "        if count > lifetimes[f'{technology}']:\n",
    "            df = y_df[y_df['year_vtg'] == year]\n",
    "            value = (count - lifetimes[f'{technology}'])*-1\n",
    "            index_to_remove = df.index[value:]\n",
    "\n",
    "            y_df = y_df.drop(index=index_to_remove)\n",
    "\n",
    "    return y_df['year_vtg'],y_df['year_act']\n",
    "            \n"
   ]
  },
  {
   "cell_type": "code",
   "execution_count": 1307,
   "metadata": {},
   "outputs": [],
   "source": [
    "def fix_negative_values(df, fuel_col='fuel', year_col='Year', value_col='value'):\n",
    "    \"\"\"\n",
    "    Fix negative values by transferring values within the same fuel type.\n",
    "    Priority: Add to next year if exists, otherwise pull from previous years.\n",
    "    \n",
    "    Parameters:\n",
    "    - df: pandas DataFrame\n",
    "    - fuel_col: column name for fuel types\n",
    "    - year_col: column name for years\n",
    "    - value_col: column name for values to adjust\n",
    "\n",
    "    Returns:\n",
    "    - Adjusted DataFrame\n",
    "    \"\"\"\n",
    "    # Sort first to ensure correct order\n",
    "    df = df.sort_values(by=[fuel_col, year_col]).reset_index(drop=True)\n",
    "    \n",
    "    # Iterate through DataFrame\n",
    "    i = 0\n",
    "    while i < len(df):\n",
    "        if df.loc[i, value_col] < 0:\n",
    "            current_fuel = df.loc[i, fuel_col]\n",
    "            \n",
    "            # Try to find next year with same fuel\n",
    "            next_indices = df.index[(df.index > i) & (df[fuel_col] == current_fuel)]\n",
    "            \n",
    "            if len(next_indices) > 0:\n",
    "                next_i = next_indices[0]\n",
    "                df.loc[next_i, value_col] += df.loc[i, value_col]\n",
    "                df.loc[i, value_col] = 0\n",
    "            else:\n",
    "                # No next year: pull from previous years\n",
    "                prev_indices = df.index[(df.index < i) & (df[fuel_col] == current_fuel)].tolist()\n",
    "                prev_indices = prev_indices[::-1]  # Closest previous first\n",
    "\n",
    "                for prev_i in prev_indices:\n",
    "                    df.loc[i, value_col] += df.loc[prev_i, value_col]\n",
    "                    df.loc[prev_i, value_col] = 0\n",
    "                    if df.loc[i, value_col] >= 0:\n",
    "                        break\n",
    "        i += 1\n",
    "    \n",
    "    return df\n"
   ]
  },
  {
   "cell_type": "code",
   "execution_count": 1308,
   "metadata": {},
   "outputs": [],
   "source": [
    "def fill_missing_values(main_df, reference_df, fuel_col='fuel', year_col='Year', value_col='value', year=2005):\n",
    "    \"\"\"\n",
    "    Fill missing or zero values in main_df using reference_df.\n",
    "\n",
    "    Parameters:\n",
    "    - main_df: DataFrame that needs filling\n",
    "    - reference_df: DataFrame providing reference values\n",
    "    - fuel_col: column name for fuel types\n",
    "    - year_col: column name for years\n",
    "    - value_col: column name for values to adjust\n",
    "\n",
    "    Returns:\n",
    "    - Filled DataFrame\n",
    "    \"\"\"\n",
    "    df = main_df.copy()\n",
    "    \n",
    "    for idx, row in df.iterrows():\n",
    "        # If value is NaN or zero\n",
    "        if pd.isna(row[value_col]):\n",
    "            ref_value = reference_df.loc[\n",
    "                (reference_df[fuel_col] == row[fuel_col]) & (reference_df[year_col] == year),\n",
    "                value_col\n",
    "            ]\n",
    "            if not ref_value.empty:\n",
    "                df.at[idx, value_col] = ref_value.values[0]\n",
    "    \n",
    "    return df"
   ]
  },
  {
   "cell_type": "markdown",
   "metadata": {},
   "source": [
    "# Model Structure"
   ]
  },
  {
   "cell_type": "markdown",
   "metadata": {},
   "source": [
    "<img src='Messageix Indonesia Structure.drawio.png' width='1000'>"
   ]
  },
  {
   "cell_type": "code",
   "execution_count": 1309,
   "metadata": {},
   "outputs": [],
   "source": [
    "historical_horizon = list(range(2005,2021,5))\n",
    "model_horizon = list(range(2025,2071,5))\n",
    "\n",
    "horizon = historical_horizon+model_horizon\n",
    "\n",
    "scenario.add_horizon(year=historical_horizon+model_horizon)\n"
   ]
  },
  {
   "cell_type": "code",
   "execution_count": 1310,
   "metadata": {},
   "outputs": [],
   "source": [
    "country='IDN'\n",
    "scenario.add_spatial_sets({'country':country})"
   ]
  },
  {
   "cell_type": "code",
   "execution_count": 1311,
   "metadata": {},
   "outputs": [],
   "source": [
    "demand_com = [\n",
    "    'industry_el',\n",
    "    'transport_el',\n",
    "    'commercial_el',\n",
    "    'residential_el'\n",
    "]\n",
    "\n",
    "commodities = [\n",
    "    'coal',\n",
    "    'electricity',\n",
    "    'gas',\n",
    "    'oil',\n",
    "    'biomass',\n",
    "]\n",
    "\n",
    "all_com = demand_com + commodities"
   ]
  },
  {
   "cell_type": "code",
   "execution_count": 1312,
   "metadata": {},
   "outputs": [],
   "source": [
    "\n",
    "ppl_tec = [\n",
    "    'coal_ppl',\n",
    "    'gas_ppl',\n",
    "    'oil_ppl',\n",
    "    'hydro_ppl',\n",
    "    'solar_ppl',\n",
    "    'wind_ppl',\n",
    "    'geo_ppl',\n",
    "    'bio_ppl',\n",
    "    'nuclear_ppl'\n",
    "]\n",
    "\n",
    "t_d_tec = [\n",
    "    'electricity_grid'\n",
    "           ]\n",
    "\n",
    "demand_tec = [\n",
    "    'industry_el_tec',\n",
    "    'transport_el_tec',\n",
    "    'commercial_el_tec',\n",
    "    'residential_el_tec'\n",
    "]\n",
    "\n",
    "all_tec =  ppl_tec + t_d_tec + demand_tec"
   ]
  },
  {
   "cell_type": "code",
   "execution_count": 1313,
   "metadata": {},
   "outputs": [],
   "source": [
    "scenario.add_set('commodity',all_com)\n",
    "scenario.add_set('level',['primary','secondary','final','useful'])\n",
    "scenario.add_set('technology',all_tec)\n",
    "scenario.add_set('mode','standard')\n",
    "scenario.add_set('level_resource','primary')\n",
    "scenario.add_set('grade',['a_coal','a_gas','a_oil','a_biomass'])"
   ]
  },
  {
   "cell_type": "markdown",
   "metadata": {},
   "source": [
    "## Demand Parameter"
   ]
  },
  {
   "cell_type": "code",
   "execution_count": 1314,
   "metadata": {},
   "outputs": [],
   "source": [
    "path = os.getcwd()\n",
    "path = os.path.dirname(path)\n",
    "filename = 'COPY Indonesia AEO8 Data.xlsx'\n",
    "filename = os.path.join(path,filename)\n",
    "\n",
    "sectors = ['Industry','Transport','Commercial','Residential']\n",
    "sector_models = ['industry_el','transport_el','commercial_el','residential_el']"
   ]
  },
  {
   "cell_type": "code",
   "execution_count": 1315,
   "metadata": {},
   "outputs": [
    {
     "data": {
      "text/plain": [
       "['Industry', 'Transport', 'Commercial', 'Residential']"
      ]
     },
     "execution_count": 1315,
     "metadata": {},
     "output_type": "execute_result"
    }
   ],
   "source": [
    "sectors"
   ]
  },
  {
   "cell_type": "code",
   "execution_count": 1316,
   "metadata": {},
   "outputs": [],
   "source": [
    "for sector,sector_model in zip(sectors,sector_models):\n",
    "\n",
    "    df = pd.read_excel(filename,sheet_name=f'IDN_{sector}_BAS',skiprows=6)\n",
    "    index = df[df['Fuel'] == 'Total'].index[0] #get index of the targeted sliced rows\n",
    "    df = df.loc[:index-1]\n",
    "    df = df.melt(id_vars='Fuel', value_vars=list(range(2005,2051,5)),var_name='Year')\n",
    "    df = df[(df['Fuel'] == 'Electricity') & (df['Year']>2020)]\n",
    "    df.value = df.value*conv_mtoe_gwa\n",
    "    coeffs = np.polyfit(df[\"Year\"].values.astype(int), df[\"value\"].values.astype(float), deg=1)\n",
    "    poly = np.poly1d(coeffs)\n",
    "\n",
    "    # Predict values for the missing years\n",
    "    future_years = list(range(2055,2071,5))\n",
    "    predicted_values = poly(future_years)\n",
    "    newrow = pd.DataFrame({'Year':list(range(2055,2071,5)),'Fuel':['Electricity' for _ in range(4)], 'value':predicted_values})\n",
    "    df = pd.concat([df,newrow])\n",
    "    values = df.value.tolist()\n",
    "\n",
    "\n",
    "\n",
    "    df_demand = pd.DataFrame(\n",
    "        {\n",
    "            'node':country,\n",
    "            'commodity':f'{sector_model}',\n",
    "            'level':'useful',\n",
    "            'year': model_horizon,\n",
    "            'time':'year',\n",
    "            'value':values,\n",
    "            'unit':'GWa'\n",
    "        }\n",
    "    )\n",
    "\n",
    "    scenario.add_par('demand',df_demand)\n",
    "    "
   ]
  },
  {
   "cell_type": "markdown",
   "metadata": {},
   "source": [
    "## Engineering Parameters"
   ]
  },
  {
   "cell_type": "code",
   "execution_count": 1317,
   "metadata": {},
   "outputs": [],
   "source": [
    "year_df = scenario.vintage_and_active_years()\n",
    "vintage_years,act_years = year_df[\"year_vtg\"],year_df[\"year_act\"]"
   ]
  },
  {
   "cell_type": "code",
   "execution_count": 1318,
   "metadata": {},
   "outputs": [],
   "source": [
    "#Technical Lifetime (data from LEAP)\n",
    "from message_ix import make_df\n",
    "\n",
    "base_technical_lifetime = {\n",
    "    'node_loc': country,\n",
    "    'year_vtg':vintage_years,\n",
    "    'unit':'y'\n",
    "}\n",
    "\n",
    "lifetimes ={\n",
    "    'coal_ppl':40,\n",
    "    'gas_ppl':30,\n",
    "    'oil_ppl':40,\n",
    "    'hydro_ppl':40,\n",
    "    'solar_ppl':20,\n",
    "    'wind_ppl':20,\n",
    "    'geo_ppl':30,\n",
    "    'bio_ppl':30,\n",
    "    'nuclear_ppl':60\n",
    "}\n",
    "\n",
    "for tec, val in lifetimes.items():\n",
    "    df = make_df(base_technical_lifetime,technology=tec,value=val)\n",
    "    scenario.add_par('technical_lifetime',df)"
   ]
  },
  {
   "cell_type": "code",
   "execution_count": 1319,
   "metadata": {},
   "outputs": [],
   "source": [
    "#Data from LEAP\n",
    "coal_ppl_eff = 0.37 \n",
    "gas_ppl_eff = 0.33 \n",
    "oil_ppl_eff = 0.45 \n",
    "bio_ppl_eff = 0.34\n",
    "electr_grid_eff = 0.85"
   ]
  },
  {
   "cell_type": "code",
   "execution_count": 1320,
   "metadata": {},
   "outputs": [],
   "source": [
    "#Coal Input\n",
    "\n",
    "vintage_years,act_years = get_act_vtg_years(year_df,horizon,lifetimes,'coal_ppl')\n",
    "base_coal_input = {\n",
    "    \"node_loc\":country,\n",
    "    \"year_vtg\":vintage_years,\n",
    "    \"year_act\":act_years,\n",
    "    \"mode\":\"standard\",\n",
    "    \"node_origin\":country,\n",
    "    \"commodity\":\"coal\",\n",
    "    \"time\":\"year\",\n",
    "    \"time_origin\":\"year\"\n",
    "}\n",
    "\n",
    "coal_ppl = pd.DataFrame(\n",
    "    dict(\n",
    "        technology='coal_ppl',\n",
    "        level='primary',\n",
    "        value=1/coal_ppl_eff,\n",
    "        unit='-',\n",
    "        **base_coal_input,\n",
    "    )\n",
    ")\n",
    "\n",
    "#Gas Input\n",
    "\n",
    "vintage_years,act_years = get_act_vtg_years(year_df,horizon,lifetimes,'gas_ppl')\n",
    "base_gas_input = {\n",
    "    \"node_loc\":country,\n",
    "    \"year_vtg\":vintage_years,\n",
    "    \"year_act\":act_years,\n",
    "    \"mode\":\"standard\",\n",
    "    \"node_origin\":country,\n",
    "    \"commodity\":\"gas\",\n",
    "    \"time\":\"year\",\n",
    "    \"time_origin\":\"year\"\n",
    "}\n",
    "\n",
    "gas_ppl = pd.DataFrame(\n",
    "    dict(\n",
    "        technology='gas_ppl',\n",
    "        level='primary',\n",
    "        value=1/gas_ppl_eff,\n",
    "        unit='-',\n",
    "        **base_gas_input,\n",
    "    )\n",
    ")\n",
    "\n",
    "#Oil Input\n",
    "\n",
    "vintage_years,act_years = get_act_vtg_years(year_df,horizon,lifetimes,'oil_ppl')\n",
    "base_oil_input = {\n",
    "    \"node_loc\":country,\n",
    "    \"year_vtg\":vintage_years,\n",
    "    \"year_act\":act_years,\n",
    "    \"mode\":\"standard\",\n",
    "    \"node_origin\":country,\n",
    "    \"commodity\":\"oil\",\n",
    "    \"time\":\"year\",\n",
    "    \"time_origin\":\"year\"\n",
    "}\n",
    "\n",
    "oil_ppl = pd.DataFrame(\n",
    "    dict(\n",
    "        technology='oil_ppl',\n",
    "        level='primary',\n",
    "        value=1/oil_ppl_eff,\n",
    "        unit='-',\n",
    "        **base_oil_input,\n",
    "    )\n",
    ")\n",
    "\n",
    "#Biomass Input\n",
    "vintage_years,act_years = get_act_vtg_years(year_df,horizon,lifetimes,'bio_ppl')\n",
    "base_bio_input = {\n",
    "    \"node_loc\":country,\n",
    "    \"year_vtg\":vintage_years,\n",
    "    \"year_act\":act_years,\n",
    "    \"mode\":\"standard\",\n",
    "    \"node_origin\":country,\n",
    "    \"commodity\":\"biomass\",\n",
    "    \"time\":\"year\",\n",
    "    \"time_origin\":\"year\"\n",
    "}\n",
    "\n",
    "bio_ppl = pd.DataFrame(\n",
    "    dict(\n",
    "        technology='bio_ppl',\n",
    "        level='primary',\n",
    "        value=1/bio_ppl_eff,\n",
    "        unit='-',\n",
    "        **base_bio_input,\n",
    "    )\n",
    ")\n",
    "\n",
    "\n",
    "scenario.add_par(\"input\",coal_ppl)\n",
    "scenario.add_par(\"input\",gas_ppl)\n",
    "scenario.add_par(\"input\",oil_ppl)\n",
    "scenario.add_par(\"input\",bio_ppl)"
   ]
  },
  {
   "cell_type": "code",
   "execution_count": 1321,
   "metadata": {},
   "outputs": [],
   "source": [
    "\n",
    "#Electricity Input\n",
    "vintage_years,act_years = pd.Series(horizon),pd.Series(horizon)\n",
    "base_electr_input = {\n",
    "    \"node_loc\":country,\n",
    "    \"year_vtg\":vintage_years,\n",
    "    \"year_act\":act_years,\n",
    "    \"mode\":\"standard\",\n",
    "    \"node_origin\":country,\n",
    "    \"commodity\":\"electricity\",\n",
    "    \"time\":\"year\",\n",
    "    \"time_origin\":\"year\"\n",
    "}\n",
    "\n",
    "electr_grid = make_df(\n",
    "    base_electr_input,\n",
    "    technology='electricity_grid',\n",
    "    level='secondary',\n",
    "    value=1/electr_grid_eff,\n",
    "    unit='-',\n",
    ")\n",
    "\n",
    "scenario.add_par(\"input\",electr_grid)\n",
    "\n",
    "for tec in demand_tec:\n",
    "    electr_in = make_df(\n",
    "        base_electr_input,\n",
    "        technology = f'{tec}',\n",
    "        level = 'final',\n",
    "        value=1,\n",
    "        unit ='-'\n",
    "    )\n",
    "    scenario.add_par('input',electr_in)\n",
    "    \n",
    "\n"
   ]
  },
  {
   "cell_type": "code",
   "execution_count": 1322,
   "metadata": {},
   "outputs": [],
   "source": [
    "#Output\n",
    "base_output = {\n",
    "'node_loc':country,\n",
    "'mode':'standard',\n",
    "'node_dest':country,\n",
    "'time':'year',\n",
    "'time_dest':'year',   \n",
    "}\n",
    "\n",
    "\n",
    "\n",
    "#coal_ppl\n",
    "vintage_years,act_years = get_act_vtg_years(year_df,horizon,lifetimes,'coal_ppl')\n",
    "coal_ppl = make_df(\n",
    "    base_output,\n",
    "    technology ='coal_ppl',\n",
    "    year_vtg = vintage_years,\n",
    "    year_act = act_years,\n",
    "    commodity ='electricity',\n",
    "    level = 'secondary',\n",
    "    value = 1, \n",
    "    unit = '-'\n",
    "    \n",
    ")\n",
    "\n",
    "#gas_ppl\n",
    "vintage_years,act_years = get_act_vtg_years(year_df,horizon,lifetimes,'gas_ppl')\n",
    "gas_ppl = make_df(\n",
    "    base_output,\n",
    "    technology ='gas_ppl',\n",
    "    year_vtg = vintage_years,\n",
    "    year_act = act_years,\n",
    "    commodity ='electricity',\n",
    "    level = 'secondary',\n",
    "    value = 1, \n",
    "    unit = '-'  \n",
    ")\n",
    "\n",
    "#oil_ppl\n",
    "vintage_years,act_years = get_act_vtg_years(year_df,horizon,lifetimes,'oil_ppl')\n",
    "oil_ppl = make_df(\n",
    "    base_output,\n",
    "    technology ='oil_ppl',\n",
    "    year_vtg = vintage_years,\n",
    "    year_act = act_years,\n",
    "    commodity ='electricity',\n",
    "    level = 'secondary',\n",
    "    value = 1, \n",
    "    unit = '-'  \n",
    ")\n",
    "\n",
    "#hydro_ppl\n",
    "vintage_years,act_years = get_act_vtg_years(year_df,horizon,lifetimes,'hydro_ppl')\n",
    "hydro_ppl = make_df(\n",
    "    base_output,\n",
    "    technology ='hydro_ppl',\n",
    "    year_vtg = vintage_years,\n",
    "    year_act = act_years,\n",
    "    commodity ='electricity',\n",
    "    level = 'secondary',\n",
    "    value = 1, \n",
    "    unit = '-'  \n",
    ")\n",
    "\n",
    "#solar_ppl\n",
    "vintage_years,act_years = get_act_vtg_years(year_df,horizon,lifetimes,'solar_ppl')\n",
    "solar_ppl = make_df(\n",
    "    base_output,\n",
    "    technology ='solar_ppl',\n",
    "    year_vtg = vintage_years,\n",
    "    year_act = act_years,\n",
    "    commodity ='electricity',\n",
    "    level = 'secondary',\n",
    "    value = 1, \n",
    "    unit = '-'  \n",
    ")\n",
    "\n",
    "#wind_ppl\n",
    "vintage_years,act_years = get_act_vtg_years(year_df,horizon,lifetimes,'wind_ppl')\n",
    "wind_ppl = make_df(\n",
    "    base_output,\n",
    "    technology ='wind_ppl',\n",
    "    year_vtg = vintage_years,\n",
    "    year_act = act_years,\n",
    "    commodity ='electricity',\n",
    "    level = 'secondary',\n",
    "    value = 1, \n",
    "    unit = '-'  \n",
    ")\n",
    "\n",
    "#geo_ppl\n",
    "vintage_years,act_years = get_act_vtg_years(year_df,horizon,lifetimes,'geo_ppl')\n",
    "geo_ppl = make_df(\n",
    "    base_output,\n",
    "    technology ='geo_ppl',\n",
    "    year_vtg = vintage_years,\n",
    "    year_act = act_years,\n",
    "    commodity ='electricity',\n",
    "    level = 'secondary',\n",
    "    value = 1, \n",
    "    unit = '-'  \n",
    ")\n",
    "\n",
    "#bio_ppl\n",
    "vintage_years,act_years = get_act_vtg_years(year_df,horizon,lifetimes,'bio_ppl')\n",
    "bio_ppl = make_df(\n",
    "    base_output,\n",
    "    technology ='bio_ppl',\n",
    "    year_vtg = vintage_years,\n",
    "    year_act = act_years,\n",
    "    commodity ='electricity',\n",
    "    level = 'secondary',\n",
    "    value = 1, \n",
    "    unit = '-'  \n",
    ")\n",
    "\n",
    "#nuclear_ppl\n",
    "vintage_years,act_years = get_act_vtg_years(year_df,horizon,lifetimes,'nuclear_ppl')\n",
    "nuclear_ppl = make_df(\n",
    "    base_output,\n",
    "    technology ='nuclear_ppl',\n",
    "    year_vtg = vintage_years,\n",
    "    year_act = act_years,\n",
    "    commodity ='electricity',\n",
    "    level = 'secondary',\n",
    "    value = 1, \n",
    "    unit = '-'  \n",
    ")\n",
    "\n",
    "\n",
    "#electricity grid\n",
    "vintage_years,act_years = pd.Series(horizon),pd.Series(horizon)\n",
    "electr_grid = make_df(\n",
    "    base_output,\n",
    "    technology ='electricity_grid',\n",
    "    year_vtg = vintage_years,\n",
    "    year_act = act_years,\n",
    "    commodity ='electricity',\n",
    "    level = 'final',\n",
    "    value = 1, \n",
    "    unit = '-'\n",
    ")\n",
    "\n",
    "for tec in ppl_tec:\n",
    "    df = globals()[f'{tec}']\n",
    "    scenario.add_par('output',df)\n",
    "    \n",
    "scenario.add_par(\"output\",electr_grid)\n",
    "\n",
    "for tec,com in zip(demand_tec,demand_com):\n",
    "    electr_out = make_df(\n",
    "        base_output,\n",
    "        technology = f'{tec}',\n",
    "        commodity = f'{com}',\n",
    "        year_vtg = vintage_years,\n",
    "        year_act = act_years,\n",
    "        level = 'useful',\n",
    "        value=1,\n",
    "        unit ='-'\n",
    "    )\n",
    "    scenario.add_par('output',electr_out)"
   ]
  },
  {
   "cell_type": "code",
   "execution_count": 1323,
   "metadata": {},
   "outputs": [
    {
     "data": {
      "text/plain": [
       "\"\\nbase_capacity_factor = {\\n    'node_loc': country,\\n    'time':'year',\\n    'unit':'-'\\n}\\n\\ncapacity_factor ={\\n    'coal_ppl':0.8,\\n    'gas_ppl':0.85,\\n    'oil_ppl':0.95,\\n    'hydro_ppl':0.55,\\n    'solar_ppl':0.32,\\n    'wind_ppl':0.2634,\\n    'geo_ppl':0.8,\\n    'bio_ppl':0.8,\\n    'nuclear_ppl':0.95\\n}\\n\\nfor tec, val in capacity_factor.items():\\n    vintage_years,act_years = get_act_vtg_years(year_df,horizon,lifetimes,tec)\\n    df = make_df(\\n        base_capacity_factor,\\n        technology=tec,\\n        year_vtg = vintage_years,\\n        year_act = act_years,\\n        value=val)\\n    scenario.add_par('capacity_factor',df)\""
      ]
     },
     "execution_count": 1323,
     "metadata": {},
     "output_type": "execute_result"
    }
   ],
   "source": [
    "#Capacity Factor (data from LEAP Max Availability)\n",
    "'''\n",
    "base_capacity_factor = {\n",
    "    'node_loc': country,\n",
    "    'time':'year',\n",
    "    'unit':'-'\n",
    "}\n",
    "\n",
    "capacity_factor ={\n",
    "    'coal_ppl':0.8,\n",
    "    'gas_ppl':0.85,\n",
    "    'oil_ppl':0.95,\n",
    "    'hydro_ppl':0.55,\n",
    "    'solar_ppl':0.32,\n",
    "    'wind_ppl':0.2634,\n",
    "    'geo_ppl':0.8,\n",
    "    'bio_ppl':0.8,\n",
    "    'nuclear_ppl':0.95\n",
    "}\n",
    "\n",
    "for tec, val in capacity_factor.items():\n",
    "    vintage_years,act_years = get_act_vtg_years(year_df,horizon,lifetimes,tec)\n",
    "    df = make_df(\n",
    "        base_capacity_factor,\n",
    "        technology=tec,\n",
    "        year_vtg = vintage_years,\n",
    "        year_act = act_years,\n",
    "        value=val)\n",
    "    scenario.add_par('capacity_factor',df)'''\n",
    "\n"
   ]
  },
  {
   "cell_type": "code",
   "execution_count": 1324,
   "metadata": {},
   "outputs": [
    {
     "data": {
      "text/plain": [
       "\"ppl_commodities = ['Coal','Natural Gas','Oil','Hydro','Solar PV','Wind','Geothermal','Bioenergy','Nuclear']\\n\\ndf_gen = pd.read_excel(filename,sheet_name='IDN_Generation_BAS',skiprows=44)[:9]\\ndf_gen.rename(columns={'by technology - summary (TWh)':'fuel'},inplace=True)\\ndf_gen = df_gen.melt(id_vars='fuel',value_vars=list(range(2005,2021,5)),var_name='Year')\\n\\ndf_cap = pd.read_excel(filename,sheet_name='IDN_Capacity_BAS',skiprows=48)[:10]\\ndf_cap.rename(columns={'by technology - summary (GW)':'fuel'},inplace=True)\\ndf_cap = df_cap.melt(id_vars='fuel',value_vars=list(range(2005,2021,5)),var_name='Year')\\ndf_cap = df_cap[df_cap['fuel']!='Energy Storage']\\n\\ndf_cf = df_gen.merge(df_cap,on=['fuel','Year'],how='outer',suffixes=('_gen','_cap'))\\ndf_cf['cf'] = (df_cf['value_gen']*1000/8760)/df_cf['value_cap']\\n\\ncapacity_factor ={\\n    'coal_ppl':0.85,\\n    'gas_ppl':0.65,\\n    'oil_ppl':0.85,\\n    'hydro_ppl':0.5877,\\n    'solar_ppl':0.3261,\\n    'wind_ppl':0.36,\\n    'geo_ppl':0.9,\\n    'bio_ppl':0.83,\\n    'nuclear_ppl':0.95\\n}\\n\\nbase_capacity_factor = {\\n    'node_loc': country,\\n    'time':'year',\\n    'unit':'-'\\n}\\n\\nfor com,tec in zip(ppl_commodities,ppl_tec):\\n\\n    vintage_years,active_years = get_act_vtg_years(year_df,horizon,lifetimes,'coal_ppl')\\n    va_year_df = pd.DataFrame({'vintage_years':pd.Series(vintage_years),'active_years':pd.Series(active_years)})\\n\\n    historical_cf = df_cf[df_cf['fuel'] == com]\\n    historical_cf.dropna(inplace=True)\\n\\n    historical_cf = va_year_df.merge(historical_cf[['fuel','Year','cf']],left_on='active_years',right_on='Year',how='left')\\n    historical_cf['fuel'].fillna(com,inplace=True)\\n    historical_cf['cf'].fillna(capacity_factor[tec],inplace=True)\\n\\n    df = make_df(\\n        base_capacity_factor,\\n        technology=tec,\\n        year_vtg = historical_cf['vintage_years'].tolist(),\\n        year_act = historical_cf['active_years'].tolist(),\\n        value=historical_cf['cf'].tolist())\\n    \\n    scenario.add_par('capacity_factor',df)\""
      ]
     },
     "execution_count": 1324,
     "metadata": {},
     "output_type": "execute_result"
    }
   ],
   "source": [
    "#Capacity Factor (follow historical capacity factor)\n",
    "'''ppl_commodities = ['Coal','Natural Gas','Oil','Hydro','Solar PV','Wind','Geothermal','Bioenergy','Nuclear']\n",
    "\n",
    "df_gen = pd.read_excel(filename,sheet_name='IDN_Generation_BAS',skiprows=44)[:9]\n",
    "df_gen.rename(columns={'by technology - summary (TWh)':'fuel'},inplace=True)\n",
    "df_gen = df_gen.melt(id_vars='fuel',value_vars=list(range(2005,2021,5)),var_name='Year')\n",
    "\n",
    "df_cap = pd.read_excel(filename,sheet_name='IDN_Capacity_BAS',skiprows=48)[:10]\n",
    "df_cap.rename(columns={'by technology - summary (GW)':'fuel'},inplace=True)\n",
    "df_cap = df_cap.melt(id_vars='fuel',value_vars=list(range(2005,2021,5)),var_name='Year')\n",
    "df_cap = df_cap[df_cap['fuel']!='Energy Storage']\n",
    "\n",
    "df_cf = df_gen.merge(df_cap,on=['fuel','Year'],how='outer',suffixes=('_gen','_cap'))\n",
    "df_cf['cf'] = (df_cf['value_gen']*1000/8760)/df_cf['value_cap']\n",
    "\n",
    "capacity_factor ={\n",
    "    'coal_ppl':0.85,\n",
    "    'gas_ppl':0.65,\n",
    "    'oil_ppl':0.85,\n",
    "    'hydro_ppl':0.5877,\n",
    "    'solar_ppl':0.3261,\n",
    "    'wind_ppl':0.36,\n",
    "    'geo_ppl':0.9,\n",
    "    'bio_ppl':0.83,\n",
    "    'nuclear_ppl':0.95\n",
    "}\n",
    "\n",
    "base_capacity_factor = {\n",
    "    'node_loc': country,\n",
    "    'time':'year',\n",
    "    'unit':'-'\n",
    "}\n",
    "\n",
    "for com,tec in zip(ppl_commodities,ppl_tec):\n",
    "\n",
    "    vintage_years,active_years = get_act_vtg_years(year_df,horizon,lifetimes,'coal_ppl')\n",
    "    va_year_df = pd.DataFrame({'vintage_years':pd.Series(vintage_years),'active_years':pd.Series(active_years)})\n",
    "\n",
    "    historical_cf = df_cf[df_cf['fuel'] == com]\n",
    "    historical_cf.dropna(inplace=True)\n",
    "\n",
    "    historical_cf = va_year_df.merge(historical_cf[['fuel','Year','cf']],left_on='active_years',right_on='Year',how='left')\n",
    "    historical_cf['fuel'].fillna(com,inplace=True)\n",
    "    historical_cf['cf'].fillna(capacity_factor[tec],inplace=True)\n",
    "\n",
    "    df = make_df(\n",
    "        base_capacity_factor,\n",
    "        technology=tec,\n",
    "        year_vtg = historical_cf['vintage_years'].tolist(),\n",
    "        year_act = historical_cf['active_years'].tolist(),\n",
    "        value=historical_cf['cf'].tolist())\n",
    "    \n",
    "    scenario.add_par('capacity_factor',df)'''"
   ]
  },
  {
   "cell_type": "code",
   "execution_count": 1325,
   "metadata": {},
   "outputs": [
    {
     "name": "stderr",
     "output_type": "stream",
     "text": [
      "C:\\Users\\M Ilham Rizaldi\\AppData\\Local\\Temp\\ipykernel_25104\\1484608030.py:69: FutureWarning: A value is trying to be set on a copy of a DataFrame or Series through chained assignment using an inplace method.\n",
      "The behavior will change in pandas 3.0. This inplace method will never work because the intermediate object on which we are setting values always behaves as a copy.\n",
      "\n",
      "For example, when doing 'df[col].method(value, inplace=True)', try using 'df.method({col: value}, inplace=True)' or df[col] = df[col].method(value) instead, to perform the operation inplace on the original object.\n",
      "\n",
      "\n",
      "  historical_cf_merged['cf'].fillna(capacity_factor[tec], inplace=True)\n",
      "C:\\Users\\M Ilham Rizaldi\\AppData\\Local\\Temp\\ipykernel_25104\\1484608030.py:69: FutureWarning: A value is trying to be set on a copy of a DataFrame or Series through chained assignment using an inplace method.\n",
      "The behavior will change in pandas 3.0. This inplace method will never work because the intermediate object on which we are setting values always behaves as a copy.\n",
      "\n",
      "For example, when doing 'df[col].method(value, inplace=True)', try using 'df.method({col: value}, inplace=True)' or df[col] = df[col].method(value) instead, to perform the operation inplace on the original object.\n",
      "\n",
      "\n",
      "  historical_cf_merged['cf'].fillna(capacity_factor[tec], inplace=True)\n",
      "C:\\Users\\M Ilham Rizaldi\\AppData\\Local\\Temp\\ipykernel_25104\\1484608030.py:69: FutureWarning: A value is trying to be set on a copy of a DataFrame or Series through chained assignment using an inplace method.\n",
      "The behavior will change in pandas 3.0. This inplace method will never work because the intermediate object on which we are setting values always behaves as a copy.\n",
      "\n",
      "For example, when doing 'df[col].method(value, inplace=True)', try using 'df.method({col: value}, inplace=True)' or df[col] = df[col].method(value) instead, to perform the operation inplace on the original object.\n",
      "\n",
      "\n",
      "  historical_cf_merged['cf'].fillna(capacity_factor[tec], inplace=True)\n",
      "C:\\Users\\M Ilham Rizaldi\\AppData\\Local\\Temp\\ipykernel_25104\\1484608030.py:69: FutureWarning: A value is trying to be set on a copy of a DataFrame or Series through chained assignment using an inplace method.\n",
      "The behavior will change in pandas 3.0. This inplace method will never work because the intermediate object on which we are setting values always behaves as a copy.\n",
      "\n",
      "For example, when doing 'df[col].method(value, inplace=True)', try using 'df.method({col: value}, inplace=True)' or df[col] = df[col].method(value) instead, to perform the operation inplace on the original object.\n",
      "\n",
      "\n",
      "  historical_cf_merged['cf'].fillna(capacity_factor[tec], inplace=True)\n",
      "C:\\Users\\M Ilham Rizaldi\\AppData\\Local\\Temp\\ipykernel_25104\\1484608030.py:69: FutureWarning: A value is trying to be set on a copy of a DataFrame or Series through chained assignment using an inplace method.\n",
      "The behavior will change in pandas 3.0. This inplace method will never work because the intermediate object on which we are setting values always behaves as a copy.\n",
      "\n",
      "For example, when doing 'df[col].method(value, inplace=True)', try using 'df.method({col: value}, inplace=True)' or df[col] = df[col].method(value) instead, to perform the operation inplace on the original object.\n",
      "\n",
      "\n",
      "  historical_cf_merged['cf'].fillna(capacity_factor[tec], inplace=True)\n",
      "C:\\Users\\M Ilham Rizaldi\\AppData\\Local\\Temp\\ipykernel_25104\\1484608030.py:69: FutureWarning: A value is trying to be set on a copy of a DataFrame or Series through chained assignment using an inplace method.\n",
      "The behavior will change in pandas 3.0. This inplace method will never work because the intermediate object on which we are setting values always behaves as a copy.\n",
      "\n",
      "For example, when doing 'df[col].method(value, inplace=True)', try using 'df.method({col: value}, inplace=True)' or df[col] = df[col].method(value) instead, to perform the operation inplace on the original object.\n",
      "\n",
      "\n",
      "  historical_cf_merged['cf'].fillna(capacity_factor[tec], inplace=True)\n",
      "C:\\Users\\M Ilham Rizaldi\\AppData\\Local\\Temp\\ipykernel_25104\\1484608030.py:69: FutureWarning: A value is trying to be set on a copy of a DataFrame or Series through chained assignment using an inplace method.\n",
      "The behavior will change in pandas 3.0. This inplace method will never work because the intermediate object on which we are setting values always behaves as a copy.\n",
      "\n",
      "For example, when doing 'df[col].method(value, inplace=True)', try using 'df.method({col: value}, inplace=True)' or df[col] = df[col].method(value) instead, to perform the operation inplace on the original object.\n",
      "\n",
      "\n",
      "  historical_cf_merged['cf'].fillna(capacity_factor[tec], inplace=True)\n",
      "C:\\Users\\M Ilham Rizaldi\\AppData\\Local\\Temp\\ipykernel_25104\\1484608030.py:69: FutureWarning: A value is trying to be set on a copy of a DataFrame or Series through chained assignment using an inplace method.\n",
      "The behavior will change in pandas 3.0. This inplace method will never work because the intermediate object on which we are setting values always behaves as a copy.\n",
      "\n",
      "For example, when doing 'df[col].method(value, inplace=True)', try using 'df.method({col: value}, inplace=True)' or df[col] = df[col].method(value) instead, to perform the operation inplace on the original object.\n",
      "\n",
      "\n",
      "  historical_cf_merged['cf'].fillna(capacity_factor[tec], inplace=True)\n",
      "C:\\Users\\M Ilham Rizaldi\\AppData\\Local\\Temp\\ipykernel_25104\\1484608030.py:69: FutureWarning: A value is trying to be set on a copy of a DataFrame or Series through chained assignment using an inplace method.\n",
      "The behavior will change in pandas 3.0. This inplace method will never work because the intermediate object on which we are setting values always behaves as a copy.\n",
      "\n",
      "For example, when doing 'df[col].method(value, inplace=True)', try using 'df.method({col: value}, inplace=True)' or df[col] = df[col].method(value) instead, to perform the operation inplace on the original object.\n",
      "\n",
      "\n",
      "  historical_cf_merged['cf'].fillna(capacity_factor[tec], inplace=True)\n"
     ]
    }
   ],
   "source": [
    "#Historical Capacity Factor and 2020 to 2050 interpolated\n",
    "ppl_commodities = ['Coal','Natural Gas','Oil','Hydro','Solar PV','Wind','Geothermal','Bioenergy','Nuclear']\n",
    "\n",
    "df_gen = pd.read_excel(filename,sheet_name='IDN_Generation_BAS',skiprows=44)[:9]\n",
    "df_gen.rename(columns={'by technology - summary (TWh)':'fuel'},inplace=True)\n",
    "df_gen = df_gen.melt(id_vars='fuel',value_vars=list(range(2005,2021,5)),var_name='Year')\n",
    "\n",
    "df_cap = pd.read_excel(filename,sheet_name='IDN_Capacity_BAS',skiprows=48)[:10]\n",
    "df_cap.rename(columns={'by technology - summary (GW)':'fuel'},inplace=True)\n",
    "df_cap = df_cap.melt(id_vars='fuel',value_vars=list(range(2005,2021,5)),var_name='Year')\n",
    "df_cap = df_cap[df_cap['fuel']!='Energy Storage']\n",
    "\n",
    "df_cf = df_gen.merge(df_cap,on=['fuel','Year'],how='outer',suffixes=('_gen','_cap'))\n",
    "df_cf['cf'] = (df_cf['value_gen']*1000/8760)/df_cf['value_cap']\n",
    "\n",
    "capacity_factor ={\n",
    "    'coal_ppl':0.8, #Handayani et al. (2022) based on RUPTL 2021-2030, IEA-NEA, Mongird et al (2019)\n",
    "    'gas_ppl':0.85, #Handayani et al. (2022) based on RUPTL 2021-2030, IEA-NEA, Mongird et al (2019)\n",
    "    'oil_ppl':0.95, # for Fuel Oil and Diesel Power Plant, Handayani et al. (2022) based on RUPTL 2021-2030, IEA-NEA, Mongird et al (2019)\n",
    "    'hydro_ppl':0.492, #Last Historical Year Value from LEAP AEO8 Calculation in 2020\n",
    "    'solar_ppl':0.186, #Last Historical Year Value from LEAP AEO8 Calculation in 2022\n",
    "    'wind_ppl':0.44, #Placeholder from NREL ATB 2023 - average for all wind classes (moderate)\n",
    "    'geo_ppl':0.9, #Handayani et al. (2022) based on RUPTL 2021-2030, IEA-NEA, Mongird et al (2019)\n",
    "    'bio_ppl':0.8, #Handayani et al. (2022) based on RUPTL 2021-2030, IEA-NEA, Mongird et al (2019)\n",
    "    'nuclear_ppl':0.95 #LWR Nuclear BWRX -300 https://aris.iaea.org/PDF/BWRX-300_2020.pdf\n",
    "}\n",
    "\n",
    "base_capacity_factor = {\n",
    "    'node_loc': country,\n",
    "    'time':'year',\n",
    "    'unit':'-'\n",
    "}\n",
    "\n",
    "for com,tec in zip(ppl_commodities,ppl_tec):\n",
    "    # Step 1: Prepare year grid\n",
    "    vintage_years, active_years = get_act_vtg_years(year_df, horizon, lifetimes, tec)\n",
    "    va_year_df = pd.DataFrame({'vintage_years': pd.Series(vintage_years), 'active_years': pd.Series(active_years)})\n",
    "\n",
    "    # Step 2: Extract historical CF and clean\n",
    "    historical_cf = df_cf[df_cf['fuel'] == com].dropna(subset=['cf'])\n",
    "\n",
    "    # Step 3: Get 2020 CF or use fallback\n",
    "    cf_2020_vals = historical_cf.loc[historical_cf['Year'] == 2020, 'cf'].values\n",
    "    cf_2020 = cf_2020_vals[0] if len(cf_2020_vals) > 0 else capacity_factor[tec]\n",
    "    cf_2050 = capacity_factor[tec]\n",
    "\n",
    "    # Step 4: Construct projected values — 2025 = 2020, interpolate to 2050\n",
    "    proj_years = [2020, 2025, 2030, 2035, 2040, 2045, 2050]\n",
    "    cf_proj = []\n",
    "    for year in proj_years:\n",
    "        if year == 2020:\n",
    "            cf_proj.append(cf_2020)\n",
    "        else:\n",
    "            # Linear interpolation from 2025 → 2050\n",
    "            interpolated = cf_2020 + (cf_2050 - cf_2020) * (year - 2020) / (2050 - 2020)\n",
    "            cf_proj.append(interpolated)\n",
    "\n",
    "    cf_future = pd.DataFrame({\n",
    "        'fuel': com,\n",
    "        'Year': proj_years,\n",
    "        'cf': cf_proj\n",
    "    })\n",
    "\n",
    "    # Step 5: Combine historical and projected CFs\n",
    "    full_cf = pd.concat([historical_cf[['fuel', 'Year', 'cf']], cf_future], ignore_index=True)\n",
    "\n",
    "    # Step 6: Merge with vintage/active grid and fill NA with fallback\n",
    "    historical_cf_merged = va_year_df.merge(full_cf, left_on='active_years', right_on='Year', how='left')\n",
    "    historical_cf_merged['cf'].fillna(capacity_factor[tec], inplace=True)\n",
    "\n",
    "    # Step 7: Create MESSAGEix-compatible DataFrame\n",
    "    df = make_df(\n",
    "        base_capacity_factor,\n",
    "        technology=tec,\n",
    "        year_vtg=historical_cf_merged['vintage_years'].tolist(),\n",
    "        year_act=historical_cf_merged['active_years'].tolist(),\n",
    "        value=historical_cf_merged['cf'].tolist()\n",
    "    )\n",
    "\n",
    "    # Step 8: Add to scenario\n",
    "    scenario.add_par('capacity_factor', df)\n",
    "\n"
   ]
  },
  {
   "cell_type": "code",
   "execution_count": 1326,
   "metadata": {},
   "outputs": [
    {
     "data": {
      "text/plain": [
       "\"ppl_commodities = ['Coal','Natural Gas','Oil','Hydro','Solar PV','Wind','Geothermal','Bioenergy','Nuclear']\\n\\ndf_gen = pd.read_excel(filename,sheet_name='IDN_Generation_BAS',skiprows=44)[:9]\\ndf_gen.rename(columns={'by technology - summary (TWh)':'fuel'},inplace=True)\\ndf_gen = df_gen.melt(id_vars='fuel',value_vars=list(range(2005,2021,5)),var_name='Year')\\n\\ndf_cap = pd.read_excel(filename,sheet_name='IDN_Capacity_BAS',skiprows=48)[:10]\\ndf_cap.rename(columns={'by technology - summary (GW)':'fuel'},inplace=True)\\ndf_cap = df_cap.melt(id_vars='fuel',value_vars=list(range(2005,2021,5)),var_name='Year')\\ndf_cap = df_cap[df_cap['fuel']!='Energy Storage']\\n\\ndf_cf = df_gen.merge(df_cap,on=['fuel','Year'],how='outer',suffixes=('_gen','_cap'))\\ndf_cf['cf'] = (df_cf['value_gen']*1000/8760)/df_cf['value_cap']\\n\\ncapacity_factor ={\\n    'coal_ppl':0.85,\\n    'gas_ppl':0.65,\\n    'oil_ppl':0.85,\\n    'hydro_ppl':0.5877,\\n    'solar_ppl':0.3261,\\n    'wind_ppl':0.36,\\n    'geo_ppl':0.9,\\n    'bio_ppl':0.83,\\n    'nuclear_ppl':0.95\\n}\\n\\nbase_capacity_factor = {\\n    'node_loc': country,\\n    'time':'year',\\n    'unit':'-'\\n}\\n\\nfor com,tec in zip(ppl_commodities,ppl_tec):\\n    # Step 1: Prepare year grid\\n    vintage_years, active_years = get_act_vtg_years(year_df, horizon, lifetimes, tec)\\n    va_year_df = pd.DataFrame({'vintage_years': pd.Series(vintage_years), 'active_years': pd.Series(active_years)})\\n\\n# Step 2: Set historical years to fixed dictionary value\\n    historical_years = [2005, 2010, 2015, 2020]\\n    cf_hist = pd.DataFrame({\\n        'fuel': com,\\n        'Year': historical_years,\\n        'cf': capacity_factor[tec]\\n    })\\n\\n    # Step 3: Get actual 2020 capacity factor from df_cf\\n    cf_2020_vals = df_cf[(df_cf['fuel'] == com) & (df_cf['Year'] == 2020)]['cf'].values\\n    cf_2020 = cf_2020_vals[0] if len(cf_2020_vals) > 0 else capacity_factor[tec]\\n    cf_2050 = capacity_factor[tec]\\n\\n    # Step 4: 2025 = real 2020 CF, then interpolate to 2050\\n    proj_years = [2025, 2030, 2035, 2040, 2045, 2050]\\n    cf_proj = []\\n    for year in proj_years:\\n        if year == 2025:\\n            cf_proj.append(cf_2020)  # Use actual 2020 CF for 2025\\n        else:\\n            interpolated = cf_2020 + (cf_2050 - cf_2020) * (year - 2025) / (2050 - 2025)\\n            cf_proj.append(interpolated)\\n\\n    cf_future = pd.DataFrame({\\n        'fuel': com,\\n        'Year': proj_years,\\n        'cf': cf_proj\\n    })\\n\\n    # Step 5: Combine historical and projected CFs\\n    full_cf = pd.concat([cf_hist, cf_future], ignore_index=True)\\n\\n    # Step 6: Merge with vintage/active grid\\n    historical_cf_merged = va_year_df.merge(full_cf, left_on='active_years', right_on='Year', how='left')\\n    historical_cf_merged['cf'].fillna(capacity_factor[tec], inplace=True)\\n\\n    # Step 7: Create MESSAGEix-compatible DataFrame\\n    df = make_df(\\n        base_capacity_factor,\\n        technology=tec,\\n        year_vtg=historical_cf_merged['vintage_years'].tolist(),\\n        year_act=historical_cf_merged['active_years'].tolist(),\\n        value=historical_cf_merged['cf'].tolist()\\n    )\\n\\n    # Step 8: Add to scenario\\n    scenario.add_par('capacity_factor', df)\""
      ]
     },
     "execution_count": 1326,
     "metadata": {},
     "output_type": "execute_result"
    }
   ],
   "source": [
    "#Capacity Factor single value and 2025 actual value\n",
    "'''ppl_commodities = ['Coal','Natural Gas','Oil','Hydro','Solar PV','Wind','Geothermal','Bioenergy','Nuclear']\n",
    "\n",
    "df_gen = pd.read_excel(filename,sheet_name='IDN_Generation_BAS',skiprows=44)[:9]\n",
    "df_gen.rename(columns={'by technology - summary (TWh)':'fuel'},inplace=True)\n",
    "df_gen = df_gen.melt(id_vars='fuel',value_vars=list(range(2005,2021,5)),var_name='Year')\n",
    "\n",
    "df_cap = pd.read_excel(filename,sheet_name='IDN_Capacity_BAS',skiprows=48)[:10]\n",
    "df_cap.rename(columns={'by technology - summary (GW)':'fuel'},inplace=True)\n",
    "df_cap = df_cap.melt(id_vars='fuel',value_vars=list(range(2005,2021,5)),var_name='Year')\n",
    "df_cap = df_cap[df_cap['fuel']!='Energy Storage']\n",
    "\n",
    "df_cf = df_gen.merge(df_cap,on=['fuel','Year'],how='outer',suffixes=('_gen','_cap'))\n",
    "df_cf['cf'] = (df_cf['value_gen']*1000/8760)/df_cf['value_cap']\n",
    "\n",
    "capacity_factor ={\n",
    "    'coal_ppl':0.85,\n",
    "    'gas_ppl':0.65,\n",
    "    'oil_ppl':0.85,\n",
    "    'hydro_ppl':0.5877,\n",
    "    'solar_ppl':0.3261,\n",
    "    'wind_ppl':0.36,\n",
    "    'geo_ppl':0.9,\n",
    "    'bio_ppl':0.83,\n",
    "    'nuclear_ppl':0.95\n",
    "}\n",
    "\n",
    "base_capacity_factor = {\n",
    "    'node_loc': country,\n",
    "    'time':'year',\n",
    "    'unit':'-'\n",
    "}\n",
    "\n",
    "for com,tec in zip(ppl_commodities,ppl_tec):\n",
    "    # Step 1: Prepare year grid\n",
    "    vintage_years, active_years = get_act_vtg_years(year_df, horizon, lifetimes, tec)\n",
    "    va_year_df = pd.DataFrame({'vintage_years': pd.Series(vintage_years), 'active_years': pd.Series(active_years)})\n",
    "\n",
    "# Step 2: Set historical years to fixed dictionary value\n",
    "    historical_years = [2005, 2010, 2015, 2020]\n",
    "    cf_hist = pd.DataFrame({\n",
    "        'fuel': com,\n",
    "        'Year': historical_years,\n",
    "        'cf': capacity_factor[tec]\n",
    "    })\n",
    "\n",
    "    # Step 3: Get actual 2020 capacity factor from df_cf\n",
    "    cf_2020_vals = df_cf[(df_cf['fuel'] == com) & (df_cf['Year'] == 2020)]['cf'].values\n",
    "    cf_2020 = cf_2020_vals[0] if len(cf_2020_vals) > 0 else capacity_factor[tec]\n",
    "    cf_2050 = capacity_factor[tec]\n",
    "\n",
    "    # Step 4: 2025 = real 2020 CF, then interpolate to 2050\n",
    "    proj_years = [2025, 2030, 2035, 2040, 2045, 2050]\n",
    "    cf_proj = []\n",
    "    for year in proj_years:\n",
    "        if year == 2025:\n",
    "            cf_proj.append(cf_2020)  # Use actual 2020 CF for 2025\n",
    "        else:\n",
    "            interpolated = cf_2020 + (cf_2050 - cf_2020) * (year - 2025) / (2050 - 2025)\n",
    "            cf_proj.append(interpolated)\n",
    "\n",
    "    cf_future = pd.DataFrame({\n",
    "        'fuel': com,\n",
    "        'Year': proj_years,\n",
    "        'cf': cf_proj\n",
    "    })\n",
    "\n",
    "    # Step 5: Combine historical and projected CFs\n",
    "    full_cf = pd.concat([cf_hist, cf_future], ignore_index=True)\n",
    "\n",
    "    # Step 6: Merge with vintage/active grid\n",
    "    historical_cf_merged = va_year_df.merge(full_cf, left_on='active_years', right_on='Year', how='left')\n",
    "    historical_cf_merged['cf'].fillna(capacity_factor[tec], inplace=True)\n",
    "\n",
    "    # Step 7: Create MESSAGEix-compatible DataFrame\n",
    "    df = make_df(\n",
    "        base_capacity_factor,\n",
    "        technology=tec,\n",
    "        year_vtg=historical_cf_merged['vintage_years'].tolist(),\n",
    "        year_act=historical_cf_merged['active_years'].tolist(),\n",
    "        value=historical_cf_merged['cf'].tolist()\n",
    "    )\n",
    "\n",
    "    # Step 8: Add to scenario\n",
    "    scenario.add_par('capacity_factor', df)'''\n"
   ]
  },
  {
   "cell_type": "markdown",
   "metadata": {},
   "source": [
    "## Technoeconomic Parameters"
   ]
  },
  {
   "cell_type": "code",
   "execution_count": 1327,
   "metadata": {},
   "outputs": [],
   "source": [
    "#Resource parameters\n",
    "\n",
    "'''Data Format\n",
    "Reserves Volume (GWa)|Cost (USD/Kwa) |Historical Extraction (GWa)\n",
    "'''\n",
    "#Coal Energy Content 18.8 GJ/Ton\n",
    "coal_reserves = 34868968.53*1000 #Tonnes Data as of December 31 2021 from US EIA\n",
    "coal_reserves_gwa = coal_reserves*18.8*277.78/8760*1e-6 \n",
    "\n",
    "coal_cost = 59.04 #USD 2020 per Metric Ton\n",
    "coal_cost_kwa = coal_cost/(18.8*277.78)*8760\n",
    "\n",
    "coal_extraction = 563728255 #Ton, Handbook of Energy and Economic Statistics of Indonesia (HEESI) 2020\n",
    "coal_extraction_gwa = coal_extraction*18.8*277.78/8760*1e-6\n",
    "\n",
    "coal_potentials = {'a':[coal_reserves_gwa,coal_cost_kwa,coal_extraction_gwa]} \n",
    "\n",
    "#Natural gas energy content 34.2 MJ/m3, 1 SCF = 1037 BTU\n",
    "gas_reserves = 1.77*1e12 #m3\n",
    "gas_reserves_gwa = gas_reserves*34.2*277.78/8760*1e-9\n",
    "\n",
    "gas_cost = 5.56 #USD 2020 per Million BTU\n",
    "gas_cost_kwa = gas_cost/(1e6*0.2931)*8760\n",
    "\n",
    "gas_extraction = 2442831 #MMSCF, HEESI 2020\n",
    "gas_extraction_gwa = gas_extraction*1.037*1e9*0.0002931/(8760*1e6)\n",
    "\n",
    "gas_potentials = {'a':[gas_reserves_gwa,gas_cost,gas_extraction]}\n",
    "\n",
    "#Fuel Oil Energy content 40.19 GJ/Ton, 1 BOE = 5.815 GJ\n",
    "oil_reserves = 4.17*1e9 #BOE\n",
    "oil_reserves_gwa = oil_reserves*5.815*277.78/(8760*1e6)\n",
    "\n",
    "oil_cost = 6.7 #USD 2020 per barrel oil\n",
    "oil_cost_kwa = oil_cost/(5.815*277.78)*8760\n",
    "\n",
    "oil_extraction = 259247*1e3 #BBL\n",
    "oil_extraction_gwa = oil_extraction*5.815*277.78/(8760*1e6)\n",
    "\n",
    "oil_potentials = {'a':[oil_reserves,oil_cost_kwa,oil_extraction_gwa]}\n",
    "\n",
    "\n",
    "bio_potentials = {'a':[2445,16.8,1.425]}  #Need to update data"
   ]
  },
  {
   "cell_type": "code",
   "execution_count": 1328,
   "metadata": {},
   "outputs": [],
   "source": [
    "#Coal Resource\n",
    "df = pd.DataFrame(\n",
    "    {\n",
    "        'node': [country],\n",
    "        'commodity':'coal',\n",
    "        'grade':'a_coal',\n",
    "        'value':coal_potentials['a'][0],\n",
    "        'unit':'GWa',\n",
    "    }\n",
    ")\n",
    "scenario.add_par('resource_volume',df)\n",
    "\n",
    "mp.add_unit('USD/KWa')\n",
    "df = make_df(\n",
    "    'resource_cost',\n",
    "    node = country,\n",
    "    commodity='coal',\n",
    "    grade='a_coal',\n",
    "    year = model_horizon,\n",
    "    value=coal_potentials['a'][1],\n",
    "    unit='USD/KWa'\n",
    ")\n",
    "\n",
    "scenario.add_par('resource_cost',df)\n",
    "\n",
    "df = pd.DataFrame(\n",
    "    {\n",
    "        'node': country,\n",
    "        'commodity':'coal',\n",
    "        'grade':'a_coal',\n",
    "        'year':[2020],\n",
    "        'value':coal_potentials['a'][2],\n",
    "        'unit':'GWa'\n",
    "    }\n",
    ")\n",
    "scenario.add_par('historical_extraction',df)"
   ]
  },
  {
   "cell_type": "code",
   "execution_count": 1329,
   "metadata": {},
   "outputs": [],
   "source": [
    "#Gas resource\n",
    "df = pd.DataFrame(\n",
    "    {\n",
    "        'node': [country],\n",
    "        'commodity':'gas',\n",
    "        'grade':'a_gas',\n",
    "        'value':gas_potentials['a'][0],\n",
    "        'unit':'GWa',\n",
    "    }\n",
    ")\n",
    "scenario.add_par('resource_volume',df)\n",
    "\n",
    "mp.add_unit('USD/KWa')\n",
    "df = make_df(\n",
    "    'resource_cost',\n",
    "    node = country,\n",
    "    commodity='gas',\n",
    "    grade='a_gas',\n",
    "    year = model_horizon,\n",
    "    value=gas_potentials['a'][1],\n",
    "    unit='USD/KWa'\n",
    ")\n",
    "\n",
    "scenario.add_par('resource_cost',df)\n",
    "\n",
    "df = pd.DataFrame(\n",
    "    {\n",
    "        'node': country,\n",
    "        'commodity':'gas',\n",
    "        'grade':'a_gas',\n",
    "        'year':[2020],\n",
    "        'value':gas_potentials['a'][2],\n",
    "        'unit':'GWa'\n",
    "    }\n",
    ")\n",
    "scenario.add_par('historical_extraction',df)\n"
   ]
  },
  {
   "cell_type": "code",
   "execution_count": 1330,
   "metadata": {},
   "outputs": [],
   "source": [
    "#Oil Resource\n",
    "df = pd.DataFrame(\n",
    "    {\n",
    "        'node': [country],\n",
    "        'commodity':'oil',\n",
    "        'grade':'a_oil',\n",
    "        'value':oil_potentials['a'][0],\n",
    "        'unit':'GWa',\n",
    "    }\n",
    ")\n",
    "scenario.add_par('resource_volume',df)\n",
    "\n",
    "mp.add_unit('USD/KWa')\n",
    "df = make_df(\n",
    "    'resource_cost',\n",
    "    node = country,\n",
    "    commodity='oil',\n",
    "    grade='a_oil',\n",
    "    year = model_horizon,\n",
    "    value=oil_potentials['a'][1],\n",
    "    unit='USD/KWa'\n",
    ")\n",
    "\n",
    "scenario.add_par('resource_cost',df)\n",
    "\n",
    "df = pd.DataFrame(\n",
    "    {\n",
    "        'node': country,\n",
    "        'commodity':'oil',\n",
    "        'grade':'a_oil',\n",
    "        'year':[2020],\n",
    "        'value':oil_potentials['a'][2],\n",
    "        'unit':'GWa'\n",
    "    }\n",
    ")\n",
    "scenario.add_par('historical_extraction',df)\n"
   ]
  },
  {
   "cell_type": "code",
   "execution_count": 1331,
   "metadata": {},
   "outputs": [],
   "source": [
    "#Bio Resource\n",
    "df = pd.DataFrame(\n",
    "    {\n",
    "        'node': [country],\n",
    "        'commodity':'biomass',\n",
    "        'grade':'a_biomass',\n",
    "        'value':bio_potentials['a'][0],\n",
    "        'unit':'GWa',\n",
    "    }\n",
    ")\n",
    "scenario.add_par('resource_volume',df)\n",
    "\n",
    "mp.add_unit('USD/KWa')\n",
    "df = make_df(\n",
    "    'resource_cost',\n",
    "    node = country,\n",
    "    commodity='biomass',\n",
    "    grade='a_biomass',\n",
    "    year = model_horizon,\n",
    "    value=bio_potentials['a'][1],\n",
    "    unit='USD/KWa'\n",
    ")\n",
    "\n",
    "scenario.add_par('resource_cost',df)\n",
    "\n",
    "df = pd.DataFrame(\n",
    "    {\n",
    "        'node': country,\n",
    "        'commodity':'biomass',\n",
    "        'grade':'a_biomass',\n",
    "        'year':[2020],\n",
    "        'value':bio_potentials['a'][2],\n",
    "        'unit':'GWa'\n",
    "    }\n",
    ")\n",
    "scenario.add_par('historical_extraction',df)"
   ]
  },
  {
   "cell_type": "code",
   "execution_count": 1332,
   "metadata": {},
   "outputs": [],
   "source": [
    "#inv_cost (data from LEAP 2022)\n",
    "vintage_years,act_years = year_df[\"year_vtg\"],year_df[\"year_act\"]\n",
    "base_inv_cost = {\n",
    "    'node_loc':country,\n",
    "    'year_vtg':vintage_years,\n",
    "    'unit':'USD/kW'\n",
    "}\n",
    "\n",
    "mp.add_unit('USD/kW')\n",
    "\n",
    "costs = {\n",
    "    'coal_ppl':1600,\n",
    "    'gas_ppl':1062,\n",
    "    'oil_ppl':910,\n",
    "    'hydro_ppl':2200,\n",
    "    'solar_ppl':960,\n",
    "    'wind_ppl':1650,\n",
    "    'geo_ppl':3600,\n",
    "    'bio_ppl':2280,\n",
    "    'nuclear_ppl':9000\n",
    "}\n",
    "\n",
    "for tec, val in costs.items():\n",
    "    df = make_df(base_inv_cost,technology=tec,value=val)\n",
    "    scenario.add_par('inv_cost',df)\n"
   ]
  },
  {
   "cell_type": "code",
   "execution_count": 1333,
   "metadata": {},
   "outputs": [],
   "source": [
    "#fix_cost (data from LEAP 2022)\n",
    "mp.add_unit('USD/kWa')\n",
    "\n",
    "base_fix_cost = {\n",
    "    'node_loc':country,\n",
    "    'unit':'USD/kWa'\n",
    "}\n",
    "\n",
    "costs = {\n",
    "    'coal_ppl':47,\n",
    "    'gas_ppl':26.5,\n",
    "    'oil_ppl':9.1,\n",
    "    'hydro_ppl':43,\n",
    "    'solar_ppl':9.2,\n",
    "    'wind_ppl':40,\n",
    "    'geo_ppl':18.7,\n",
    "    'bio_ppl':54,\n",
    "    'nuclear_ppl':127\n",
    "}\n",
    "\n",
    "for tec, val in costs.items():\n",
    "    vintage_years,act_years = get_act_vtg_years(year_df,horizon,lifetimes,tec)\n",
    "    df = make_df(\n",
    "        base_fix_cost,\n",
    "        technology=tec,\n",
    "        year_vtg = vintage_years,\n",
    "        year_act = act_years,\n",
    "        value=val)\n",
    "    scenario.add_par('fix_cost',df)"
   ]
  },
  {
   "cell_type": "code",
   "execution_count": 1334,
   "metadata": {},
   "outputs": [],
   "source": [
    "#var_cost (data from LEAP 2022)\n",
    "\n",
    "base_var_cost = {\n",
    "    'node_loc':country,\n",
    "    'mode':'standard',\n",
    "    'time':'year',\n",
    "    'unit':'USD/kWa'\n",
    "}\n",
    "\n",
    "#in USD/MWh\n",
    "costs = {\n",
    "    'coal_ppl':1.5,\n",
    "    'gas_ppl':2.6,\n",
    "    'oil_ppl':7.3,\n",
    "    'hydro_ppl':0.7,\n",
    "    'solar_ppl':0,\n",
    "    'wind_ppl':4.2,\n",
    "    'geo_ppl':0.3,\n",
    "    'bio_ppl':3.4,\n",
    "    'nuclear_ppl':2.4\n",
    "}\n",
    "\n",
    "for tec, val in costs.items():\n",
    "    vintage_years,act_years = get_act_vtg_years(year_df,horizon,lifetimes,tec)\n",
    "    df = make_df(\n",
    "        base_var_cost,\n",
    "        technology=tec,\n",
    "        year_vtg = vintage_years,\n",
    "        year_act = act_years,\n",
    "        value=val*8760.0/1e3)\n",
    "    scenario.add_par('var_cost',df)"
   ]
  },
  {
   "cell_type": "markdown",
   "metadata": {},
   "source": [
    "## Calibration Parameter"
   ]
  },
  {
   "cell_type": "code",
   "execution_count": 1335,
   "metadata": {},
   "outputs": [],
   "source": [
    "ppl_commodities = ['Coal','Natural Gas','Oil','Hydro','Solar PV','Wind','Geothermal','Bioenergy','Nuclear']"
   ]
  },
  {
   "cell_type": "code",
   "execution_count": 1336,
   "metadata": {},
   "outputs": [],
   "source": [
    "df_gen = pd.read_excel(filename,sheet_name='IDN_Generation_BAS',skiprows=44)[:9]\n",
    "df_gen.rename(columns={'by technology - summary (TWh)':'fuel'},inplace=True)\n",
    "df_gen = df_gen.melt(id_vars='fuel',value_vars=list(range(2005,2021,5)),var_name='Year')"
   ]
  },
  {
   "cell_type": "code",
   "execution_count": 1337,
   "metadata": {},
   "outputs": [],
   "source": [
    "df_total_gen = pd.read_excel(filename,sheet_name='IDN_Generation_BAS',skiprows=44)[:10]\n",
    "df_total_gen.rename(columns={'by technology - summary (TWh)':'fuel'},inplace=True)\n",
    "df_total_gen = df_total_gen[df_total_gen['fuel'] == 'Total']\n",
    "df_total_gen = df_total_gen.melt(id_vars='fuel',value_vars=list(range(2005,2021,5)),var_name='Year')"
   ]
  },
  {
   "cell_type": "code",
   "execution_count": 1338,
   "metadata": {},
   "outputs": [],
   "source": [
    "df_cap = pd.read_excel(filename,sheet_name='IDN_Capacity_BAS',skiprows=48)[:10]\n",
    "df_cap.rename(columns={'by technology - summary (GW)':'fuel'},inplace=True)\n",
    "df_cap = df_cap.melt(id_vars='fuel',value_vars=list(range(2005,2021,5)),var_name='Year')"
   ]
  },
  {
   "cell_type": "code",
   "execution_count": 1339,
   "metadata": {},
   "outputs": [],
   "source": [
    "mp.add_unit(\"GW/y\")\n",
    "\n",
    "for act,tec in zip(ppl_commodities,ppl_tec):\n",
    "\n",
    "    d_his = list(df_gen[df_gen['fuel'] == act]['value']*conv_twh_gwa)\n",
    "    df = make_df(\n",
    "        'historical_activity',\n",
    "        node_loc=country,\n",
    "        year_act=historical_horizon,\n",
    "        mode='standard',\n",
    "        time='year',\n",
    "        unit='GWa',\n",
    "        technology = tec,\n",
    "        value = d_his\n",
    "    )\n",
    "\n",
    "    scenario.add_par('historical_activity',df)\n",
    "\n",
    "d_his = list(df_total_gen['value']*conv_twh_gwa)\n",
    "df = make_df(\n",
    "    'historical_activity',\n",
    "    node_loc = country,\n",
    "    year_act = historical_horizon,\n",
    "    mode='standard',\n",
    "    time='year',\n",
    "    unit='GWa',\n",
    "    technology = 'electricity_grid',\n",
    "    value = d_his\n",
    ")\n",
    "\n",
    "scenario.add_par('historical_activity',df)\n",
    "\n",
    "for sector,sector_model in zip(sectors,demand_tec):\n",
    "\n",
    "    df = pd.read_excel(filename,sheet_name=f'IDN_{sector}_BAS',skiprows=6)\n",
    "    index = df[df['Fuel'] == 'Total'].index[0] #get index of the targeted sliced rows\n",
    "    df = df.loc[:index-1]\n",
    "    df = df.melt(id_vars='Fuel', value_vars=list(range(2005,2051,5)),var_name='Year')\n",
    "    df = df[(df['Fuel'] == 'Electricity') & (df['Year']<2021)]\n",
    "    df.value = df.value*conv_mtoe_gwa\n",
    "\n",
    "    d_his = df.value.tolist()\n",
    "\n",
    "    df = make_df(\n",
    "    'historical_activity',\n",
    "    node_loc = country,\n",
    "    year_act = historical_horizon,\n",
    "    mode='standard',\n",
    "    time='year',\n",
    "    unit='GWa',\n",
    "    technology = sector_model,\n",
    "    value = d_his\n",
    ")\n",
    "\n",
    "    scenario.add_par('historical_activity',df)\n",
    "\n",
    "\n",
    "\n"
   ]
  },
  {
   "cell_type": "code",
   "execution_count": 1340,
   "metadata": {},
   "outputs": [],
   "source": [
    "mp.add_unit(\"GW/y\")\n",
    "\n",
    "df_cap_new = df_cap.pivot(index='Year',columns='fuel',values='value').diff().reset_index()\n",
    "df_cap_new = pd.melt(df_cap_new,id_vars='Year',value_vars=ppl_commodities,value_name='value',var_name='fuel')\n",
    "\n",
    "df_cap_new = fix_negative_values(df_cap_new,fuel_col='fuel',year_col='Year',value_col='value')\n",
    "df_cap_new = fill_missing_values(df_cap_new,df_cap[df_cap['Year'] == 2005])\n",
    "\n",
    "for cap,tec in zip(ppl_commodities,ppl_tec):\n",
    "    d_his = list(df_cap_new[df_cap_new['fuel'] == cap]['value'])\n",
    "    df = make_df(\n",
    "        'historical_new_capacity',\n",
    "        node_loc = country,\n",
    "        year_vtg = historical_horizon,\n",
    "        unit = 'GW/y',\n",
    "        technology = tec,\n",
    "        value=d_his\n",
    "    )\n",
    "\n",
    "    scenario.add_par('historical_new_capacity',df)"
   ]
  },
  {
   "cell_type": "code",
   "execution_count": 1341,
   "metadata": {},
   "outputs": [],
   "source": [
    "base_growth = {\n",
    "    'node_loc':country,\n",
    "    'year_act':model_horizon,\n",
    "    'time':'year',\n",
    "    'unit':'-'\n",
    "}\n",
    "\n",
    "growth = {\n",
    "    'coal_ppl':0.05,\n",
    "    'gas_ppl':0.05,\n",
    "    'oil_ppl':0.05,\n",
    "    'hydro_ppl':0.01,\n",
    "    'solar_ppl':0.01,\n",
    "    'wind_ppl':0.01,\n",
    "    'geo_ppl':0.01,\n",
    "    'bio_ppl':0.05,\n",
    "    'nuclear_ppl':0.01\n",
    "}\n",
    "\n",
    "for tec,val in growth.items():\n",
    "    df = make_df(base_growth,technology = tec,value=val)\n",
    "    scenario.add_par('growth_activity_up',df)\n"
   ]
  },
  {
   "cell_type": "code",
   "execution_count": 1342,
   "metadata": {},
   "outputs": [],
   "source": [
    "base_activity = {\n",
    "    'node_loc':country,\n",
    "    'year_act':historical_horizon,\n",
    "    'mode':'standard',\n",
    "    'time':'year',\n",
    "    'unit':'GWa',\n",
    "}\n",
    "\n",
    "for act,tec in zip(ppl_commodities,ppl_tec):\n",
    "\n",
    "    d_his = df_gen\n",
    "    d_his= list((d_his[d_his['fuel'] == act]['value']*conv_twh_gwa))\n",
    "\n",
    "    df = make_df(\n",
    "        base_activity,\n",
    "        technology = tec,\n",
    "        value = d_his\n",
    "    )\n",
    "\n",
    "    scenario.add_par('bound_activity_lo',df)\n",
    "    scenario.add_par('bound_activity_up',df)\n"
   ]
  },
  {
   "cell_type": "code",
   "execution_count": 1343,
   "metadata": {},
   "outputs": [
    {
     "data": {
      "text/plain": [
       "\"base_activity = {\\n    'node_loc':country,\\n    'year_act':[2020],\\n    'mode':'standard',\\n    'time':'year',\\n    'unit':'GWa',\\n}\\n\\nfor act,tec in zip(ppl_commodities,ppl_tec):\\n\\n    d_his = df_gen[df_gen['Year'] == 2020]\\n    d_his= list((d_his[d_his['fuel'] == act]['value']*conv_twh_gwa))\\n\\n    df = make_df(\\n        base_activity,\\n        technology = tec,\\n        value = d_his\\n    )\\n\\n    scenario.add_par('bound_activity_lo',df)\\n    scenario.add_par('bound_activity_up',df)\""
      ]
     },
     "execution_count": 1343,
     "metadata": {},
     "output_type": "execute_result"
    }
   ],
   "source": [
    "'''base_activity = {\n",
    "    'node_loc':country,\n",
    "    'year_act':[2020],\n",
    "    'mode':'standard',\n",
    "    'time':'year',\n",
    "    'unit':'GWa',\n",
    "}\n",
    "\n",
    "for act,tec in zip(ppl_commodities,ppl_tec):\n",
    "\n",
    "    d_his = df_gen[df_gen['Year'] == 2020]\n",
    "    d_his= list((d_his[d_his['fuel'] == act]['value']*conv_twh_gwa))\n",
    "\n",
    "    df = make_df(\n",
    "        base_activity,\n",
    "        technology = tec,\n",
    "        value = d_his\n",
    "    )\n",
    "\n",
    "    scenario.add_par('bound_activity_lo',df)\n",
    "    scenario.add_par('bound_activity_up',df)'''\n"
   ]
  },
  {
   "cell_type": "markdown",
   "metadata": {},
   "source": [
    "## Emission"
   ]
  },
  {
   "cell_type": "code",
   "execution_count": 1344,
   "metadata": {},
   "outputs": [],
   "source": [
    "scenario.add_set(\"emission\", \"CO2\")\n",
    "scenario.add_cat(\"emission\", \"GHGs\", \"CO2\")"
   ]
  },
  {
   "cell_type": "code",
   "execution_count": 1345,
   "metadata": {},
   "outputs": [],
   "source": [
    "base_emissions = {\n",
    "    \"node_loc\": country,\n",
    "    \"year_vtg\": vintage_years,\n",
    "    \"year_act\": act_years,\n",
    "    \"mode\": \"standard\",\n",
    "    \"unit\": \"tCO2/kWa\",\n",
    "}\n",
    "\n",
    "# adding new units to the model library (needed only once)\n",
    "mp.add_unit(\"tCO2/kWa\")\n",
    "mp.add_unit(\"MtCO2\")\n",
    "\n",
    "emissions = {\n",
    "    \"coal_ppl\": (\"CO2\", 0.854),  # units: tCO2/MWh\n",
    "    \"gas_ppl\": (\"CO2\", 0.339),  # units: tCO2/MWh\n",
    "    \"oil_ppl\": (\"CO2\", 0.57),  # units: tCO2/MWh\n",
    "}\n",
    "\n",
    "for tec, (species, val) in emissions.items():\n",
    "    df = make_df(\n",
    "        base_emissions, technology=tec, emission=species, value=val * 8760.0 / 1000\n",
    "    )  # to convert tCO2/MWh into tCO2/kWa\n",
    "    scenario.add_par(\"emission_factor\", df)\n"
   ]
  },
  {
   "cell_type": "markdown",
   "metadata": {},
   "source": [
    "## Objective Function"
   ]
  },
  {
   "cell_type": "code",
   "execution_count": 1346,
   "metadata": {},
   "outputs": [],
   "source": [
    "scenario.add_par(\"interestrate\", model_horizon, value=0.07, unit=\"-\")"
   ]
  },
  {
   "cell_type": "markdown",
   "metadata": {},
   "source": [
    "# Commit and Solve the Model"
   ]
  },
  {
   "cell_type": "code",
   "execution_count": 1347,
   "metadata": {},
   "outputs": [],
   "source": [
    "comment = \"initial commit for Indonesia model\"\n",
    "scenario.commit(comment)\n",
    "scenario.set_as_default()"
   ]
  },
  {
   "cell_type": "code",
   "execution_count": 1348,
   "metadata": {},
   "outputs": [],
   "source": [
    "scenario.solve()"
   ]
  },
  {
   "cell_type": "code",
   "execution_count": 1349,
   "metadata": {},
   "outputs": [
    {
     "data": {
      "text/plain": [
       "394634.875"
      ]
     },
     "execution_count": 1349,
     "metadata": {},
     "output_type": "execute_result"
    }
   ],
   "source": [
    "scenario.var(\"OBJ\")[\"lvl\"]\n"
   ]
  },
  {
   "cell_type": "markdown",
   "metadata": {},
   "source": [
    "# Plotting Result"
   ]
  },
  {
   "cell_type": "code",
   "execution_count": 1350,
   "metadata": {},
   "outputs": [],
   "source": [
    "%matplotlib inline\n"
   ]
  },
  {
   "cell_type": "code",
   "execution_count": 1351,
   "metadata": {},
   "outputs": [],
   "source": [
    "from message_ix.report import Reporter\n",
    "from message_ix.util.tutorial import prepare_plots\n",
    "\n",
    "# Create a Reporter object to describe and carry out reporting\n",
    "# calculations and operations (like plotting) based on `scenario`\n",
    "rep = Reporter.from_scenario(scenario)\n",
    "\n",
    "# \"prepare_plots\" enables several to describe reporting operations, e.g.\n",
    "# \"plot activity\", \"plot capacity\", or \"plot prices\"\n",
    "# See message_ix/util/tutorial.py for more information\n",
    "prepare_plots(rep)"
   ]
  },
  {
   "cell_type": "code",
   "execution_count": 1352,
   "metadata": {},
   "outputs": [
    {
     "data": {
      "text/plain": [
       "<Axes: title={'center': 'IDN Energy System Activity'}, xlabel='Year', ylabel='GWa'>"
      ]
     },
     "execution_count": 1352,
     "metadata": {},
     "output_type": "execute_result"
    },
    {
     "data": {
      "image/png": "[encoded data removed]",
      "text/plain": [
       "<Figure size 640x480 with 1 Axes>"
      ]
     },
     "metadata": {},
     "output_type": "display_data"
    }
   ],
   "source": [
    "rep.set_filters(t=ppl_tec, ya=historical_horizon+model_horizon)\n",
    "rep.get(\"plot activity\")\n",
    "\n"
   ]
  },
  {
   "cell_type": "code",
   "execution_count": 1353,
   "metadata": {},
   "outputs": [
    {
     "data": {
      "text/plain": [
       "<Axes: title={'center': 'IDN Energy System Capacity'}, xlabel='Year', ylabel='GW'>"
      ]
     },
     "execution_count": 1353,
     "metadata": {},
     "output_type": "execute_result"
    },
    {
     "data": {
      "image/png": "[encoded data removed]",
      "text/plain": [
       "<Figure size 640x480 with 1 Axes>"
      ]
     },
     "metadata": {},
     "output_type": "display_data"
    }
   ],
   "source": [
    "rep.get('plot capacity')"
   ]
  },
  {
   "cell_type": "code",
   "execution_count": 1354,
   "metadata": {},
   "outputs": [
    {
     "data": {
      "text/plain": [
       "<Axes: title={'center': 'IDN Fossil Supply'}, xlabel='Resource volume [GWa]', ylabel='Cost [USD / KWa]'>"
      ]
     },
     "execution_count": 1354,
     "metadata": {},
     "output_type": "execute_result"
    },
    {
     "data": {
      "image/png": "[encoded data removed]",
      "text/plain": [
       "<Figure size 640x480 with 1 Axes>"
      ]
     },
     "metadata": {},
     "output_type": "display_data"
    }
   ],
   "source": [
    "rep.set_filters()\n",
    "rep.get(\"plot fossil supply curve\")\n"
   ]
  },
  {
   "cell_type": "code",
   "execution_count": 1355,
   "metadata": {},
   "outputs": [
    {
     "data": {
      "text/plain": [
       "<Axes: title={'center': 'g\\n    IDN\\nName: 0, dtype: object Energy System Extraction'}, xlabel='Year', ylabel='GW'>"
      ]
     },
     "execution_count": 1355,
     "metadata": {},
     "output_type": "execute_result"
    },
    {
     "data": {
      "image/png": "[encoded data removed]",
      "text/plain": [
       "<Figure size 640x480 with 1 Axes>"
      ]
     },
     "metadata": {},
     "output_type": "display_data"
    }
   ],
   "source": [
    "rep.set_filters()\n",
    "rep.get(\"plot extraction\")\n"
   ]
  },
  {
   "cell_type": "code",
   "execution_count": 1356,
   "metadata": {},
   "outputs": [
    {
     "data": {
      "text/plain": [
       "<Axes: title={'center': 'IDN Energy System Demand'}, xlabel='Year', ylabel='GWa'>"
      ]
     },
     "execution_count": 1356,
     "metadata": {},
     "output_type": "execute_result"
    },
    {
     "data": {
      "image/png": "[encoded data removed]",
      "text/plain": [
       "<Figure size 640x480 with 1 Axes>"
      ]
     },
     "metadata": {},
     "output_type": "display_data"
    }
   ],
   "source": [
    "rep.get('plot demand')"
   ]
  },
  {
   "cell_type": "code",
   "execution_count": 1357,
   "metadata": {},
   "outputs": [],
   "source": [
    "scenario.remove_solution()"
   ]
  },
  {
   "cell_type": "code",
   "execution_count": 1358,
   "metadata": {},
   "outputs": [],
   "source": [
    "scenario.check_out()"
   ]
  },
  {
   "cell_type": "code",
   "execution_count": 1359,
   "metadata": {},
   "outputs": [],
   "source": [
    "mp.close_db()"
   ]
  }
 ],
 "metadata": {
  "kernelspec": {
   "display_name": "message-env",
   "language": "python",
   "name": "python3"
  },
  "language_info": {
   "codemirror_mode": {
    "name": "ipython",
    "version": 3
   },
   "file_extension": ".py",
   "mimetype": "text/x-python",
   "name": "python",
   "nbconvert_exporter": "python",
   "pygments_lexer": "ipython3",
   "version": "3.9.21"
  }
 },
 "nbformat": 4,
 "nbformat_minor": 2
}
